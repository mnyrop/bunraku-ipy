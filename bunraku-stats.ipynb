{
 "cells": [
  {
   "cell_type": "code",
   "execution_count": 91,
   "metadata": {},
   "outputs": [],
   "source": [
    "import pandas as pd\n",
    "import numpy as np\n",
    "import matplotlib.pyplot as plt\n",
    "\n",
    "%pylab inline\n",
    "\n",
    "# pandas settings\n",
    "pd.set_option('max_colwidth',1000)\n",
    "pd.set_option('max_seq_items','none')\n",
    "pd.set_option('display.max_colwidth',50)"
   ]
  },
  {
   "cell_type": "code",
   "execution_count": 2,
   "metadata": {
    "collapsed": true
   },
   "outputs": [],
   "source": [
    "# import data as dtype=object to avoid NaN/Float conversion of IDs\n",
    "authors = pd.read_csv('out/csv/authors.csv', dtype=object)\n",
    "characters = pd.read_csv('out/csv/characters.csv', dtype=object)\n",
    "creators = pd.read_csv('out/csv/creators.csv', dtype=object)\n",
    "images = pd.read_csv('out/csv/images.csv', dtype=object)\n",
    "kashira = pd.read_csv('out/csv/kashira.csv', dtype=object)\n",
    "performances = pd.read_csv('out/csv/performances.csv', dtype=object)\n",
    "performers = pd.read_csv('out/csv/performers.csv', dtype=object)\n",
    "plays = pd.read_csv('out/csv/plays.csv', dtype=object)\n",
    "productions = pd.read_csv('out/csv/productions.csv', dtype=object)\n",
    "pscenes = pd.read_csv('out/csv/pscenes.csv', dtype=object)\n",
    "spucks = pd.read_csv('out/csv/spucks.csv', dtype=object)\n",
    "tags = pd.read_csv('out/csv/tags.csv', dtype=object)"
   ]
  },
  {
   "cell_type": "code",
   "execution_count": 3,
   "metadata": {
    "collapsed": true
   },
   "outputs": [],
   "source": [
    "online_vs_total = pd.read_csv('stats/online_vs_total.csv')"
   ]
  },
  {
   "cell_type": "code",
   "execution_count": 4,
   "metadata": {
    "collapsed": true
   },
   "outputs": [],
   "source": [
    "online_vs_total['online/total images'] = (online_vs_total['online images']/online_vs_total['total images'])"
   ]
  },
  {
   "cell_type": "code",
   "execution_count": 5,
   "metadata": {
    "collapsed": true
   },
   "outputs": [],
   "source": [
    "online_vs_total = online_vs_total.replace(np.nan, 0)"
   ]
  },
  {
   "cell_type": "code",
   "execution_count": 6,
   "metadata": {
    "collapsed": true
   },
   "outputs": [],
   "source": [
    "online_vs_total['online images'] = online_vs_total['online images'].astype(int)\n",
    "online_vs_total['total images'] = online_vs_total['total images'].astype(int)"
   ]
  },
  {
   "cell_type": "code",
   "execution_count": 8,
   "metadata": {
    "collapsed": true
   },
   "outputs": [],
   "source": [
    "item_total = sum(online_vs_total['items'])"
   ]
  },
  {
   "cell_type": "code",
   "execution_count": 9,
   "metadata": {
    "collapsed": true
   },
   "outputs": [],
   "source": [
    "online_vs_total['items/total'] = (online_vs_total['items']/item_total)"
   ]
  },
  {
   "cell_type": "code",
   "execution_count": 10,
   "metadata": {},
   "outputs": [
    {
     "data": {
      "text/html": [
       "<div>\n",
       "<style>\n",
       "    .dataframe thead tr:only-child th {\n",
       "        text-align: right;\n",
       "    }\n",
       "\n",
       "    .dataframe thead th {\n",
       "        text-align: left;\n",
       "    }\n",
       "\n",
       "    .dataframe tbody tr th {\n",
       "        vertical-align: top;\n",
       "    }\n",
       "</style>\n",
       "<table border=\"1\" class=\"dataframe\">\n",
       "  <thead>\n",
       "    <tr style=\"text-align: right;\">\n",
       "      <th></th>\n",
       "      <th>items</th>\n",
       "      <th>online images</th>\n",
       "      <th>total images</th>\n",
       "      <th>online/total images</th>\n",
       "      <th>items/total</th>\n",
       "    </tr>\n",
       "  </thead>\n",
       "  <tbody>\n",
       "    <tr>\n",
       "      <th>authors</th>\n",
       "      <td>123</td>\n",
       "      <td>0</td>\n",
       "      <td>0</td>\n",
       "      <td>0.000000</td>\n",
       "      <td>0.014900</td>\n",
       "    </tr>\n",
       "    <tr>\n",
       "      <th>spucks</th>\n",
       "      <td>1625</td>\n",
       "      <td>0</td>\n",
       "      <td>0</td>\n",
       "      <td>0.000000</td>\n",
       "      <td>0.196850</td>\n",
       "    </tr>\n",
       "    <tr>\n",
       "      <th>characters</th>\n",
       "      <td>2107</td>\n",
       "      <td>12460</td>\n",
       "      <td>17006</td>\n",
       "      <td>0.732683</td>\n",
       "      <td>0.255239</td>\n",
       "    </tr>\n",
       "    <tr>\n",
       "      <th>kashira</th>\n",
       "      <td>129</td>\n",
       "      <td>12364</td>\n",
       "      <td>17019</td>\n",
       "      <td>0.726482</td>\n",
       "      <td>0.015627</td>\n",
       "    </tr>\n",
       "    <tr>\n",
       "      <th>performances</th>\n",
       "      <td>931</td>\n",
       "      <td>18533</td>\n",
       "      <td>18533</td>\n",
       "      <td>1.000000</td>\n",
       "      <td>0.112780</td>\n",
       "    </tr>\n",
       "    <tr>\n",
       "      <th>performers</th>\n",
       "      <td>184</td>\n",
       "      <td>10442</td>\n",
       "      <td>14893</td>\n",
       "      <td>0.701135</td>\n",
       "      <td>0.022290</td>\n",
       "    </tr>\n",
       "    <tr>\n",
       "      <th>plays</th>\n",
       "      <td>178</td>\n",
       "      <td>13504</td>\n",
       "      <td>18791</td>\n",
       "      <td>0.718642</td>\n",
       "      <td>0.021563</td>\n",
       "    </tr>\n",
       "    <tr>\n",
       "      <th>productions</th>\n",
       "      <td>293</td>\n",
       "      <td>13477</td>\n",
       "      <td>18750</td>\n",
       "      <td>0.718773</td>\n",
       "      <td>0.035494</td>\n",
       "    </tr>\n",
       "    <tr>\n",
       "      <th>pscenes</th>\n",
       "      <td>2609</td>\n",
       "      <td>13010</td>\n",
       "      <td>18000</td>\n",
       "      <td>0.722778</td>\n",
       "      <td>0.316051</td>\n",
       "    </tr>\n",
       "    <tr>\n",
       "      <th>tags</th>\n",
       "      <td>76</td>\n",
       "      <td>5668</td>\n",
       "      <td>8941</td>\n",
       "      <td>0.633934</td>\n",
       "      <td>0.009207</td>\n",
       "    </tr>\n",
       "  </tbody>\n",
       "</table>\n",
       "</div>"
      ],
      "text/plain": [
       "              items  online images  total images  online/total images  \\\n",
       "authors         123              0             0             0.000000   \n",
       "spucks         1625              0             0             0.000000   \n",
       "characters     2107          12460         17006             0.732683   \n",
       "kashira         129          12364         17019             0.726482   \n",
       "performances    931          18533         18533             1.000000   \n",
       "performers      184          10442         14893             0.701135   \n",
       "plays           178          13504         18791             0.718642   \n",
       "productions     293          13477         18750             0.718773   \n",
       "pscenes        2609          13010         18000             0.722778   \n",
       "tags             76           5668          8941             0.633934   \n",
       "\n",
       "              items/total  \n",
       "authors          0.014900  \n",
       "spucks           0.196850  \n",
       "characters       0.255239  \n",
       "kashira          0.015627  \n",
       "performances     0.112780  \n",
       "performers       0.022290  \n",
       "plays            0.021563  \n",
       "productions      0.035494  \n",
       "pscenes          0.316051  \n",
       "tags             0.009207  "
      ]
     },
     "execution_count": 10,
     "metadata": {},
     "output_type": "execute_result"
    }
   ],
   "source": [
    "online_vs_total"
   ]
  },
  {
   "cell_type": "code",
   "execution_count": 95,
   "metadata": {},
   "outputs": [
    {
     "data": {
      "image/png": "[encoded data removed]",
      "text/plain": [
       "<matplotlib.figure.Figure at 0x103cd5790>"
      ]
     },
     "metadata": {},
     "output_type": "display_data"
    }
   ],
   "source": [
    "items_df = online_vs_total[['items']]\n",
    "\n",
    "pylab.rcParams['figure.figsize'] = (6, 6)\n",
    "items_pie = plt.pie(items_df, labels=items_df.index)"
   ]
  },
  {
   "cell_type": "code",
   "execution_count": 94,
   "metadata": {},
   "outputs": [
    {
     "data": {
      "image/png": "[encoded data removed]",
      "text/plain": [
       "<matplotlib.figure.Figure at 0x1094c54d0>"
      ]
     },
     "metadata": {},
     "output_type": "display_data"
    }
   ],
   "source": [
    "online_images_df = online_vs_total[['online images']]\n",
    "online_images_df = online_images_df.loc[(online_images_df!=0).any(axis=1)]\n",
    "\n",
    "pylab.rcParams['figure.figsize'] = (6, 6)\n",
    "online_images_pie = plt.pie(online_images_df, labels=online_images_df.index)"
   ]
  },
  {
   "cell_type": "code",
   "execution_count": 93,
   "metadata": {},
   "outputs": [
    {
     "name": "stdout",
     "output_type": "stream",
     "text": [
      "Populating the interactive namespace from numpy and matplotlib\n"
     ]
    },
    {
     "data": {
      "image/png": "[encoded data removed]",
      "text/plain": [
       "<matplotlib.figure.Figure at 0x108d9e410>"
      ]
     },
     "metadata": {},
     "output_type": "display_data"
    }
   ],
   "source": [
    "total_images_df = online_vs_total[['total images']]\n",
    "total_images_df = total_images_df.loc[(total_images_df!=0).any(axis=1)]\n",
    "\n",
    "pylab.rcParams['figure.figsize'] = (6, 6)\n",
    "total_images_pie = plt.pie(total_images_df, labels=online_images_df.index)"
   ]
  },
  {
   "cell_type": "code",
   "execution_count": 81,
   "metadata": {},
   "outputs": [],
   "source": [
    "authors_playcount = authors.drop('dates',1).drop('reference',1).drop('sort_ja',1)\n",
    "authors_playcount['playcount'] = authors_playcount['play_id'].astype(str).apply(lambda x: len(x.replace('[','').replace(']','').split(\",\")))\n",
    "prolific_authors = authors_playcount.sort_values(by='playcount', ascending=False)[:20]"
   ]
  },
  {
   "cell_type": "code",
   "execution_count": 86,
   "metadata": {},
   "outputs": [
    {
     "data": {
      "text/html": [
       "<div>\n",
       "<style>\n",
       "    .dataframe thead tr:only-child th {\n",
       "        text-align: right;\n",
       "    }\n",
       "\n",
       "    .dataframe thead th {\n",
       "        text-align: left;\n",
       "    }\n",
       "\n",
       "    .dataframe tbody tr th {\n",
       "        vertical-align: top;\n",
       "    }\n",
       "</style>\n",
       "<table border=\"1\" class=\"dataframe\">\n",
       "  <thead>\n",
       "    <tr style=\"text-align: right;\">\n",
       "      <th></th>\n",
       "      <th>playcount</th>\n",
       "    </tr>\n",
       "    <tr>\n",
       "      <th>label_eng</th>\n",
       "      <th></th>\n",
       "    </tr>\n",
       "  </thead>\n",
       "  <tbody>\n",
       "    <tr>\n",
       "      <th>Chikamatsu Monzaemon</th>\n",
       "      <td>26</td>\n",
       "    </tr>\n",
       "    <tr>\n",
       "      <th>Miyoshi Shōraku</th>\n",
       "      <td>21</td>\n",
       "    </tr>\n",
       "    <tr>\n",
       "      <th>Chikamatsu Hanji</th>\n",
       "      <td>14</td>\n",
       "    </tr>\n",
       "    <tr>\n",
       "      <th>Takemoto Saburobei</th>\n",
       "      <td>11</td>\n",
       "    </tr>\n",
       "    <tr>\n",
       "      <th>Wakatake Fuemi</th>\n",
       "      <td>9</td>\n",
       "    </tr>\n",
       "  </tbody>\n",
       "</table>\n",
       "</div>"
      ],
      "text/plain": [
       "                      playcount\n",
       "label_eng                      \n",
       "Chikamatsu Monzaemon         26\n",
       "Miyoshi Shōraku              21\n",
       "Chikamatsu Hanji             14\n",
       "Takemoto Saburobei           11\n",
       "Wakatake Fuemi                9"
      ]
     },
     "execution_count": 86,
     "metadata": {},
     "output_type": "execute_result"
    }
   ],
   "source": [
    "prolific_authors = prolific_authors[['label_eng', 'playcount']]\n",
    "prolific_authors.set_index('label_eng', inplace=True)\n",
    "prolific_authors.head()"
   ]
  },
  {
   "cell_type": "code",
   "execution_count": 104,
   "metadata": {},
   "outputs": [
    {
     "data": {
      "image/png": "[encoded data removed]",
      "text/plain": [
       "<matplotlib.figure.Figure at 0x10968bc90>"
      ]
     },
     "metadata": {},
     "output_type": "display_data"
    }
   ],
   "source": [
    "pylab.rcParams['figure.figsize'] = (10, 6)\n",
    "prolific_authors_bar = prolific_authors.plot.bar().set_xlabel('Author')"
   ]
  },
  {
   "cell_type": "code",
   "execution_count": 121,
   "metadata": {},
   "outputs": [
    {
     "data": {
      "text/html": [
       "<div>\n",
       "<style>\n",
       "    .dataframe thead tr:only-child th {\n",
       "        text-align: right;\n",
       "    }\n",
       "\n",
       "    .dataframe thead th {\n",
       "        text-align: left;\n",
       "    }\n",
       "\n",
       "    .dataframe tbody tr th {\n",
       "        vertical-align: top;\n",
       "    }\n",
       "</style>\n",
       "<table border=\"1\" class=\"dataframe\">\n",
       "  <thead>\n",
       "    <tr style=\"text-align: right;\">\n",
       "      <th></th>\n",
       "      <th>label_eng</th>\n",
       "      <th>label_ja</th>\n",
       "      <th>label_ka</th>\n",
       "      <th>play_id</th>\n",
       "      <th>image_id</th>\n",
       "    </tr>\n",
       "    <tr>\n",
       "      <th>id</th>\n",
       "      <th></th>\n",
       "      <th></th>\n",
       "      <th></th>\n",
       "      <th></th>\n",
       "      <th></th>\n",
       "    </tr>\n",
       "  </thead>\n",
       "  <tbody>\n",
       "    <tr>\n",
       "      <th>1</th>\n",
       "      <td>Farmer</td>\n",
       "      <td>Oyaji</td>\n",
       "      <td>おやじ</td>\n",
       "      <td>[162]</td>\n",
       "      <td>[56170]</td>\n",
       "    </tr>\n",
       "    <tr>\n",
       "      <th>2</th>\n",
       "      <td>Farmer's wife</td>\n",
       "      <td>Nyōbō</td>\n",
       "      <td>女房</td>\n",
       "      <td>[162]</td>\n",
       "      <td>NaN</td>\n",
       "    </tr>\n",
       "    <tr>\n",
       "      <th>3</th>\n",
       "      <td>Magotaro, a horse</td>\n",
       "      <td>Magotarō, Uma</td>\n",
       "      <td>孫太郎（馬）</td>\n",
       "      <td>[162]</td>\n",
       "      <td>NaN</td>\n",
       "    </tr>\n",
       "    <tr>\n",
       "      <th>4</th>\n",
       "      <td>Local governor</td>\n",
       "      <td>Odaikan</td>\n",
       "      <td>お代官</td>\n",
       "      <td>[162]</td>\n",
       "      <td>NaN</td>\n",
       "    </tr>\n",
       "    <tr>\n",
       "      <th>5</th>\n",
       "      <td>Local governor's assistant</td>\n",
       "      <td>Odaikan no kobun</td>\n",
       "      <td>お代官のこぶん</td>\n",
       "      <td>[162]</td>\n",
       "      <td>NaN</td>\n",
       "    </tr>\n",
       "  </tbody>\n",
       "</table>\n",
       "</div>"
      ],
      "text/plain": [
       "                     label_eng          label_ja label_ka play_id image_id\n",
       "id                                                                        \n",
       "1                       Farmer             Oyaji      おやじ   [162]  [56170]\n",
       "2                Farmer's wife             Nyōbō       女房   [162]      NaN\n",
       "3            Magotaro, a horse     Magotarō, Uma   孫太郎（馬）   [162]      NaN\n",
       "4               Local governor           Odaikan      お代官   [162]      NaN\n",
       "5   Local governor's assistant  Odaikan no kobun  お代官のこぶん   [162]      NaN"
      ]
     },
     "execution_count": 121,
     "metadata": {},
     "output_type": "execute_result"
    }
   ],
   "source": [
    "characters_playcount = characters.drop('authority_control',1).drop('sort_ja',1).set_index('id')\n",
    "characters_playcount.head()"
   ]
  },
  {
   "cell_type": "code",
   "execution_count": 128,
   "metadata": {},
   "outputs": [
    {
     "data": {
      "text/html": [
       "<div>\n",
       "<style>\n",
       "    .dataframe thead tr:only-child th {\n",
       "        text-align: right;\n",
       "    }\n",
       "\n",
       "    .dataframe thead th {\n",
       "        text-align: left;\n",
       "    }\n",
       "\n",
       "    .dataframe tbody tr th {\n",
       "        vertical-align: top;\n",
       "    }\n",
       "</style>\n",
       "<table border=\"1\" class=\"dataframe\">\n",
       "  <thead>\n",
       "    <tr style=\"text-align: right;\">\n",
       "      <th></th>\n",
       "      <th>label_eng</th>\n",
       "      <th>label_ja</th>\n",
       "      <th>label_ka</th>\n",
       "      <th>play_id</th>\n",
       "      <th>image_id</th>\n",
       "      <th>playcount</th>\n",
       "    </tr>\n",
       "    <tr>\n",
       "      <th>id</th>\n",
       "      <th></th>\n",
       "      <th></th>\n",
       "      <th></th>\n",
       "      <th></th>\n",
       "      <th></th>\n",
       "      <th></th>\n",
       "    </tr>\n",
       "  </thead>\n",
       "  <tbody>\n",
       "    <tr>\n",
       "      <th>2168</th>\n",
       "      <td>Chohakkai</td>\n",
       "      <td>Chohakkai</td>\n",
       "      <td>猪八戒</td>\n",
       "      <td>[139, 51]</td>\n",
       "      <td>[12261, 12262, 12263, 12264, 12268, 12271, 122...</td>\n",
       "      <td>2</td>\n",
       "    </tr>\n",
       "    <tr>\n",
       "      <th>332</th>\n",
       "      <td>Gyumao</td>\n",
       "      <td>Gyūmaō</td>\n",
       "      <td>牛魔王</td>\n",
       "      <td>[139, 51]</td>\n",
       "      <td>NaN</td>\n",
       "      <td>2</td>\n",
       "    </tr>\n",
       "    <tr>\n",
       "      <th>2165</th>\n",
       "      <td>Inkaizan, in fact Chinkozui</td>\n",
       "      <td>Inkaizan jitsuwa Chinkōzui</td>\n",
       "      <td>殷開山 実は 陳光蕊</td>\n",
       "      <td>[139, 51]</td>\n",
       "      <td>[12236]</td>\n",
       "      <td>2</td>\n",
       "    </tr>\n",
       "    <tr>\n",
       "      <th>718</th>\n",
       "      <td>Barrier guards</td>\n",
       "      <td>Bansotsu</td>\n",
       "      <td>番卒</td>\n",
       "      <td>[31, 49]</td>\n",
       "      <td>[59341, 59342, 59354, 59360, 59367, 59381, 593...</td>\n",
       "      <td>2</td>\n",
       "    </tr>\n",
       "    <tr>\n",
       "      <th>945</th>\n",
       "      <td>Monkey trainer</td>\n",
       "      <td>Saruhiki</td>\n",
       "      <td>猿曳</td>\n",
       "      <td>[136, 176]</td>\n",
       "      <td>NaN</td>\n",
       "      <td>2</td>\n",
       "    </tr>\n",
       "  </tbody>\n",
       "</table>\n",
       "</div>"
      ],
      "text/plain": [
       "                        label_eng                    label_ja    label_ka  \\\n",
       "id                                                                          \n",
       "2168                    Chohakkai                   Chohakkai         猪八戒   \n",
       "332                        Gyumao                      Gyūmaō         牛魔王   \n",
       "2165  Inkaizan, in fact Chinkozui  Inkaizan jitsuwa Chinkōzui  殷開山 実は 陳光蕊   \n",
       "718                Barrier guards                    Bansotsu          番卒   \n",
       "945                Monkey trainer                    Saruhiki          猿曳   \n",
       "\n",
       "         play_id                                           image_id  playcount  \n",
       "id                                                                              \n",
       "2168   [139, 51]  [12261, 12262, 12263, 12264, 12268, 12271, 122...          2  \n",
       "332    [139, 51]                                                NaN          2  \n",
       "2165   [139, 51]                                            [12236]          2  \n",
       "718     [31, 49]  [59341, 59342, 59354, 59360, 59367, 59381, 593...          2  \n",
       "945   [136, 176]                                                NaN          2  "
      ]
     },
     "execution_count": 128,
     "metadata": {},
     "output_type": "execute_result"
    }
   ],
   "source": [
    "characters_playcount['playcount'] = characters_playcount['play_id'].astype(str).apply(lambda x: len(x.replace('[','').replace(']','').split(\",\")))\n",
    "characters_playcount = characters_playcount.sort_values(by='playcount', ascending=False)\n",
    "\n",
    "muliplay_characters = characters_playcount[characters_playcount['playcount'] == 2]\n",
    "muliplay_characters.head()"
   ]
  },
  {
   "cell_type": "code",
   "execution_count": 142,
   "metadata": {},
   "outputs": [],
   "source": [
    "plays_connected_by_characters = muliplay_characters['play_id'].unique()\n",
    "plays_connected_by_characters = str(plays_connected_by_characters).replace('[','').replace(']','').replace(\"'\",'').replace(',','').replace('\\n','')"
   ]
  },
  {
   "cell_type": "code",
   "execution_count": 143,
   "metadata": {},
   "outputs": [
    {
     "data": {
      "text/plain": [
       "['139',\n",
       " '51',\n",
       " '31',\n",
       " '49',\n",
       " '136',\n",
       " '176',\n",
       " '65',\n",
       " '89',\n",
       " '97',\n",
       " '116',\n",
       " '25',\n",
       " '147',\n",
       " '64',\n",
       " '165',\n",
       " '63',\n",
       " '143',\n",
       " '165',\n",
       " '64',\n",
       " '138',\n",
       " '74',\n",
       " '64',\n",
       " '166',\n",
       " '100',\n",
       " '129',\n",
       " '62',\n",
       " '91']"
      ]
     },
     "execution_count": 143,
     "metadata": {},
     "output_type": "execute_result"
    }
   ],
   "source": [
    "plays_connected_by_characters.split(\" \")"
   ]
  },
  {
   "cell_type": "code",
   "execution_count": null,
   "metadata": {
    "collapsed": true
   },
   "outputs": [],
   "source": []
  }
 ],
 "metadata": {
  "kernelspec": {
   "display_name": "Python 2",
   "language": "python",
   "name": "python2"
  },
  "language_info": {
   "codemirror_mode": {
    "name": "ipython",
    "version": 2
   },
   "file_extension": ".py",
   "mimetype": "text/x-python",
   "name": "python",
   "nbconvert_exporter": "python",
   "pygments_lexer": "ipython2",
   "version": "2.7.13"
  }
 },
 "nbformat": 4,
 "nbformat_minor": 2
}
