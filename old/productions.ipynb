{
 "cells": [
  {
   "cell_type": "code",
   "execution_count": 1,
   "metadata": {
    "collapsed": true
   },
   "outputs": [],
   "source": [
    "import pandas as pd"
   ]
  },
  {
   "cell_type": "code",
   "execution_count": 2,
   "metadata": {
    "collapsed": true
   },
   "outputs": [],
   "source": [
    "# read csvs as data frames\n",
    "# cast as string to avoid float/NaN errors\n",
    "\n",
    "productions = pd.read_csv('in/productions.csv', dtype=object)\n",
    "productions_images = pd.read_csv('in/productions_images.csv', dtype=object)\n",
    "performances = pd.read_csv('in/performances.csv', dtype=object)\n",
    "imagesonline = pd.read_csv('in/imagesonline.csv', dtype=object)"
   ]
  },
  {
   "cell_type": "code",
   "execution_count": 3,
   "metadata": {
    "collapsed": true
   },
   "outputs": [],
   "source": [
    "# mild clean-up/renaming\n",
    "productions = productions.rename(columns = {'label':'label_eng', 'id':'production_id','full_date':'dates'})\n",
    "\n",
    "performances = performances.drop('data_id',1).drop('code',1)\n",
    "performances = performances.rename(columns = {'id':'performance_id'})\n",
    "imagesonline = imagesonline.rename(columns = {'id':'image_id'})"
   ]
  },
  {
   "cell_type": "code",
   "execution_count": 4,
   "metadata": {},
   "outputs": [
    {
     "data": {
      "text/html": [
       "<div>\n",
       "<style>\n",
       "    .dataframe thead tr:only-child th {\n",
       "        text-align: right;\n",
       "    }\n",
       "\n",
       "    .dataframe thead th {\n",
       "        text-align: left;\n",
       "    }\n",
       "\n",
       "    .dataframe tbody tr th {\n",
       "        vertical-align: top;\n",
       "    }\n",
       "</style>\n",
       "<table border=\"1\" class=\"dataframe\">\n",
       "  <thead>\n",
       "    <tr style=\"text-align: right;\">\n",
       "      <th></th>\n",
       "      <th>production_id</th>\n",
       "      <th>seq_chron</th>\n",
       "      <th>label_eng</th>\n",
       "      <th>dates</th>\n",
       "      <th>place</th>\n",
       "      <th>performance_num</th>\n",
       "    </tr>\n",
       "  </thead>\n",
       "  <tbody>\n",
       "    <tr>\n",
       "      <th>0</th>\n",
       "      <td>1</td>\n",
       "      <td>001</td>\n",
       "      <td>November 1964</td>\n",
       "      <td>1964/11/n.d.-1964/11/n.d.</td>\n",
       "      <td>not recorded</td>\n",
       "      <td>NaN</td>\n",
       "    </tr>\n",
       "    <tr>\n",
       "      <th>1</th>\n",
       "      <td>2</td>\n",
       "      <td>002</td>\n",
       "      <td>February 1968</td>\n",
       "      <td>1968/02/25-1968/03/10</td>\n",
       "      <td>National Theatre of Japan</td>\n",
       "      <td>006</td>\n",
       "    </tr>\n",
       "    <tr>\n",
       "      <th>2</th>\n",
       "      <td>3</td>\n",
       "      <td>003</td>\n",
       "      <td>October 1968</td>\n",
       "      <td>1968/10/27-1968/11/10</td>\n",
       "      <td>National Theatre of Japan</td>\n",
       "      <td>008</td>\n",
       "    </tr>\n",
       "    <tr>\n",
       "      <th>3</th>\n",
       "      <td>4</td>\n",
       "      <td>004</td>\n",
       "      <td>May 1969</td>\n",
       "      <td>1969/05/11-1969/05/25</td>\n",
       "      <td>National Theatre of Japan</td>\n",
       "      <td>010</td>\n",
       "    </tr>\n",
       "    <tr>\n",
       "      <th>4</th>\n",
       "      <td>5</td>\n",
       "      <td>005</td>\n",
       "      <td>September 1969</td>\n",
       "      <td>1969/09/14-1969/09/21</td>\n",
       "      <td>National Theatre of Japan</td>\n",
       "      <td>011</td>\n",
       "    </tr>\n",
       "  </tbody>\n",
       "</table>\n",
       "</div>"
      ],
      "text/plain": [
       "  production_id seq_chron       label_eng                      dates  \\\n",
       "0             1       001   November 1964  1964/11/n.d.-1964/11/n.d.   \n",
       "1             2       002   February 1968      1968/02/25-1968/03/10   \n",
       "2             3       003    October 1968      1968/10/27-1968/11/10   \n",
       "3             4       004        May 1969      1969/05/11-1969/05/25   \n",
       "4             5       005  September 1969      1969/09/14-1969/09/21   \n",
       "\n",
       "                       place performance_num  \n",
       "0               not recorded             NaN  \n",
       "1  National Theatre of Japan             006  \n",
       "2  National Theatre of Japan             008  \n",
       "3  National Theatre of Japan             010  \n",
       "4  National Theatre of Japan             011  "
      ]
     },
     "execution_count": 4,
     "metadata": {},
     "output_type": "execute_result"
    }
   ],
   "source": [
    "productions.head()"
   ]
  },
  {
   "cell_type": "code",
   "execution_count": 5,
   "metadata": {},
   "outputs": [
    {
     "name": "stdout",
     "output_type": "stream",
     "text": [
      "online: 14636 / in join: 18771\n",
      "\n",
      "online in join: 13494\n"
     ]
    }
   ],
   "source": [
    "# clean out non-online images\n",
    "imagesonline = imagesonline[['image_id']]\n",
    "print 'online: ' + str(len(imagesonline.index)) + ' / in join: ' + str(len(productions_images.index)) + '\\n'\n",
    "productions_images = pd.merge(productions_images, imagesonline, on='image_id', how='inner')\n",
    "print 'online in join: ' + str(len(productions_images.index))"
   ]
  },
  {
   "cell_type": "code",
   "execution_count": 6,
   "metadata": {},
   "outputs": [
    {
     "data": {
      "text/html": [
       "<div>\n",
       "<style>\n",
       "    .dataframe thead tr:only-child th {\n",
       "        text-align: right;\n",
       "    }\n",
       "\n",
       "    .dataframe thead th {\n",
       "        text-align: left;\n",
       "    }\n",
       "\n",
       "    .dataframe tbody tr th {\n",
       "        vertical-align: top;\n",
       "    }\n",
       "</style>\n",
       "<table border=\"1\" class=\"dataframe\">\n",
       "  <thead>\n",
       "    <tr style=\"text-align: right;\">\n",
       "      <th></th>\n",
       "      <th>production_id</th>\n",
       "      <th>image_id</th>\n",
       "    </tr>\n",
       "  </thead>\n",
       "  <tbody>\n",
       "    <tr>\n",
       "      <th>0</th>\n",
       "      <td>86</td>\n",
       "      <td>8281</td>\n",
       "    </tr>\n",
       "    <tr>\n",
       "      <th>1</th>\n",
       "      <td>86</td>\n",
       "      <td>8282</td>\n",
       "    </tr>\n",
       "    <tr>\n",
       "      <th>2</th>\n",
       "      <td>86</td>\n",
       "      <td>8283</td>\n",
       "    </tr>\n",
       "    <tr>\n",
       "      <th>3</th>\n",
       "      <td>86</td>\n",
       "      <td>8284</td>\n",
       "    </tr>\n",
       "    <tr>\n",
       "      <th>4</th>\n",
       "      <td>86</td>\n",
       "      <td>8285</td>\n",
       "    </tr>\n",
       "  </tbody>\n",
       "</table>\n",
       "</div>"
      ],
      "text/plain": [
       "  production_id image_id\n",
       "0            86     8281\n",
       "1            86     8282\n",
       "2            86     8283\n",
       "3            86     8284\n",
       "4            86     8285"
      ]
     },
     "execution_count": 6,
     "metadata": {},
     "output_type": "execute_result"
    }
   ],
   "source": [
    "productions_images.head()"
   ]
  },
  {
   "cell_type": "code",
   "execution_count": 7,
   "metadata": {
    "collapsed": true
   },
   "outputs": [],
   "source": [
    "# multiValDataFrame takes a dataframe df, column name df_index and column name multival_key\n",
    "# it merges records with the same df_index and updates multival_index to an array of all the multival_index values.\n",
    "# E.g for a data frame plays with multiple character_id values per play_id, returns a data frame with one record \n",
    "# per play_id, and one array of character_ids per play.\n",
    "\n",
    "def multiValDataFrame(df, df_index, multival_key):\n",
    "    new_df = pd.DataFrame({})\n",
    "    cols = df.columns\n",
    "    id_list = df[df_index].unique()\n",
    "    for i in id_list:\n",
    "        temp_row = df.loc[df[df_index] == i ]\n",
    "        vals = []\n",
    "        for col in cols:\n",
    "            vals.append(temp_row[:1][col].values[0])\n",
    "\n",
    "        temp_dict = dict(zip(cols, vals))\n",
    "        multi_id_list = list(temp_row[multival_key])\n",
    "    \n",
    "        temp_dict[multival_key] = multi_id_list\n",
    "    \n",
    "        new_df = new_df.append(temp_dict, ignore_index=True)\n",
    "    return new_df"
   ]
  },
  {
   "cell_type": "code",
   "execution_count": 8,
   "metadata": {
    "collapsed": true
   },
   "outputs": [],
   "source": [
    "# merge and multival images\n",
    "productions = pd.merge(productions, productions_images, on='production_id', how='left')\n",
    "productions = multiValDataFrame(productions, 'production_id', 'image_id')"
   ]
  },
  {
   "cell_type": "code",
   "execution_count": 9,
   "metadata": {
    "collapsed": true
   },
   "outputs": [],
   "source": [
    "# merge and multival images\n",
    "productions = pd.merge(productions, performances, on='production_id', how='left')\n",
    "productions = multiValDataFrame(productions, 'production_id', 'performance_id')"
   ]
  },
  {
   "cell_type": "code",
   "execution_count": 10,
   "metadata": {
    "collapsed": true
   },
   "outputs": [],
   "source": [
    "# mild clean-up / re-ordering\n",
    "productions = productions.rename(columns = {'production_id':'id'})\n",
    "productions = productions[['id','dates','place','label_eng','seq_chron','image_id','performance_id','play_id']]"
   ]
  },
  {
   "cell_type": "code",
   "execution_count": 11,
   "metadata": {},
   "outputs": [
    {
     "data": {
      "text/html": [
       "<div>\n",
       "<style>\n",
       "    .dataframe thead tr:only-child th {\n",
       "        text-align: right;\n",
       "    }\n",
       "\n",
       "    .dataframe thead th {\n",
       "        text-align: left;\n",
       "    }\n",
       "\n",
       "    .dataframe tbody tr th {\n",
       "        vertical-align: top;\n",
       "    }\n",
       "</style>\n",
       "<table border=\"1\" class=\"dataframe\">\n",
       "  <thead>\n",
       "    <tr style=\"text-align: right;\">\n",
       "      <th></th>\n",
       "      <th>id</th>\n",
       "      <th>dates</th>\n",
       "      <th>place</th>\n",
       "      <th>label_eng</th>\n",
       "      <th>seq_chron</th>\n",
       "      <th>image_id</th>\n",
       "      <th>performance_id</th>\n",
       "      <th>play_id</th>\n",
       "    </tr>\n",
       "  </thead>\n",
       "  <tbody>\n",
       "    <tr>\n",
       "      <th>0</th>\n",
       "      <td>1</td>\n",
       "      <td>1964/11/n.d.-1964/11/n.d.</td>\n",
       "      <td>not recorded</td>\n",
       "      <td>November 1964</td>\n",
       "      <td>001</td>\n",
       "      <td>[nan]</td>\n",
       "      <td>[2, 3, 4, 5, 6, 7, 8]</td>\n",
       "      <td>86</td>\n",
       "    </tr>\n",
       "    <tr>\n",
       "      <th>1</th>\n",
       "      <td>2</td>\n",
       "      <td>1968/02/25-1968/03/10</td>\n",
       "      <td>National Theatre of Japan</td>\n",
       "      <td>February 1968</td>\n",
       "      <td>002</td>\n",
       "      <td>[nan]</td>\n",
       "      <td>[12, 13, 14, 15, 16, 17]</td>\n",
       "      <td>83</td>\n",
       "    </tr>\n",
       "    <tr>\n",
       "      <th>2</th>\n",
       "      <td>3</td>\n",
       "      <td>1968/10/27-1968/11/10</td>\n",
       "      <td>National Theatre of Japan</td>\n",
       "      <td>October 1968</td>\n",
       "      <td>003</td>\n",
       "      <td>[nan]</td>\n",
       "      <td>[9, 10, 11]</td>\n",
       "      <td>30</td>\n",
       "    </tr>\n",
       "    <tr>\n",
       "      <th>3</th>\n",
       "      <td>4</td>\n",
       "      <td>1969/05/11-1969/05/25</td>\n",
       "      <td>National Theatre of Japan</td>\n",
       "      <td>May 1969</td>\n",
       "      <td>004</td>\n",
       "      <td>[nan]</td>\n",
       "      <td>[18, 19, 20]</td>\n",
       "      <td>72</td>\n",
       "    </tr>\n",
       "    <tr>\n",
       "      <th>4</th>\n",
       "      <td>5</td>\n",
       "      <td>1969/09/14-1969/09/21</td>\n",
       "      <td>National Theatre of Japan</td>\n",
       "      <td>September 1969</td>\n",
       "      <td>005</td>\n",
       "      <td>[nan]</td>\n",
       "      <td>[21, 22, 23]</td>\n",
       "      <td>90</td>\n",
       "    </tr>\n",
       "  </tbody>\n",
       "</table>\n",
       "</div>"
      ],
      "text/plain": [
       "  id                      dates                      place       label_eng  \\\n",
       "0  1  1964/11/n.d.-1964/11/n.d.               not recorded   November 1964   \n",
       "1  2      1968/02/25-1968/03/10  National Theatre of Japan   February 1968   \n",
       "2  3      1968/10/27-1968/11/10  National Theatre of Japan    October 1968   \n",
       "3  4      1969/05/11-1969/05/25  National Theatre of Japan        May 1969   \n",
       "4  5      1969/09/14-1969/09/21  National Theatre of Japan  September 1969   \n",
       "\n",
       "  seq_chron image_id            performance_id play_id  \n",
       "0       001    [nan]     [2, 3, 4, 5, 6, 7, 8]      86  \n",
       "1       002    [nan]  [12, 13, 14, 15, 16, 17]      83  \n",
       "2       003    [nan]               [9, 10, 11]      30  \n",
       "3       004    [nan]              [18, 19, 20]      72  \n",
       "4       005    [nan]              [21, 22, 23]      90  "
      ]
     },
     "execution_count": 11,
     "metadata": {},
     "output_type": "execute_result"
    }
   ],
   "source": [
    "productions.head()"
   ]
  },
  {
   "cell_type": "code",
   "execution_count": 12,
   "metadata": {
    "collapsed": true
   },
   "outputs": [],
   "source": [
    "# export to csv\n",
    "productions.to_csv('productions_exp.csv', encoding='utf8', index=False)"
   ]
  },
  {
   "cell_type": "code",
   "execution_count": 13,
   "metadata": {
    "collapsed": true
   },
   "outputs": [],
   "source": [
    "# export to json\n",
    "productions.to_json('productions_exp.json', orient='records', force_ascii=False)"
   ]
  },
  {
   "cell_type": "code",
   "execution_count": null,
   "metadata": {
    "collapsed": true
   },
   "outputs": [],
   "source": []
  }
 ],
 "metadata": {
  "kernelspec": {
   "display_name": "Python 2",
   "language": "python",
   "name": "python2"
  },
  "language_info": {
   "codemirror_mode": {
    "name": "ipython",
    "version": 2
   },
   "file_extension": ".py",
   "mimetype": "text/x-python",
   "name": "python",
   "nbconvert_exporter": "python",
   "pygments_lexer": "ipython2",
   "version": "2.7.13"
  }
 },
 "nbformat": 4,
 "nbformat_minor": 2
}
