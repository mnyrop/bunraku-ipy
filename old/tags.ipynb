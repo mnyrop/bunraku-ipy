{
 "cells": [
  {
   "cell_type": "code",
   "execution_count": 1,
   "metadata": {
    "collapsed": true
   },
   "outputs": [],
   "source": [
    "import pandas as pd\n",
    "import numpy as np"
   ]
  },
  {
   "cell_type": "code",
   "execution_count": 2,
   "metadata": {
    "collapsed": true
   },
   "outputs": [],
   "source": [
    "# read csvs as data frames\n",
    "# cast as string to avoid float/NaN errors\n",
    "\n",
    "tags = pd.read_csv('in/tags.csv', dtype=object)\n",
    "tags_imgs = pd.read_csv('in/tags_images.csv', dtype=object)\n",
    "imagesonline = pd.read_csv('in/imagesonline.csv', dtype=object)"
   ]
  },
  {
   "cell_type": "code",
   "execution_count": 3,
   "metadata": {
    "collapsed": true
   },
   "outputs": [],
   "source": [
    "# mild cleanup to remove newlines\n",
    "tags['notes'] = tags['notes'].replace({r'\\n': np.nan}, regex=True)\n",
    "tags = tags.replace({'nan': np.nan})\n",
    "imagesonline = imagesonline.rename(columns = {'id':'image_id'})"
   ]
  },
  {
   "cell_type": "code",
   "execution_count": 4,
   "metadata": {},
   "outputs": [
    {
     "data": {
      "text/html": [
       "<div>\n",
       "<style>\n",
       "    .dataframe thead tr:only-child th {\n",
       "        text-align: right;\n",
       "    }\n",
       "\n",
       "    .dataframe thead th {\n",
       "        text-align: left;\n",
       "    }\n",
       "\n",
       "    .dataframe tbody tr th {\n",
       "        vertical-align: top;\n",
       "    }\n",
       "</style>\n",
       "<table border=\"1\" class=\"dataframe\">\n",
       "  <thead>\n",
       "    <tr style=\"text-align: right;\">\n",
       "      <th></th>\n",
       "      <th>tag_id</th>\n",
       "      <th>label</th>\n",
       "      <th>label_ka</th>\n",
       "      <th>description</th>\n",
       "      <th>notes</th>\n",
       "      <th>sort_ja</th>\n",
       "    </tr>\n",
       "  </thead>\n",
       "  <tbody>\n",
       "    <tr>\n",
       "      <th>0</th>\n",
       "      <td>1</td>\n",
       "      <td>Asahi Theater</td>\n",
       "      <td>朝日座</td>\n",
       "      <td>NaN</td>\n",
       "      <td>NaN</td>\n",
       "      <td>あさひざ</td>\n",
       "    </tr>\n",
       "    <tr>\n",
       "      <th>1</th>\n",
       "      <td>2</td>\n",
       "      <td>Butai geta [high wooden clogs]</td>\n",
       "      <td>舞台下駄</td>\n",
       "      <td>High wooden clogs worn on stage by head puppet...</td>\n",
       "      <td>NaN</td>\n",
       "      <td>ぶたいげた</td>\n",
       "    </tr>\n",
       "    <tr>\n",
       "      <th>2</th>\n",
       "      <td>3</td>\n",
       "      <td>Dō [body]</td>\n",
       "      <td>胴</td>\n",
       "      <td>Body, torso, or framework of puppets.</td>\n",
       "      <td>NaN</td>\n",
       "      <td>どう</td>\n",
       "    </tr>\n",
       "    <tr>\n",
       "      <th>3</th>\n",
       "      <td>4</td>\n",
       "      <td>Dressing room</td>\n",
       "      <td>楽屋</td>\n",
       "      <td>NaN</td>\n",
       "      <td>NaN</td>\n",
       "      <td>がくや</td>\n",
       "    </tr>\n",
       "    <tr>\n",
       "      <th>4</th>\n",
       "      <td>5</td>\n",
       "      <td>Geza [room for offstage musicians]</td>\n",
       "      <td>下座あるいは囃子部屋</td>\n",
       "      <td>Small room over stage-right entrance occupied ...</td>\n",
       "      <td>NaN</td>\n",
       "      <td>げざ</td>\n",
       "    </tr>\n",
       "  </tbody>\n",
       "</table>\n",
       "</div>"
      ],
      "text/plain": [
       "  tag_id                               label    label_ka  \\\n",
       "0      1                       Asahi Theater         朝日座   \n",
       "1      2      Butai geta [high wooden clogs]        舞台下駄   \n",
       "2      3                           Dō [body]           胴   \n",
       "3      4                       Dressing room          楽屋   \n",
       "4      5  Geza [room for offstage musicians]  下座あるいは囃子部屋   \n",
       "\n",
       "                                         description notes sort_ja  \n",
       "0                                                NaN   NaN    あさひざ  \n",
       "1  High wooden clogs worn on stage by head puppet...   NaN   ぶたいげた  \n",
       "2              Body, torso, or framework of puppets.   NaN      どう  \n",
       "3                                                NaN   NaN     がくや  \n",
       "4  Small room over stage-right entrance occupied ...   NaN      げざ  "
      ]
     },
     "execution_count": 4,
     "metadata": {},
     "output_type": "execute_result"
    }
   ],
   "source": [
    "tags.head()"
   ]
  },
  {
   "cell_type": "code",
   "execution_count": 5,
   "metadata": {},
   "outputs": [
    {
     "name": "stdout",
     "output_type": "stream",
     "text": [
      "online: 14636 / in join: 14918\n",
      "\n",
      "online in join: 8959\n"
     ]
    }
   ],
   "source": [
    "# clean out non-online images\n",
    "imagesonline = imagesonline[['image_id']]\n",
    "print 'online: ' + str(len(imagesonline.index)) + ' / in join: ' + str(len(tags_imgs.index)) + '\\n'\n",
    "tags_imgs = pd.merge(tags_imgs, imagesonline, on='image_id', how='inner')\n",
    "print 'online in join: ' + str(len(tags_imgs.index))"
   ]
  },
  {
   "cell_type": "code",
   "execution_count": 6,
   "metadata": {},
   "outputs": [
    {
     "data": {
      "text/html": [
       "<div>\n",
       "<style>\n",
       "    .dataframe thead tr:only-child th {\n",
       "        text-align: right;\n",
       "    }\n",
       "\n",
       "    .dataframe thead th {\n",
       "        text-align: left;\n",
       "    }\n",
       "\n",
       "    .dataframe tbody tr th {\n",
       "        vertical-align: top;\n",
       "    }\n",
       "</style>\n",
       "<table border=\"1\" class=\"dataframe\">\n",
       "  <thead>\n",
       "    <tr style=\"text-align: right;\">\n",
       "      <th></th>\n",
       "      <th>tag_id</th>\n",
       "      <th>image_id</th>\n",
       "    </tr>\n",
       "  </thead>\n",
       "  <tbody>\n",
       "    <tr>\n",
       "      <th>0</th>\n",
       "      <td>43</td>\n",
       "      <td>8281</td>\n",
       "    </tr>\n",
       "    <tr>\n",
       "      <th>1</th>\n",
       "      <td>73</td>\n",
       "      <td>8281</td>\n",
       "    </tr>\n",
       "    <tr>\n",
       "      <th>2</th>\n",
       "      <td>43</td>\n",
       "      <td>8282</td>\n",
       "    </tr>\n",
       "    <tr>\n",
       "      <th>3</th>\n",
       "      <td>73</td>\n",
       "      <td>8282</td>\n",
       "    </tr>\n",
       "    <tr>\n",
       "      <th>4</th>\n",
       "      <td>43</td>\n",
       "      <td>8283</td>\n",
       "    </tr>\n",
       "  </tbody>\n",
       "</table>\n",
       "</div>"
      ],
      "text/plain": [
       "  tag_id image_id\n",
       "0     43     8281\n",
       "1     73     8281\n",
       "2     43     8282\n",
       "3     73     8282\n",
       "4     43     8283"
      ]
     },
     "execution_count": 6,
     "metadata": {},
     "output_type": "execute_result"
    }
   ],
   "source": [
    "tags_imgs.head()"
   ]
  },
  {
   "cell_type": "code",
   "execution_count": 7,
   "metadata": {
    "collapsed": true
   },
   "outputs": [],
   "source": [
    "# multiValDataFrame takes a dataframe df, column name df_index and column name multival_key\n",
    "# it merges records with the same df_index and updates multival_index to an array of all the multival_index values.\n",
    "# E.g for a data frame plays with multiple character_id values per play_id, returns a data frame with one record \n",
    "# per play_id, and one array of character_ids per play.\n",
    "\n",
    "def multiValDataFrame(df, df_index, multival_key):\n",
    "    new_df = pd.DataFrame({})\n",
    "    cols = df.columns\n",
    "    id_list = df[df_index].unique()\n",
    "    for i in id_list:\n",
    "        temp_row = df.loc[df[df_index] == i ]\n",
    "        vals = []\n",
    "        for col in cols:\n",
    "            vals.append(temp_row[:1][col].values[0])\n",
    "\n",
    "        temp_dict = dict(zip(cols, vals))\n",
    "        multi_id_list = list(temp_row[multival_key])\n",
    "    \n",
    "        temp_dict[multival_key] = multi_id_list\n",
    "    \n",
    "        new_df = new_df.append(temp_dict, ignore_index=True)\n",
    "    return new_df"
   ]
  },
  {
   "cell_type": "code",
   "execution_count": 8,
   "metadata": {
    "collapsed": true
   },
   "outputs": [],
   "source": [
    "# inner join to add image_ids to author dataframe (bc we dont want tags without images)\n",
    "tags = pd.merge(tags, tags_imgs, on='tag_id', how='inner')\n",
    "\n",
    "# combine multiple images per tag into one record per tag\n",
    "tags = multiValDataFrame(tags, 'tag_id', 'image_id')"
   ]
  },
  {
   "cell_type": "code",
   "execution_count": 9,
   "metadata": {},
   "outputs": [
    {
     "data": {
      "text/html": [
       "<div>\n",
       "<style>\n",
       "    .dataframe thead tr:only-child th {\n",
       "        text-align: right;\n",
       "    }\n",
       "\n",
       "    .dataframe thead th {\n",
       "        text-align: left;\n",
       "    }\n",
       "\n",
       "    .dataframe tbody tr th {\n",
       "        vertical-align: top;\n",
       "    }\n",
       "</style>\n",
       "<table border=\"1\" class=\"dataframe\">\n",
       "  <thead>\n",
       "    <tr style=\"text-align: right;\">\n",
       "      <th></th>\n",
       "      <th>id</th>\n",
       "      <th>label_eng</th>\n",
       "      <th>label_ka</th>\n",
       "      <th>description</th>\n",
       "      <th>notes</th>\n",
       "      <th>image_id</th>\n",
       "    </tr>\n",
       "  </thead>\n",
       "  <tbody>\n",
       "    <tr>\n",
       "      <th>0</th>\n",
       "      <td>1</td>\n",
       "      <td>Asahi Theater</td>\n",
       "      <td>朝日座</td>\n",
       "      <td>NaN</td>\n",
       "      <td>NaN</td>\n",
       "      <td>[44990, 45057, 45216, 46025, 56319, 56320, 563...</td>\n",
       "    </tr>\n",
       "    <tr>\n",
       "      <th>1</th>\n",
       "      <td>2</td>\n",
       "      <td>Butai geta [high wooden clogs]</td>\n",
       "      <td>舞台下駄</td>\n",
       "      <td>High wooden clogs worn on stage by head puppet...</td>\n",
       "      <td>NaN</td>\n",
       "      <td>[44981, 44986, 45010, 45017, 45024, 45050, 450...</td>\n",
       "    </tr>\n",
       "    <tr>\n",
       "      <th>2</th>\n",
       "      <td>3</td>\n",
       "      <td>Dō [body]</td>\n",
       "      <td>胴</td>\n",
       "      <td>Body, torso, or framework of puppets.</td>\n",
       "      <td>NaN</td>\n",
       "      <td>[44978, 45071, 45235, 45244, 45246, 46033, 461...</td>\n",
       "    </tr>\n",
       "    <tr>\n",
       "      <th>3</th>\n",
       "      <td>4</td>\n",
       "      <td>Dressing room</td>\n",
       "      <td>楽屋</td>\n",
       "      <td>NaN</td>\n",
       "      <td>NaN</td>\n",
       "      <td>[44990, 44992, 44993, 44997, 44998, 45000, 450...</td>\n",
       "    </tr>\n",
       "    <tr>\n",
       "      <th>4</th>\n",
       "      <td>5</td>\n",
       "      <td>Geza [room for offstage musicians]</td>\n",
       "      <td>下座あるいは囃子部屋</td>\n",
       "      <td>Small room over stage-right entrance occupied ...</td>\n",
       "      <td>NaN</td>\n",
       "      <td>[11630, 11633, 44982, 44997, 45004, 45005, 452...</td>\n",
       "    </tr>\n",
       "  </tbody>\n",
       "</table>\n",
       "</div>"
      ],
      "text/plain": [
       "  id                           label_eng    label_ka  \\\n",
       "0  1                       Asahi Theater         朝日座   \n",
       "1  2      Butai geta [high wooden clogs]        舞台下駄   \n",
       "2  3                           Dō [body]           胴   \n",
       "3  4                       Dressing room          楽屋   \n",
       "4  5  Geza [room for offstage musicians]  下座あるいは囃子部屋   \n",
       "\n",
       "                                         description notes  \\\n",
       "0                                                NaN   NaN   \n",
       "1  High wooden clogs worn on stage by head puppet...   NaN   \n",
       "2              Body, torso, or framework of puppets.   NaN   \n",
       "3                                                NaN   NaN   \n",
       "4  Small room over stage-right entrance occupied ...   NaN   \n",
       "\n",
       "                                            image_id  \n",
       "0  [44990, 45057, 45216, 46025, 56319, 56320, 563...  \n",
       "1  [44981, 44986, 45010, 45017, 45024, 45050, 450...  \n",
       "2  [44978, 45071, 45235, 45244, 45246, 46033, 461...  \n",
       "3  [44990, 44992, 44993, 44997, 44998, 45000, 450...  \n",
       "4  [11630, 11633, 44982, 44997, 45004, 45005, 452...  "
      ]
     },
     "execution_count": 9,
     "metadata": {},
     "output_type": "execute_result"
    }
   ],
   "source": [
    "tags = tags.rename(columns = {'tag_id':'id','label':'label_eng'})\n",
    "tags = tags[['id','label_eng','label_ka','description','notes','image_id']]\n",
    "tags.head()"
   ]
  },
  {
   "cell_type": "code",
   "execution_count": 10,
   "metadata": {},
   "outputs": [
    {
     "data": {
      "text/plain": [
       "61"
      ]
     },
     "execution_count": 10,
     "metadata": {},
     "output_type": "execute_result"
    }
   ],
   "source": [
    "len(tags.index)"
   ]
  },
  {
   "cell_type": "code",
   "execution_count": 11,
   "metadata": {
    "collapsed": true
   },
   "outputs": [],
   "source": [
    "# export to csv\n",
    "tags.to_csv('tags_exp.csv', encoding='utf8', index=False)"
   ]
  },
  {
   "cell_type": "code",
   "execution_count": 12,
   "metadata": {
    "collapsed": true
   },
   "outputs": [],
   "source": [
    "# export to json\n",
    "tags.to_json('tags_exp.json', orient='records', force_ascii=False)"
   ]
  },
  {
   "cell_type": "code",
   "execution_count": null,
   "metadata": {
    "collapsed": true
   },
   "outputs": [],
   "source": []
  }
 ],
 "metadata": {
  "kernelspec": {
   "display_name": "Python 2",
   "language": "python",
   "name": "python2"
  },
  "language_info": {
   "codemirror_mode": {
    "name": "ipython",
    "version": 2
   },
   "file_extension": ".py",
   "mimetype": "text/x-python",
   "name": "python",
   "nbconvert_exporter": "python",
   "pygments_lexer": "ipython2",
   "version": "2.7.13"
  }
 },
 "nbformat": 4,
 "nbformat_minor": 2
}
