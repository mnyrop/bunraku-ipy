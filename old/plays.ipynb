{
 "cells": [
  {
   "cell_type": "code",
   "execution_count": 1,
   "metadata": {
    "collapsed": true
   },
   "outputs": [],
   "source": [
    "import pandas as pd"
   ]
  },
  {
   "cell_type": "code",
   "execution_count": 2,
   "metadata": {
    "collapsed": true
   },
   "outputs": [],
   "source": [
    "# change settings to account for massive possible number if image_ids per play\n",
    "pd.set_option('max_colwidth',1000)\n",
    "pd.set_option('max_seq_items','none')"
   ]
  },
  {
   "cell_type": "code",
   "execution_count": 3,
   "metadata": {
    "collapsed": true
   },
   "outputs": [],
   "source": [
    "# read csvs as data frames\n",
    "# cast as string to avoid float/NaN errors\n",
    "\n",
    "plays = pd.read_csv('in/plays.csv', dtype=object)\n",
    "play_auth = pd.read_csv('in/authors_plays.csv', dtype=object)\n",
    "play_char = pd.read_csv('in/characters_plays.csv', dtype=object)\n",
    "play_img = pd.read_csv('in/plays_images.csv', dtype=object)\n",
    "play_perf = pd.read_csv('in/performances.csv', dtype=object)\n",
    "imagesonline = pd.read_csv('in/imagesonline.csv', dtype=object)\n",
    "play_scene = pd.read_csv('in/plays_scenes.csv', dtype=object)\n",
    "play_kashira = pd.read_csv('in/kashira_plays.csv', dtype=object)"
   ]
  },
  {
   "cell_type": "code",
   "execution_count": 5,
   "metadata": {},
   "outputs": [],
   "source": [
    "# mild clean up\n",
    "play_perf = play_perf.drop('data_id', 1).drop('code', 1).drop('production_id',1)\n",
    "imagesonline = imagesonline.rename(columns = {'id':'image_id'})"
   ]
  },
  {
   "cell_type": "code",
   "execution_count": 6,
   "metadata": {},
   "outputs": [
    {
     "data": {
      "text/html": [
       "<div>\n",
       "<style>\n",
       "    .dataframe thead tr:only-child th {\n",
       "        text-align: right;\n",
       "    }\n",
       "\n",
       "    .dataframe thead th {\n",
       "        text-align: left;\n",
       "    }\n",
       "\n",
       "    .dataframe tbody tr th {\n",
       "        vertical-align: top;\n",
       "    }\n",
       "</style>\n",
       "<table border=\"1\" class=\"dataframe\">\n",
       "  <thead>\n",
       "    <tr style=\"text-align: right;\">\n",
       "      <th></th>\n",
       "      <th>play_id</th>\n",
       "      <th>label_ja</th>\n",
       "      <th>label_ja_sort</th>\n",
       "      <th>label_ka</th>\n",
       "      <th>sort_ja</th>\n",
       "      <th>label_eng</th>\n",
       "      <th>label_eng_sort</th>\n",
       "      <th>first_staged</th>\n",
       "      <th>reference</th>\n",
       "    </tr>\n",
       "  </thead>\n",
       "  <tbody>\n",
       "    <tr>\n",
       "      <th>0</th>\n",
       "      <td>1</td>\n",
       "      <td>Onnakoroshi abura no jigoku</td>\n",
       "      <td>Onnakoroshi abura no jigoku</td>\n",
       "      <td>女殺油地獄</td>\n",
       "      <td>おんなころしあぶらのじごく</td>\n",
       "      <td>The Woman-Killer and the Hell of Oil</td>\n",
       "      <td>Woman-Killer and the Hell of Oil, The</td>\n",
       "      <td>1721</td>\n",
       "      <td>Major Plays of Chikamatsu, translated by Donald Keene, (New York: Columbia University Press, 1961); Hironaga, Shūzaburō, The Bunraku Handbook (Tokyo: Maison des Arts, 1976); Kokuritsu Gekijō jōen shiryōshū, edited by Kokuritsu Gekijō Geinō Chōsashitsu, vol. 224, February 1984; Bunraku February 1982 Performance Program</td>\n",
       "    </tr>\n",
       "    <tr>\n",
       "      <th>1</th>\n",
       "      <td>2</td>\n",
       "      <td>Shinjū ten no Amijima</td>\n",
       "      <td>Shinju ten no Amijima</td>\n",
       "      <td>心中天網島</td>\n",
       "      <td>しんじゅうてんのあみじま</td>\n",
       "      <td>The Love Suicides at Amijima</td>\n",
       "      <td>Love Suicides at Amijima, The</td>\n",
       "      <td>1720</td>\n",
       "      <td>Major Plays of Chikamatsu, translated by Donald Keene, (New York: Columbia University Press, 1961); Hironaga, Shūzaburō, The Bunraku Handbook (Tokyo: Maison des Arts, 1976); Kokuritsu Gekijō jōen shiryōshū, edited by Kokuritsu Gekijō Geinō Chōsashitsu, vol. 224, February 1984; Bunraku October 1986 Performance Program</td>\n",
       "    </tr>\n",
       "    <tr>\n",
       "      <th>2</th>\n",
       "      <td>3</td>\n",
       "      <td>Sonezaki shinjū</td>\n",
       "      <td>Sonezaki shinju</td>\n",
       "      <td>曽根崎心中</td>\n",
       "      <td>そねざきしんじゅう</td>\n",
       "      <td>The Love Suicides at Sonezaki</td>\n",
       "      <td>Love Suicides at Sonezaki, The</td>\n",
       "      <td>1703</td>\n",
       "      <td>Major Plays of Chikamatsu, translated by Donald Keene, (New York: Columbia University Press, 1961); Keene, Donald, Bunraku: The Art of the Japanese Puppet Theatre (Tokyo: Kodansha International, 1973); Hironaga, Shūzaburō, The Bunraku Handbook (Tokyo: Maison des Arts, 1976); Bunraku February 1984, February 1981 Performance Programs</td>\n",
       "    </tr>\n",
       "    <tr>\n",
       "      <th>3</th>\n",
       "      <td>4</td>\n",
       "      <td>Shinjū Yoigōshin</td>\n",
       "      <td>Shinju Yoigoshin</td>\n",
       "      <td>心中宵庚申</td>\n",
       "      <td>しんじゅうよいごうしん</td>\n",
       "      <td>The Love Suicide of Hambei and Ochiyo</td>\n",
       "      <td>Love Suicide of Hambei and Ochiyo, The</td>\n",
       "      <td>1722</td>\n",
       "      <td>Hironaga, Shūzaburō, The Bunraku Handbook (Tokyo: Maison des Arts, 1976); Bunraku May 1975, February 1982 Performance Program; Chikamatsu: 5 Late Plays, translated and annotated by C. Andrew Gerstle (New York: Columbia University Press, c2001)</td>\n",
       "    </tr>\n",
       "    <tr>\n",
       "      <th>4</th>\n",
       "      <td>5</td>\n",
       "      <td>Somemoyō imose no kadomatsu</td>\n",
       "      <td>Somemoyo imose no kadomatsu</td>\n",
       "      <td>染模様妹背門松</td>\n",
       "      <td>そめもよういもせのかげまつ</td>\n",
       "      <td>The Love of Osome and Hisamatsu</td>\n",
       "      <td>Love of Osome and Hisamatsu, The</td>\n",
       "      <td>1767</td>\n",
       "      <td>Hironaga, Shūzaburō, The Bunraku Handbook (Tokyo: Maison des Arts, 1976); Bunraku May 1976, November 1984 Performance Programs</td>\n",
       "    </tr>\n",
       "  </tbody>\n",
       "</table>\n",
       "</div>"
      ],
      "text/plain": [
       "  play_id                     label_ja                label_ja_sort label_ka  \\\n",
       "0       1  Onnakoroshi abura no jigoku  Onnakoroshi abura no jigoku    女殺油地獄   \n",
       "1       2       Shinjū ten no Amijima        Shinju ten no Amijima    心中天網島   \n",
       "2       3              Sonezaki shinjū              Sonezaki shinju    曽根崎心中   \n",
       "3       4             Shinjū Yoigōshin             Shinju Yoigoshin    心中宵庚申   \n",
       "4       5  Somemoyō imose no kadomatsu  Somemoyo imose no kadomatsu  染模様妹背門松   \n",
       "\n",
       "         sort_ja                              label_eng  \\\n",
       "0  おんなころしあぶらのじごく   The Woman-Killer and the Hell of Oil   \n",
       "1   しんじゅうてんのあみじま           The Love Suicides at Amijima   \n",
       "2      そねざきしんじゅう          The Love Suicides at Sonezaki   \n",
       "3    しんじゅうよいごうしん  The Love Suicide of Hambei and Ochiyo   \n",
       "4  そめもよういもせのかげまつ        The Love of Osome and Hisamatsu   \n",
       "\n",
       "                           label_eng_sort first_staged  \\\n",
       "0   Woman-Killer and the Hell of Oil, The         1721   \n",
       "1           Love Suicides at Amijima, The         1720   \n",
       "2          Love Suicides at Sonezaki, The         1703   \n",
       "3  Love Suicide of Hambei and Ochiyo, The         1722   \n",
       "4        Love of Osome and Hisamatsu, The         1767   \n",
       "\n",
       "                                                                                                                                                                                                                                                                                                                                       reference  \n",
       "0             Major Plays of Chikamatsu, translated by Donald Keene, (New York: Columbia University Press, 1961); Hironaga, Shūzaburō, The Bunraku Handbook (Tokyo: Maison des Arts, 1976); Kokuritsu Gekijō jōen shiryōshū, edited by Kokuritsu Gekijō Geinō Chōsashitsu, vol. 224, February 1984; Bunraku February 1982 Performance Program  \n",
       "1              Major Plays of Chikamatsu, translated by Donald Keene, (New York: Columbia University Press, 1961); Hironaga, Shūzaburō, The Bunraku Handbook (Tokyo: Maison des Arts, 1976); Kokuritsu Gekijō jōen shiryōshū, edited by Kokuritsu Gekijō Geinō Chōsashitsu, vol. 224, February 1984; Bunraku October 1986 Performance Program  \n",
       "2  Major Plays of Chikamatsu, translated by Donald Keene, (New York: Columbia University Press, 1961); Keene, Donald, Bunraku: The Art of the Japanese Puppet Theatre (Tokyo: Kodansha International, 1973); Hironaga, Shūzaburō, The Bunraku Handbook (Tokyo: Maison des Arts, 1976); Bunraku February 1984, February 1981 Performance Programs  \n",
       "3                                                                                            Hironaga, Shūzaburō, The Bunraku Handbook (Tokyo: Maison des Arts, 1976); Bunraku May 1975, February 1982 Performance Program; Chikamatsu: 5 Late Plays, translated and annotated by C. Andrew Gerstle (New York: Columbia University Press, c2001)  \n",
       "4                                                                                                                                                                                                                 Hironaga, Shūzaburō, The Bunraku Handbook (Tokyo: Maison des Arts, 1976); Bunraku May 1976, November 1984 Performance Programs  "
      ]
     },
     "execution_count": 6,
     "metadata": {},
     "output_type": "execute_result"
    }
   ],
   "source": [
    "plays.head()"
   ]
  },
  {
   "cell_type": "code",
   "execution_count": 7,
   "metadata": {},
   "outputs": [],
   "source": [
    "# clean out non-online images\n",
    "imagesonline = imagesonline[['image_id']]\n",
    "play_img = pd.merge(play_img, imagesonline, on='image_id', how='inner')"
   ]
  },
  {
   "cell_type": "code",
   "execution_count": 8,
   "metadata": {},
   "outputs": [
    {
     "data": {
      "text/html": [
       "<div>\n",
       "<style>\n",
       "    .dataframe thead tr:only-child th {\n",
       "        text-align: right;\n",
       "    }\n",
       "\n",
       "    .dataframe thead th {\n",
       "        text-align: left;\n",
       "    }\n",
       "\n",
       "    .dataframe tbody tr th {\n",
       "        vertical-align: top;\n",
       "    }\n",
       "</style>\n",
       "<table border=\"1\" class=\"dataframe\">\n",
       "  <thead>\n",
       "    <tr style=\"text-align: right;\">\n",
       "      <th></th>\n",
       "      <th>play_id</th>\n",
       "      <th>image_id</th>\n",
       "    </tr>\n",
       "  </thead>\n",
       "  <tbody>\n",
       "    <tr>\n",
       "      <th>0</th>\n",
       "      <td>26</td>\n",
       "      <td>8281</td>\n",
       "    </tr>\n",
       "    <tr>\n",
       "      <th>1</th>\n",
       "      <td>26</td>\n",
       "      <td>8282</td>\n",
       "    </tr>\n",
       "    <tr>\n",
       "      <th>2</th>\n",
       "      <td>26</td>\n",
       "      <td>8283</td>\n",
       "    </tr>\n",
       "    <tr>\n",
       "      <th>3</th>\n",
       "      <td>26</td>\n",
       "      <td>8284</td>\n",
       "    </tr>\n",
       "    <tr>\n",
       "      <th>4</th>\n",
       "      <td>26</td>\n",
       "      <td>8285</td>\n",
       "    </tr>\n",
       "  </tbody>\n",
       "</table>\n",
       "</div>"
      ],
      "text/plain": [
       "  play_id image_id\n",
       "0      26     8281\n",
       "1      26     8282\n",
       "2      26     8283\n",
       "3      26     8284\n",
       "4      26     8285"
      ]
     },
     "execution_count": 8,
     "metadata": {},
     "output_type": "execute_result"
    }
   ],
   "source": [
    "play_img.head()"
   ]
  },
  {
   "cell_type": "code",
   "execution_count": 9,
   "metadata": {
    "collapsed": true
   },
   "outputs": [],
   "source": [
    "# multiValDataFrame takes a dataframe df, column name df_index and column name multival_key\n",
    "# it merges records with the same df_index and updates multival_index to an array of all the multival_index values.\n",
    "# E.g for a data frame plays with multiple character_id values per play_id, returns a data frame with one record \n",
    "# per play_id, and one array of character_ids per play.\n",
    "\n",
    "def multiValDataFrame(df, df_index, multival_key):\n",
    "    new_df = pd.DataFrame({})\n",
    "    cols = df.columns\n",
    "    id_list = df[df_index].unique()\n",
    "    for i in id_list:\n",
    "        temp_row = df.loc[df[df_index] == i ]\n",
    "        vals = []\n",
    "        for col in cols:\n",
    "            vals.append(temp_row[:1][col].values[0])\n",
    "\n",
    "        temp_dict = dict(zip(cols, vals))\n",
    "        multi_id_list = list(temp_row[multival_key])\n",
    "    \n",
    "        temp_dict[multival_key] = multi_id_list\n",
    "    \n",
    "        new_df = new_df.append(temp_dict, ignore_index=True)\n",
    "    return new_df"
   ]
  },
  {
   "cell_type": "code",
   "execution_count": 10,
   "metadata": {
    "collapsed": true
   },
   "outputs": [],
   "source": [
    "# merge and multival authors\n",
    "plays = pd.merge(plays, play_auth, on='play_id', how='left')\n",
    "plays = multiValDataFrame(plays, 'play_id', 'author_id')"
   ]
  },
  {
   "cell_type": "code",
   "execution_count": 11,
   "metadata": {
    "collapsed": true
   },
   "outputs": [],
   "source": [
    "# merge and multival characters\n",
    "plays = pd.merge(plays, play_char, on='play_id', how='left')\n",
    "plays = multiValDataFrame(plays, 'play_id', 'character_id')"
   ]
  },
  {
   "cell_type": "code",
   "execution_count": 12,
   "metadata": {
    "collapsed": true
   },
   "outputs": [],
   "source": [
    "# merge and multival images\n",
    "plays = pd.merge(plays, play_img, on='play_id', how='left')\n",
    "plays = multiValDataFrame(plays, 'play_id', 'image_id')"
   ]
  },
  {
   "cell_type": "code",
   "execution_count": 13,
   "metadata": {
    "collapsed": true
   },
   "outputs": [],
   "source": [
    "# merge and multival performances\n",
    "plays = pd.merge(plays, play_perf, on='play_id', how='left')\n",
    "plays = multiValDataFrame(plays, 'play_id', 'performance_id')"
   ]
  },
  {
   "cell_type": "code",
   "execution_count": 14,
   "metadata": {
    "collapsed": true
   },
   "outputs": [],
   "source": [
    "# merge and multival scenes\n",
    "plays = pd.merge(plays, play_scene, on='play_id', how='left')\n",
    "plays = multiValDataFrame(plays, 'play_id', 'scene_id')"
   ]
  },
  {
   "cell_type": "code",
   "execution_count": 15,
   "metadata": {
    "collapsed": true
   },
   "outputs": [],
   "source": [
    "# merge and multival kashira\n",
    "plays = pd.merge(plays, play_kashira, on='play_id', how='left')\n",
    "plays = multiValDataFrame(plays, 'play_id', 'kashira_id')"
   ]
  },
  {
   "cell_type": "code",
   "execution_count": 16,
   "metadata": {
    "collapsed": true
   },
   "outputs": [],
   "source": [
    "plays = plays.rename(columns = {'play_id':'id'})\n",
    "plays = plays[['id','author_id','character_id','scene_id','performance_id','kashira_id','first_staged','image_id','label_eng','label_ja','label_ka','reference']]"
   ]
  },
  {
   "cell_type": "code",
   "execution_count": 18,
   "metadata": {
    "collapsed": true
   },
   "outputs": [],
   "source": [
    "# export to csv\n",
    "plays.to_csv('plays_exp.csv', encoding='utf8', index=False)"
   ]
  },
  {
   "cell_type": "code",
   "execution_count": 19,
   "metadata": {
    "collapsed": true
   },
   "outputs": [],
   "source": [
    "# export to json\n",
    "plays.to_json('plays_exp.json', orient=\"records\", force_ascii=False)"
   ]
  },
  {
   "cell_type": "code",
   "execution_count": 17,
   "metadata": {},
   "outputs": [
    {
     "data": {
      "text/html": [
       "<div>\n",
       "<style>\n",
       "    .dataframe thead tr:only-child th {\n",
       "        text-align: right;\n",
       "    }\n",
       "\n",
       "    .dataframe thead th {\n",
       "        text-align: left;\n",
       "    }\n",
       "\n",
       "    .dataframe tbody tr th {\n",
       "        vertical-align: top;\n",
       "    }\n",
       "</style>\n",
       "<table border=\"1\" class=\"dataframe\">\n",
       "  <thead>\n",
       "    <tr style=\"text-align: right;\">\n",
       "      <th></th>\n",
       "      <th>id</th>\n",
       "      <th>author_id</th>\n",
       "      <th>character_id</th>\n",
       "      <th>scene_id</th>\n",
       "      <th>performance_id</th>\n",
       "      <th>kashira_id</th>\n",
       "      <th>first_staged</th>\n",
       "      <th>image_id</th>\n",
       "      <th>label_eng</th>\n",
       "      <th>label_ja</th>\n",
       "      <th>label_ka</th>\n",
       "      <th>reference</th>\n",
       "    </tr>\n",
       "  </thead>\n",
       "  <tbody>\n",
       "    <tr>\n",
       "      <th>0</th>\n",
       "      <td>1</td>\n",
       "      <td>[6]</td>\n",
       "      <td>[1112, 1113, 1114, 1115, 1116, 1117, 1118, 1119, 1120, 1121, 1122, 1123, 1124, 1125, 1126, 1127, 1128, 1129, 1130, 1131, 1132, 1133, 2298, 2307, 2317, 2319]</td>\n",
       "      <td>[309, 310, 311, 309, 310, 311, 309, 310, 311, 309, 310, 311, 312, 309, 310, 311, 312, 309, 310, 311, 309, 310, 311, 312, 309, 310, 311, 309, 310, 311, 312, 309, 310, 311]</td>\n",
       "      <td>[99, 194, 287, 414, 556, 576, 651, 778, 881, 976]</td>\n",
       "      <td>[15, 103, 33, 111, 103, 77, 116, 87, 54, 118, 66, 90, 111, 35, 13, 94, 70, 15, 103, 33, 111, 103, 77, 116, 87, 54, 118, 66, 90, 111, 35, 13, 94, 70, 15, 103, 33, 111, 103, 77, 116, 87, 54, 118, 66, 90, 111, 35, 13, 94, 70, 42, 77, 33, 87, 111, 103, 116, 118, 54, 35, 66, 35, 13, 90, 111, 33, 42, 35, 33, 70, 66, 90, 15, 77, 33, 87, 111, 103, 116, 118, 54, 35, 66, 35, 13, 90, 111, 33, 42, 35, 33, 70, 66, 90, 15, 9, 33, 87, 94, 111, 103, 116, 118, 54, 35, 66, 35, 89, 90, 111, 33, 15, 35, 33, 70, 66, 90, 15, 35, 15, 33, 35, 54, 15, 9, 33, 87, 87, 111, 103, 116, 118, 54, 35, 66, 35, 94, 90, 111, 33, 15, 35, 33, 70, 66, 90, 15, 35, 15, 33, 35, 54, 15, 111, 33, 87, 54, 35, 103, 116, 118, 66, 35, 89, 90, 111, 15, 35, 33, 70, 66, 90, 15, 33, 87, 87, 111, 103, 87, 118, 53, 35, 66, 35, 94, 90, 111, 33, 15, 35, 33, 70, 66, 90, 15, 35, 15, 33, 35, 53, 15, 87, 33, 87, 87, 111, 103, 116, 118, 53, 35, 66, 35, 94, 90, 111, 33, 15, 35, 33, 70, 66, 90, 15, 15, 94, 33, 87, 87, 111, 103, 87, 118, 53, 35...</td>\n",
       "      <td>1721</td>\n",
       "      <td>[10777, 10778, 10779, 10780, 10781, 10782, 10783, 10784, 10785, 10786, 10787, 10788, 10789, 10892, 10893, 10894, 10895, 10896, 10897, 10898, 10899, 10900, 10901, 10902, 10903, 10904, 10905, 10906, 10907, 10908, 10909, 10910, 10911, 10912, 10915, 10916, 10917, 10918, 10919, 10920, 10921, 10922, 10923, 10924, 10925, 10926, 10927, 10928, 10929, 10930, 10931, 10932, 10933, 10934, 10935, 10936, 10937, 10938, 10939, 10940, 10941, 10942, 10943, 10944, 10945, 10946, 10947, 10948, 10949, 10950, 10951, 10952, 10953, 10954, 10955, 10956, 10957, 10958, 10959, 10960, 10961, 10962, 10963, 10964, 10965, 10966, 10967, 10968, 10980, 11356, 11357, 11358, 11359, 11360, 11361, 11362, 11363, 11364, 11365, 11366, 11367, 11368, 11369, 11370, 11371, 11372, 11373, 11374, 11375, 11376, 11377, 11378, 11379, 11380, 11381, 11382, 11383, 11384, 11385, 11386, 11387, 45061, 45089, 45095, 45100, 45101, 46082, 46084, 46086, 46092, 46250, 46251, 46252, 46253, 46254, 46255, 46256, 46282, 46283, 46284, 46285, 46286, 4...</td>\n",
       "      <td>The Woman-Killer and the Hell of Oil</td>\n",
       "      <td>Onnakoroshi abura no jigoku</td>\n",
       "      <td>女殺油地獄</td>\n",
       "      <td>Major Plays of Chikamatsu, translated by Donald Keene, (New York: Columbia University Press, 1961); Hironaga, Shūzaburō, The Bunraku Handbook (Tokyo: Maison des Arts, 1976); Kokuritsu Gekijō jōen shiryōshū, edited by Kokuritsu Gekijō Geinō Chōsashitsu, vol. 224, February 1984; Bunraku February 1982 Performance Program</td>\n",
       "    </tr>\n",
       "    <tr>\n",
       "      <th>1</th>\n",
       "      <td>2</td>\n",
       "      <td>[6]</td>\n",
       "      <td>[1271, 1272, 1273, 1274, 1275, 1276, 1277, 1278, 1279, 1280, 1281, 1282, 1283, 1284, 1701, 1878, 1879, 1880, 2146, 2147]</td>\n",
       "      <td>[330, 331, 532, 330, 331, 332, 532, 531, 330, 331, 332, 330, 331, 332, 531, 330, 331, 532, 330, 331, 332, 330, 331, 332, 532, 330, 331, 332, 532, 330, 331, 332, 532, 330, 331, 332, 330, 331, 332, 532, 330, 331, 330, 331, 332, 532]</td>\n",
       "      <td>[110, 262, 315, 383, 457, 554, 558, 573, 780, 791, 913, 951, 954]</td>\n",
       "      <td>[36, 111, 94, 70, 48, 103, 70, 87, 94, 36, 92, 15, 80, 53, 111, 6, 48, 111, 111, 103, 70, 79, 36, 14, 33, 94, 103, 6, 15, 80, 111, 36, 90, 53, 14, 33, 94, 36, 6, 80, 111, 111, 103, 111, 70, 79, 36, 111, 33, 94, 103, 111, 70, 79, 36, 111, 33, 94, 103, 6, 80, 14, 15, 90, 36, 54, 111, 33, 94, 36, 6, 80, 111, 36, 111, 94, 70, 79, 103, 6, 80, 14, 15, 90, 36, 54, 111, 33, 94, 36, 6, 80, 111, 103, 111, 70, 79, 36, 111, 33, 94, 103, 111, 70, 79, 36, 111, 33, 94, 103, 70, 87, 94, 36, 90, 15, 80, 54, 111, 6, 79, 111, 36, 111, 94, 70, 79, 103, 6, 80, 14, 15, 90, 36, 54, 111, 33, 94, 36, 6, 80, 111, 36, 111, 94, 70, 79, 103, 14, 15, 6, 36, 90, 53, 80, 111, 33, 94, 36, 6, 80, 111, 111, 36, 111, 94, 70, 79, 103, 70, 36, 90, 15, 80, 53, 111, 6, 79, 111, 33, 94, 36, 6, 80, 111, 111, 36, 111, 94, 70, 79, 103, 111, 111, 103, 6, 80, 14, 36, 90, 15, 53, 111, 33, 94, 36, 6, 80, 111, 111, 36, 111, 94, 70, 79, 103, 6, 80, 14, 15, 90, 36, 53, 111, 33, 94, 36, 6, 80, 111, 111, 111, 70, 79, 36, 111, 33, 94,...</td>\n",
       "      <td>1720</td>\n",
       "      <td>[10649, 10650, 10651, 10652, 10653, 10654, 10655, 10656, 10657, 10658, 10659, 10660, 10661, 10662, 10663, 10664, 10665, 10666, 10667, 10668, 10669, 10670, 10671, 10672, 10673, 10674, 10675, 10676, 10677, 10678, 10679, 10680, 10681, 10682, 10683, 10684, 10685, 10686, 10687, 10688, 10689, 10690, 10691, 10692, 10693, 10694, 10695, 10696, 10697, 10698, 10699, 10700, 10701, 10702, 10703, 10704, 10705, 10706, 10707, 10708, 10709, 10710, 10711, 10712, 10713, 10714, 10715, 10716, 10717, 10718, 10719, 10720, 10721, 10722, 10723, 10724, 10725, 10726, 10727, 10728, 10729, 10730, 10731, 10732, 10733, 10734, 10735, 10736, 10737, 10738, 10739, 10740, 10741, 10742, 10743, 10744, 10745, 10746, 10747, 10748, 10749, 10750, 10751, 10752, 10753, 10754, 10755, 10756, 10757, 10758, 10759, 10760, 10761, 10762, 10763, 10764, 10765, 10766, 10767, 10768, 10769, 10770, 10771, 10772, 10773, 10774, 10775, 10776, 45041, 45043, 45046, 45047, 45087, 45090, 45091, 45097, 45098, 45461, 45463, 45814, 45816, 45817, 4...</td>\n",
       "      <td>The Love Suicides at Amijima</td>\n",
       "      <td>Shinjū ten no Amijima</td>\n",
       "      <td>心中天網島</td>\n",
       "      <td>Major Plays of Chikamatsu, translated by Donald Keene, (New York: Columbia University Press, 1961); Hironaga, Shūzaburō, The Bunraku Handbook (Tokyo: Maison des Arts, 1976); Kokuritsu Gekijō jōen shiryōshū, edited by Kokuritsu Gekijō Geinō Chōsashitsu, vol. 224, February 1984; Bunraku October 1986 Performance Program</td>\n",
       "    </tr>\n",
       "    <tr>\n",
       "      <th>2</th>\n",
       "      <td>3</td>\n",
       "      <td>[6]</td>\n",
       "      <td>[1344, 1481, 1482, 1483, 1484, 1485, 1486, 1487, 2127]</td>\n",
       "      <td>[361, 362, 363, 361, 362, 363, 361, 362, 363, 361, 362, 363, 361, 362, 363, 361, 362, 363, 361, 362, 363, 361, 362, 363, 361, 362, 363, 361, 362, 363, 361, 362, 363, 361, 362, 363, 361, 362, 363, 361, 362, 363, 361, 362, 363, 361, 362, 363, 361, 362, 363, 361, 362, 363, 361, 362, 363, 361, 362, 363]</td>\n",
       "      <td>[29, 164, 213, 291, 293, 382, 412, 420, 468, 555, 578, 605, 715, 740, 825, 841, 941, 946, 964, 983]</td>\n",
       "      <td>[80, 86, 70, 94, 111, 111, 33, 94, 70, 14, 111, 80, 86, 70, 94, 111, 111, 33, 94, 70, 14, 33, 80, 86, 70, 94, 111, 111, 33, 94, 70, 14, 33, 80, 111, 70, 94, 111, 70, 94, 111, 111, 14, 111, 80, 86, 70, 94, 111, 111, 33, 94, 70, 14, 33, 80, 111, 70, 94, 111, 111, 33, 94, 70, 14, 33, 80, 86, 70, 94, 111, 111, 33, 94, 70, 14, 33, 80, 86, 70, 94, 111, 111, 33, 94, 70, 14, 33, 80, 111, 70, 94, 111, 111, 33, 94, 70, 14, 33, 80, 111, 70, 94, 111, 111, 33, 94, 70, 14, 33, 80, 86, 86, 70, 94, 94, 94, 14, 14, 111, 111, 111, 111, 111, 94, 94, 14, 14, 70, 33, 111, 33, 80, 86, 70, 94, 111, 111, 33, 94, 70, 14, 33, 80, 111, 70, 94, 111, 111, 33, 94, 70, 14, 33, 80, 86, 70, 94, 111, 111, 33, 94, 70, 14, 33, 80, 86, 70, 94, 111, 111, 33, 94, 70, 14, 33, 80, 111, 70, 94, 111, 111, 33, 94, 70, 14, 33, 86, 70, 94, 14, 111, 111, 80, 0, 0, 94, 86, 70, 94, 14, 111, 111, 80, 0, 0, 94, 86, 70, 94, 14, 111, 111, 80, 0, 0, 94, 33, 33, 14, 14, 14, 86, 86, 86, 70, 70, 70, 94, 94, 94, 111, 111, 111, 111, 111, 1...</td>\n",
       "      <td>1703</td>\n",
       "      <td>[10557, 10558, 10559, 10560, 10561, 10562, 10563, 10564, 10565, 10566, 10567, 10568, 10569, 10570, 10571, 10572, 10573, 10574, 10575, 10576, 10577, 10578, 10579, 10580, 10581, 10582, 10583, 10584, 10585, 10586, 10587, 10588, 10589, 10590, 10591, 10592, 10593, 10594, 10595, 10596, 10597, 10598, 10599, 10600, 10601, 10602, 10603, 10604, 10605, 10606, 10607, 10608, 10609, 10610, 10611, 10612, 10613, 10614, 10615, 10616, 10617, 10618, 10619, 10620, 10621, 10622, 10623, 10624, 10625, 10626, 10627, 10628, 10629, 10630, 10631, 10632, 10633, 10634, 10635, 10636, 10637, 10638, 10639, 10640, 10641, 10642, 10643, 10644, 10645, 10646, 10647, 10648, 11283, 11284, 11285, 11286, 11287, 11288, 11289, 11290, 11291, 11292, 11293, 11294, 11295, 11296, 11297, 11298, 11299, 11300, 11301, 11302, 11303, 11304, 11305, 11306, 11307, 11308, 11309, 11310, 11311, 11312, 11313, 11314, 11315, 11316, 11317, 11318, 11319, 11320, 11321, 11322, 11323, 11324, 11325, 11326, 11327, 11328, 11329, 11330, 11331, 11332, 1...</td>\n",
       "      <td>The Love Suicides at Sonezaki</td>\n",
       "      <td>Sonezaki shinjū</td>\n",
       "      <td>曽根崎心中</td>\n",
       "      <td>Major Plays of Chikamatsu, translated by Donald Keene, (New York: Columbia University Press, 1961); Keene, Donald, Bunraku: The Art of the Japanese Puppet Theatre (Tokyo: Kodansha International, 1973); Hironaga, Shūzaburō, The Bunraku Handbook (Tokyo: Maison des Arts, 1976); Bunraku February 1984, February 1981 Performance Programs</td>\n",
       "    </tr>\n",
       "    <tr>\n",
       "      <th>3</th>\n",
       "      <td>4</td>\n",
       "      <td>[6]</td>\n",
       "      <td>[1285, 1286, 1287, 1288, 1289, 1290, 1291, 1292, 1293, 1294, 1295, 1296, 1297, 1298, 1299, 1882]</td>\n",
       "      <td>[333, 334, 335, 333, 334, 335, 333, 334, 335, 333, 334, 335, 333, 334, 335, 333, 334, 335, 333, 334, 335, 333, 334, 335, 333, 334, 335]</td>\n",
       "      <td>[232, 321, 406, 416, 492, 595, 712, 797, 819]</td>\n",
       "      <td>[86, 54, 70, 33, 77, 77, 77, 77, 77, 118, 33, 13, 45, 86, 14, 80, 86, 118, 111, 17, 17, 17, 9, 86, 70, 54, 33, 119, 80, 14, 118, 13, 45, 103, 9, 111, 17, 17, 17, 9, 86, 70, 54, 33, 119, 80, 14, 118, 13, 45, 103, 9, 111, 17, 17, 17, 9, 86, 70, 54, 33, 119, 80, 14, 118, 13, 45, 103, 9, 111, 86, 87, 54, 33, 17, 17, 17, 9, 9, 108, 33, 13, 66, 86, 80, 14, 86, 111, 118, 86, 87, 54, 33, 17, 17, 17, 9, 9, 108, 33, 13, 66, 86, 80, 14, 86, 111, 118, 86, 87, 53, 33, 17, 17, 17, 17, 17, 17, 86, 87, 53, 33, 119, 108, 13, 66, 14, 80, 118, 111, 86, 118, 111, 86, 87, 53, 33, 17, 17, 17, 108, 33, 13, 66, 86, 80, 111, 86, 111, 118, 103, 87, 53, 33, 17, 17, 17, 108, 33, 13, 66, 103, 80, 14, 103, 118, 111, 86, 87, 53, 33, 17, 17, 17, 9, 9, 108, 33, 13, 66, 86, 80, 14, 86, 118, 111, 86, 87, 53, 33, 17, 17, 17, 9, 9, 108, 33, 13, 66, 86, 80, 14, 86, 118, 111]</td>\n",
       "      <td>1722</td>\n",
       "      <td>[8821, 8822, 8823, 8824, 8825, 8826, 8827, 8828, 8829, 8830, 8831, 8832, 8833, 8834, 8835, 8836, 8837, 8838, 8839, 8840, 8841, 8842, 8843, 8844, 8845, 8846, 8847, 8848, 8849, 8850, 8851, 8852, 8853, 8854, 8855, 8856, 8857, 8858, 8859, 8860, 8861, 8862, 8863, 8864, 8865, 8866, 8867, 8868, 8869, 8870, 8871, 8872, 8873, 8874, 8875, 8876, 8877, 8878, 8879, 8880, 8881, 8882, 8883, 8884, 8885, 8886, 8887, 8888, 8889, 8890, 8891, 8892, 8893, 8894, 8895, 8896, 8897, 8898, 8899, 8900, 8901, 8902, 8903, 8904, 8905, 8906, 8907, 8908, 8909, 8910, 8911, 8912, 8913, 8914, 8915, 8916, 8917, 8918, 8919, 8920, 8921, 8922, 8923, 8924, 8925, 8926, 8927, 8928, 8929, 8930, 8931, 8932, 8933, 8934, 8935, 8936, 8937, 8938, 8939, 8940, 8941, 8942, 8943, 8944, 8945, 8946, 8947, 8948, 8949, 8950, 8951, 8952, 8953, 8954, 8955, 8956, 8957, 8958, 8959, 8960, 8961, 8962, 8963, 8964, 8965, 10790, 10791, 10792, 10793, 10794, 10795, 10796, 10797, 10798, 10799, 10800, 10801, 10802, 10803, 10804, 10805, 10806, 10807,...</td>\n",
       "      <td>The Love Suicide of Hambei and Ochiyo</td>\n",
       "      <td>Shinjū Yoigōshin</td>\n",
       "      <td>心中宵庚申</td>\n",
       "      <td>Hironaga, Shūzaburō, The Bunraku Handbook (Tokyo: Maison des Arts, 1976); Bunraku May 1975, February 1982 Performance Program; Chikamatsu: 5 Late Plays, translated and annotated by C. Andrew Gerstle (New York: Columbia University Press, c2001)</td>\n",
       "    </tr>\n",
       "    <tr>\n",
       "      <th>4</th>\n",
       "      <td>5</td>\n",
       "      <td>[34]</td>\n",
       "      <td>[1343, 1467, 1468, 1469, 1470, 1471, 1472, 1473, 1474, 1475, 1476, 1477, 1478, 1479, 1480, 2267]</td>\n",
       "      <td>[640, 358, 359, 640, 358, 359, 640, 358, 359, 360, 640, 358, 359, 360, 358, 359, 360, 640, 358, 359, 360, 358, 359, 360, 358, 359, 360, 358, 359, 360]</td>\n",
       "      <td>[13, 54, 219, 236, 367, 482, 678, 711, 891]</td>\n",
       "      <td>[118, 79, 80, 33, 124, 35, 103, 70, 94, 118, 79, 80, 33, 124, 35, 103, 70, 94, 94, 111, 108, 103, 60, 103, 118, 128, 80, 33, 111, 35, 103, 70, 94, 118, 128, 118, 111, 108, 103, 60, 103, 45, 79, 80, 33, 111, 35, 103, 70, 94, 111, 118, 79, 118, 103, 89, 108, 103, 60, 45, 118, 79, 45, 118, 95, 80, 33, 111, 35, 103, 70, 94, 118, 95, 118, 111, 108, 103, 60, 103, 118, 45, 95, 35, 118, 79, 103, 94, 13, 103, 60, 45, 118, 79, 103, 94, 13, 103, 60, 45, 118, 79, 103, 94, 13, 103, 60, 45, 118, 95, 80, 33, 86, 35, 103, 70, 94, 118, 95, 80, 33, 86, 35, 103, 70, 94, 118, 79, 103, 94, 94, 103, 60, 45, 35, 118, 79, 103, 94, 94, 103, 60, 45, 35, 118, 79, 103, 94, 94, 103, 60, 45, 118, 79, 103, 94, 94, 103, 60, 45, 118, 79, 103, 94, 94, 103, 60, 45, 118, 79, 118, 60, 103, 94, 94, 103, 118, 79, 45, 35, 118, 79, 103, 94, 94, 103, 60, 45, 118, 79, 103, 94, 94, 103, 60, 45, 118, 79, 103, 94, 94, 103, 60, 45]</td>\n",
       "      <td>1767</td>\n",
       "      <td>[10454, 10455, 10456, 10457, 10458, 10459, 10460, 10461, 10462, 10463, 10464, 10465, 10466, 10467, 10468, 10469, 10470, 10471, 10472, 10473, 10474, 10475, 10476, 10477, 10478, 10479, 10480, 10481, 10482, 10483, 10484, 10485, 10486, 10487, 10488, 10489, 10490, 10491, 10492, 10493, 10494, 10495, 10496, 10497, 10498, 10499, 10500, 10501, 10502, 10503, 10504, 10505, 10506, 10507, 10508, 45019, 45083, 45084, 45526, 45528, 46230, 46231, 46232, 46233, 46234, 46235, 54122, 54123, 54124, 54125, 54126, 54127, 54128, 54129, 54130, 54131, 54132, 54133, 54134, 54135, 54136, 54137, 54138, 54139, 54140, 54141, 54142, 54143, 54144, 54145, 54146, 54147, 54148, 54149, 54150, 54151, 54152, 54153, 54154, 54155, 54156, 54157, 54158, 54159, 54160, 54161, 54162, 54163, 54164, 54165, 54166, 54167, 54168, 54169, 54170, 54171, 54172, 54173, 54174, 54175, 54176, 54177, 54178, 54179, 54180, 54181, 54182, 54183, 54184, 54185, 54186, 54187, 54188, 54189, 54190]</td>\n",
       "      <td>The Love of Osome and Hisamatsu</td>\n",
       "      <td>Somemoyō imose no kadomatsu</td>\n",
       "      <td>染模様妹背門松</td>\n",
       "      <td>Hironaga, Shūzaburō, The Bunraku Handbook (Tokyo: Maison des Arts, 1976); Bunraku May 1976, November 1984 Performance Programs</td>\n",
       "    </tr>\n",
       "  </tbody>\n",
       "</table>\n",
       "</div>"
      ],
      "text/plain": [
       "  id author_id  \\\n",
       "0  1       [6]   \n",
       "1  2       [6]   \n",
       "2  3       [6]   \n",
       "3  4       [6]   \n",
       "4  5      [34]   \n",
       "\n",
       "                                                                                                                                                   character_id  \\\n",
       "0  [1112, 1113, 1114, 1115, 1116, 1117, 1118, 1119, 1120, 1121, 1122, 1123, 1124, 1125, 1126, 1127, 1128, 1129, 1130, 1131, 1132, 1133, 2298, 2307, 2317, 2319]   \n",
       "1                                      [1271, 1272, 1273, 1274, 1275, 1276, 1277, 1278, 1279, 1280, 1281, 1282, 1283, 1284, 1701, 1878, 1879, 1880, 2146, 2147]   \n",
       "2                                                                                                        [1344, 1481, 1482, 1483, 1484, 1485, 1486, 1487, 2127]   \n",
       "3                                                              [1285, 1286, 1287, 1288, 1289, 1290, 1291, 1292, 1293, 1294, 1295, 1296, 1297, 1298, 1299, 1882]   \n",
       "4                                                              [1343, 1467, 1468, 1469, 1470, 1471, 1472, 1473, 1474, 1475, 1476, 1477, 1478, 1479, 1480, 2267]   \n",
       "\n",
       "                                                                                                                                                                                                                                                                                                       scene_id  \\\n",
       "0                                                                                                                                    [309, 310, 311, 309, 310, 311, 309, 310, 311, 309, 310, 311, 312, 309, 310, 311, 312, 309, 310, 311, 309, 310, 311, 312, 309, 310, 311, 309, 310, 311, 312, 309, 310, 311]   \n",
       "1                                                                        [330, 331, 532, 330, 331, 332, 532, 531, 330, 331, 332, 330, 331, 332, 531, 330, 331, 532, 330, 331, 332, 330, 331, 332, 532, 330, 331, 332, 532, 330, 331, 332, 532, 330, 331, 332, 330, 331, 332, 532, 330, 331, 330, 331, 332, 532]   \n",
       "2  [361, 362, 363, 361, 362, 363, 361, 362, 363, 361, 362, 363, 361, 362, 363, 361, 362, 363, 361, 362, 363, 361, 362, 363, 361, 362, 363, 361, 362, 363, 361, 362, 363, 361, 362, 363, 361, 362, 363, 361, 362, 363, 361, 362, 363, 361, 362, 363, 361, 362, 363, 361, 362, 363, 361, 362, 363, 361, 362, 363]   \n",
       "3                                                                                                                                                                       [333, 334, 335, 333, 334, 335, 333, 334, 335, 333, 334, 335, 333, 334, 335, 333, 334, 335, 333, 334, 335, 333, 334, 335, 333, 334, 335]   \n",
       "4                                                                                                                                                        [640, 358, 359, 640, 358, 359, 640, 358, 359, 360, 640, 358, 359, 360, 358, 359, 360, 640, 358, 359, 360, 358, 359, 360, 358, 359, 360, 358, 359, 360]   \n",
       "\n",
       "                                                                                        performance_id  \\\n",
       "0                                                    [99, 194, 287, 414, 556, 576, 651, 778, 881, 976]   \n",
       "1                                    [110, 262, 315, 383, 457, 554, 558, 573, 780, 791, 913, 951, 954]   \n",
       "2  [29, 164, 213, 291, 293, 382, 412, 420, 468, 555, 578, 605, 715, 740, 825, 841, 941, 946, 964, 983]   \n",
       "3                                                        [232, 321, 406, 416, 492, 595, 712, 797, 819]   \n",
       "4                                                          [13, 54, 219, 236, 367, 482, 678, 711, 891]   \n",
       "\n",
       "                                                                                                                                                                                                                                                                                                                                                                                                                                                                                                                                                                                                                                                                                                                                                                                                                                                                                                                                                                                                                                kashira_id  \\\n",
       "0  [15, 103, 33, 111, 103, 77, 116, 87, 54, 118, 66, 90, 111, 35, 13, 94, 70, 15, 103, 33, 111, 103, 77, 116, 87, 54, 118, 66, 90, 111, 35, 13, 94, 70, 15, 103, 33, 111, 103, 77, 116, 87, 54, 118, 66, 90, 111, 35, 13, 94, 70, 42, 77, 33, 87, 111, 103, 116, 118, 54, 35, 66, 35, 13, 90, 111, 33, 42, 35, 33, 70, 66, 90, 15, 77, 33, 87, 111, 103, 116, 118, 54, 35, 66, 35, 13, 90, 111, 33, 42, 35, 33, 70, 66, 90, 15, 9, 33, 87, 94, 111, 103, 116, 118, 54, 35, 66, 35, 89, 90, 111, 33, 15, 35, 33, 70, 66, 90, 15, 35, 15, 33, 35, 54, 15, 9, 33, 87, 87, 111, 103, 116, 118, 54, 35, 66, 35, 94, 90, 111, 33, 15, 35, 33, 70, 66, 90, 15, 35, 15, 33, 35, 54, 15, 111, 33, 87, 54, 35, 103, 116, 118, 66, 35, 89, 90, 111, 15, 35, 33, 70, 66, 90, 15, 33, 87, 87, 111, 103, 87, 118, 53, 35, 66, 35, 94, 90, 111, 33, 15, 35, 33, 70, 66, 90, 15, 35, 15, 33, 35, 53, 15, 87, 33, 87, 87, 111, 103, 116, 118, 53, 35, 66, 35, 94, 90, 111, 33, 15, 35, 33, 70, 66, 90, 15, 15, 94, 33, 87, 87, 111, 103, 87, 118, 53, 35...   \n",
       "1  [36, 111, 94, 70, 48, 103, 70, 87, 94, 36, 92, 15, 80, 53, 111, 6, 48, 111, 111, 103, 70, 79, 36, 14, 33, 94, 103, 6, 15, 80, 111, 36, 90, 53, 14, 33, 94, 36, 6, 80, 111, 111, 103, 111, 70, 79, 36, 111, 33, 94, 103, 111, 70, 79, 36, 111, 33, 94, 103, 6, 80, 14, 15, 90, 36, 54, 111, 33, 94, 36, 6, 80, 111, 36, 111, 94, 70, 79, 103, 6, 80, 14, 15, 90, 36, 54, 111, 33, 94, 36, 6, 80, 111, 103, 111, 70, 79, 36, 111, 33, 94, 103, 111, 70, 79, 36, 111, 33, 94, 103, 70, 87, 94, 36, 90, 15, 80, 54, 111, 6, 79, 111, 36, 111, 94, 70, 79, 103, 6, 80, 14, 15, 90, 36, 54, 111, 33, 94, 36, 6, 80, 111, 36, 111, 94, 70, 79, 103, 14, 15, 6, 36, 90, 53, 80, 111, 33, 94, 36, 6, 80, 111, 111, 36, 111, 94, 70, 79, 103, 70, 36, 90, 15, 80, 53, 111, 6, 79, 111, 33, 94, 36, 6, 80, 111, 111, 36, 111, 94, 70, 79, 103, 111, 111, 103, 6, 80, 14, 36, 90, 15, 53, 111, 33, 94, 36, 6, 80, 111, 111, 36, 111, 94, 70, 79, 103, 6, 80, 14, 15, 90, 36, 53, 111, 33, 94, 36, 6, 80, 111, 111, 111, 70, 79, 36, 111, 33, 94,...   \n",
       "2  [80, 86, 70, 94, 111, 111, 33, 94, 70, 14, 111, 80, 86, 70, 94, 111, 111, 33, 94, 70, 14, 33, 80, 86, 70, 94, 111, 111, 33, 94, 70, 14, 33, 80, 111, 70, 94, 111, 70, 94, 111, 111, 14, 111, 80, 86, 70, 94, 111, 111, 33, 94, 70, 14, 33, 80, 111, 70, 94, 111, 111, 33, 94, 70, 14, 33, 80, 86, 70, 94, 111, 111, 33, 94, 70, 14, 33, 80, 86, 70, 94, 111, 111, 33, 94, 70, 14, 33, 80, 111, 70, 94, 111, 111, 33, 94, 70, 14, 33, 80, 111, 70, 94, 111, 111, 33, 94, 70, 14, 33, 80, 86, 86, 70, 94, 94, 94, 14, 14, 111, 111, 111, 111, 111, 94, 94, 14, 14, 70, 33, 111, 33, 80, 86, 70, 94, 111, 111, 33, 94, 70, 14, 33, 80, 111, 70, 94, 111, 111, 33, 94, 70, 14, 33, 80, 86, 70, 94, 111, 111, 33, 94, 70, 14, 33, 80, 86, 70, 94, 111, 111, 33, 94, 70, 14, 33, 80, 111, 70, 94, 111, 111, 33, 94, 70, 14, 33, 86, 70, 94, 14, 111, 111, 80, 0, 0, 94, 86, 70, 94, 14, 111, 111, 80, 0, 0, 94, 86, 70, 94, 14, 111, 111, 80, 0, 0, 94, 33, 33, 14, 14, 14, 86, 86, 86, 70, 70, 70, 94, 94, 94, 111, 111, 111, 111, 111, 1...   \n",
       "3                                                                                                                                                        [86, 54, 70, 33, 77, 77, 77, 77, 77, 118, 33, 13, 45, 86, 14, 80, 86, 118, 111, 17, 17, 17, 9, 86, 70, 54, 33, 119, 80, 14, 118, 13, 45, 103, 9, 111, 17, 17, 17, 9, 86, 70, 54, 33, 119, 80, 14, 118, 13, 45, 103, 9, 111, 17, 17, 17, 9, 86, 70, 54, 33, 119, 80, 14, 118, 13, 45, 103, 9, 111, 86, 87, 54, 33, 17, 17, 17, 9, 9, 108, 33, 13, 66, 86, 80, 14, 86, 111, 118, 86, 87, 54, 33, 17, 17, 17, 9, 9, 108, 33, 13, 66, 86, 80, 14, 86, 111, 118, 86, 87, 53, 33, 17, 17, 17, 17, 17, 17, 86, 87, 53, 33, 119, 108, 13, 66, 14, 80, 118, 111, 86, 118, 111, 86, 87, 53, 33, 17, 17, 17, 108, 33, 13, 66, 86, 80, 111, 86, 111, 118, 103, 87, 53, 33, 17, 17, 17, 108, 33, 13, 66, 103, 80, 14, 103, 118, 111, 86, 87, 53, 33, 17, 17, 17, 9, 9, 108, 33, 13, 66, 86, 80, 14, 86, 118, 111, 86, 87, 53, 33, 17, 17, 17, 9, 9, 108, 33, 13, 66, 86, 80, 14, 86, 118, 111]   \n",
       "4                                                                                                       [118, 79, 80, 33, 124, 35, 103, 70, 94, 118, 79, 80, 33, 124, 35, 103, 70, 94, 94, 111, 108, 103, 60, 103, 118, 128, 80, 33, 111, 35, 103, 70, 94, 118, 128, 118, 111, 108, 103, 60, 103, 45, 79, 80, 33, 111, 35, 103, 70, 94, 111, 118, 79, 118, 103, 89, 108, 103, 60, 45, 118, 79, 45, 118, 95, 80, 33, 111, 35, 103, 70, 94, 118, 95, 118, 111, 108, 103, 60, 103, 118, 45, 95, 35, 118, 79, 103, 94, 13, 103, 60, 45, 118, 79, 103, 94, 13, 103, 60, 45, 118, 79, 103, 94, 13, 103, 60, 45, 118, 95, 80, 33, 86, 35, 103, 70, 94, 118, 95, 80, 33, 86, 35, 103, 70, 94, 118, 79, 103, 94, 94, 103, 60, 45, 35, 118, 79, 103, 94, 94, 103, 60, 45, 35, 118, 79, 103, 94, 94, 103, 60, 45, 118, 79, 103, 94, 94, 103, 60, 45, 118, 79, 103, 94, 94, 103, 60, 45, 118, 79, 118, 60, 103, 94, 94, 103, 118, 79, 45, 35, 118, 79, 103, 94, 94, 103, 60, 45, 118, 79, 103, 94, 94, 103, 60, 45, 118, 79, 103, 94, 94, 103, 60, 45]   \n",
       "\n",
       "  first_staged  \\\n",
       "0         1721   \n",
       "1         1720   \n",
       "2         1703   \n",
       "3         1722   \n",
       "4         1767   \n",
       "\n",
       "                                                                                                                                                                                                                                                                                                                                                                                                                                                                                                                                                                                                                                                                                                                                                                                                                                                                                                                                                                                                                                  image_id  \\\n",
       "0  [10777, 10778, 10779, 10780, 10781, 10782, 10783, 10784, 10785, 10786, 10787, 10788, 10789, 10892, 10893, 10894, 10895, 10896, 10897, 10898, 10899, 10900, 10901, 10902, 10903, 10904, 10905, 10906, 10907, 10908, 10909, 10910, 10911, 10912, 10915, 10916, 10917, 10918, 10919, 10920, 10921, 10922, 10923, 10924, 10925, 10926, 10927, 10928, 10929, 10930, 10931, 10932, 10933, 10934, 10935, 10936, 10937, 10938, 10939, 10940, 10941, 10942, 10943, 10944, 10945, 10946, 10947, 10948, 10949, 10950, 10951, 10952, 10953, 10954, 10955, 10956, 10957, 10958, 10959, 10960, 10961, 10962, 10963, 10964, 10965, 10966, 10967, 10968, 10980, 11356, 11357, 11358, 11359, 11360, 11361, 11362, 11363, 11364, 11365, 11366, 11367, 11368, 11369, 11370, 11371, 11372, 11373, 11374, 11375, 11376, 11377, 11378, 11379, 11380, 11381, 11382, 11383, 11384, 11385, 11386, 11387, 45061, 45089, 45095, 45100, 45101, 46082, 46084, 46086, 46092, 46250, 46251, 46252, 46253, 46254, 46255, 46256, 46282, 46283, 46284, 46285, 46286, 4...   \n",
       "1  [10649, 10650, 10651, 10652, 10653, 10654, 10655, 10656, 10657, 10658, 10659, 10660, 10661, 10662, 10663, 10664, 10665, 10666, 10667, 10668, 10669, 10670, 10671, 10672, 10673, 10674, 10675, 10676, 10677, 10678, 10679, 10680, 10681, 10682, 10683, 10684, 10685, 10686, 10687, 10688, 10689, 10690, 10691, 10692, 10693, 10694, 10695, 10696, 10697, 10698, 10699, 10700, 10701, 10702, 10703, 10704, 10705, 10706, 10707, 10708, 10709, 10710, 10711, 10712, 10713, 10714, 10715, 10716, 10717, 10718, 10719, 10720, 10721, 10722, 10723, 10724, 10725, 10726, 10727, 10728, 10729, 10730, 10731, 10732, 10733, 10734, 10735, 10736, 10737, 10738, 10739, 10740, 10741, 10742, 10743, 10744, 10745, 10746, 10747, 10748, 10749, 10750, 10751, 10752, 10753, 10754, 10755, 10756, 10757, 10758, 10759, 10760, 10761, 10762, 10763, 10764, 10765, 10766, 10767, 10768, 10769, 10770, 10771, 10772, 10773, 10774, 10775, 10776, 45041, 45043, 45046, 45047, 45087, 45090, 45091, 45097, 45098, 45461, 45463, 45814, 45816, 45817, 4...   \n",
       "2  [10557, 10558, 10559, 10560, 10561, 10562, 10563, 10564, 10565, 10566, 10567, 10568, 10569, 10570, 10571, 10572, 10573, 10574, 10575, 10576, 10577, 10578, 10579, 10580, 10581, 10582, 10583, 10584, 10585, 10586, 10587, 10588, 10589, 10590, 10591, 10592, 10593, 10594, 10595, 10596, 10597, 10598, 10599, 10600, 10601, 10602, 10603, 10604, 10605, 10606, 10607, 10608, 10609, 10610, 10611, 10612, 10613, 10614, 10615, 10616, 10617, 10618, 10619, 10620, 10621, 10622, 10623, 10624, 10625, 10626, 10627, 10628, 10629, 10630, 10631, 10632, 10633, 10634, 10635, 10636, 10637, 10638, 10639, 10640, 10641, 10642, 10643, 10644, 10645, 10646, 10647, 10648, 11283, 11284, 11285, 11286, 11287, 11288, 11289, 11290, 11291, 11292, 11293, 11294, 11295, 11296, 11297, 11298, 11299, 11300, 11301, 11302, 11303, 11304, 11305, 11306, 11307, 11308, 11309, 11310, 11311, 11312, 11313, 11314, 11315, 11316, 11317, 11318, 11319, 11320, 11321, 11322, 11323, 11324, 11325, 11326, 11327, 11328, 11329, 11330, 11331, 11332, 1...   \n",
       "3  [8821, 8822, 8823, 8824, 8825, 8826, 8827, 8828, 8829, 8830, 8831, 8832, 8833, 8834, 8835, 8836, 8837, 8838, 8839, 8840, 8841, 8842, 8843, 8844, 8845, 8846, 8847, 8848, 8849, 8850, 8851, 8852, 8853, 8854, 8855, 8856, 8857, 8858, 8859, 8860, 8861, 8862, 8863, 8864, 8865, 8866, 8867, 8868, 8869, 8870, 8871, 8872, 8873, 8874, 8875, 8876, 8877, 8878, 8879, 8880, 8881, 8882, 8883, 8884, 8885, 8886, 8887, 8888, 8889, 8890, 8891, 8892, 8893, 8894, 8895, 8896, 8897, 8898, 8899, 8900, 8901, 8902, 8903, 8904, 8905, 8906, 8907, 8908, 8909, 8910, 8911, 8912, 8913, 8914, 8915, 8916, 8917, 8918, 8919, 8920, 8921, 8922, 8923, 8924, 8925, 8926, 8927, 8928, 8929, 8930, 8931, 8932, 8933, 8934, 8935, 8936, 8937, 8938, 8939, 8940, 8941, 8942, 8943, 8944, 8945, 8946, 8947, 8948, 8949, 8950, 8951, 8952, 8953, 8954, 8955, 8956, 8957, 8958, 8959, 8960, 8961, 8962, 8963, 8964, 8965, 10790, 10791, 10792, 10793, 10794, 10795, 10796, 10797, 10798, 10799, 10800, 10801, 10802, 10803, 10804, 10805, 10806, 10807,...   \n",
       "4                                                        [10454, 10455, 10456, 10457, 10458, 10459, 10460, 10461, 10462, 10463, 10464, 10465, 10466, 10467, 10468, 10469, 10470, 10471, 10472, 10473, 10474, 10475, 10476, 10477, 10478, 10479, 10480, 10481, 10482, 10483, 10484, 10485, 10486, 10487, 10488, 10489, 10490, 10491, 10492, 10493, 10494, 10495, 10496, 10497, 10498, 10499, 10500, 10501, 10502, 10503, 10504, 10505, 10506, 10507, 10508, 45019, 45083, 45084, 45526, 45528, 46230, 46231, 46232, 46233, 46234, 46235, 54122, 54123, 54124, 54125, 54126, 54127, 54128, 54129, 54130, 54131, 54132, 54133, 54134, 54135, 54136, 54137, 54138, 54139, 54140, 54141, 54142, 54143, 54144, 54145, 54146, 54147, 54148, 54149, 54150, 54151, 54152, 54153, 54154, 54155, 54156, 54157, 54158, 54159, 54160, 54161, 54162, 54163, 54164, 54165, 54166, 54167, 54168, 54169, 54170, 54171, 54172, 54173, 54174, 54175, 54176, 54177, 54178, 54179, 54180, 54181, 54182, 54183, 54184, 54185, 54186, 54187, 54188, 54189, 54190]   \n",
       "\n",
       "                               label_eng                     label_ja  \\\n",
       "0   The Woman-Killer and the Hell of Oil  Onnakoroshi abura no jigoku   \n",
       "1           The Love Suicides at Amijima       Shinjū ten no Amijima   \n",
       "2          The Love Suicides at Sonezaki              Sonezaki shinjū   \n",
       "3  The Love Suicide of Hambei and Ochiyo             Shinjū Yoigōshin   \n",
       "4        The Love of Osome and Hisamatsu  Somemoyō imose no kadomatsu   \n",
       "\n",
       "  label_ka  \\\n",
       "0    女殺油地獄   \n",
       "1    心中天網島   \n",
       "2    曽根崎心中   \n",
       "3    心中宵庚申   \n",
       "4  染模様妹背門松   \n",
       "\n",
       "                                                                                                                                                                                                                                                                                                                                       reference  \n",
       "0             Major Plays of Chikamatsu, translated by Donald Keene, (New York: Columbia University Press, 1961); Hironaga, Shūzaburō, The Bunraku Handbook (Tokyo: Maison des Arts, 1976); Kokuritsu Gekijō jōen shiryōshū, edited by Kokuritsu Gekijō Geinō Chōsashitsu, vol. 224, February 1984; Bunraku February 1982 Performance Program  \n",
       "1              Major Plays of Chikamatsu, translated by Donald Keene, (New York: Columbia University Press, 1961); Hironaga, Shūzaburō, The Bunraku Handbook (Tokyo: Maison des Arts, 1976); Kokuritsu Gekijō jōen shiryōshū, edited by Kokuritsu Gekijō Geinō Chōsashitsu, vol. 224, February 1984; Bunraku October 1986 Performance Program  \n",
       "2  Major Plays of Chikamatsu, translated by Donald Keene, (New York: Columbia University Press, 1961); Keene, Donald, Bunraku: The Art of the Japanese Puppet Theatre (Tokyo: Kodansha International, 1973); Hironaga, Shūzaburō, The Bunraku Handbook (Tokyo: Maison des Arts, 1976); Bunraku February 1984, February 1981 Performance Programs  \n",
       "3                                                                                            Hironaga, Shūzaburō, The Bunraku Handbook (Tokyo: Maison des Arts, 1976); Bunraku May 1975, February 1982 Performance Program; Chikamatsu: 5 Late Plays, translated and annotated by C. Andrew Gerstle (New York: Columbia University Press, c2001)  \n",
       "4                                                                                                                                                                                                                 Hironaga, Shūzaburō, The Bunraku Handbook (Tokyo: Maison des Arts, 1976); Bunraku May 1976, November 1984 Performance Programs  "
      ]
     },
     "execution_count": 17,
     "metadata": {},
     "output_type": "execute_result"
    }
   ],
   "source": [
    "plays.head()"
   ]
  },
  {
   "cell_type": "code",
   "execution_count": null,
   "metadata": {
    "collapsed": true
   },
   "outputs": [],
   "source": []
  }
 ],
 "metadata": {
  "kernelspec": {
   "display_name": "Python 2",
   "language": "python",
   "name": "python2"
  },
  "language_info": {
   "codemirror_mode": {
    "name": "ipython",
    "version": 2
   },
   "file_extension": ".py",
   "mimetype": "text/x-python",
   "name": "python",
   "nbconvert_exporter": "python",
   "pygments_lexer": "ipython2",
   "version": "2.7.13"
  }
 },
 "nbformat": 4,
 "nbformat_minor": 2
}
