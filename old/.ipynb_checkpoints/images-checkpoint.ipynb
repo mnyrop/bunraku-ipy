{
 "cells": [
  {
   "cell_type": "code",
   "execution_count": 1,
   "metadata": {
    "collapsed": true
   },
   "outputs": [],
   "source": [
    "import pandas as pd"
   ]
  },
  {
   "cell_type": "code",
   "execution_count": 2,
   "metadata": {
    "collapsed": true
   },
   "outputs": [],
   "source": [
    "# read csvs as data frames\n",
    "# cast as string to avoid float/NaN errors\n",
    "\n",
    "images = pd.read_csv('in/imagesonline.csv', dtype=object)\n",
    "characters_images = pd.read_csv('in/characters_images.csv', dtype=object)\n",
    "kashira_images = pd.read_csv('in/kashira_images.csv', dtype=object)\n",
    "performances_images = pd.read_csv('in/performances_images.csv', dtype=object)\n",
    "performers_images = pd.read_csv('in/performers_images.csv', dtype=object)\n",
    "plays_images = pd.read_csv('in/plays_images.csv', dtype=object)\n",
    "productions_images = pd.read_csv('in/productions_images.csv', dtype=object)\n",
    "scenes_images = pd.read_csv('in/scenes_images.csv', dtype=object)\n",
    "tags_images = pd.read_csv('in/tags_images.csv', dtype=object)"
   ]
  },
  {
   "cell_type": "code",
   "execution_count": 3,
   "metadata": {
    "collapsed": true
   },
   "outputs": [],
   "source": [
    "images = images.drop('online', 1)"
   ]
  },
  {
   "cell_type": "code",
   "execution_count": 4,
   "metadata": {},
   "outputs": [
    {
     "data": {
      "text/plain": [
       "array(['1', '3', '4', '2', nan, '6', '5'], dtype=object)"
      ]
     },
     "execution_count": 4,
     "metadata": {},
     "output_type": "execute_result"
    }
   ],
   "source": [
    "images = images.replace({'Barbara Curtis Adachi':'1','Fukuda Fumio':'2','Harri Peccinotti':'3','M. Arai':'4','Toyotake Komatsudayū II':'5','Unknown. Photo: Columbia University Libraries':'6'})\n",
    "images.creator.unique()"
   ]
  },
  {
   "cell_type": "code",
   "execution_count": 6,
   "metadata": {},
   "outputs": [
    {
     "data": {
      "text/html": [
       "<div>\n",
       "<style>\n",
       "    .dataframe thead tr:only-child th {\n",
       "        text-align: right;\n",
       "    }\n",
       "\n",
       "    .dataframe thead th {\n",
       "        text-align: left;\n",
       "    }\n",
       "\n",
       "    .dataframe tbody tr th {\n",
       "        vertical-align: top;\n",
       "    }\n",
       "</style>\n",
       "<table border=\"1\" class=\"dataframe\">\n",
       "  <thead>\n",
       "    <tr style=\"text-align: right;\">\n",
       "      <th></th>\n",
       "      <th>image_id</th>\n",
       "      <th>colser_id</th>\n",
       "      <th>series_number</th>\n",
       "      <th>sequence_number</th>\n",
       "      <th>item_id</th>\n",
       "      <th>media_type</th>\n",
       "      <th>slidepage_folder_no</th>\n",
       "      <th>container_type</th>\n",
       "      <th>container_number</th>\n",
       "      <th>notes_on_item</th>\n",
       "      <th>creator</th>\n",
       "      <th>objid</th>\n",
       "    </tr>\n",
       "  </thead>\n",
       "  <tbody>\n",
       "    <tr>\n",
       "      <th>0</th>\n",
       "      <td>8281</td>\n",
       "      <td>2</td>\n",
       "      <td>2</td>\n",
       "      <td>0001</td>\n",
       "      <td>0001</td>\n",
       "      <td>slide</td>\n",
       "      <td>452</td>\n",
       "      <td>Slide Binder</td>\n",
       "      <td>46</td>\n",
       "      <td>2</td>\n",
       "      <td>1</td>\n",
       "      <td>ldpd_bun_slide_452_2_0001_0001</td>\n",
       "    </tr>\n",
       "    <tr>\n",
       "      <th>1</th>\n",
       "      <td>8282</td>\n",
       "      <td>2</td>\n",
       "      <td>2</td>\n",
       "      <td>0002</td>\n",
       "      <td>0002</td>\n",
       "      <td>slide</td>\n",
       "      <td>452</td>\n",
       "      <td>Slide Binder</td>\n",
       "      <td>46</td>\n",
       "      <td>6</td>\n",
       "      <td>1</td>\n",
       "      <td>ldpd_bun_slide_452_2_0002_0002</td>\n",
       "    </tr>\n",
       "    <tr>\n",
       "      <th>2</th>\n",
       "      <td>8283</td>\n",
       "      <td>2</td>\n",
       "      <td>2</td>\n",
       "      <td>0003</td>\n",
       "      <td>0003</td>\n",
       "      <td>slide</td>\n",
       "      <td>452</td>\n",
       "      <td>Slide Binder</td>\n",
       "      <td>46</td>\n",
       "      <td>7</td>\n",
       "      <td>1</td>\n",
       "      <td>ldpd_bun_slide_452_2_0003_0003</td>\n",
       "    </tr>\n",
       "    <tr>\n",
       "      <th>3</th>\n",
       "      <td>8284</td>\n",
       "      <td>2</td>\n",
       "      <td>2</td>\n",
       "      <td>0004</td>\n",
       "      <td>0004</td>\n",
       "      <td>slide</td>\n",
       "      <td>452</td>\n",
       "      <td>Slide Binder</td>\n",
       "      <td>46</td>\n",
       "      <td>0</td>\n",
       "      <td>1</td>\n",
       "      <td>ldpd_bun_slide_452_2_0004_0004</td>\n",
       "    </tr>\n",
       "    <tr>\n",
       "      <th>4</th>\n",
       "      <td>8285</td>\n",
       "      <td>2</td>\n",
       "      <td>2</td>\n",
       "      <td>0005</td>\n",
       "      <td>0005</td>\n",
       "      <td>slide</td>\n",
       "      <td>452</td>\n",
       "      <td>Slide Binder</td>\n",
       "      <td>46</td>\n",
       "      <td>4</td>\n",
       "      <td>1</td>\n",
       "      <td>ldpd_bun_slide_452_2_0005_0005</td>\n",
       "    </tr>\n",
       "  </tbody>\n",
       "</table>\n",
       "</div>"
      ],
      "text/plain": [
       "  image_id colser_id series_number sequence_number item_id media_type  \\\n",
       "0     8281         2             2            0001    0001      slide   \n",
       "1     8282         2             2            0002    0002      slide   \n",
       "2     8283         2             2            0003    0003      slide   \n",
       "3     8284         2             2            0004    0004      slide   \n",
       "4     8285         2             2            0005    0005      slide   \n",
       "\n",
       "  slidepage_folder_no container_type container_number notes_on_item creator  \\\n",
       "0                 452   Slide Binder               46             2       1   \n",
       "1                 452   Slide Binder               46             6       1   \n",
       "2                 452   Slide Binder               46             7       1   \n",
       "3                 452   Slide Binder               46             0       1   \n",
       "4                 452   Slide Binder               46             4       1   \n",
       "\n",
       "                            objid  \n",
       "0  ldpd_bun_slide_452_2_0001_0001  \n",
       "1  ldpd_bun_slide_452_2_0002_0002  \n",
       "2  ldpd_bun_slide_452_2_0003_0003  \n",
       "3  ldpd_bun_slide_452_2_0004_0004  \n",
       "4  ldpd_bun_slide_452_2_0005_0005  "
      ]
     },
     "execution_count": 6,
     "metadata": {},
     "output_type": "execute_result"
    }
   ],
   "source": [
    "images = images.rename(columns={'image_﻿id':'image_id'})\n",
    "images.head()"
   ]
  },
  {
   "cell_type": "code",
   "execution_count": 7,
   "metadata": {
    "collapsed": true
   },
   "outputs": [],
   "source": [
    "# Optional function fot IPy ProgressBar \n",
    "# (since multiValDataFrame can take awhile on large frames)\n",
    "\n",
    "def log_progress(sequence, every=None, size=None, name='Items'):\n",
    "    from ipywidgets import IntProgress, HTML, VBox\n",
    "    from IPython.display import display\n",
    "\n",
    "    is_iterator = False\n",
    "    if size is None:\n",
    "        try:\n",
    "            size = len(sequence)\n",
    "        except TypeError:\n",
    "            is_iterator = True\n",
    "    if size is not None:\n",
    "        if every is None:\n",
    "            if size <= 200:\n",
    "                every = 1\n",
    "            else:\n",
    "                every = int(size / 200)     # every 0.5%\n",
    "    else:\n",
    "        assert every is not None, 'sequence is iterator, set every'\n",
    "\n",
    "    if is_iterator:\n",
    "        progress = IntProgress(min=0, max=1, value=1)\n",
    "        progress.bar_style = 'info'\n",
    "    else:\n",
    "        progress = IntProgress(min=0, max=size, value=0)\n",
    "    label = HTML()\n",
    "    box = VBox(children=[label, progress])\n",
    "    display(box)\n",
    "\n",
    "    index = 0\n",
    "    try:\n",
    "        for index, record in enumerate(sequence, 1):\n",
    "            if index == 1 or index % every == 0:\n",
    "                if is_iterator:\n",
    "                    label.value = '{name}: {index} / ?'.format(\n",
    "                        name=name,\n",
    "                        index=index\n",
    "                    )\n",
    "                else:\n",
    "                    progress.value = index\n",
    "                    label.value = u'{name}: {index} / {size}'.format(\n",
    "                        name=name,\n",
    "                        index=index,\n",
    "                        size=size\n",
    "                    )\n",
    "            yield record\n",
    "    except:\n",
    "        progress.bar_style = 'danger'\n",
    "        raise\n",
    "    else:\n",
    "        progress.bar_style = 'success'\n",
    "        progress.value = index\n",
    "        label.value = \"{name}: {index}\".format(\n",
    "            name=name,\n",
    "            index=str(index or '?')\n",
    "        )"
   ]
  },
  {
   "cell_type": "code",
   "execution_count": 8,
   "metadata": {
    "collapsed": true
   },
   "outputs": [],
   "source": [
    "# multiValDataFrame takes a dataframe df, column name df_index and column name multival_key\n",
    "# it merges records with the same df_index and updates multival_index to an array of all the multival_index values.\n",
    "# E.g for a data frame plays with multiple character_id values per play_id, returns a data frame with one record \n",
    "# per play_id, and one array of character_ids per play.\n",
    "\n",
    "def multiValDataFrame(df, df_index, multival_key):\n",
    "    new_df = pd.DataFrame({})\n",
    "    cols = df.columns\n",
    "    id_list = df[df_index].unique()\n",
    "    for i in log_progress(id_list):\n",
    "        temp_row = df.loc[df[df_index] == i ]\n",
    "        vals = []\n",
    "        for col in cols:\n",
    "            vals.append(temp_row[:1][col].values[0])\n",
    "\n",
    "        temp_dict = dict(zip(cols, vals))\n",
    "        multi_id_list = list(temp_row[multival_key])\n",
    "    \n",
    "        temp_dict[multival_key] = multi_id_list\n",
    "    \n",
    "        new_df = new_df.append(temp_dict, ignore_index=True)\n",
    "    return new_df"
   ]
  },
  {
   "cell_type": "code",
   "execution_count": 12,
   "metadata": {},
   "outputs": [
    {
     "data": {
      "application/vnd.jupyter.widget-view+json": {
       "model_id": "7aa63222225544c7987e5c0373663d03"
      }
     },
     "metadata": {},
     "output_type": "display_data"
    }
   ],
   "source": [
    "# merge and multival characters\n",
    "images = pd.merge(images, characters_images, on='image_id', how='left')\n",
    "images = multiValDataFrame(images, 'image_id', 'character_id')"
   ]
  },
  {
   "cell_type": "code",
   "execution_count": 13,
   "metadata": {},
   "outputs": [
    {
     "data": {
      "application/vnd.jupyter.widget-view+json": {
       "model_id": "6f87d155acfd429586167fd6214c9bf7"
      }
     },
     "metadata": {},
     "output_type": "display_data"
    }
   ],
   "source": [
    "# merge and multival kashira\n",
    "images = pd.merge(images, kashira_images, on='image_id', how='left')\n",
    "images = multiValDataFrame(images, 'image_id', 'kashira_id')"
   ]
  },
  {
   "cell_type": "code",
   "execution_count": 14,
   "metadata": {},
   "outputs": [
    {
     "data": {
      "application/vnd.jupyter.widget-view+json": {
       "model_id": "d92641185ad342739b45e75a6e3cc539"
      }
     },
     "metadata": {},
     "output_type": "display_data"
    }
   ],
   "source": [
    "# merge and multival performances\n",
    "images = pd.merge(images, performances_images, on='image_id', how='left')\n",
    "images = multiValDataFrame(images, 'image_id', 'performance_id')"
   ]
  },
  {
   "cell_type": "code",
   "execution_count": 15,
   "metadata": {},
   "outputs": [
    {
     "data": {
      "application/vnd.jupyter.widget-view+json": {
       "model_id": "336b13520a1f44749c3ddaf072844eee"
      }
     },
     "metadata": {},
     "output_type": "display_data"
    }
   ],
   "source": [
    "# merge and multival performers\n",
    "images = pd.merge(images, performers_images, on='image_id', how='left')\n",
    "images = multiValDataFrame(images, 'image_id', 'performer_id')"
   ]
  },
  {
   "cell_type": "code",
   "execution_count": 16,
   "metadata": {},
   "outputs": [
    {
     "data": {
      "application/vnd.jupyter.widget-view+json": {
       "model_id": "77c691a6a1d04180a6cceff84d66d9c3"
      }
     },
     "metadata": {},
     "output_type": "display_data"
    }
   ],
   "source": [
    "# merge and multival plays\n",
    "images = pd.merge(images, plays_images, on='image_id', how='left')\n",
    "images = multiValDataFrame(images, 'image_id', 'play_id')"
   ]
  },
  {
   "cell_type": "code",
   "execution_count": 17,
   "metadata": {},
   "outputs": [
    {
     "data": {
      "application/vnd.jupyter.widget-view+json": {
       "model_id": "7e9fb060841449eaada2b880c1442ec7"
      }
     },
     "metadata": {},
     "output_type": "display_data"
    }
   ],
   "source": [
    "# merge and multival productions\n",
    "images = pd.merge(images, productions_images, on='image_id', how='left')\n",
    "images = multiValDataFrame(images, 'image_id', 'production_id')"
   ]
  },
  {
   "cell_type": "code",
   "execution_count": 18,
   "metadata": {},
   "outputs": [
    {
     "data": {
      "application/vnd.jupyter.widget-view+json": {
       "model_id": "cf5bf01a2682428d9621b0848980b1bb"
      }
     },
     "metadata": {},
     "output_type": "display_data"
    }
   ],
   "source": [
    "# merge and multival scenes\n",
    "images = pd.merge(images, scenes_images, on='image_id', how='left')\n",
    "images = multiValDataFrame(images, 'image_id', 'scene_id')"
   ]
  },
  {
   "cell_type": "code",
   "execution_count": 19,
   "metadata": {},
   "outputs": [
    {
     "data": {
      "application/vnd.jupyter.widget-view+json": {
       "model_id": "bb1e23a7953147cfbb6233e2f1e30800"
      }
     },
     "metadata": {},
     "output_type": "display_data"
    }
   ],
   "source": [
    "# merge and multival tags\n",
    "images = pd.merge(images, tags_images, on='image_id', how='left')\n",
    "images = multiValDataFrame(images, 'image_id', 'subject_id')"
   ]
  },
  {
   "cell_type": "code",
   "execution_count": 20,
   "metadata": {
    "collapsed": true
   },
   "outputs": [],
   "source": [
    "# mild cleaning + rearranging\n",
    "images = images.rename(columns = {'image_id':'id'})\n",
    "images = images[['id','media_type','character_id','tag_id','kashira_id','performance_id','performer_id','play_id','production_id','scene_id','container','container_type','creator','item_id','colser_id','notes','objid','sequence','series','slidepage_folder']]\n"
   ]
  },
  {
   "cell_type": "code",
   "execution_count": 21,
   "metadata": {
    "collapsed": true
   },
   "outputs": [],
   "source": [
    "# export to csv\n",
    "images.to_csv('images_exp.csv', encoding='utf8', index=False)"
   ]
  },
  {
   "cell_type": "code",
   "execution_count": 22,
   "metadata": {
    "collapsed": true
   },
   "outputs": [],
   "source": [
    "# export to json\n",
    "images.to_json('images_exp.json', orient='records', force_ascii=False)"
   ]
  },
  {
   "cell_type": "code",
   "execution_count": 23,
   "metadata": {},
   "outputs": [
    {
     "data": {
      "text/html": [
       "<div>\n",
       "<style>\n",
       "    .dataframe thead tr:only-child th {\n",
       "        text-align: right;\n",
       "    }\n",
       "\n",
       "    .dataframe thead th {\n",
       "        text-align: left;\n",
       "    }\n",
       "\n",
       "    .dataframe tbody tr th {\n",
       "        vertical-align: top;\n",
       "    }\n",
       "</style>\n",
       "<table border=\"1\" class=\"dataframe\">\n",
       "  <thead>\n",
       "    <tr style=\"text-align: right;\">\n",
       "      <th></th>\n",
       "      <th>id</th>\n",
       "      <th>media_type</th>\n",
       "      <th>character_id</th>\n",
       "      <th>tag_id</th>\n",
       "      <th>kashira_id</th>\n",
       "      <th>performance_id</th>\n",
       "      <th>performer_id</th>\n",
       "      <th>play_id</th>\n",
       "      <th>production_id</th>\n",
       "      <th>scene_id</th>\n",
       "      <th>container</th>\n",
       "      <th>container_type</th>\n",
       "      <th>creator</th>\n",
       "      <th>item_id</th>\n",
       "      <th>colser_id</th>\n",
       "      <th>notes</th>\n",
       "      <th>objid</th>\n",
       "      <th>sequence</th>\n",
       "      <th>series</th>\n",
       "      <th>slidepage_folder</th>\n",
       "    </tr>\n",
       "  </thead>\n",
       "  <tbody>\n",
       "    <tr>\n",
       "      <th>0</th>\n",
       "      <td>8281</td>\n",
       "      <td>slide</td>\n",
       "      <td>[452, 453, 454, 455, 456, 2312]</td>\n",
       "      <td>[43, 73]</td>\n",
       "      <td>[33, 3, 35, 106, 77]</td>\n",
       "      <td>[310]</td>\n",
       "      <td>[nan]</td>\n",
       "      <td>[26]</td>\n",
       "      <td>[86]</td>\n",
       "      <td>[128]</td>\n",
       "      <td>46</td>\n",
       "      <td>Slide Binder</td>\n",
       "      <td>1</td>\n",
       "      <td>0001</td>\n",
       "      <td>2</td>\n",
       "      <td>2</td>\n",
       "      <td>ldpd_bun_slide_452_2_0001_0001</td>\n",
       "      <td>0001</td>\n",
       "      <td>2</td>\n",
       "      <td>452</td>\n",
       "    </tr>\n",
       "    <tr>\n",
       "      <th>1</th>\n",
       "      <td>8282</td>\n",
       "      <td>slide</td>\n",
       "      <td>[452, 453, 454, 455, 456, 2312]</td>\n",
       "      <td>[43, 73]</td>\n",
       "      <td>[33, 3, 35, 106, 77]</td>\n",
       "      <td>[310]</td>\n",
       "      <td>[nan]</td>\n",
       "      <td>[26]</td>\n",
       "      <td>[86]</td>\n",
       "      <td>[128]</td>\n",
       "      <td>46</td>\n",
       "      <td>Slide Binder</td>\n",
       "      <td>1</td>\n",
       "      <td>0002</td>\n",
       "      <td>2</td>\n",
       "      <td>6</td>\n",
       "      <td>ldpd_bun_slide_452_2_0002_0002</td>\n",
       "      <td>0002</td>\n",
       "      <td>2</td>\n",
       "      <td>452</td>\n",
       "    </tr>\n",
       "    <tr>\n",
       "      <th>2</th>\n",
       "      <td>8283</td>\n",
       "      <td>slide</td>\n",
       "      <td>[452, 453, 454, 455, 456, 2312]</td>\n",
       "      <td>[43, 73]</td>\n",
       "      <td>[33, 3, 35, 106, 77]</td>\n",
       "      <td>[310]</td>\n",
       "      <td>[nan]</td>\n",
       "      <td>[26]</td>\n",
       "      <td>[86]</td>\n",
       "      <td>[128]</td>\n",
       "      <td>46</td>\n",
       "      <td>Slide Binder</td>\n",
       "      <td>1</td>\n",
       "      <td>0003</td>\n",
       "      <td>2</td>\n",
       "      <td>7</td>\n",
       "      <td>ldpd_bun_slide_452_2_0003_0003</td>\n",
       "      <td>0003</td>\n",
       "      <td>2</td>\n",
       "      <td>452</td>\n",
       "    </tr>\n",
       "    <tr>\n",
       "      <th>3</th>\n",
       "      <td>8284</td>\n",
       "      <td>slide</td>\n",
       "      <td>[453, 454, 455, 452, 2312]</td>\n",
       "      <td>[43, 73]</td>\n",
       "      <td>[3, 35, 33, 77]</td>\n",
       "      <td>[310]</td>\n",
       "      <td>[nan]</td>\n",
       "      <td>[26]</td>\n",
       "      <td>[86]</td>\n",
       "      <td>[128]</td>\n",
       "      <td>46</td>\n",
       "      <td>Slide Binder</td>\n",
       "      <td>1</td>\n",
       "      <td>0004</td>\n",
       "      <td>2</td>\n",
       "      <td>0</td>\n",
       "      <td>ldpd_bun_slide_452_2_0004_0004</td>\n",
       "      <td>0004</td>\n",
       "      <td>2</td>\n",
       "      <td>452</td>\n",
       "    </tr>\n",
       "    <tr>\n",
       "      <th>4</th>\n",
       "      <td>8285</td>\n",
       "      <td>slide</td>\n",
       "      <td>[452, 454, 2312]</td>\n",
       "      <td>[43]</td>\n",
       "      <td>[33, 35, 77]</td>\n",
       "      <td>[310]</td>\n",
       "      <td>[nan]</td>\n",
       "      <td>[26]</td>\n",
       "      <td>[86]</td>\n",
       "      <td>[128]</td>\n",
       "      <td>46</td>\n",
       "      <td>Slide Binder</td>\n",
       "      <td>1</td>\n",
       "      <td>0005</td>\n",
       "      <td>2</td>\n",
       "      <td>4</td>\n",
       "      <td>ldpd_bun_slide_452_2_0005_0005</td>\n",
       "      <td>0005</td>\n",
       "      <td>2</td>\n",
       "      <td>452</td>\n",
       "    </tr>\n",
       "  </tbody>\n",
       "</table>\n",
       "</div>"
      ],
      "text/plain": [
       "     id media_type                     character_id    tag_id  \\\n",
       "0  8281      slide  [452, 453, 454, 455, 456, 2312]  [43, 73]   \n",
       "1  8282      slide  [452, 453, 454, 455, 456, 2312]  [43, 73]   \n",
       "2  8283      slide  [452, 453, 454, 455, 456, 2312]  [43, 73]   \n",
       "3  8284      slide       [453, 454, 455, 452, 2312]  [43, 73]   \n",
       "4  8285      slide                 [452, 454, 2312]      [43]   \n",
       "\n",
       "             kashira_id performance_id performer_id play_id production_id  \\\n",
       "0  [33, 3, 35, 106, 77]          [310]        [nan]    [26]          [86]   \n",
       "1  [33, 3, 35, 106, 77]          [310]        [nan]    [26]          [86]   \n",
       "2  [33, 3, 35, 106, 77]          [310]        [nan]    [26]          [86]   \n",
       "3       [3, 35, 33, 77]          [310]        [nan]    [26]          [86]   \n",
       "4          [33, 35, 77]          [310]        [nan]    [26]          [86]   \n",
       "\n",
       "  scene_id container container_type creator item_id colser_id notes  \\\n",
       "0    [128]        46   Slide Binder       1    0001         2     2   \n",
       "1    [128]        46   Slide Binder       1    0002         2     6   \n",
       "2    [128]        46   Slide Binder       1    0003         2     7   \n",
       "3    [128]        46   Slide Binder       1    0004         2     0   \n",
       "4    [128]        46   Slide Binder       1    0005         2     4   \n",
       "\n",
       "                            objid sequence series slidepage_folder  \n",
       "0  ldpd_bun_slide_452_2_0001_0001     0001      2              452  \n",
       "1  ldpd_bun_slide_452_2_0002_0002     0002      2              452  \n",
       "2  ldpd_bun_slide_452_2_0003_0003     0003      2              452  \n",
       "3  ldpd_bun_slide_452_2_0004_0004     0004      2              452  \n",
       "4  ldpd_bun_slide_452_2_0005_0005     0005      2              452  "
      ]
     },
     "execution_count": 23,
     "metadata": {},
     "output_type": "execute_result"
    }
   ],
   "source": [
    "images.head()"
   ]
  },
  {
   "cell_type": "code",
   "execution_count": null,
   "metadata": {
    "collapsed": true
   },
   "outputs": [],
   "source": []
  }
 ],
 "metadata": {
  "kernelspec": {
   "display_name": "Python 2",
   "language": "python",
   "name": "python2"
  },
  "language_info": {
   "codemirror_mode": {
    "name": "ipython",
    "version": 2
   },
   "file_extension": ".py",
   "mimetype": "text/x-python",
   "name": "python",
   "nbconvert_exporter": "python",
   "pygments_lexer": "ipython2",
   "version": "2.7.13"
  },
  "widgets": {
   "application/vnd.jupyter.widget-state+json": {
    "state": {
     "24f0c4b326ff495597661be103b0bd09": {
      "model_module": "jupyter-js-widgets",
      "model_module_version": "~2.1.4",
      "model_name": "LayoutModel",
      "state": {
       "_model_module_version": "~2.1.4",
       "_view_module_version": "~2.1.4"
      }
     },
     "2cf3e08656ce41afbbce1a0e6568b172": {
      "model_module": "jupyter-js-widgets",
      "model_module_version": "~2.1.4",
      "model_name": "ProgressModel",
      "state": {
       "_model_module_version": "~2.1.4",
       "_view_module_version": "~2.1.4",
       "layout": "IPY_MODEL_91a95c323d0243ae9f8fb9fd193114d9",
       "step": 0.1
      }
     },
     "2e282448c4d941148428643b2f5c3092": {
      "model_module": "jupyter-js-widgets",
      "model_module_version": "~2.1.4",
      "model_name": "LayoutModel",
      "state": {
       "_model_module_version": "~2.1.4",
       "_view_module_version": "~2.1.4"
      }
     },
     "5b53436ee4c54e59b282b7a7d32334a3": {
      "model_module": "jupyter-js-widgets",
      "model_module_version": "~2.1.4",
      "model_name": "ProgressModel",
      "state": {
       "_model_module_version": "~2.1.4",
       "_view_module_version": "~2.1.4",
       "layout": "IPY_MODEL_610ff8ce5ac2484fbe0ab4787ec670dc",
       "step": 0.1
      }
     },
     "610ff8ce5ac2484fbe0ab4787ec670dc": {
      "model_module": "jupyter-js-widgets",
      "model_module_version": "~2.1.4",
      "model_name": "LayoutModel",
      "state": {
       "_model_module_version": "~2.1.4",
       "_view_module_version": "~2.1.4"
      }
     },
     "6b0add77c40843f48fb733e040f8d9ad": {
      "model_module": "jupyter-js-widgets",
      "model_module_version": "~2.1.4",
      "model_name": "ProgressModel",
      "state": {
       "_model_module_version": "~2.1.4",
       "_view_module_version": "~2.1.4",
       "layout": "IPY_MODEL_2e282448c4d941148428643b2f5c3092",
       "step": 0.1
      }
     },
     "86553963c013439ba432c67647efdda5": {
      "model_module": "jupyter-js-widgets",
      "model_module_version": "~2.1.4",
      "model_name": "LayoutModel",
      "state": {
       "_model_module_version": "~2.1.4",
       "_view_module_version": "~2.1.4"
      }
     },
     "91a95c323d0243ae9f8fb9fd193114d9": {
      "model_module": "jupyter-js-widgets",
      "model_module_version": "~2.1.4",
      "model_name": "LayoutModel",
      "state": {
       "_model_module_version": "~2.1.4",
       "_view_module_version": "~2.1.4"
      }
     },
     "99e71582922c43ce8d5fb0fe5fd9e76d": {
      "model_module": "jupyter-js-widgets",
      "model_module_version": "~2.1.4",
      "model_name": "ProgressModel",
      "state": {
       "_model_module_version": "~2.1.4",
       "_view_module_version": "~2.1.4",
       "layout": "IPY_MODEL_24f0c4b326ff495597661be103b0bd09",
       "step": 0.1
      }
     },
     "b9ccdbc7843b47e7a3f3cc8cbf0a8e92": {
      "model_module": "jupyter-js-widgets",
      "model_module_version": "~2.1.4",
      "model_name": "ProgressStyleModel",
      "state": {
       "_model_module_version": "~2.1.4",
       "_view_module_version": "~2.1.4"
      }
     },
     "dd6fcfc83c2941479a55b317aa396d0d": {
      "model_module": "jupyter-js-widgets",
      "model_module_version": "~2.1.4",
      "model_name": "ProgressModel",
      "state": {
       "_model_module_version": "~2.1.4",
       "_view_module_version": "~2.1.4",
       "layout": "IPY_MODEL_86553963c013439ba432c67647efdda5",
       "step": 0.1
      }
     },
     "ecf7914cd5ac42f69208a93d63eb9907": {
      "model_module": "jupyter-js-widgets",
      "model_module_version": "~2.1.4",
      "model_name": "ProgressModel",
      "state": {
       "_model_module_version": "~2.1.4",
       "_view_module_version": "~2.1.4",
       "description": "Loading:",
       "layout": "IPY_MODEL_fdd5c4dc5b3c43bd8de74381c0a5f7fc",
       "max": 10,
       "style": "IPY_MODEL_b9ccdbc7843b47e7a3f3cc8cbf0a8e92",
       "value": 7
      }
     },
     "fdd5c4dc5b3c43bd8de74381c0a5f7fc": {
      "model_module": "jupyter-js-widgets",
      "model_module_version": "~2.1.4",
      "model_name": "LayoutModel",
      "state": {
       "_model_module_version": "~2.1.4",
       "_view_module_version": "~2.1.4"
      }
     }
    },
    "version_major": 1,
    "version_minor": 0
   }
  }
 },
 "nbformat": 4,
 "nbformat_minor": 2
}
