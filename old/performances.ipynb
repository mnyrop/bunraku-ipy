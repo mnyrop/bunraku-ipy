{
 "cells": [
  {
   "cell_type": "code",
   "execution_count": 1,
   "metadata": {
    "collapsed": true
   },
   "outputs": [],
   "source": [
    "import pandas as pd"
   ]
  },
  {
   "cell_type": "code",
   "execution_count": 2,
   "metadata": {
    "collapsed": true
   },
   "outputs": [],
   "source": [
    "# read csvs as data frames\n",
    "# cast as string to avoid float/NaN errors\n",
    "\n",
    "performances = pd.read_csv('in/performances.csv', dtype=object)\n",
    "performances_images = pd.read_csv('in/performances_images.csv', dtype=object)\n",
    "performance_scenes = pd.read_csv('in/scenesproductions.csv', dtype=object)\n",
    "plays_characters = pd.read_csv('in/characters_plays.csv', dtype=object)\n",
    "productions = pd.read_csv('in/productions.csv', dtype=object)\n",
    "plays = pd.read_csv('in/plays.csv', dtype=object)\n",
    "imagesonline = pd.read_csv('in/imagesonline.csv', dtype=object)"
   ]
  },
  {
   "cell_type": "code",
   "execution_count": 3,
   "metadata": {
    "collapsed": true
   },
   "outputs": [],
   "source": [
    "# mild clean-up/renaming\n",
    "performances =  performances.drop('data_id',1).drop('code',1).rename(columns = {'id':'performance_id'})\n",
    "\n",
    "performances_images = performances_images.rename(columns = {'visual_id':'image_id'})\n",
    "\n",
    "performance_scenes = performance_scenes.replace({r'\\n': ''}, regex=True)\n",
    "performance_scenes = performance_scenes.rename(columns = {'id':'performance_scene_id','perf_id':'performance_id'})\n",
    "performance_scenes = performance_scenes.drop('play_id',1).drop('prod_id',1).drop('scene_id',1).drop('spuck_note',1).drop('tayu_shamisen_note',1)\n",
    "\n",
    "plays = plays[['id','label_eng']]\n",
    "plays = plays.rename(columns = {'id':'play_id','label_eng':'play_label'})\n",
    "                     \n",
    "productions = productions[['id','label','seq_chron']]\n",
    "productions = productions.rename(columns = {'id':'production_id','label':'prod_label'})\n",
    "\n",
    "imagesonline = imagesonline.rename(columns = {'id':'image_id'})"
   ]
  },
  {
   "cell_type": "code",
   "execution_count": 4,
   "metadata": {},
   "outputs": [
    {
     "data": {
      "text/html": [
       "<div>\n",
       "<style>\n",
       "    .dataframe thead tr:only-child th {\n",
       "        text-align: right;\n",
       "    }\n",
       "\n",
       "    .dataframe thead th {\n",
       "        text-align: left;\n",
       "    }\n",
       "\n",
       "    .dataframe tbody tr th {\n",
       "        vertical-align: top;\n",
       "    }\n",
       "</style>\n",
       "<table border=\"1\" class=\"dataframe\">\n",
       "  <thead>\n",
       "    <tr style=\"text-align: right;\">\n",
       "      <th></th>\n",
       "      <th>performance_id</th>\n",
       "      <th>image_id</th>\n",
       "    </tr>\n",
       "  </thead>\n",
       "  <tbody>\n",
       "    <tr>\n",
       "      <th>0</th>\n",
       "      <td>310</td>\n",
       "      <td>8281</td>\n",
       "    </tr>\n",
       "    <tr>\n",
       "      <th>1</th>\n",
       "      <td>310</td>\n",
       "      <td>8282</td>\n",
       "    </tr>\n",
       "    <tr>\n",
       "      <th>2</th>\n",
       "      <td>310</td>\n",
       "      <td>8283</td>\n",
       "    </tr>\n",
       "    <tr>\n",
       "      <th>3</th>\n",
       "      <td>310</td>\n",
       "      <td>8284</td>\n",
       "    </tr>\n",
       "    <tr>\n",
       "      <th>4</th>\n",
       "      <td>310</td>\n",
       "      <td>8285</td>\n",
       "    </tr>\n",
       "  </tbody>\n",
       "</table>\n",
       "</div>"
      ],
      "text/plain": [
       "  performance_id image_id\n",
       "0            310     8281\n",
       "1            310     8282\n",
       "2            310     8283\n",
       "3            310     8284\n",
       "4            310     8285"
      ]
     },
     "execution_count": 4,
     "metadata": {},
     "output_type": "execute_result"
    }
   ],
   "source": [
    "performances_images.head()"
   ]
  },
  {
   "cell_type": "code",
   "execution_count": 5,
   "metadata": {},
   "outputs": [],
   "source": [
    "# clean out non-online images\n",
    "imagesonline = imagesonline[['image_id']]\n",
    "performances_images = pd.merge(performances_images, imagesonline, on='image_id', how='inner')"
   ]
  },
  {
   "cell_type": "code",
   "execution_count": 7,
   "metadata": {
    "collapsed": true
   },
   "outputs": [],
   "source": [
    "# multiValDataFrame takes a dataframe df, column name df_index and column name multival_key\n",
    "# it merges records with the same df_index and updates multival_index to an array of all the multival_index values.\n",
    "# E.g for a data frame plays with multiple character_id values per play_id, returns a data frame with one record \n",
    "# per play_id, and one array of character_ids per play.\n",
    "\n",
    "def multiValDataFrame(df, df_index, multival_key):\n",
    "    new_df = pd.DataFrame({})\n",
    "    cols = df.columns\n",
    "    id_list = df[df_index].unique()\n",
    "    for i in id_list:\n",
    "        temp_row = df.loc[df[df_index] == i ]\n",
    "        vals = []\n",
    "        for col in cols:\n",
    "            vals.append(temp_row[:1][col].values[0])\n",
    "\n",
    "        temp_dict = dict(zip(cols, vals))\n",
    "        multi_id_list = list(temp_row[multival_key])\n",
    "    \n",
    "        temp_dict[multival_key] = multi_id_list\n",
    "    \n",
    "        new_df = new_df.append(temp_dict, ignore_index=True)\n",
    "    return new_df"
   ]
  },
  {
   "cell_type": "code",
   "execution_count": 8,
   "metadata": {
    "collapsed": true
   },
   "outputs": [],
   "source": [
    "# merge and multival images\n",
    "performances = pd.merge(performances, performances_images, on='performance_id', how='left')\n",
    "performances = multiValDataFrame(performances, 'performance_id', 'image_id')"
   ]
  },
  {
   "cell_type": "code",
   "execution_count": 9,
   "metadata": {
    "collapsed": true
   },
   "outputs": [],
   "source": [
    "# merge and multival performance_scenes\n",
    "performances = pd.merge(performances, performance_scenes, on='performance_id', how='left')\n",
    "performances = multiValDataFrame(performances, 'performance_id', 'performance_scene_id')"
   ]
  },
  {
   "cell_type": "code",
   "execution_count": 10,
   "metadata": {
    "collapsed": true
   },
   "outputs": [],
   "source": [
    "# merge and multival characters from play_id\n",
    "performances = pd.merge(performances, plays_characters, on='play_id', how='left')\n",
    "performances = multiValDataFrame(performances, 'performance_id', 'character_id')"
   ]
  },
  {
   "cell_type": "code",
   "execution_count": 11,
   "metadata": {},
   "outputs": [
    {
     "data": {
      "text/html": [
       "<div>\n",
       "<style>\n",
       "    .dataframe thead tr:only-child th {\n",
       "        text-align: right;\n",
       "    }\n",
       "\n",
       "    .dataframe thead th {\n",
       "        text-align: left;\n",
       "    }\n",
       "\n",
       "    .dataframe tbody tr th {\n",
       "        vertical-align: top;\n",
       "    }\n",
       "</style>\n",
       "<table border=\"1\" class=\"dataframe\">\n",
       "  <thead>\n",
       "    <tr style=\"text-align: right;\">\n",
       "      <th></th>\n",
       "      <th>character_id</th>\n",
       "      <th>image_id</th>\n",
       "      <th>performance_id</th>\n",
       "      <th>performance_scene_id</th>\n",
       "      <th>play_id</th>\n",
       "      <th>production_id</th>\n",
       "      <th>play_label</th>\n",
       "      <th>prod_label</th>\n",
       "      <th>seq_chron</th>\n",
       "    </tr>\n",
       "  </thead>\n",
       "  <tbody>\n",
       "    <tr>\n",
       "      <th>0</th>\n",
       "      <td>[675, 676, 677, 678, 679, 680, 681, 682, 683, ...</td>\n",
       "      <td>[nan]</td>\n",
       "      <td>1</td>\n",
       "      <td>[1438, 1439, 1440, 1441, 1442, 1443, 1444, 144...</td>\n",
       "      <td>63</td>\n",
       "      <td>142</td>\n",
       "      <td>The League of the 47 Ronin</td>\n",
       "      <td>January 1985</td>\n",
       "      <td>150</td>\n",
       "    </tr>\n",
       "    <tr>\n",
       "      <th>1</th>\n",
       "      <td>[nan]</td>\n",
       "      <td>[nan]</td>\n",
       "      <td>2</td>\n",
       "      <td>[1, 2]</td>\n",
       "      <td>86</td>\n",
       "      <td>1</td>\n",
       "      <td>More Worthy than Revenge</td>\n",
       "      <td>November 1964</td>\n",
       "      <td>001</td>\n",
       "    </tr>\n",
       "    <tr>\n",
       "      <th>2</th>\n",
       "      <td>[538, 539, 540, 541, 542, 543, 544, 545, 546, ...</td>\n",
       "      <td>[nan]</td>\n",
       "      <td>3</td>\n",
       "      <td>[3, 4]</td>\n",
       "      <td>29</td>\n",
       "      <td>1</td>\n",
       "      <td>The Vendetta in Iga</td>\n",
       "      <td>November 1964</td>\n",
       "      <td>001</td>\n",
       "    </tr>\n",
       "    <tr>\n",
       "      <th>3</th>\n",
       "      <td>[1011, 1012, 1013, 1014]</td>\n",
       "      <td>[nan]</td>\n",
       "      <td>4</td>\n",
       "      <td>[5]</td>\n",
       "      <td>47</td>\n",
       "      <td>1</td>\n",
       "      <td>The Maple Viewing Party</td>\n",
       "      <td>November 1964</td>\n",
       "      <td>001</td>\n",
       "    </tr>\n",
       "    <tr>\n",
       "      <th>4</th>\n",
       "      <td>[175, 176, 177, 178, 179, 180, 181, 182, 183, ...</td>\n",
       "      <td>[nan]</td>\n",
       "      <td>5</td>\n",
       "      <td>[6]</td>\n",
       "      <td>18</td>\n",
       "      <td>1</td>\n",
       "      <td>The Two Butterflies</td>\n",
       "      <td>November 1964</td>\n",
       "      <td>001</td>\n",
       "    </tr>\n",
       "  </tbody>\n",
       "</table>\n",
       "</div>"
      ],
      "text/plain": [
       "                                        character_id image_id performance_id  \\\n",
       "0  [675, 676, 677, 678, 679, 680, 681, 682, 683, ...    [nan]              1   \n",
       "1                                              [nan]    [nan]              2   \n",
       "2  [538, 539, 540, 541, 542, 543, 544, 545, 546, ...    [nan]              3   \n",
       "3                           [1011, 1012, 1013, 1014]    [nan]              4   \n",
       "4  [175, 176, 177, 178, 179, 180, 181, 182, 183, ...    [nan]              5   \n",
       "\n",
       "                                performance_scene_id play_id production_id  \\\n",
       "0  [1438, 1439, 1440, 1441, 1442, 1443, 1444, 144...      63           142   \n",
       "1                                             [1, 2]      86             1   \n",
       "2                                             [3, 4]      29             1   \n",
       "3                                                [5]      47             1   \n",
       "4                                                [6]      18             1   \n",
       "\n",
       "                   play_label     prod_label seq_chron  \n",
       "0  The League of the 47 Ronin   January 1985       150  \n",
       "1    More Worthy than Revenge  November 1964       001  \n",
       "2         The Vendetta in Iga  November 1964       001  \n",
       "3     The Maple Viewing Party  November 1964       001  \n",
       "4         The Two Butterflies  November 1964       001  "
      ]
     },
     "execution_count": 11,
     "metadata": {},
     "output_type": "execute_result"
    }
   ],
   "source": [
    "# merge labels from productions and plays into one performance label\n",
    "performances = pd.merge(performances, plays, on='play_id', how='left')\n",
    "performances = pd.merge(performances, productions, on='production_id', how='left')\n",
    "performances.head()"
   ]
  },
  {
   "cell_type": "code",
   "execution_count": 12,
   "metadata": {
    "collapsed": true
   },
   "outputs": [],
   "source": [
    "performances['play_label'] = performances['prod_label'].str.cat(performances['play_label'], sep=': ')\n",
    "performances = performances.rename(columns = {'play_label':'label_eng'}).drop('prod_label',1)"
   ]
  },
  {
   "cell_type": "code",
   "execution_count": 13,
   "metadata": {
    "collapsed": true
   },
   "outputs": [],
   "source": [
    "# mild clean-up / re-ordering\n",
    "performances = performances.rename(columns = {'performance_id':'id','performance_scene_id':'pscene_id'})\n",
    "performances = performances[['id','play_id','production_id','pscene_id','character_id','image_id','label_eng','seq_chron']]"
   ]
  },
  {
   "cell_type": "code",
   "execution_count": 14,
   "metadata": {},
   "outputs": [
    {
     "data": {
      "text/html": [
       "<div>\n",
       "<style>\n",
       "    .dataframe thead tr:only-child th {\n",
       "        text-align: right;\n",
       "    }\n",
       "\n",
       "    .dataframe thead th {\n",
       "        text-align: left;\n",
       "    }\n",
       "\n",
       "    .dataframe tbody tr th {\n",
       "        vertical-align: top;\n",
       "    }\n",
       "</style>\n",
       "<table border=\"1\" class=\"dataframe\">\n",
       "  <thead>\n",
       "    <tr style=\"text-align: right;\">\n",
       "      <th></th>\n",
       "      <th>id</th>\n",
       "      <th>play_id</th>\n",
       "      <th>production_id</th>\n",
       "      <th>pscene_id</th>\n",
       "      <th>character_id</th>\n",
       "      <th>image_id</th>\n",
       "      <th>label_eng</th>\n",
       "      <th>seq_chron</th>\n",
       "    </tr>\n",
       "  </thead>\n",
       "  <tbody>\n",
       "    <tr>\n",
       "      <th>0</th>\n",
       "      <td>1</td>\n",
       "      <td>63</td>\n",
       "      <td>142</td>\n",
       "      <td>[1438, 1439, 1440, 1441, 1442, 1443, 1444, 144...</td>\n",
       "      <td>[675, 676, 677, 678, 679, 680, 681, 682, 683, ...</td>\n",
       "      <td>[nan]</td>\n",
       "      <td>January 1985: The League of the 47 Ronin</td>\n",
       "      <td>150</td>\n",
       "    </tr>\n",
       "    <tr>\n",
       "      <th>1</th>\n",
       "      <td>2</td>\n",
       "      <td>86</td>\n",
       "      <td>1</td>\n",
       "      <td>[1, 2]</td>\n",
       "      <td>[nan]</td>\n",
       "      <td>[nan]</td>\n",
       "      <td>November 1964: More Worthy than Revenge</td>\n",
       "      <td>001</td>\n",
       "    </tr>\n",
       "    <tr>\n",
       "      <th>2</th>\n",
       "      <td>3</td>\n",
       "      <td>29</td>\n",
       "      <td>1</td>\n",
       "      <td>[3, 4]</td>\n",
       "      <td>[538, 539, 540, 541, 542, 543, 544, 545, 546, ...</td>\n",
       "      <td>[nan]</td>\n",
       "      <td>November 1964: The Vendetta in Iga</td>\n",
       "      <td>001</td>\n",
       "    </tr>\n",
       "    <tr>\n",
       "      <th>3</th>\n",
       "      <td>4</td>\n",
       "      <td>47</td>\n",
       "      <td>1</td>\n",
       "      <td>[5]</td>\n",
       "      <td>[1011, 1012, 1013, 1014]</td>\n",
       "      <td>[nan]</td>\n",
       "      <td>November 1964: The Maple Viewing Party</td>\n",
       "      <td>001</td>\n",
       "    </tr>\n",
       "    <tr>\n",
       "      <th>4</th>\n",
       "      <td>5</td>\n",
       "      <td>18</td>\n",
       "      <td>1</td>\n",
       "      <td>[6]</td>\n",
       "      <td>[175, 176, 177, 178, 179, 180, 181, 182, 183, ...</td>\n",
       "      <td>[nan]</td>\n",
       "      <td>November 1964: The Two Butterflies</td>\n",
       "      <td>001</td>\n",
       "    </tr>\n",
       "  </tbody>\n",
       "</table>\n",
       "</div>"
      ],
      "text/plain": [
       "  id play_id production_id                                          pscene_id  \\\n",
       "0  1      63           142  [1438, 1439, 1440, 1441, 1442, 1443, 1444, 144...   \n",
       "1  2      86             1                                             [1, 2]   \n",
       "2  3      29             1                                             [3, 4]   \n",
       "3  4      47             1                                                [5]   \n",
       "4  5      18             1                                                [6]   \n",
       "\n",
       "                                        character_id image_id  \\\n",
       "0  [675, 676, 677, 678, 679, 680, 681, 682, 683, ...    [nan]   \n",
       "1                                              [nan]    [nan]   \n",
       "2  [538, 539, 540, 541, 542, 543, 544, 545, 546, ...    [nan]   \n",
       "3                           [1011, 1012, 1013, 1014]    [nan]   \n",
       "4  [175, 176, 177, 178, 179, 180, 181, 182, 183, ...    [nan]   \n",
       "\n",
       "                                  label_eng seq_chron  \n",
       "0  January 1985: The League of the 47 Ronin       150  \n",
       "1   November 1964: More Worthy than Revenge       001  \n",
       "2        November 1964: The Vendetta in Iga       001  \n",
       "3    November 1964: The Maple Viewing Party       001  \n",
       "4        November 1964: The Two Butterflies       001  "
      ]
     },
     "execution_count": 14,
     "metadata": {},
     "output_type": "execute_result"
    }
   ],
   "source": [
    "performances.head()"
   ]
  },
  {
   "cell_type": "code",
   "execution_count": 15,
   "metadata": {
    "collapsed": true
   },
   "outputs": [],
   "source": [
    "# export to csv\n",
    "performances.to_csv('performances_exp.csv', encoding='utf8', index=False)"
   ]
  },
  {
   "cell_type": "code",
   "execution_count": 16,
   "metadata": {
    "collapsed": true
   },
   "outputs": [],
   "source": [
    "# export to json\n",
    "performances.to_json('performances_exp.json', orient='records', force_ascii=False)"
   ]
  },
  {
   "cell_type": "code",
   "execution_count": null,
   "metadata": {
    "collapsed": true
   },
   "outputs": [],
   "source": []
  }
 ],
 "metadata": {
  "kernelspec": {
   "display_name": "Python 2",
   "language": "python",
   "name": "python2"
  },
  "language_info": {
   "codemirror_mode": {
    "name": "ipython",
    "version": 2
   },
   "file_extension": ".py",
   "mimetype": "text/x-python",
   "name": "python",
   "nbconvert_exporter": "python",
   "pygments_lexer": "ipython2",
   "version": "2.7.13"
  }
 },
 "nbformat": 4,
 "nbformat_minor": 2
}
