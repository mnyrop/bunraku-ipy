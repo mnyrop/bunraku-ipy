{
 "cells": [
  {
   "cell_type": "code",
   "execution_count": 1,
   "metadata": {
    "collapsed": true
   },
   "outputs": [],
   "source": [
    "import pandas as pd"
   ]
  },
  {
   "cell_type": "code",
   "execution_count": 2,
   "metadata": {
    "collapsed": true
   },
   "outputs": [],
   "source": [
    "# read csvs as data frames\n",
    "# cast as string to avoid float/NaN errors\n",
    "\n",
    "performers = pd.read_csv('in/performers.csv', dtype=object)\n",
    "performers_images = pd.read_csv('in/performers_images.csv', dtype=object)\n",
    "imagesonline = pd.read_csv('in/imagesonline.csv', dtype=object)\n",
    "shamisenplayers = pd.read_csv('in/sceneshamisens.csv', dtype=object)\n",
    "musicians = pd.read_csv('in/scenekotokokyus.csv', dtype=object)\n",
    "narrators = pd.read_csv('in/scenetayus.csv', dtype=object)\n",
    "spucks = pd.read_csv('in/spucks.csv', dtype=object)\n",
    "pscenes = pd.read_csv('in/pscenes.csv', dtype=object)"
   ]
  },
  {
   "cell_type": "code",
   "execution_count": 3,
   "metadata": {},
   "outputs": [
    {
     "data": {
      "text/html": [
       "<div>\n",
       "<style>\n",
       "    .dataframe thead tr:only-child th {\n",
       "        text-align: right;\n",
       "    }\n",
       "\n",
       "    .dataframe thead th {\n",
       "        text-align: left;\n",
       "    }\n",
       "\n",
       "    .dataframe tbody tr th {\n",
       "        vertical-align: top;\n",
       "    }\n",
       "</style>\n",
       "<table border=\"1\" class=\"dataframe\">\n",
       "  <thead>\n",
       "    <tr style=\"text-align: right;\">\n",
       "      <th></th>\n",
       "      <th>performer_id</th>\n",
       "      <th>name_proper</th>\n",
       "      <th>alt_name</th>\n",
       "      <th>name_ka</th>\n",
       "      <th>alt_name_ka</th>\n",
       "      <th>specialty</th>\n",
       "      <th>dates</th>\n",
       "      <th>notes</th>\n",
       "    </tr>\n",
       "  </thead>\n",
       "  <tbody>\n",
       "    <tr>\n",
       "      <th>0</th>\n",
       "      <td>1</td>\n",
       "      <td>Takemoto Datejidayū (see also Takemoto Datetay...</td>\n",
       "      <td>Takemoto Datetayū V</td>\n",
       "      <td>竹本伊達路大夫</td>\n",
       "      <td>竹本伊達大夫 (五)</td>\n",
       "      <td>Tayu</td>\n",
       "      <td>'1950-1988/04'</td>\n",
       "      <td>Bunraku meikan (1980, 1985, 1988, 1990, 1994)</td>\n",
       "    </tr>\n",
       "    <tr>\n",
       "      <th>1</th>\n",
       "      <td>2</td>\n",
       "      <td>Takemoto Tsudayū IV</td>\n",
       "      <td>NaN</td>\n",
       "      <td>竹本津大夫 (四)</td>\n",
       "      <td>NaN</td>\n",
       "      <td>Tayu</td>\n",
       "      <td>'1950-'</td>\n",
       "      <td>[Living National Treasure]; Bunraku meikan (19...</td>\n",
       "    </tr>\n",
       "    <tr>\n",
       "      <th>2</th>\n",
       "      <td>3</td>\n",
       "      <td>Tsuruzawa Kanotarō</td>\n",
       "      <td>NaN</td>\n",
       "      <td>鶴澤叶太郎</td>\n",
       "      <td>NaN</td>\n",
       "      <td>Shamisen</td>\n",
       "      <td>'1913-'</td>\n",
       "      <td>Bunraku meikan (1980, 1985, 1988, 1990, 1994)</td>\n",
       "    </tr>\n",
       "    <tr>\n",
       "      <th>3</th>\n",
       "      <td>4</td>\n",
       "      <td>Takezawa Danshichi (see also Takezawa Danjirō IV)</td>\n",
       "      <td>Takezawa Danjirō IV</td>\n",
       "      <td>竹澤団七</td>\n",
       "      <td>竹澤団二郎 (四)</td>\n",
       "      <td>Shamisen</td>\n",
       "      <td>'1981/04-'</td>\n",
       "      <td>Bunraku meikan (1980, 1985, 1988, 1990, 1994)</td>\n",
       "    </tr>\n",
       "    <tr>\n",
       "      <th>4</th>\n",
       "      <td>5</td>\n",
       "      <td>Toyotake Matsukadayū</td>\n",
       "      <td>NaN</td>\n",
       "      <td>豊竹松香大夫</td>\n",
       "      <td>NaN</td>\n",
       "      <td>Tayu</td>\n",
       "      <td>'1959-'</td>\n",
       "      <td>Bunraku meikan (1980, 1985, 1988, 1990, 1994)</td>\n",
       "    </tr>\n",
       "  </tbody>\n",
       "</table>\n",
       "</div>"
      ],
      "text/plain": [
       "  performer_id                                        name_proper  \\\n",
       "0            1  Takemoto Datejidayū (see also Takemoto Datetay...   \n",
       "1            2                                Takemoto Tsudayū IV   \n",
       "2            3                                 Tsuruzawa Kanotarō   \n",
       "3            4  Takezawa Danshichi (see also Takezawa Danjirō IV)   \n",
       "4            5                               Toyotake Matsukadayū   \n",
       "\n",
       "              alt_name    name_ka alt_name_ka specialty           dates  \\\n",
       "0  Takemoto Datetayū V    竹本伊達路大夫  竹本伊達大夫 (五)      Tayu  '1950-1988/04'   \n",
       "1                  NaN  竹本津大夫 (四)         NaN      Tayu         '1950-'   \n",
       "2                  NaN      鶴澤叶太郎         NaN  Shamisen         '1913-'   \n",
       "3  Takezawa Danjirō IV       竹澤団七   竹澤団二郎 (四)  Shamisen      '1981/04-'   \n",
       "4                  NaN     豊竹松香大夫         NaN      Tayu         '1959-'   \n",
       "\n",
       "                                               notes  \n",
       "0      Bunraku meikan (1980, 1985, 1988, 1990, 1994)  \n",
       "1  [Living National Treasure]; Bunraku meikan (19...  \n",
       "2      Bunraku meikan (1980, 1985, 1988, 1990, 1994)  \n",
       "3      Bunraku meikan (1980, 1985, 1988, 1990, 1994)  \n",
       "4      Bunraku meikan (1980, 1985, 1988, 1990, 1994)  "
      ]
     },
     "execution_count": 3,
     "metadata": {},
     "output_type": "execute_result"
    }
   ],
   "source": [
    "performers = performers.rename(columns = {'id':'performer_id','name_kanji':'name_ka','alt_name_kanji':'alt_name_ka'})\n",
    "performers = performers[['performer_id','name_proper','alt_name','name_ka','alt_name_ka','specialty','dates','notes']]\n",
    "performers.head()"
   ]
  },
  {
   "cell_type": "code",
   "execution_count": 4,
   "metadata": {
    "collapsed": true
   },
   "outputs": [],
   "source": [
    "# clean out non-online images\n",
    "imagesonline = imagesonline.rename(columns = {'id':'image_id'})\n",
    "performers_images = performers_images.rename(columns = {'visual_id':'image_id'})\n",
    "imagesonline = imagesonline[['image_id']]\n",
    "performers_images = pd.merge(performers_images, imagesonline, on='image_id', how='inner')"
   ]
  },
  {
   "cell_type": "code",
   "execution_count": 5,
   "metadata": {},
   "outputs": [
    {
     "data": {
      "text/html": [
       "<div>\n",
       "<style>\n",
       "    .dataframe thead tr:only-child th {\n",
       "        text-align: right;\n",
       "    }\n",
       "\n",
       "    .dataframe thead th {\n",
       "        text-align: left;\n",
       "    }\n",
       "\n",
       "    .dataframe tbody tr th {\n",
       "        vertical-align: top;\n",
       "    }\n",
       "</style>\n",
       "<table border=\"1\" class=\"dataframe\">\n",
       "  <thead>\n",
       "    <tr style=\"text-align: right;\">\n",
       "      <th></th>\n",
       "      <th>pscene_id</th>\n",
       "      <th>perf_id</th>\n",
       "    </tr>\n",
       "  </thead>\n",
       "  <tbody>\n",
       "    <tr>\n",
       "      <th>0</th>\n",
       "      <td>1</td>\n",
       "      <td>2</td>\n",
       "    </tr>\n",
       "    <tr>\n",
       "      <th>1</th>\n",
       "      <td>2</td>\n",
       "      <td>2</td>\n",
       "    </tr>\n",
       "    <tr>\n",
       "      <th>2</th>\n",
       "      <td>3</td>\n",
       "      <td>3</td>\n",
       "    </tr>\n",
       "    <tr>\n",
       "      <th>3</th>\n",
       "      <td>4</td>\n",
       "      <td>3</td>\n",
       "    </tr>\n",
       "    <tr>\n",
       "      <th>4</th>\n",
       "      <td>5</td>\n",
       "      <td>4</td>\n",
       "    </tr>\n",
       "  </tbody>\n",
       "</table>\n",
       "</div>"
      ],
      "text/plain": [
       "  pscene_id perf_id\n",
       "0         1       2\n",
       "1         2       2\n",
       "2         3       3\n",
       "3         4       3\n",
       "4         5       4"
      ]
     },
     "execution_count": 5,
     "metadata": {},
     "output_type": "execute_result"
    }
   ],
   "source": [
    "# make pscene > performance join table\n",
    "pscenes = pscenes[['id','perf_id']]\n",
    "pscenes = pscenes.rename(columns = {'id':'pscene_id'})"
   ]
  },
  {
   "cell_type": "code",
   "execution_count": 9,
   "metadata": {},
   "outputs": [
    {
     "data": {
      "text/html": [
       "<div>\n",
       "<style>\n",
       "    .dataframe thead tr:only-child th {\n",
       "        text-align: right;\n",
       "    }\n",
       "\n",
       "    .dataframe thead th {\n",
       "        text-align: left;\n",
       "    }\n",
       "\n",
       "    .dataframe tbody tr th {\n",
       "        vertical-align: top;\n",
       "    }\n",
       "</style>\n",
       "<table border=\"1\" class=\"dataframe\">\n",
       "  <thead>\n",
       "    <tr style=\"text-align: right;\">\n",
       "      <th></th>\n",
       "      <th>pscene_id</th>\n",
       "      <th>perf_id</th>\n",
       "    </tr>\n",
       "  </thead>\n",
       "  <tbody>\n",
       "    <tr>\n",
       "      <th>0</th>\n",
       "      <td>1</td>\n",
       "      <td>2</td>\n",
       "    </tr>\n",
       "    <tr>\n",
       "      <th>1</th>\n",
       "      <td>2</td>\n",
       "      <td>2</td>\n",
       "    </tr>\n",
       "    <tr>\n",
       "      <th>2</th>\n",
       "      <td>3</td>\n",
       "      <td>3</td>\n",
       "    </tr>\n",
       "    <tr>\n",
       "      <th>3</th>\n",
       "      <td>4</td>\n",
       "      <td>3</td>\n",
       "    </tr>\n",
       "    <tr>\n",
       "      <th>4</th>\n",
       "      <td>5</td>\n",
       "      <td>4</td>\n",
       "    </tr>\n",
       "  </tbody>\n",
       "</table>\n",
       "</div>"
      ],
      "text/plain": [
       "  pscene_id perf_id\n",
       "0         1       2\n",
       "1         2       2\n",
       "2         3       3\n",
       "3         4       3\n",
       "4         5       4"
      ]
     },
     "execution_count": 9,
     "metadata": {},
     "output_type": "execute_result"
    }
   ],
   "source": [
    "pscenes.drop_duplicates(keep='first', inplace=True)\n",
    "pscenes.head()"
   ]
  },
  {
   "cell_type": "code",
   "execution_count": 10,
   "metadata": {
    "collapsed": true
   },
   "outputs": [],
   "source": [
    "# multiValDataFrame takes a dataframe df, column name df_index and column name multival_key\n",
    "# it merges records with the same df_index and updates multival_index to an array of all the multival_index values.\n",
    "# E.g for a data frame plays with multiple character_id values per play_id, returns a data frame with one record \n",
    "# per play_id, and one array of character_ids per play.\n",
    "\n",
    "def multiValDataFrame(df, df_index, multival_key):\n",
    "    new_df = pd.DataFrame({})\n",
    "    cols = df.columns\n",
    "    id_list = df[df_index].unique()\n",
    "    for i in id_list:\n",
    "        temp_row = df.loc[df[df_index] == i ]\n",
    "        vals = []\n",
    "        for col in cols:\n",
    "            vals.append(temp_row[:1][col].values[0])\n",
    "\n",
    "        temp_dict = dict(zip(cols, vals))\n",
    "        multi_id_list = list(temp_row[multival_key])\n",
    "    \n",
    "        temp_dict[multival_key] = multi_id_list\n",
    "    \n",
    "        new_df = new_df.append(temp_dict, ignore_index=True)\n",
    "    return new_df"
   ]
  },
  {
   "cell_type": "code",
   "execution_count": 11,
   "metadata": {
    "collapsed": true
   },
   "outputs": [],
   "source": [
    "performers = pd.merge(performers, performers_images, on='performer_id', how='left')\n",
    "performers = multiValDataFrame(performers, 'performer_id', 'image_id')"
   ]
  },
  {
   "cell_type": "code",
   "execution_count": 12,
   "metadata": {
    "collapsed": true
   },
   "outputs": [],
   "source": [
    "shamisenplayers = shamisenplayers[['sceneproduction_id','shamisen_id']]\n",
    "shamisenplayers = shamisenplayers.rename(columns = {'shamisen_id':'performer_id','sceneproduction_id':'pscene_id'})\n",
    "shamisenplayers = pd.merge(shamisenplayers, pscenes, on='pscene_id', how='left').drop('pscene_id',1)\n",
    "shamisenplayers = shamisenplayers.rename(columns = {'perf_id':'shamisen_perf_id'})\n",
    "performers = pd.merge(performers, shamisenplayers, on='performer_id', how='left')\n",
    "performers = multiValDataFrame(performers, 'performer_id', 'shamisen_perf_id')"
   ]
  },
  {
   "cell_type": "code",
   "execution_count": 13,
   "metadata": {
    "collapsed": true
   },
   "outputs": [],
   "source": [
    "musicians = musicians[['sceneproduction_id','kotokokyu_id']]\n",
    "musicians = musicians.rename(columns = {'kotokokyu_id':'performer_id','sceneproduction_id':'pscene_id'})\n",
    "musicians = pd.merge(musicians, pscenes, on='pscene_id', how='left').drop('pscene_id',1)\n",
    "musicians = musicians.rename(columns = {'perf_id':'musician_perf_id'})\n",
    "performers = pd.merge(performers, musicians, on='performer_id', how='left')\n",
    "performers = multiValDataFrame(performers, 'performer_id', 'musician_perf_id')"
   ]
  },
  {
   "cell_type": "code",
   "execution_count": 14,
   "metadata": {
    "collapsed": true
   },
   "outputs": [],
   "source": [
    "narrators = narrators[['sceneproduction_id','tayu_id']]\n",
    "narrators = narrators.rename(columns = {'tayu_id':'performer_id','sceneproduction_id':'pscene_id'})\n",
    "narrators = pd.merge(narrators, pscenes, on='pscene_id', how='left').drop('pscene_id',1)\n",
    "narrators = narrators.rename(columns = {'perf_id':'narrator_perf_id'})\n",
    "performers = pd.merge(performers, narrators, on='performer_id', how='left')\n",
    "performers = multiValDataFrame(performers, 'performer_id', 'narrator_perf_id')"
   ]
  },
  {
   "cell_type": "code",
   "execution_count": 15,
   "metadata": {
    "collapsed": true
   },
   "outputs": [],
   "source": [
    "spucks = spucks[['pscene_id','puppeteer_id']]\n",
    "spucks = spucks.rename(columns = {'puppeteer_id':'performer_id'})\n",
    "spucks = pd.merge(spucks, pscenes, on='pscene_id', how='left').drop('pscene_id',1)\n",
    "spucks = spucks.rename(columns = {'perf_id':'puppeteer_perf_id'})\n",
    "performers = pd.merge(performers, spucks, on='performer_id', how='left')\n",
    "performers = multiValDataFrame(performers, 'performer_id', 'puppeteer_perf_id')"
   ]
  },
  {
   "cell_type": "code",
   "execution_count": 16,
   "metadata": {},
   "outputs": [
    {
     "data": {
      "text/plain": [
       "184"
      ]
     },
     "execution_count": 16,
     "metadata": {},
     "output_type": "execute_result"
    }
   ],
   "source": [
    "len(performers.index)"
   ]
  },
  {
   "cell_type": "code",
   "execution_count": 17,
   "metadata": {
    "collapsed": true
   },
   "outputs": [],
   "source": [
    "performers = performers.rename(columns = {'name_proper':'name','performer_id':'id'})\n",
    "performers = performers[['id','name','name_ka','alt_name','alt_name_ka','dates','notes','specialty','image_id','musician_perf_id','narrator_perf_id','puppeteer_perf_id','shamisen_perf_id']]\n"
   ]
  },
  {
   "cell_type": "code",
   "execution_count": 18,
   "metadata": {},
   "outputs": [
    {
     "data": {
      "text/html": [
       "<div>\n",
       "<style>\n",
       "    .dataframe thead tr:only-child th {\n",
       "        text-align: right;\n",
       "    }\n",
       "\n",
       "    .dataframe thead th {\n",
       "        text-align: left;\n",
       "    }\n",
       "\n",
       "    .dataframe tbody tr th {\n",
       "        vertical-align: top;\n",
       "    }\n",
       "</style>\n",
       "<table border=\"1\" class=\"dataframe\">\n",
       "  <thead>\n",
       "    <tr style=\"text-align: right;\">\n",
       "      <th></th>\n",
       "      <th>id</th>\n",
       "      <th>name</th>\n",
       "      <th>name_ka</th>\n",
       "      <th>alt_name</th>\n",
       "      <th>alt_name_ka</th>\n",
       "      <th>dates</th>\n",
       "      <th>notes</th>\n",
       "      <th>specialty</th>\n",
       "      <th>image_id</th>\n",
       "      <th>musician_perf_id</th>\n",
       "      <th>narrator_perf_id</th>\n",
       "      <th>puppeteer_perf_id</th>\n",
       "      <th>shamisen_perf_id</th>\n",
       "    </tr>\n",
       "  </thead>\n",
       "  <tbody>\n",
       "    <tr>\n",
       "      <th>0</th>\n",
       "      <td>1</td>\n",
       "      <td>Takemoto Datejidayū (see also Takemoto Datetay...</td>\n",
       "      <td>竹本伊達路大夫</td>\n",
       "      <td>Takemoto Datetayū V</td>\n",
       "      <td>竹本伊達大夫 (五)</td>\n",
       "      <td>'1950-1988/04'</td>\n",
       "      <td>Bunraku meikan (1980, 1985, 1988, 1990, 1994)</td>\n",
       "      <td>Tayu</td>\n",
       "      <td>[8469, 8470, 9055, 9056, 45321, 52421, 52552, ...</td>\n",
       "      <td>[nan]</td>\n",
       "      <td>[17, 10, 19, 21, 24, 24, 25, 27, 28, 31, 32, 3...</td>\n",
       "      <td>[nan]</td>\n",
       "      <td>[nan]</td>\n",
       "    </tr>\n",
       "    <tr>\n",
       "      <th>1</th>\n",
       "      <td>2</td>\n",
       "      <td>Takemoto Tsudayū IV</td>\n",
       "      <td>竹本津大夫 (四)</td>\n",
       "      <td>NaN</td>\n",
       "      <td>NaN</td>\n",
       "      <td>'1950-'</td>\n",
       "      <td>[Living National Treasure]; Bunraku meikan (19...</td>\n",
       "      <td>Tayu</td>\n",
       "      <td>[8588, 9054, 9055, 9056, 9616, 9617, 9618, 961...</td>\n",
       "      <td>[nan]</td>\n",
       "      <td>[16, 10, 18, 24, 25, 27, 27, 28, 28, 32, 37, 3...</td>\n",
       "      <td>[nan]</td>\n",
       "      <td>[nan]</td>\n",
       "    </tr>\n",
       "    <tr>\n",
       "      <th>2</th>\n",
       "      <td>3</td>\n",
       "      <td>Tsuruzawa Kanotarō</td>\n",
       "      <td>鶴澤叶太郎</td>\n",
       "      <td>NaN</td>\n",
       "      <td>NaN</td>\n",
       "      <td>'1913-'</td>\n",
       "      <td>Bunraku meikan (1980, 1985, 1988, 1990, 1994)</td>\n",
       "      <td>Shamisen</td>\n",
       "      <td>[45321, 45449, 52634, 52751, 52755, 52819, 528...</td>\n",
       "      <td>[nan]</td>\n",
       "      <td>[nan]</td>\n",
       "      <td>[nan]</td>\n",
       "      <td>[14, 11, 18, 24, 25, 27, 28, 33, 35, 37, 40, 4...</td>\n",
       "    </tr>\n",
       "    <tr>\n",
       "      <th>3</th>\n",
       "      <td>4</td>\n",
       "      <td>Takezawa Danshichi (see also Takezawa Danjirō IV)</td>\n",
       "      <td>竹澤団七</td>\n",
       "      <td>Takezawa Danjirō IV</td>\n",
       "      <td>竹澤団二郎 (四)</td>\n",
       "      <td>'1981/04-'</td>\n",
       "      <td>Bunraku meikan (1980, 1985, 1988, 1990, 1994)</td>\n",
       "      <td>Shamisen</td>\n",
       "      <td>[12477, 12478, 12489]</td>\n",
       "      <td>[nan]</td>\n",
       "      <td>[nan]</td>\n",
       "      <td>[nan]</td>\n",
       "      <td>[227, 385, 389, 394, 399, 403, 407, 409, 415, ...</td>\n",
       "    </tr>\n",
       "    <tr>\n",
       "      <th>4</th>\n",
       "      <td>5</td>\n",
       "      <td>Toyotake Matsukadayū</td>\n",
       "      <td>豊竹松香大夫</td>\n",
       "      <td>NaN</td>\n",
       "      <td>NaN</td>\n",
       "      <td>'1959-'</td>\n",
       "      <td>Bunraku meikan (1980, 1985, 1988, 1990, 1994)</td>\n",
       "      <td>Tayu</td>\n",
       "      <td>[8337, 9715, 11874, 11875, 45449, 45681, 45691...</td>\n",
       "      <td>[nan]</td>\n",
       "      <td>[12, 14, 11, 18, 19, 22, 24, 24, 25, 27, 28, 3...</td>\n",
       "      <td>[nan]</td>\n",
       "      <td>[270]</td>\n",
       "    </tr>\n",
       "  </tbody>\n",
       "</table>\n",
       "</div>"
      ],
      "text/plain": [
       "  id                                               name    name_ka  \\\n",
       "0  1  Takemoto Datejidayū (see also Takemoto Datetay...    竹本伊達路大夫   \n",
       "1  2                                Takemoto Tsudayū IV  竹本津大夫 (四)   \n",
       "2  3                                 Tsuruzawa Kanotarō      鶴澤叶太郎   \n",
       "3  4  Takezawa Danshichi (see also Takezawa Danjirō IV)       竹澤団七   \n",
       "4  5                               Toyotake Matsukadayū     豊竹松香大夫   \n",
       "\n",
       "              alt_name alt_name_ka           dates  \\\n",
       "0  Takemoto Datetayū V  竹本伊達大夫 (五)  '1950-1988/04'   \n",
       "1                  NaN         NaN         '1950-'   \n",
       "2                  NaN         NaN         '1913-'   \n",
       "3  Takezawa Danjirō IV   竹澤団二郎 (四)      '1981/04-'   \n",
       "4                  NaN         NaN         '1959-'   \n",
       "\n",
       "                                               notes specialty  \\\n",
       "0      Bunraku meikan (1980, 1985, 1988, 1990, 1994)      Tayu   \n",
       "1  [Living National Treasure]; Bunraku meikan (19...      Tayu   \n",
       "2      Bunraku meikan (1980, 1985, 1988, 1990, 1994)  Shamisen   \n",
       "3      Bunraku meikan (1980, 1985, 1988, 1990, 1994)  Shamisen   \n",
       "4      Bunraku meikan (1980, 1985, 1988, 1990, 1994)      Tayu   \n",
       "\n",
       "                                            image_id musician_perf_id  \\\n",
       "0  [8469, 8470, 9055, 9056, 45321, 52421, 52552, ...            [nan]   \n",
       "1  [8588, 9054, 9055, 9056, 9616, 9617, 9618, 961...            [nan]   \n",
       "2  [45321, 45449, 52634, 52751, 52755, 52819, 528...            [nan]   \n",
       "3                              [12477, 12478, 12489]            [nan]   \n",
       "4  [8337, 9715, 11874, 11875, 45449, 45681, 45691...            [nan]   \n",
       "\n",
       "                                    narrator_perf_id puppeteer_perf_id  \\\n",
       "0  [17, 10, 19, 21, 24, 24, 25, 27, 28, 31, 32, 3...             [nan]   \n",
       "1  [16, 10, 18, 24, 25, 27, 27, 28, 28, 32, 37, 3...             [nan]   \n",
       "2                                              [nan]             [nan]   \n",
       "3                                              [nan]             [nan]   \n",
       "4  [12, 14, 11, 18, 19, 22, 24, 24, 25, 27, 28, 3...             [nan]   \n",
       "\n",
       "                                    shamisen_perf_id  \n",
       "0                                              [nan]  \n",
       "1                                              [nan]  \n",
       "2  [14, 11, 18, 24, 25, 27, 28, 33, 35, 37, 40, 4...  \n",
       "3  [227, 385, 389, 394, 399, 403, 407, 409, 415, ...  \n",
       "4                                              [270]  "
      ]
     },
     "execution_count": 18,
     "metadata": {},
     "output_type": "execute_result"
    }
   ],
   "source": [
    "performers.head()"
   ]
  },
  {
   "cell_type": "code",
   "execution_count": null,
   "metadata": {
    "collapsed": true
   },
   "outputs": [],
   "source": [
    "# performers.to_csv('performers_exp.csv', encoding='utf8', index=False)\n",
    "# performers.to_json('performers_exp.json', orient=\"records\", force_ascii=False)"
   ]
  }
 ],
 "metadata": {
  "kernelspec": {
   "display_name": "Python 2",
   "language": "python",
   "name": "python2"
  },
  "language_info": {
   "codemirror_mode": {
    "name": "ipython",
    "version": 2
   },
   "file_extension": ".py",
   "mimetype": "text/x-python",
   "name": "python",
   "nbconvert_exporter": "python",
   "pygments_lexer": "ipython2",
   "version": "2.7.13"
  }
 },
 "nbformat": 4,
 "nbformat_minor": 2
}
