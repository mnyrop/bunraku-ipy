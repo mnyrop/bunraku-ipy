{
 "cells": [
  {
   "cell_type": "code",
   "execution_count": 1,
   "metadata": {
    "collapsed": true
   },
   "outputs": [],
   "source": [
    "import pandas as pd"
   ]
  },
  {
   "cell_type": "code",
   "execution_count": 2,
   "metadata": {
    "collapsed": true
   },
   "outputs": [],
   "source": [
    "# read csvs as data frames\n",
    "# cast as string to avoid float/NaN errors\n",
    "\n",
    "images = pd.read_csv('in/imagesonline.csv').astype(str)\n",
    "characters_images = pd.read_csv('in/characters_images.csv').astype(str) \n",
    "kashira_images = pd.read_csv('in/kashira_images.csv').astype(str)\n",
    "performances_images = pd.read_csv('files/performances_images.csv').astype(str) \n",
    "performers_images = pd.read_csv('in/performers_images.csv').astype(str)\n",
    "plays_images = pd.read_csv('in/plays_images.csv').astype(str) \n",
    "productions_images = pd.read_csv('in/productions_images.csv').astype(str) \n",
    "scenes_images = pd.read_csv('in/scenes_images.csv').astype(str) \n",
    "tags_images = pd.read_csv('in/tags_images.csv').astype(str)"
   ]
  },
  {
   "cell_type": "code",
   "execution_count": 3,
   "metadata": {
    "collapsed": true
   },
   "outputs": [],
   "source": [
    "images = images.drop('online', 1)"
   ]
  },
  {
   "cell_type": "code",
   "execution_count": 4,
   "metadata": {
    "collapsed": true
   },
   "outputs": [],
   "source": [
    "# Optional function fot IPy ProgressBar \n",
    "# (since multiValDataFrame can take awhile on large frames)\n",
    "\n",
    "def log_progress(sequence, every=None, size=None, name='Items'):\n",
    "    from ipywidgets import IntProgress, HTML, VBox\n",
    "    from IPython.display import display\n",
    "\n",
    "    is_iterator = False\n",
    "    if size is None:\n",
    "        try:\n",
    "            size = len(sequence)\n",
    "        except TypeError:\n",
    "            is_iterator = True\n",
    "    if size is not None:\n",
    "        if every is None:\n",
    "            if size <= 200:\n",
    "                every = 1\n",
    "            else:\n",
    "                every = int(size / 200)     # every 0.5%\n",
    "    else:\n",
    "        assert every is not None, 'sequence is iterator, set every'\n",
    "\n",
    "    if is_iterator:\n",
    "        progress = IntProgress(min=0, max=1, value=1)\n",
    "        progress.bar_style = 'info'\n",
    "    else:\n",
    "        progress = IntProgress(min=0, max=size, value=0)\n",
    "    label = HTML()\n",
    "    box = VBox(children=[label, progress])\n",
    "    display(box)\n",
    "\n",
    "    index = 0\n",
    "    try:\n",
    "        for index, record in enumerate(sequence, 1):\n",
    "            if index == 1 or index % every == 0:\n",
    "                if is_iterator:\n",
    "                    label.value = '{name}: {index} / ?'.format(\n",
    "                        name=name,\n",
    "                        index=index\n",
    "                    )\n",
    "                else:\n",
    "                    progress.value = index\n",
    "                    label.value = u'{name}: {index} / {size}'.format(\n",
    "                        name=name,\n",
    "                        index=index,\n",
    "                        size=size\n",
    "                    )\n",
    "            yield record\n",
    "    except:\n",
    "        progress.bar_style = 'danger'\n",
    "        raise\n",
    "    else:\n",
    "        progress.bar_style = 'success'\n",
    "        progress.value = index\n",
    "        label.value = \"{name}: {index}\".format(\n",
    "            name=name,\n",
    "            index=str(index or '?')\n",
    "        )"
   ]
  },
  {
   "cell_type": "code",
   "execution_count": 5,
   "metadata": {
    "collapsed": true
   },
   "outputs": [],
   "source": [
    "# multiValDataFrame takes a dataframe df, column name df_index and column name multival_key\n",
    "# it merges records with the same df_index and updates multival_index to an array of all the multival_index values.\n",
    "# E.g for a data frame plays with multiple character_id values per play_id, returns a data frame with one record \n",
    "# per play_id, and one array of character_ids per play.\n",
    "\n",
    "def multiValDataFrame(df, df_index, multival_key):\n",
    "    new_df = pd.DataFrame({})\n",
    "    cols = df.columns\n",
    "    id_list = df[df_index].unique()\n",
    "    for i in log_progress(id_list):\n",
    "        temp_row = df.loc[df[df_index] == i ]\n",
    "        vals = []\n",
    "        for col in cols:\n",
    "            vals.append(temp_row[:1][col].values[0])\n",
    "\n",
    "        temp_dict = dict(zip(cols, vals))\n",
    "        multi_id_list = list(temp_row[multival_key])\n",
    "    \n",
    "        temp_dict[multival_key] = multi_id_list\n",
    "    \n",
    "        new_df = new_df.append(temp_dict, ignore_index=True)\n",
    "    return new_df"
   ]
  },
  {
   "cell_type": "code",
   "execution_count": 6,
   "metadata": {},
   "outputs": [
    {
     "name": "stderr",
     "output_type": "stream",
     "text": [
      "Widget Javascript not detected.  It may not be installed or enabled properly.\n"
     ]
    },
    {
     "data": {
      "application/vnd.jupyter.widget-view+json": {
       "model_id": "564b30dde1664801ba321d76de1e8947"
      }
     },
     "metadata": {},
     "output_type": "display_data"
    }
   ],
   "source": [
    "# merge and multival characters\n",
    "images = pd.merge(images, characters_images, on='image_id', how='left')\n",
    "images = multiValDataFrame(images, 'image_id', 'character_id')"
   ]
  },
  {
   "cell_type": "code",
   "execution_count": 7,
   "metadata": {},
   "outputs": [
    {
     "name": "stderr",
     "output_type": "stream",
     "text": [
      "Widget Javascript not detected.  It may not be installed or enabled properly.\n"
     ]
    },
    {
     "data": {
      "application/vnd.jupyter.widget-view+json": {
       "model_id": "727f4555c23742e3bd01e727deb5293f"
      }
     },
     "metadata": {},
     "output_type": "display_data"
    }
   ],
   "source": [
    "# merge and multival kashira\n",
    "images = pd.merge(images, kashira_images, on='image_id', how='left')\n",
    "images = multiValDataFrame(images, 'image_id', 'kashira_id')"
   ]
  },
  {
   "cell_type": "code",
   "execution_count": 8,
   "metadata": {},
   "outputs": [
    {
     "name": "stderr",
     "output_type": "stream",
     "text": [
      "Widget Javascript not detected.  It may not be installed or enabled properly.\n"
     ]
    },
    {
     "data": {
      "application/vnd.jupyter.widget-view+json": {
       "model_id": "87ff0a3a5e534a05b6db12f52d560d7d"
      }
     },
     "metadata": {},
     "output_type": "display_data"
    }
   ],
   "source": [
    "# merge and multival performances\n",
    "images = pd.merge(images, performances_images, on='image_id', how='left')\n",
    "images = multiValDataFrame(images, 'image_id', 'performance_id')"
   ]
  },
  {
   "cell_type": "code",
   "execution_count": 9,
   "metadata": {},
   "outputs": [
    {
     "name": "stderr",
     "output_type": "stream",
     "text": [
      "Widget Javascript not detected.  It may not be installed or enabled properly.\n"
     ]
    },
    {
     "data": {
      "application/vnd.jupyter.widget-view+json": {
       "model_id": "9a307e50aadd4d5a9fb87ebf09b1e322"
      }
     },
     "metadata": {},
     "output_type": "display_data"
    }
   ],
   "source": [
    "# merge and multival performers\n",
    "images = pd.merge(images, performers_images, on='image_id', how='left')\n",
    "images = multiValDataFrame(images, 'image_id', 'performer_id')"
   ]
  },
  {
   "cell_type": "code",
   "execution_count": 10,
   "metadata": {},
   "outputs": [
    {
     "name": "stderr",
     "output_type": "stream",
     "text": [
      "Widget Javascript not detected.  It may not be installed or enabled properly.\n"
     ]
    },
    {
     "data": {
      "application/vnd.jupyter.widget-view+json": {
       "model_id": "268a10e0aaeb4c499a7ab61f38dce046"
      }
     },
     "metadata": {},
     "output_type": "display_data"
    }
   ],
   "source": [
    "# merge and multival plays\n",
    "images = pd.merge(images, plays_images, on='image_id', how='left')\n",
    "images = multiValDataFrame(images, 'image_id', 'play_id')"
   ]
  },
  {
   "cell_type": "code",
   "execution_count": 11,
   "metadata": {},
   "outputs": [
    {
     "name": "stderr",
     "output_type": "stream",
     "text": [
      "Widget Javascript not detected.  It may not be installed or enabled properly.\n"
     ]
    },
    {
     "data": {
      "application/vnd.jupyter.widget-view+json": {
       "model_id": "009328c448a24308a9ac8c4e5410e5e4"
      }
     },
     "metadata": {},
     "output_type": "display_data"
    }
   ],
   "source": [
    "# merge and multival productions\n",
    "images = pd.merge(images, productions_images, on='image_id', how='left')\n",
    "images = multiValDataFrame(images, 'image_id', 'production_id')"
   ]
  },
  {
   "cell_type": "code",
   "execution_count": 12,
   "metadata": {},
   "outputs": [
    {
     "name": "stderr",
     "output_type": "stream",
     "text": [
      "Widget Javascript not detected.  It may not be installed or enabled properly.\n"
     ]
    },
    {
     "data": {
      "application/vnd.jupyter.widget-view+json": {
       "model_id": "8e283441eae14ccf8f57102b43170621"
      }
     },
     "metadata": {},
     "output_type": "display_data"
    }
   ],
   "source": [
    "# merge and multival scenes\n",
    "images = pd.merge(images, scenes_images, on='image_id', how='left')\n",
    "images = multiValDataFrame(images, 'image_id', 'scene_id')"
   ]
  },
  {
   "cell_type": "code",
   "execution_count": 13,
   "metadata": {},
   "outputs": [
    {
     "name": "stderr",
     "output_type": "stream",
     "text": [
      "Widget Javascript not detected.  It may not be installed or enabled properly.\n"
     ]
    },
    {
     "data": {
      "application/vnd.jupyter.widget-view+json": {
       "model_id": "5f5f6403399a465caddd6feefb09fb43"
      }
     },
     "metadata": {},
     "output_type": "display_data"
    }
   ],
   "source": [
    "# merge and multival tags\n",
    "images = pd.merge(images, tags_images, on='image_id', how='left')\n",
    "images = multiValDataFrame(images, 'image_id', 'subject_id')"
   ]
  },
  {
   "cell_type": "code",
   "execution_count": 14,
   "metadata": {
    "collapsed": true
   },
   "outputs": [],
   "source": [
    "# mild cleaning + rearranging\n",
    "images = images.rename(columns = {'subject_id':'tag_id'})\n",
    "images = images[['image_id','media_type','character_id','tag_id','kashira_id','performance_id','performer_id','play_id','production_id','scene_id','container_number','container_type','creator','item_id','colser_id','notes_on_item','objid','sequence_number','series_number','slidepage_folder_no']]"
   ]
  },
  {
   "cell_type": "code",
   "execution_count": 15,
   "metadata": {},
   "outputs": [
    {
     "data": {
      "text/html": [
       "<div>\n",
       "<style>\n",
       "    .dataframe thead tr:only-child th {\n",
       "        text-align: right;\n",
       "    }\n",
       "\n",
       "    .dataframe thead th {\n",
       "        text-align: left;\n",
       "    }\n",
       "\n",
       "    .dataframe tbody tr th {\n",
       "        vertical-align: top;\n",
       "    }\n",
       "</style>\n",
       "<table border=\"1\" class=\"dataframe\">\n",
       "  <thead>\n",
       "    <tr style=\"text-align: right;\">\n",
       "      <th></th>\n",
       "      <th>image_id</th>\n",
       "      <th>media_type</th>\n",
       "      <th>character_id</th>\n",
       "      <th>tag_id</th>\n",
       "      <th>kashira_id</th>\n",
       "      <th>performance_id</th>\n",
       "      <th>performer_id</th>\n",
       "      <th>play_id</th>\n",
       "      <th>production_id</th>\n",
       "      <th>scene_id</th>\n",
       "      <th>container_number</th>\n",
       "      <th>container_type</th>\n",
       "      <th>creator</th>\n",
       "      <th>item_id</th>\n",
       "      <th>colser_id</th>\n",
       "      <th>notes_on_item</th>\n",
       "      <th>objid</th>\n",
       "      <th>sequence_number</th>\n",
       "      <th>series_number</th>\n",
       "      <th>slidepage_folder_no</th>\n",
       "    </tr>\n",
       "  </thead>\n",
       "  <tbody>\n",
       "    <tr>\n",
       "      <th>0</th>\n",
       "      <td>8281</td>\n",
       "      <td>slide</td>\n",
       "      <td>[452, 453, 454, 455, 456, 2312]</td>\n",
       "      <td>[43, 73]</td>\n",
       "      <td>[33, 3, 35, 106, 77]</td>\n",
       "      <td>[310]</td>\n",
       "      <td>[nan]</td>\n",
       "      <td>[26]</td>\n",
       "      <td>[86]</td>\n",
       "      <td>[128]</td>\n",
       "      <td>46.0</td>\n",
       "      <td>Slide Binder</td>\n",
       "      <td>Barbara C. Adachi</td>\n",
       "      <td>0001</td>\n",
       "      <td>2</td>\n",
       "      <td>2</td>\n",
       "      <td>ldpd_bun_slide_452_2_0001_0001</td>\n",
       "      <td>0001</td>\n",
       "      <td>2.0</td>\n",
       "      <td>452.0</td>\n",
       "    </tr>\n",
       "    <tr>\n",
       "      <th>1</th>\n",
       "      <td>8282</td>\n",
       "      <td>slide</td>\n",
       "      <td>[452, 453, 454, 455, 456, 2312]</td>\n",
       "      <td>[43, 73]</td>\n",
       "      <td>[33, 3, 35, 106, 77]</td>\n",
       "      <td>[310]</td>\n",
       "      <td>[nan]</td>\n",
       "      <td>[26]</td>\n",
       "      <td>[86]</td>\n",
       "      <td>[128]</td>\n",
       "      <td>46.0</td>\n",
       "      <td>Slide Binder</td>\n",
       "      <td>Barbara C. Adachi</td>\n",
       "      <td>0002</td>\n",
       "      <td>2</td>\n",
       "      <td>6</td>\n",
       "      <td>ldpd_bun_slide_452_2_0002_0002</td>\n",
       "      <td>0002</td>\n",
       "      <td>2.0</td>\n",
       "      <td>452.0</td>\n",
       "    </tr>\n",
       "    <tr>\n",
       "      <th>2</th>\n",
       "      <td>8283</td>\n",
       "      <td>slide</td>\n",
       "      <td>[452, 453, 454, 455, 456, 2312]</td>\n",
       "      <td>[43, 73]</td>\n",
       "      <td>[33, 3, 35, 106, 77]</td>\n",
       "      <td>[310]</td>\n",
       "      <td>[nan]</td>\n",
       "      <td>[26]</td>\n",
       "      <td>[86]</td>\n",
       "      <td>[128]</td>\n",
       "      <td>46.0</td>\n",
       "      <td>Slide Binder</td>\n",
       "      <td>Barbara C. Adachi</td>\n",
       "      <td>0003</td>\n",
       "      <td>2</td>\n",
       "      <td>7</td>\n",
       "      <td>ldpd_bun_slide_452_2_0003_0003</td>\n",
       "      <td>0003</td>\n",
       "      <td>2.0</td>\n",
       "      <td>452.0</td>\n",
       "    </tr>\n",
       "    <tr>\n",
       "      <th>3</th>\n",
       "      <td>8284</td>\n",
       "      <td>slide</td>\n",
       "      <td>[453, 454, 455, 452, 2312]</td>\n",
       "      <td>[43, 73]</td>\n",
       "      <td>[3, 35, 33, 77]</td>\n",
       "      <td>[310]</td>\n",
       "      <td>[nan]</td>\n",
       "      <td>[26]</td>\n",
       "      <td>[86]</td>\n",
       "      <td>[128]</td>\n",
       "      <td>46.0</td>\n",
       "      <td>Slide Binder</td>\n",
       "      <td>Barbara C. Adachi</td>\n",
       "      <td>0004</td>\n",
       "      <td>2</td>\n",
       "      <td>0</td>\n",
       "      <td>ldpd_bun_slide_452_2_0004_0004</td>\n",
       "      <td>0004</td>\n",
       "      <td>2.0</td>\n",
       "      <td>452.0</td>\n",
       "    </tr>\n",
       "    <tr>\n",
       "      <th>4</th>\n",
       "      <td>8285</td>\n",
       "      <td>slide</td>\n",
       "      <td>[452, 454, 2312]</td>\n",
       "      <td>[43]</td>\n",
       "      <td>[33, 35, 77]</td>\n",
       "      <td>[310]</td>\n",
       "      <td>[nan]</td>\n",
       "      <td>[26]</td>\n",
       "      <td>[86]</td>\n",
       "      <td>[128]</td>\n",
       "      <td>46.0</td>\n",
       "      <td>Slide Binder</td>\n",
       "      <td>Barbara C. Adachi</td>\n",
       "      <td>0005</td>\n",
       "      <td>2</td>\n",
       "      <td>4</td>\n",
       "      <td>ldpd_bun_slide_452_2_0005_0005</td>\n",
       "      <td>0005</td>\n",
       "      <td>2.0</td>\n",
       "      <td>452.0</td>\n",
       "    </tr>\n",
       "  </tbody>\n",
       "</table>\n",
       "</div>"
      ],
      "text/plain": [
       "  image_id media_type                     character_id    tag_id  \\\n",
       "0     8281      slide  [452, 453, 454, 455, 456, 2312]  [43, 73]   \n",
       "1     8282      slide  [452, 453, 454, 455, 456, 2312]  [43, 73]   \n",
       "2     8283      slide  [452, 453, 454, 455, 456, 2312]  [43, 73]   \n",
       "3     8284      slide       [453, 454, 455, 452, 2312]  [43, 73]   \n",
       "4     8285      slide                 [452, 454, 2312]      [43]   \n",
       "\n",
       "             kashira_id performance_id performer_id play_id production_id  \\\n",
       "0  [33, 3, 35, 106, 77]          [310]        [nan]    [26]          [86]   \n",
       "1  [33, 3, 35, 106, 77]          [310]        [nan]    [26]          [86]   \n",
       "2  [33, 3, 35, 106, 77]          [310]        [nan]    [26]          [86]   \n",
       "3       [3, 35, 33, 77]          [310]        [nan]    [26]          [86]   \n",
       "4          [33, 35, 77]          [310]        [nan]    [26]          [86]   \n",
       "\n",
       "  scene_id container_number container_type            creator item_id  \\\n",
       "0    [128]             46.0   Slide Binder  Barbara C. Adachi    0001   \n",
       "1    [128]             46.0   Slide Binder  Barbara C. Adachi    0002   \n",
       "2    [128]             46.0   Slide Binder  Barbara C. Adachi    0003   \n",
       "3    [128]             46.0   Slide Binder  Barbara C. Adachi    0004   \n",
       "4    [128]             46.0   Slide Binder  Barbara C. Adachi    0005   \n",
       "\n",
       "  colser_id notes_on_item                           objid sequence_number  \\\n",
       "0         2             2  ldpd_bun_slide_452_2_0001_0001            0001   \n",
       "1         2             6  ldpd_bun_slide_452_2_0002_0002            0002   \n",
       "2         2             7  ldpd_bun_slide_452_2_0003_0003            0003   \n",
       "3         2             0  ldpd_bun_slide_452_2_0004_0004            0004   \n",
       "4         2             4  ldpd_bun_slide_452_2_0005_0005            0005   \n",
       "\n",
       "  series_number slidepage_folder_no  \n",
       "0           2.0               452.0  \n",
       "1           2.0               452.0  \n",
       "2           2.0               452.0  \n",
       "3           2.0               452.0  \n",
       "4           2.0               452.0  "
      ]
     },
     "execution_count": 15,
     "metadata": {},
     "output_type": "execute_result"
    }
   ],
   "source": [
    "images.head()"
   ]
  },
  {
   "cell_type": "code",
   "execution_count": 16,
   "metadata": {
    "collapsed": true
   },
   "outputs": [],
   "source": [
    "# export to csv\n",
    "images.to_csv('images_exp.csv', encoding='utf8', index=False)"
   ]
  },
  {
   "cell_type": "code",
   "execution_count": 17,
   "metadata": {
    "collapsed": true
   },
   "outputs": [],
   "source": [
    "# export to json\n",
    "images.to_json('images_exp.json', orient='records', force_ascii=False)"
   ]
  }
 ],
 "metadata": {
  "kernelspec": {
   "display_name": "Python 2",
   "language": "python",
   "name": "python2"
  },
  "language_info": {
   "codemirror_mode": {
    "name": "ipython",
    "version": 2
   },
   "file_extension": ".py",
   "mimetype": "text/x-python",
   "name": "python",
   "nbconvert_exporter": "python",
   "pygments_lexer": "ipython2",
   "version": "2.7.13"
  },
  "widgets": {
   "application/vnd.jupyter.widget-state+json": {
    "state": {
     "24f0c4b326ff495597661be103b0bd09": {
      "model_module": "jupyter-js-widgets",
      "model_module_version": "~2.1.4",
      "model_name": "LayoutModel",
      "state": {
       "_model_module_version": "~2.1.4",
       "_view_module_version": "~2.1.4"
      }
     },
     "2cf3e08656ce41afbbce1a0e6568b172": {
      "model_module": "jupyter-js-widgets",
      "model_module_version": "~2.1.4",
      "model_name": "ProgressModel",
      "state": {
       "_model_module_version": "~2.1.4",
       "_view_module_version": "~2.1.4",
       "layout": "IPY_MODEL_91a95c323d0243ae9f8fb9fd193114d9",
       "step": 0.1
      }
     },
     "2e282448c4d941148428643b2f5c3092": {
      "model_module": "jupyter-js-widgets",
      "model_module_version": "~2.1.4",
      "model_name": "LayoutModel",
      "state": {
       "_model_module_version": "~2.1.4",
       "_view_module_version": "~2.1.4"
      }
     },
     "5b53436ee4c54e59b282b7a7d32334a3": {
      "model_module": "jupyter-js-widgets",
      "model_module_version": "~2.1.4",
      "model_name": "ProgressModel",
      "state": {
       "_model_module_version": "~2.1.4",
       "_view_module_version": "~2.1.4",
       "layout": "IPY_MODEL_610ff8ce5ac2484fbe0ab4787ec670dc",
       "step": 0.1
      }
     },
     "610ff8ce5ac2484fbe0ab4787ec670dc": {
      "model_module": "jupyter-js-widgets",
      "model_module_version": "~2.1.4",
      "model_name": "LayoutModel",
      "state": {
       "_model_module_version": "~2.1.4",
       "_view_module_version": "~2.1.4"
      }
     },
     "6b0add77c40843f48fb733e040f8d9ad": {
      "model_module": "jupyter-js-widgets",
      "model_module_version": "~2.1.4",
      "model_name": "ProgressModel",
      "state": {
       "_model_module_version": "~2.1.4",
       "_view_module_version": "~2.1.4",
       "layout": "IPY_MODEL_2e282448c4d941148428643b2f5c3092",
       "step": 0.1
      }
     },
     "86553963c013439ba432c67647efdda5": {
      "model_module": "jupyter-js-widgets",
      "model_module_version": "~2.1.4",
      "model_name": "LayoutModel",
      "state": {
       "_model_module_version": "~2.1.4",
       "_view_module_version": "~2.1.4"
      }
     },
     "91a95c323d0243ae9f8fb9fd193114d9": {
      "model_module": "jupyter-js-widgets",
      "model_module_version": "~2.1.4",
      "model_name": "LayoutModel",
      "state": {
       "_model_module_version": "~2.1.4",
       "_view_module_version": "~2.1.4"
      }
     },
     "99e71582922c43ce8d5fb0fe5fd9e76d": {
      "model_module": "jupyter-js-widgets",
      "model_module_version": "~2.1.4",
      "model_name": "ProgressModel",
      "state": {
       "_model_module_version": "~2.1.4",
       "_view_module_version": "~2.1.4",
       "layout": "IPY_MODEL_24f0c4b326ff495597661be103b0bd09",
       "step": 0.1
      }
     },
     "b9ccdbc7843b47e7a3f3cc8cbf0a8e92": {
      "model_module": "jupyter-js-widgets",
      "model_module_version": "~2.1.4",
      "model_name": "ProgressStyleModel",
      "state": {
       "_model_module_version": "~2.1.4",
       "_view_module_version": "~2.1.4"
      }
     },
     "dd6fcfc83c2941479a55b317aa396d0d": {
      "model_module": "jupyter-js-widgets",
      "model_module_version": "~2.1.4",
      "model_name": "ProgressModel",
      "state": {
       "_model_module_version": "~2.1.4",
       "_view_module_version": "~2.1.4",
       "layout": "IPY_MODEL_86553963c013439ba432c67647efdda5",
       "step": 0.1
      }
     },
     "ecf7914cd5ac42f69208a93d63eb9907": {
      "model_module": "jupyter-js-widgets",
      "model_module_version": "~2.1.4",
      "model_name": "ProgressModel",
      "state": {
       "_model_module_version": "~2.1.4",
       "_view_module_version": "~2.1.4",
       "description": "Loading:",
       "layout": "IPY_MODEL_fdd5c4dc5b3c43bd8de74381c0a5f7fc",
       "max": 10,
       "style": "IPY_MODEL_b9ccdbc7843b47e7a3f3cc8cbf0a8e92",
       "value": 7
      }
     },
     "fdd5c4dc5b3c43bd8de74381c0a5f7fc": {
      "model_module": "jupyter-js-widgets",
      "model_module_version": "~2.1.4",
      "model_name": "LayoutModel",
      "state": {
       "_model_module_version": "~2.1.4",
       "_view_module_version": "~2.1.4"
      }
     }
    },
    "version_major": 1,
    "version_minor": 0
   }
  }
 },
 "nbformat": 4,
 "nbformat_minor": 2
}
