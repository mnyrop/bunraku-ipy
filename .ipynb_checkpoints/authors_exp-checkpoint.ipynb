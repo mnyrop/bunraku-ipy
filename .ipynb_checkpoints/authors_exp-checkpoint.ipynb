{
 "cells": [
  {
   "cell_type": "markdown",
   "metadata": {},
   "source": [
    "# Task: Output Bunraku authors to json list using authors_plays join table to grab an array of play_ids for each author.\n",
    "\n",
    "_________________\n",
    "\n"
   ]
  },
  {
   "cell_type": "code",
   "execution_count": 1,
   "metadata": {
    "collapsed": true
   },
   "outputs": [],
   "source": [
    "import pandas as pd"
   ]
  },
  {
   "cell_type": "code",
   "execution_count": 2,
   "metadata": {
    "collapsed": true
   },
   "outputs": [],
   "source": [
    "# read csvs as data frames\n",
    "authors_df = pd.read_csv('authors.csv')\n",
    "play_auth_df = pd.read_csv('authors_plays.csv')"
   ]
  },
  {
   "cell_type": "markdown",
   "metadata": {},
   "source": [
    "## Starting authors table:\n",
    "_____________"
   ]
  },
  {
   "cell_type": "code",
   "execution_count": 3,
   "metadata": {
    "scrolled": true
   },
   "outputs": [
    {
     "data": {
      "text/html": [
       "<div>\n",
       "<style>\n",
       "    .dataframe thead tr:only-child th {\n",
       "        text-align: right;\n",
       "    }\n",
       "\n",
       "    .dataframe thead th {\n",
       "        text-align: left;\n",
       "    }\n",
       "\n",
       "    .dataframe tbody tr th {\n",
       "        vertical-align: top;\n",
       "    }\n",
       "</style>\n",
       "<table border=\"1\" class=\"dataframe\">\n",
       "  <thead>\n",
       "    <tr style=\"text-align: right;\">\n",
       "      <th></th>\n",
       "      <th>author_id</th>\n",
       "      <th>label</th>\n",
       "      <th>label_ka</th>\n",
       "      <th>dates</th>\n",
       "      <th>reference</th>\n",
       "      <th>sort_ja</th>\n",
       "    </tr>\n",
       "  </thead>\n",
       "  <tbody>\n",
       "    <tr>\n",
       "      <th>0</th>\n",
       "      <td>1</td>\n",
       "      <td>Asada Icchō</td>\n",
       "      <td>浅田一鳥</td>\n",
       "      <td>fl. 1741-1767</td>\n",
       "      <td>LC Authorities</td>\n",
       "      <td>あさだいっちょう</td>\n",
       "    </tr>\n",
       "    <tr>\n",
       "      <th>1</th>\n",
       "      <td>2</td>\n",
       "      <td>Ashikawa Teruha</td>\n",
       "      <td>芦川照葉</td>\n",
       "      <td>NaN</td>\n",
       "      <td>LC Authorities</td>\n",
       "      <td>あしかわてるは</td>\n",
       "    </tr>\n",
       "    <tr>\n",
       "      <th>2</th>\n",
       "      <td>4</td>\n",
       "      <td>Chikamatsu Hanji</td>\n",
       "      <td>近松半二</td>\n",
       "      <td>d. 1786 or 7</td>\n",
       "      <td>LC Authorities</td>\n",
       "      <td>ちかまつはんじ</td>\n",
       "    </tr>\n",
       "    <tr>\n",
       "      <th>3</th>\n",
       "      <td>5</td>\n",
       "      <td>Chikamatsu Kosuiken</td>\n",
       "      <td>近松湖水軒</td>\n",
       "      <td>NaN</td>\n",
       "      <td>繪本太功記 / 近松やなぎ, 近松湖水軒, 千葉軒合作, 東京 : 金櫻堂, 1890.12...</td>\n",
       "      <td>ちかまつこすいけん</td>\n",
       "    </tr>\n",
       "    <tr>\n",
       "      <th>4</th>\n",
       "      <td>6</td>\n",
       "      <td>Chikamatsu Monzaemon</td>\n",
       "      <td>近松門左衛門</td>\n",
       "      <td>NaN</td>\n",
       "      <td>LC Authorities</td>\n",
       "      <td>ちかまつもんざえもん</td>\n",
       "    </tr>\n",
       "  </tbody>\n",
       "</table>\n",
       "</div>"
      ],
      "text/plain": [
       "   author_id                 label label_ka          dates  \\\n",
       "0          1           Asada Icchō     浅田一鳥  fl. 1741-1767   \n",
       "1          2       Ashikawa Teruha     芦川照葉            NaN   \n",
       "2          4      Chikamatsu Hanji     近松半二   d. 1786 or 7   \n",
       "3          5   Chikamatsu Kosuiken    近松湖水軒            NaN   \n",
       "4          6  Chikamatsu Monzaemon   近松門左衛門            NaN   \n",
       "\n",
       "                                           reference     sort_ja  \n",
       "0                                     LC Authorities    あさだいっちょう  \n",
       "1                                     LC Authorities     あしかわてるは  \n",
       "2                                     LC Authorities     ちかまつはんじ  \n",
       "3  繪本太功記 / 近松やなぎ, 近松湖水軒, 千葉軒合作, 東京 : 金櫻堂, 1890.12...   ちかまつこすいけん  \n",
       "4                                     LC Authorities  ちかまつもんざえもん  "
      ]
     },
     "execution_count": 3,
     "metadata": {},
     "output_type": "execute_result"
    }
   ],
   "source": [
    "authors_df.head()"
   ]
  },
  {
   "cell_type": "markdown",
   "metadata": {},
   "source": [
    "## Join table for authors and plays:"
   ]
  },
  {
   "cell_type": "code",
   "execution_count": 4,
   "metadata": {},
   "outputs": [
    {
     "data": {
      "text/html": [
       "<div>\n",
       "<style>\n",
       "    .dataframe thead tr:only-child th {\n",
       "        text-align: right;\n",
       "    }\n",
       "\n",
       "    .dataframe thead th {\n",
       "        text-align: left;\n",
       "    }\n",
       "\n",
       "    .dataframe tbody tr th {\n",
       "        vertical-align: top;\n",
       "    }\n",
       "</style>\n",
       "<table border=\"1\" class=\"dataframe\">\n",
       "  <thead>\n",
       "    <tr style=\"text-align: right;\">\n",
       "      <th></th>\n",
       "      <th>play_id</th>\n",
       "      <th>author_id</th>\n",
       "    </tr>\n",
       "  </thead>\n",
       "  <tbody>\n",
       "    <tr>\n",
       "      <th>0</th>\n",
       "      <td>1</td>\n",
       "      <td>6</td>\n",
       "    </tr>\n",
       "    <tr>\n",
       "      <th>1</th>\n",
       "      <td>2</td>\n",
       "      <td>6</td>\n",
       "    </tr>\n",
       "    <tr>\n",
       "      <th>2</th>\n",
       "      <td>3</td>\n",
       "      <td>6</td>\n",
       "    </tr>\n",
       "    <tr>\n",
       "      <th>3</th>\n",
       "      <td>4</td>\n",
       "      <td>6</td>\n",
       "    </tr>\n",
       "    <tr>\n",
       "      <th>4</th>\n",
       "      <td>5</td>\n",
       "      <td>34</td>\n",
       "    </tr>\n",
       "  </tbody>\n",
       "</table>\n",
       "</div>"
      ],
      "text/plain": [
       "   play_id  author_id\n",
       "0        1          6\n",
       "1        2          6\n",
       "2        3          6\n",
       "3        4          6\n",
       "4        5         34"
      ]
     },
     "execution_count": 4,
     "metadata": {},
     "output_type": "execute_result"
    }
   ],
   "source": [
    "play_auth_df.head()"
   ]
  },
  {
   "cell_type": "code",
   "execution_count": 5,
   "metadata": {
    "collapsed": true
   },
   "outputs": [],
   "source": [
    "# make a new author dataframe with inner join of play_ids.¶\n",
    "# note: this drops authors who have no plays assigned to them.\n",
    "authors_w_play_id = pd.merge(authors_df, play_auth_df, on='author_id', how='outer')"
   ]
  },
  {
   "cell_type": "markdown",
   "metadata": {},
   "source": [
    "## New authors table, with a full record per play:\n",
    "______________"
   ]
  },
  {
   "cell_type": "code",
   "execution_count": 6,
   "metadata": {},
   "outputs": [
    {
     "data": {
      "text/html": [
       "<div>\n",
       "<style>\n",
       "    .dataframe thead tr:only-child th {\n",
       "        text-align: right;\n",
       "    }\n",
       "\n",
       "    .dataframe thead th {\n",
       "        text-align: left;\n",
       "    }\n",
       "\n",
       "    .dataframe tbody tr th {\n",
       "        vertical-align: top;\n",
       "    }\n",
       "</style>\n",
       "<table border=\"1\" class=\"dataframe\">\n",
       "  <thead>\n",
       "    <tr style=\"text-align: right;\">\n",
       "      <th></th>\n",
       "      <th>author_id</th>\n",
       "      <th>label</th>\n",
       "      <th>label_ka</th>\n",
       "      <th>dates</th>\n",
       "      <th>reference</th>\n",
       "      <th>sort_ja</th>\n",
       "      <th>play_id</th>\n",
       "    </tr>\n",
       "  </thead>\n",
       "  <tbody>\n",
       "    <tr>\n",
       "      <th>0</th>\n",
       "      <td>1</td>\n",
       "      <td>Asada Icchō</td>\n",
       "      <td>浅田一鳥</td>\n",
       "      <td>fl. 1741-1767</td>\n",
       "      <td>LC Authorities</td>\n",
       "      <td>あさだいっちょう</td>\n",
       "      <td>19.0</td>\n",
       "    </tr>\n",
       "    <tr>\n",
       "      <th>1</th>\n",
       "      <td>1</td>\n",
       "      <td>Asada Icchō</td>\n",
       "      <td>浅田一鳥</td>\n",
       "      <td>fl. 1741-1767</td>\n",
       "      <td>LC Authorities</td>\n",
       "      <td>あさだいっちょう</td>\n",
       "      <td>72.0</td>\n",
       "    </tr>\n",
       "    <tr>\n",
       "      <th>2</th>\n",
       "      <td>1</td>\n",
       "      <td>Asada Icchō</td>\n",
       "      <td>浅田一鳥</td>\n",
       "      <td>fl. 1741-1767</td>\n",
       "      <td>LC Authorities</td>\n",
       "      <td>あさだいっちょう</td>\n",
       "      <td>105.0</td>\n",
       "    </tr>\n",
       "    <tr>\n",
       "      <th>3</th>\n",
       "      <td>1</td>\n",
       "      <td>Asada Icchō</td>\n",
       "      <td>浅田一鳥</td>\n",
       "      <td>fl. 1741-1767</td>\n",
       "      <td>LC Authorities</td>\n",
       "      <td>あさだいっちょう</td>\n",
       "      <td>122.0</td>\n",
       "    </tr>\n",
       "    <tr>\n",
       "      <th>4</th>\n",
       "      <td>2</td>\n",
       "      <td>Ashikawa Teruha</td>\n",
       "      <td>芦川照葉</td>\n",
       "      <td>NaN</td>\n",
       "      <td>LC Authorities</td>\n",
       "      <td>あしかわてるは</td>\n",
       "      <td>173.0</td>\n",
       "    </tr>\n",
       "  </tbody>\n",
       "</table>\n",
       "</div>"
      ],
      "text/plain": [
       "   author_id            label label_ka          dates       reference  \\\n",
       "0          1      Asada Icchō     浅田一鳥  fl. 1741-1767  LC Authorities   \n",
       "1          1      Asada Icchō     浅田一鳥  fl. 1741-1767  LC Authorities   \n",
       "2          1      Asada Icchō     浅田一鳥  fl. 1741-1767  LC Authorities   \n",
       "3          1      Asada Icchō     浅田一鳥  fl. 1741-1767  LC Authorities   \n",
       "4          2  Ashikawa Teruha     芦川照葉            NaN  LC Authorities   \n",
       "\n",
       "    sort_ja  play_id  \n",
       "0  あさだいっちょう     19.0  \n",
       "1  あさだいっちょう     72.0  \n",
       "2  あさだいっちょう    105.0  \n",
       "3  あさだいっちょう    122.0  \n",
       "4   あしかわてるは    173.0  "
      ]
     },
     "execution_count": 6,
     "metadata": {},
     "output_type": "execute_result"
    }
   ],
   "source": [
    "authors_w_play_id.head()"
   ]
  },
  {
   "cell_type": "code",
   "execution_count": 7,
   "metadata": {
    "collapsed": true
   },
   "outputs": [],
   "source": [
    "# since author_id is not a consistent iterator, get list of total author_ids\n",
    "auth_id_list = list(authors_w_play_id.author_id.unique())"
   ]
  },
  {
   "cell_type": "code",
   "execution_count": 8,
   "metadata": {
    "collapsed": true
   },
   "outputs": [],
   "source": [
    "# get column list to use in making author dictionaries\n",
    "cols =  authors_w_play_id.columns"
   ]
  },
  {
   "cell_type": "code",
   "execution_count": 9,
   "metadata": {
    "collapsed": true
   },
   "outputs": [],
   "source": [
    "# make empty data frame to fill during for loop\n",
    "final_auth_df = pd.DataFrame({})"
   ]
  },
  {
   "cell_type": "code",
   "execution_count": 10,
   "metadata": {
    "collapsed": true
   },
   "outputs": [],
   "source": [
    "# for each author :\n",
    "for id_num in auth_id_list:\n",
    "    # make a temporary slice of all records of the author\n",
    "    temp_auth = authors_w_play_id.loc[authors_w_play_id['author_id'] == id_num]\n",
    "    \n",
    "    # make a dictionary of the first record of the author\n",
    "    vals = []\n",
    "    for col in cols:\n",
    "        vals.append(temp_auth[:1][col].values[0])\n",
    "    \n",
    "    temp_dict = dict(zip(cols, vals))\n",
    "        \n",
    "    # make a temporary array of all the plays associated with the author\n",
    "    temp_auth_plays = list(temp_auth['play_id'])\n",
    "    \n",
    "    # replace the author's single play id with the array of plays\n",
    "    temp_dict['play_id'] = temp_auth_plays\n",
    "    \n",
    "    # append updated author dictionary to dataframe\n",
    "    final_auth_df = final_auth_df.append(temp_dict, ignore_index=True)"
   ]
  },
  {
   "cell_type": "code",
   "execution_count": 11,
   "metadata": {
    "collapsed": true
   },
   "outputs": [],
   "source": [
    "# troublshoot author_id being recast as float\n",
    "final_auth_df['author_id'] = final_auth_df['author_id'].astype(int).astype('str')"
   ]
  },
  {
   "cell_type": "markdown",
   "metadata": {},
   "source": [
    "## Final author table, with array of plays per author record:\n",
    "___________"
   ]
  },
  {
   "cell_type": "code",
   "execution_count": 12,
   "metadata": {},
   "outputs": [
    {
     "data": {
      "text/html": [
       "<div>\n",
       "<style>\n",
       "    .dataframe thead tr:only-child th {\n",
       "        text-align: right;\n",
       "    }\n",
       "\n",
       "    .dataframe thead th {\n",
       "        text-align: left;\n",
       "    }\n",
       "\n",
       "    .dataframe tbody tr th {\n",
       "        vertical-align: top;\n",
       "    }\n",
       "</style>\n",
       "<table border=\"1\" class=\"dataframe\">\n",
       "  <thead>\n",
       "    <tr style=\"text-align: right;\">\n",
       "      <th></th>\n",
       "      <th>author_id</th>\n",
       "      <th>dates</th>\n",
       "      <th>label</th>\n",
       "      <th>label_ka</th>\n",
       "      <th>play_id</th>\n",
       "      <th>reference</th>\n",
       "      <th>sort_ja</th>\n",
       "    </tr>\n",
       "  </thead>\n",
       "  <tbody>\n",
       "    <tr>\n",
       "      <th>0</th>\n",
       "      <td>1</td>\n",
       "      <td>fl. 1741-1767</td>\n",
       "      <td>Asada Icchō</td>\n",
       "      <td>浅田一鳥</td>\n",
       "      <td>[19.0, 72.0, 105.0, 122.0]</td>\n",
       "      <td>LC Authorities</td>\n",
       "      <td>あさだいっちょう</td>\n",
       "    </tr>\n",
       "    <tr>\n",
       "      <th>1</th>\n",
       "      <td>2</td>\n",
       "      <td>NaN</td>\n",
       "      <td>Ashikawa Teruha</td>\n",
       "      <td>芦川照葉</td>\n",
       "      <td>[173.0]</td>\n",
       "      <td>LC Authorities</td>\n",
       "      <td>あしかわてるは</td>\n",
       "    </tr>\n",
       "    <tr>\n",
       "      <th>2</th>\n",
       "      <td>4</td>\n",
       "      <td>d. 1786 or 7</td>\n",
       "      <td>Chikamatsu Hanji</td>\n",
       "      <td>近松半二</td>\n",
       "      <td>[11.0, 21.0, 25.0, 27.0, 29.0, 33.0, 52.0, 79....</td>\n",
       "      <td>LC Authorities</td>\n",
       "      <td>ちかまつはんじ</td>\n",
       "    </tr>\n",
       "    <tr>\n",
       "      <th>3</th>\n",
       "      <td>5</td>\n",
       "      <td>NaN</td>\n",
       "      <td>Chikamatsu Kosuiken</td>\n",
       "      <td>近松湖水軒</td>\n",
       "      <td>[16.0]</td>\n",
       "      <td>繪本太功記 / 近松やなぎ, 近松湖水軒, 千葉軒合作, 東京 : 金櫻堂, 1890.12...</td>\n",
       "      <td>ちかまつこすいけん</td>\n",
       "    </tr>\n",
       "    <tr>\n",
       "      <th>4</th>\n",
       "      <td>6</td>\n",
       "      <td>NaN</td>\n",
       "      <td>Chikamatsu Monzaemon</td>\n",
       "      <td>近松門左衛門</td>\n",
       "      <td>[1.0, 2.0, 3.0, 4.0, 7.0, 8.0, 17.0, 24.0, 28....</td>\n",
       "      <td>LC Authorities</td>\n",
       "      <td>ちかまつもんざえもん</td>\n",
       "    </tr>\n",
       "  </tbody>\n",
       "</table>\n",
       "</div>"
      ],
      "text/plain": [
       "  author_id          dates                 label label_ka  \\\n",
       "0         1  fl. 1741-1767           Asada Icchō     浅田一鳥   \n",
       "1         2            NaN       Ashikawa Teruha     芦川照葉   \n",
       "2         4   d. 1786 or 7      Chikamatsu Hanji     近松半二   \n",
       "3         5            NaN   Chikamatsu Kosuiken    近松湖水軒   \n",
       "4         6            NaN  Chikamatsu Monzaemon   近松門左衛門   \n",
       "\n",
       "                                             play_id  \\\n",
       "0                         [19.0, 72.0, 105.0, 122.0]   \n",
       "1                                            [173.0]   \n",
       "2  [11.0, 21.0, 25.0, 27.0, 29.0, 33.0, 52.0, 79....   \n",
       "3                                             [16.0]   \n",
       "4  [1.0, 2.0, 3.0, 4.0, 7.0, 8.0, 17.0, 24.0, 28....   \n",
       "\n",
       "                                           reference     sort_ja  \n",
       "0                                     LC Authorities    あさだいっちょう  \n",
       "1                                     LC Authorities     あしかわてるは  \n",
       "2                                     LC Authorities     ちかまつはんじ  \n",
       "3  繪本太功記 / 近松やなぎ, 近松湖水軒, 千葉軒合作, 東京 : 金櫻堂, 1890.12...   ちかまつこすいけん  \n",
       "4                                     LC Authorities  ちかまつもんざえもん  "
      ]
     },
     "execution_count": 12,
     "metadata": {},
     "output_type": "execute_result"
    }
   ],
   "source": [
    "final_auth_df.head()"
   ]
  },
  {
   "cell_type": "markdown",
   "metadata": {},
   "source": [
    "## Final author table as json records:\n",
    "____________"
   ]
  },
  {
   "cell_type": "code",
   "execution_count": 14,
   "metadata": {},
   "outputs": [],
   "source": [
    "filename = 'authors_exp.csv'\n",
    "final_auth_df.to_csv(filename, encoding='utf8')\n",
    "# save final dataframe to json file\n",
    "# json_name = 'authors_with_play_id_array.json'\n",
    "# final_auth_df.to_json(json_name, orient=\"records\", force_ascii=False)"
   ]
  },
  {
   "cell_type": "code",
   "execution_count": null,
   "metadata": {
    "collapsed": true
   },
   "outputs": [],
   "source": []
  }
 ],
 "metadata": {
  "kernelspec": {
   "display_name": "Python 2",
   "language": "python",
   "name": "python2"
  },
  "language_info": {
   "codemirror_mode": {
    "name": "ipython",
    "version": 2
   },
   "file_extension": ".py",
   "mimetype": "text/x-python",
   "name": "python",
   "nbconvert_exporter": "python",
   "pygments_lexer": "ipython2",
   "version": "2.7.13"
  }
 },
 "nbformat": 4,
 "nbformat_minor": 2
}
