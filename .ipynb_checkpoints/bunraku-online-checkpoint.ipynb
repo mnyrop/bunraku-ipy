{
 "cells": [
  {
   "cell_type": "markdown",
   "metadata": {},
   "source": [
    "\n",
    "\n",
    "# Bunraku Online Collection \n",
    "__Data Transformation SQL CSVs -> JSON__\n",
    "\n",
    "<hr/>\n",
    "\n",
    "### Data files to generate:\n",
    "\n",
    "- __authors: 123__\n",
    "- __characters: 2,107__ — 12,460\n",
    "- __creators: 6__\n",
    "- __images: 14,636__\n",
    "- __kashira: 129__ — 12,364\n",
    "- __performances: 931__ — 18,533\n",
    "- __performers: 184__ — 10,442\n",
    "- __plays: 178__ — 13,504\n",
    "- __productions: 293__ — 13,477\n",
    "- __pscenes: 2,609__ — 13,010\n",
    "- __spucks: 16,625__ \n",
    "- __tags: 76__ — 5,668\n",
    "\n",
    "\n",
    "\n",
    "# Setup:\n",
    "<hr/>"
   ]
  },
  {
   "cell_type": "code",
   "execution_count": 1,
   "metadata": {
    "collapsed": true
   },
   "outputs": [],
   "source": [
    "import pandas as pd\n",
    "pd.set_option('max_colwidth',1000)\n",
    "pd.set_option('max_seq_items','none')\n",
    "pd.set_option('display.max_colwidth',50)"
   ]
  },
  {
   "cell_type": "code",
   "execution_count": 2,
   "metadata": {
    "collapsed": true
   },
   "outputs": [],
   "source": [
    "# import data as dtype=object to avoid NaN/Float conversion of IDs\n",
    "authors = pd.read_csv('in/authors.csv', dtype=object)\n",
    "characters = pd.read_csv('in/characters.csv', dtype=object)\n",
    "creators = pd.read_csv('in/creators.csv', dtype=object)\n",
    "images = pd.read_csv('in/imagesonline.csv', dtype=object)\n",
    "kashira = pd.read_csv('in/kashira.csv', dtype=object)\n",
    "performances = pd.read_csv('in/performances.csv', dtype=object)\n",
    "performers = pd.read_csv('in/performers.csv', dtype=object)\n",
    "plays = pd.read_csv('in/plays.csv', dtype=object)\n",
    "productions = pd.read_csv('in/productions.csv', dtype=object)\n",
    "pscenes = pd.read_csv('in/scenes_productions.csv', dtype=object)\n",
    "scenes = pd.read_csv('in/scenes.csv', dtype=object)\n",
    "shamisenplayers = pd.read_csv('in/sceneshamisens.csv', dtype=object)\n",
    "musicians = pd.read_csv('in/scenekotokokyus.csv', dtype=object)\n",
    "narrators = pd.read_csv('in/scenetayus.csv', dtype=object)\n",
    "spucks = pd.read_csv('in/spucks.csv', dtype=object)\n",
    "tags = pd.read_csv('in/tags.csv', dtype=object)\n",
    "\n",
    "# import + drop duplicates on join tables\n",
    "authors_plays = pd.read_csv('in/authors_plays.csv', dtype=object).drop_duplicates()\n",
    "characters_images = pd.read_csv('in/characters_images.csv', dtype=object).drop_duplicates()\n",
    "characters_plays = pd.read_csv('in/characters_plays.csv', dtype=object).drop_duplicates()\n",
    "kashira_images = pd.read_csv('in/kashira_images.csv', dtype=object).drop_duplicates()\n",
    "kashira_plays = pd.read_csv('in/kashira_plays.csv', dtype=object).drop_duplicates()\n",
    "performances_images = pd.read_csv('in/performances_images.csv', dtype=object).drop_duplicates()\n",
    "performers_images = pd.read_csv('in/performers_images.csv', dtype=object).drop_duplicates()\n",
    "plays_images = pd.read_csv('in/plays_images.csv', dtype=object).drop_duplicates()\n",
    "productions_images = pd.read_csv('in/productions_images.csv', dtype=object).drop_duplicates()\n",
    "scenes_images = pd.read_csv('in/scenes_images.csv', dtype=object).drop_duplicates()\n",
    "tags_images = pd.read_csv('in/tags_images.csv', dtype=object).drop_duplicates()\n",
    "\n",
    "# Clean up non-online images from image join  tables\n",
    "imagesonline = images.rename(columns={'id':'image_id'})\n",
    "characters_images = pd.merge(characters_images, imagesonline, on='image_id', how='inner')\n",
    "kashira_images = pd.merge(kashira_images, imagesonline, on='image_id', how='inner')\n",
    "performers_images = pd.merge(performers_images, imagesonline, on='image_id', how='inner')\n",
    "plays_images = pd.merge(plays_images, imagesonline, on='image_id', how='inner')\n",
    "productions_images = pd.merge(productions_images, imagesonline, on='image_id', how='inner')\n",
    "scenes_images = pd.merge(scenes_images, imagesonline, on='image_id', how='inner')\n",
    "tags_images = pd.merge(tags_images, imagesonline, on='image_id', how='inner')"
   ]
  },
  {
   "cell_type": "markdown",
   "metadata": {},
   "source": [
    "# Authors:\n",
    "- Add array of play_ids per author\n",
    "\n",
    "<hr/>"
   ]
  },
  {
   "cell_type": "code",
   "execution_count": 3,
   "metadata": {},
   "outputs": [
    {
     "name": "stdout",
     "output_type": "stream",
     "text": [
      "Starting row count: 123\n"
     ]
    }
   ],
   "source": [
    "print \"Starting row count: \" + str(len(authors.index))"
   ]
  },
  {
   "cell_type": "code",
   "execution_count": 4,
   "metadata": {},
   "outputs": [
    {
     "data": {
      "text/html": [
       "<div>\n",
       "<style>\n",
       "    .dataframe thead tr:only-child th {\n",
       "        text-align: right;\n",
       "    }\n",
       "\n",
       "    .dataframe thead th {\n",
       "        text-align: left;\n",
       "    }\n",
       "\n",
       "    .dataframe tbody tr th {\n",
       "        vertical-align: top;\n",
       "    }\n",
       "</style>\n",
       "<table border=\"1\" class=\"dataframe\">\n",
       "  <thead>\n",
       "    <tr style=\"text-align: right;\">\n",
       "      <th></th>\n",
       "      <th>author_id</th>\n",
       "      <th>label_eng</th>\n",
       "      <th>label_ka</th>\n",
       "      <th>dates</th>\n",
       "      <th>reference</th>\n",
       "      <th>sort_ja</th>\n",
       "      <th>play_id</th>\n",
       "    </tr>\n",
       "  </thead>\n",
       "  <tbody>\n",
       "    <tr>\n",
       "      <th>0</th>\n",
       "      <td>1</td>\n",
       "      <td>Asada Icchō</td>\n",
       "      <td>浅田一鳥</td>\n",
       "      <td>fl. 1741-1767</td>\n",
       "      <td>LC Authorities</td>\n",
       "      <td>あさだいっちょう</td>\n",
       "      <td>[19, 72, 105, 122]</td>\n",
       "    </tr>\n",
       "    <tr>\n",
       "      <th>1</th>\n",
       "      <td>2</td>\n",
       "      <td>Ashikawa Teruha</td>\n",
       "      <td>芦川照葉</td>\n",
       "      <td>NaN</td>\n",
       "      <td>LC Authorities</td>\n",
       "      <td>あしかわてるは</td>\n",
       "      <td>[173]</td>\n",
       "    </tr>\n",
       "    <tr>\n",
       "      <th>2</th>\n",
       "      <td>4</td>\n",
       "      <td>Chikamatsu Hanji</td>\n",
       "      <td>近松半二</td>\n",
       "      <td>d. 1786 or 7</td>\n",
       "      <td>LC Authorities</td>\n",
       "      <td>ちかまつはんじ</td>\n",
       "      <td>[11, 21, 25, 27, 29, 33, 52, 79, 80, 90, 101, ...</td>\n",
       "    </tr>\n",
       "    <tr>\n",
       "      <th>3</th>\n",
       "      <td>5</td>\n",
       "      <td>Chikamatsu Kosuiken</td>\n",
       "      <td>近松湖水軒</td>\n",
       "      <td>NaN</td>\n",
       "      <td>繪本太功記 / 近松やなぎ, 近松湖水軒, 千葉軒合作, 東京 : 金櫻堂, 1890.12...</td>\n",
       "      <td>ちかまつこすいけん</td>\n",
       "      <td>[16]</td>\n",
       "    </tr>\n",
       "    <tr>\n",
       "      <th>4</th>\n",
       "      <td>6</td>\n",
       "      <td>Chikamatsu Monzaemon</td>\n",
       "      <td>近松門左衛門</td>\n",
       "      <td>NaN</td>\n",
       "      <td>LC Authorities</td>\n",
       "      <td>ちかまつもんざえもん</td>\n",
       "      <td>[1, 2, 3, 4, 7, 8, 17, 24, 28, 34, 40, 41, 54,...</td>\n",
       "    </tr>\n",
       "  </tbody>\n",
       "</table>\n",
       "</div>"
      ],
      "text/plain": [
       "  author_id             label_eng label_ka          dates  \\\n",
       "0         1           Asada Icchō     浅田一鳥  fl. 1741-1767   \n",
       "1         2       Ashikawa Teruha     芦川照葉            NaN   \n",
       "2         4      Chikamatsu Hanji     近松半二   d. 1786 or 7   \n",
       "3         5   Chikamatsu Kosuiken    近松湖水軒            NaN   \n",
       "4         6  Chikamatsu Monzaemon   近松門左衛門            NaN   \n",
       "\n",
       "                                           reference     sort_ja  \\\n",
       "0                                     LC Authorities    あさだいっちょう   \n",
       "1                                     LC Authorities     あしかわてるは   \n",
       "2                                     LC Authorities     ちかまつはんじ   \n",
       "3  繪本太功記 / 近松やなぎ, 近松湖水軒, 千葉軒合作, 東京 : 金櫻堂, 1890.12...   ちかまつこすいけん   \n",
       "4                                     LC Authorities  ちかまつもんざえもん   \n",
       "\n",
       "                                             play_id  \n",
       "0                                 [19, 72, 105, 122]  \n",
       "1                                              [173]  \n",
       "2  [11, 21, 25, 27, 29, 33, 52, 79, 80, 90, 101, ...  \n",
       "3                                               [16]  \n",
       "4  [1, 2, 3, 4, 7, 8, 17, 24, 28, 34, 40, 41, 54,...  "
      ]
     },
     "execution_count": 4,
     "metadata": {},
     "output_type": "execute_result"
    }
   ],
   "source": [
    "# add plays\n",
    "authors = authors.merge(authors_plays.groupby('author_id')['play_id'].apply(list).reset_index(), how='left')\n",
    "\n",
    "authors.head()"
   ]
  },
  {
   "cell_type": "code",
   "execution_count": 5,
   "metadata": {},
   "outputs": [
    {
     "name": "stdout",
     "output_type": "stream",
     "text": [
      "Final row count: 123\n"
     ]
    }
   ],
   "source": [
    "print \"Final row count: \" + str(len(authors.index))"
   ]
  },
  {
   "cell_type": "markdown",
   "metadata": {},
   "source": [
    "# Characters:\n",
    "- Add array of play_ids + array of image_ids per character\n",
    "\n",
    "<hr/>"
   ]
  },
  {
   "cell_type": "code",
   "execution_count": 6,
   "metadata": {},
   "outputs": [
    {
     "name": "stdout",
     "output_type": "stream",
     "text": [
      "Starting row count: 2107\n"
     ]
    }
   ],
   "source": [
    "print \"Starting row count: \" + str(len(characters.index))"
   ]
  },
  {
   "cell_type": "code",
   "execution_count": 7,
   "metadata": {},
   "outputs": [
    {
     "data": {
      "text/html": [
       "<div>\n",
       "<style>\n",
       "    .dataframe thead tr:only-child th {\n",
       "        text-align: right;\n",
       "    }\n",
       "\n",
       "    .dataframe thead th {\n",
       "        text-align: left;\n",
       "    }\n",
       "\n",
       "    .dataframe tbody tr th {\n",
       "        vertical-align: top;\n",
       "    }\n",
       "</style>\n",
       "<table border=\"1\" class=\"dataframe\">\n",
       "  <thead>\n",
       "    <tr style=\"text-align: right;\">\n",
       "      <th></th>\n",
       "      <th>character_id</th>\n",
       "      <th>label_eng</th>\n",
       "      <th>label_ja</th>\n",
       "      <th>label_ka</th>\n",
       "      <th>authority_control</th>\n",
       "      <th>sort_ja</th>\n",
       "      <th>play_id</th>\n",
       "      <th>image_id</th>\n",
       "    </tr>\n",
       "  </thead>\n",
       "  <tbody>\n",
       "    <tr>\n",
       "      <th>0</th>\n",
       "      <td>1</td>\n",
       "      <td>Farmer</td>\n",
       "      <td>Oyaji</td>\n",
       "      <td>おやじ</td>\n",
       "      <td>August 1989 Program</td>\n",
       "      <td>おやじ</td>\n",
       "      <td>[162]</td>\n",
       "      <td>[56170]</td>\n",
       "    </tr>\n",
       "    <tr>\n",
       "      <th>1</th>\n",
       "      <td>2</td>\n",
       "      <td>Farmer's wife</td>\n",
       "      <td>Nyōbō</td>\n",
       "      <td>女房</td>\n",
       "      <td>August 1989 Program</td>\n",
       "      <td>にょうぼう</td>\n",
       "      <td>[162]</td>\n",
       "      <td>NaN</td>\n",
       "    </tr>\n",
       "    <tr>\n",
       "      <th>2</th>\n",
       "      <td>3</td>\n",
       "      <td>Magotaro, a horse</td>\n",
       "      <td>Magotarō, Uma</td>\n",
       "      <td>孫太郎（馬）</td>\n",
       "      <td>August 1989 Program</td>\n",
       "      <td>まごたろう（うま）</td>\n",
       "      <td>[162]</td>\n",
       "      <td>NaN</td>\n",
       "    </tr>\n",
       "    <tr>\n",
       "      <th>3</th>\n",
       "      <td>4</td>\n",
       "      <td>Local governor</td>\n",
       "      <td>Odaikan</td>\n",
       "      <td>お代官</td>\n",
       "      <td>August 1989 Program</td>\n",
       "      <td>おだいかん</td>\n",
       "      <td>[162]</td>\n",
       "      <td>NaN</td>\n",
       "    </tr>\n",
       "    <tr>\n",
       "      <th>4</th>\n",
       "      <td>5</td>\n",
       "      <td>Local governor's assistant</td>\n",
       "      <td>Odaikan no kobun</td>\n",
       "      <td>お代官のこぶん</td>\n",
       "      <td>August 1989 Program</td>\n",
       "      <td>おだいかんのこぶん</td>\n",
       "      <td>[162]</td>\n",
       "      <td>NaN</td>\n",
       "    </tr>\n",
       "  </tbody>\n",
       "</table>\n",
       "</div>"
      ],
      "text/plain": [
       "  character_id                   label_eng          label_ja label_ka  \\\n",
       "0            1                      Farmer             Oyaji      おやじ   \n",
       "1            2               Farmer's wife             Nyōbō       女房   \n",
       "2            3           Magotaro, a horse     Magotarō, Uma   孫太郎（馬）   \n",
       "3            4              Local governor           Odaikan      お代官   \n",
       "4            5  Local governor's assistant  Odaikan no kobun  お代官のこぶん   \n",
       "\n",
       "     authority_control    sort_ja play_id image_id  \n",
       "0  August 1989 Program        おやじ   [162]  [56170]  \n",
       "1  August 1989 Program      にょうぼう   [162]      NaN  \n",
       "2  August 1989 Program  まごたろう（うま）   [162]      NaN  \n",
       "3  August 1989 Program      おだいかん   [162]      NaN  \n",
       "4  August 1989 Program  おだいかんのこぶん   [162]      NaN  "
      ]
     },
     "execution_count": 7,
     "metadata": {},
     "output_type": "execute_result"
    }
   ],
   "source": [
    "# add  plays\n",
    "characters = characters.merge(characters_plays.groupby('character_id')['play_id'].apply(list).reset_index(), how='left')\n",
    "# add images\n",
    "characters = characters.merge(characters_images.groupby('character_id')['image_id'].apply(list).reset_index(), how='left')\n",
    "characters = characters.drop('character_code',1)\n",
    "\n",
    "characters.head()"
   ]
  },
  {
   "cell_type": "code",
   "execution_count": 8,
   "metadata": {},
   "outputs": [
    {
     "name": "stdout",
     "output_type": "stream",
     "text": [
      "Final row count: 2107\n"
     ]
    }
   ],
   "source": [
    "print \"Final row count: \" + str(len(characters.index))"
   ]
  },
  {
   "cell_type": "markdown",
   "metadata": {},
   "source": [
    "# Images:\n",
    "- Add arrays of: character_ids, kashira_ids, performance_ids, performer_ids, play_ids, production_ids, scene_ids, and tag_ids for each image.\n",
    "\n",
    "<hr/>"
   ]
  },
  {
   "cell_type": "code",
   "execution_count": 9,
   "metadata": {},
   "outputs": [
    {
     "name": "stdout",
     "output_type": "stream",
     "text": [
      "Starting row count: 14636\n"
     ]
    }
   ],
   "source": [
    "print \"Starting row count: \" + str(len(images.index))"
   ]
  },
  {
   "cell_type": "code",
   "execution_count": 10,
   "metadata": {
    "collapsed": true
   },
   "outputs": [],
   "source": [
    "images = images.drop('online', 1)\n",
    "images = images.replace({'Barbara C. Adachi':'1','Fukuda Fumio':'2','Harri Peccinotti':'3','M. Arai':'4','Toyotake Komatsudayū II':'5','Unknown. Photo: Columbia University Libraries':'6'})"
   ]
  },
  {
   "cell_type": "code",
   "execution_count": 11,
   "metadata": {
    "collapsed": true
   },
   "outputs": [],
   "source": [
    "# add characters\n",
    "images = images.merge(characters_images.groupby('image_id')['character_id'].apply(list).reset_index(), how='left')\n",
    "# add kashira\n",
    "images = images.merge(kashira_images.groupby('image_id')['kashira_id'].apply(list).reset_index(), how='left')\n",
    "# add performances\n",
    "images = images.merge(performances_images.groupby('image_id')['performance_id'].apply(list).reset_index(), how='left')\n",
    "# add performers\n",
    "images = images.merge(performers_images.groupby('image_id')['performer_id'].apply(list).reset_index(), how='left')\n",
    "# add plays\n",
    "images = images.merge(plays_images.groupby('image_id')['play_id'].apply(list).reset_index(), how='left')\n",
    "# add productions\n",
    "images = images.merge(productions_images.groupby('image_id')['production_id'].apply(list).reset_index(), how='left')\n",
    "# add scenes\n",
    "images = images.merge(scenes_images.groupby('image_id')['pscene_id'].apply(list).reset_index(), how='left')\n",
    "# add tags\n",
    "images = images.merge(tags_images.groupby('image_id')['tag_id'].apply(list).reset_index(), how='left')"
   ]
  },
  {
   "cell_type": "code",
   "execution_count": 12,
   "metadata": {},
   "outputs": [
    {
     "data": {
      "text/html": [
       "<div>\n",
       "<style>\n",
       "    .dataframe thead tr:only-child th {\n",
       "        text-align: right;\n",
       "    }\n",
       "\n",
       "    .dataframe thead th {\n",
       "        text-align: left;\n",
       "    }\n",
       "\n",
       "    .dataframe tbody tr th {\n",
       "        vertical-align: top;\n",
       "    }\n",
       "</style>\n",
       "<table border=\"1\" class=\"dataframe\">\n",
       "  <thead>\n",
       "    <tr style=\"text-align: right;\">\n",
       "      <th></th>\n",
       "      <th>image_id</th>\n",
       "      <th>media_type</th>\n",
       "      <th>character_id</th>\n",
       "      <th>tag_id</th>\n",
       "      <th>kashira_id</th>\n",
       "      <th>performance_id</th>\n",
       "      <th>performer_id</th>\n",
       "      <th>play_id</th>\n",
       "      <th>production_id</th>\n",
       "      <th>pscene_id</th>\n",
       "      <th>container</th>\n",
       "      <th>container_type</th>\n",
       "      <th>creator</th>\n",
       "      <th>item_id</th>\n",
       "      <th>colser_id</th>\n",
       "      <th>notes</th>\n",
       "      <th>objid</th>\n",
       "      <th>sequence</th>\n",
       "      <th>series</th>\n",
       "      <th>slidepage_folder</th>\n",
       "    </tr>\n",
       "  </thead>\n",
       "  <tbody>\n",
       "    <tr>\n",
       "      <th>0</th>\n",
       "      <td>8281</td>\n",
       "      <td>slide</td>\n",
       "      <td>[452, 453, 454, 455, 456, 2312]</td>\n",
       "      <td>[43, 73]</td>\n",
       "      <td>[33, 3, 35, 106, 77]</td>\n",
       "      <td>[310]</td>\n",
       "      <td>NaN</td>\n",
       "      <td>[26]</td>\n",
       "      <td>[86]</td>\n",
       "      <td>[128]</td>\n",
       "      <td>46</td>\n",
       "      <td>Slide Binder</td>\n",
       "      <td>1</td>\n",
       "      <td>0001</td>\n",
       "      <td>2</td>\n",
       "      <td>2</td>\n",
       "      <td>ldpd_bun_slide_452_2_0001_0001</td>\n",
       "      <td>0001</td>\n",
       "      <td>2</td>\n",
       "      <td>452</td>\n",
       "    </tr>\n",
       "    <tr>\n",
       "      <th>1</th>\n",
       "      <td>8282</td>\n",
       "      <td>slide</td>\n",
       "      <td>[452, 453, 454, 455, 456, 2312]</td>\n",
       "      <td>[43, 73]</td>\n",
       "      <td>[33, 3, 35, 106, 77]</td>\n",
       "      <td>[310]</td>\n",
       "      <td>NaN</td>\n",
       "      <td>[26]</td>\n",
       "      <td>[86]</td>\n",
       "      <td>[128]</td>\n",
       "      <td>46</td>\n",
       "      <td>Slide Binder</td>\n",
       "      <td>1</td>\n",
       "      <td>0002</td>\n",
       "      <td>2</td>\n",
       "      <td>6</td>\n",
       "      <td>ldpd_bun_slide_452_2_0002_0002</td>\n",
       "      <td>0002</td>\n",
       "      <td>2</td>\n",
       "      <td>452</td>\n",
       "    </tr>\n",
       "    <tr>\n",
       "      <th>2</th>\n",
       "      <td>8283</td>\n",
       "      <td>slide</td>\n",
       "      <td>[452, 453, 454, 455, 456, 2312]</td>\n",
       "      <td>[43, 73]</td>\n",
       "      <td>[33, 3, 35, 106, 77]</td>\n",
       "      <td>[310]</td>\n",
       "      <td>NaN</td>\n",
       "      <td>[26]</td>\n",
       "      <td>[86]</td>\n",
       "      <td>[128]</td>\n",
       "      <td>46</td>\n",
       "      <td>Slide Binder</td>\n",
       "      <td>1</td>\n",
       "      <td>0003</td>\n",
       "      <td>2</td>\n",
       "      <td>7</td>\n",
       "      <td>ldpd_bun_slide_452_2_0003_0003</td>\n",
       "      <td>0003</td>\n",
       "      <td>2</td>\n",
       "      <td>452</td>\n",
       "    </tr>\n",
       "    <tr>\n",
       "      <th>3</th>\n",
       "      <td>8284</td>\n",
       "      <td>slide</td>\n",
       "      <td>[453, 454, 455, 452, 2312]</td>\n",
       "      <td>[43, 73]</td>\n",
       "      <td>[3, 35, 33, 77]</td>\n",
       "      <td>[310]</td>\n",
       "      <td>NaN</td>\n",
       "      <td>[26]</td>\n",
       "      <td>[86]</td>\n",
       "      <td>[128]</td>\n",
       "      <td>46</td>\n",
       "      <td>Slide Binder</td>\n",
       "      <td>1</td>\n",
       "      <td>0004</td>\n",
       "      <td>2</td>\n",
       "      <td>0</td>\n",
       "      <td>ldpd_bun_slide_452_2_0004_0004</td>\n",
       "      <td>0004</td>\n",
       "      <td>2</td>\n",
       "      <td>452</td>\n",
       "    </tr>\n",
       "    <tr>\n",
       "      <th>4</th>\n",
       "      <td>8285</td>\n",
       "      <td>slide</td>\n",
       "      <td>[452, 454, 2312]</td>\n",
       "      <td>[43]</td>\n",
       "      <td>[33, 35, 77]</td>\n",
       "      <td>[310]</td>\n",
       "      <td>NaN</td>\n",
       "      <td>[26]</td>\n",
       "      <td>[86]</td>\n",
       "      <td>[128]</td>\n",
       "      <td>46</td>\n",
       "      <td>Slide Binder</td>\n",
       "      <td>1</td>\n",
       "      <td>0005</td>\n",
       "      <td>2</td>\n",
       "      <td>4</td>\n",
       "      <td>ldpd_bun_slide_452_2_0005_0005</td>\n",
       "      <td>0005</td>\n",
       "      <td>2</td>\n",
       "      <td>452</td>\n",
       "    </tr>\n",
       "  </tbody>\n",
       "</table>\n",
       "</div>"
      ],
      "text/plain": [
       "  image_id media_type                     character_id    tag_id  \\\n",
       "0     8281      slide  [452, 453, 454, 455, 456, 2312]  [43, 73]   \n",
       "1     8282      slide  [452, 453, 454, 455, 456, 2312]  [43, 73]   \n",
       "2     8283      slide  [452, 453, 454, 455, 456, 2312]  [43, 73]   \n",
       "3     8284      slide       [453, 454, 455, 452, 2312]  [43, 73]   \n",
       "4     8285      slide                 [452, 454, 2312]      [43]   \n",
       "\n",
       "             kashira_id performance_id performer_id play_id production_id  \\\n",
       "0  [33, 3, 35, 106, 77]          [310]          NaN    [26]          [86]   \n",
       "1  [33, 3, 35, 106, 77]          [310]          NaN    [26]          [86]   \n",
       "2  [33, 3, 35, 106, 77]          [310]          NaN    [26]          [86]   \n",
       "3       [3, 35, 33, 77]          [310]          NaN    [26]          [86]   \n",
       "4          [33, 35, 77]          [310]          NaN    [26]          [86]   \n",
       "\n",
       "  pscene_id container container_type creator item_id colser_id notes  \\\n",
       "0     [128]        46   Slide Binder       1    0001         2     2   \n",
       "1     [128]        46   Slide Binder       1    0002         2     6   \n",
       "2     [128]        46   Slide Binder       1    0003         2     7   \n",
       "3     [128]        46   Slide Binder       1    0004         2     0   \n",
       "4     [128]        46   Slide Binder       1    0005         2     4   \n",
       "\n",
       "                            objid sequence series slidepage_folder  \n",
       "0  ldpd_bun_slide_452_2_0001_0001     0001      2              452  \n",
       "1  ldpd_bun_slide_452_2_0002_0002     0002      2              452  \n",
       "2  ldpd_bun_slide_452_2_0003_0003     0003      2              452  \n",
       "3  ldpd_bun_slide_452_2_0004_0004     0004      2              452  \n",
       "4  ldpd_bun_slide_452_2_0005_0005     0005      2              452  "
      ]
     },
     "execution_count": 12,
     "metadata": {},
     "output_type": "execute_result"
    }
   ],
   "source": [
    "images = images[['image_id','media_type','character_id','tag_id','kashira_id','performance_id','performer_id','play_id','production_id','pscene_id','container','container_type','creator','item_id','colser_id','notes','objid','sequence','series','slidepage_folder']]\n",
    "images.head()"
   ]
  },
  {
   "cell_type": "code",
   "execution_count": 13,
   "metadata": {},
   "outputs": [
    {
     "name": "stdout",
     "output_type": "stream",
     "text": [
      "Final row count: 14636\n"
     ]
    }
   ],
   "source": [
    "print \"Final row count: \" + str(len(images.index))"
   ]
  },
  {
   "cell_type": "markdown",
   "metadata": {},
   "source": [
    "# Kashira:\n",
    "- Add arrays of image_ids and play_ids for each kashira.\n",
    "\n",
    "<hr/>"
   ]
  },
  {
   "cell_type": "code",
   "execution_count": 14,
   "metadata": {},
   "outputs": [
    {
     "name": "stdout",
     "output_type": "stream",
     "text": [
      "Starting row count: 129\n"
     ]
    }
   ],
   "source": [
    "print \"Starting row count: \" + str(len(kashira.index))"
   ]
  },
  {
   "cell_type": "code",
   "execution_count": 15,
   "metadata": {
    "collapsed": true
   },
   "outputs": [],
   "source": [
    "# add images\n",
    "kashira = kashira.merge(kashira_images.groupby('kashira_id')['image_id'].apply(list).reset_index(), how='left')\n",
    "# add plays\n",
    "kashira = kashira.merge(kashira_plays.groupby('kashira_id')['play_id'].apply(list).reset_index(), how='left')"
   ]
  },
  {
   "cell_type": "code",
   "execution_count": 16,
   "metadata": {},
   "outputs": [
    {
     "data": {
      "text/html": [
       "<div>\n",
       "<style>\n",
       "    .dataframe thead tr:only-child th {\n",
       "        text-align: right;\n",
       "    }\n",
       "\n",
       "    .dataframe thead th {\n",
       "        text-align: left;\n",
       "    }\n",
       "\n",
       "    .dataframe tbody tr th {\n",
       "        vertical-align: top;\n",
       "    }\n",
       "</style>\n",
       "<table border=\"1\" class=\"dataframe\">\n",
       "  <thead>\n",
       "    <tr style=\"text-align: right;\">\n",
       "      <th></th>\n",
       "      <th>kashira_id</th>\n",
       "      <th>label_eng</th>\n",
       "      <th>label_ka</th>\n",
       "      <th>category</th>\n",
       "      <th>image_id</th>\n",
       "      <th>play_id</th>\n",
       "      <th>sort_ja</th>\n",
       "    </tr>\n",
       "  </thead>\n",
       "  <tbody>\n",
       "    <tr>\n",
       "      <th>0</th>\n",
       "      <td>1</td>\n",
       "      <td>Amanjaku</td>\n",
       "      <td>あまんじゃく</td>\n",
       "      <td>Special</td>\n",
       "      <td>NaN</td>\n",
       "      <td>NaN</td>\n",
       "      <td>あまんじゃく</td>\n",
       "    </tr>\n",
       "    <tr>\n",
       "      <th>1</th>\n",
       "      <td>2</td>\n",
       "      <td>Ebisu</td>\n",
       "      <td>恵比須</td>\n",
       "      <td>Special</td>\n",
       "      <td>NaN</td>\n",
       "      <td>[53]</td>\n",
       "      <td>えびす</td>\n",
       "    </tr>\n",
       "    <tr>\n",
       "      <th>2</th>\n",
       "      <td>3</td>\n",
       "      <td>Ōshūto</td>\n",
       "      <td>大舅</td>\n",
       "      <td>Male</td>\n",
       "      <td>[8281, 8282, 8283, 8284, 8287, 8289, 8291, 829...</td>\n",
       "      <td>[90, 27, 26, 62, 93, 24, 63, 11, 55, 78, 79, 1...</td>\n",
       "      <td>おおしゅうと</td>\n",
       "    </tr>\n",
       "    <tr>\n",
       "      <th>3</th>\n",
       "      <td>4</td>\n",
       "      <td>Ōdanshichi</td>\n",
       "      <td>大団七</td>\n",
       "      <td>Male</td>\n",
       "      <td>[8667, 8669, 8670, 8671, 8672, 8676, 8687, 868...</td>\n",
       "      <td>[26, 62, 93, 95, 90, 66, 77, 17, 40, 36, 135, ...</td>\n",
       "      <td>おおだんしち</td>\n",
       "    </tr>\n",
       "    <tr>\n",
       "      <th>4</th>\n",
       "      <td>5</td>\n",
       "      <td>Ochō no kodomo</td>\n",
       "      <td>お蝶の子供</td>\n",
       "      <td>Children</td>\n",
       "      <td>NaN</td>\n",
       "      <td>[155]</td>\n",
       "      <td>おちょうのこども</td>\n",
       "    </tr>\n",
       "  </tbody>\n",
       "</table>\n",
       "</div>"
      ],
      "text/plain": [
       "  kashira_id       label_eng label_ka  category  \\\n",
       "0          1        Amanjaku   あまんじゃく   Special   \n",
       "1          2           Ebisu      恵比須   Special   \n",
       "2          3          Ōshūto       大舅      Male   \n",
       "3          4      Ōdanshichi      大団七      Male   \n",
       "4          5  Ochō no kodomo    お蝶の子供  Children   \n",
       "\n",
       "                                            image_id  \\\n",
       "0                                                NaN   \n",
       "1                                                NaN   \n",
       "2  [8281, 8282, 8283, 8284, 8287, 8289, 8291, 829...   \n",
       "3  [8667, 8669, 8670, 8671, 8672, 8676, 8687, 868...   \n",
       "4                                                NaN   \n",
       "\n",
       "                                             play_id   sort_ja  \n",
       "0                                                NaN    あまんじゃく  \n",
       "1                                               [53]       えびす  \n",
       "2  [90, 27, 26, 62, 93, 24, 63, 11, 55, 78, 79, 1...    おおしゅうと  \n",
       "3  [26, 62, 93, 95, 90, 66, 77, 17, 40, 36, 135, ...    おおだんしち  \n",
       "4                                              [155]  おちょうのこども  "
      ]
     },
     "execution_count": 16,
     "metadata": {},
     "output_type": "execute_result"
    }
   ],
   "source": [
    "kashira = kashira[['kashira_id','label_eng','label_ka','category','image_id','play_id','sort_ja']]\n",
    "\n",
    "kashira.head()"
   ]
  },
  {
   "cell_type": "code",
   "execution_count": 17,
   "metadata": {},
   "outputs": [
    {
     "name": "stdout",
     "output_type": "stream",
     "text": [
      "Final row count: 129\n"
     ]
    }
   ],
   "source": [
    "print \"Final row count: \" + str(len(kashira.index))"
   ]
  },
  {
   "cell_type": "markdown",
   "metadata": {},
   "source": [
    "# Pscenes:\n",
    "\n",
    "(_i.e. scene data at performance level / transformation of scenesproductions.)_\n",
    "- Add labels and scene_order from scenes, and arrays of spuck_ids, narrator_ids, musician_ids, shamisen_ids, and image_ids for each pscene.\n",
    "\n",
    "<hr/>"
   ]
  },
  {
   "cell_type": "code",
   "execution_count": 18,
   "metadata": {},
   "outputs": [
    {
     "name": "stdout",
     "output_type": "stream",
     "text": [
      "Starting row count: 2609\n"
     ]
    }
   ],
   "source": [
    "print \"Starting row count: \" + str(len(pscenes.index))"
   ]
  },
  {
   "cell_type": "code",
   "execution_count": 19,
   "metadata": {
    "collapsed": true
   },
   "outputs": [],
   "source": [
    "# add labels and scene_order\n",
    "scenes = scenes[['scene_id','label_eng','label_ja','label_ka','scene_order']]\n",
    "pscenes = pscenes.drop('spuck_note',1).drop('tayu_shamisen_note',1)\n",
    "pscenes = pscenes.merge(scenes, how='left')"
   ]
  },
  {
   "cell_type": "code",
   "execution_count": 20,
   "metadata": {},
   "outputs": [
    {
     "data": {
      "text/html": [
       "<div>\n",
       "<style>\n",
       "    .dataframe thead tr:only-child th {\n",
       "        text-align: right;\n",
       "    }\n",
       "\n",
       "    .dataframe thead th {\n",
       "        text-align: left;\n",
       "    }\n",
       "\n",
       "    .dataframe tbody tr th {\n",
       "        vertical-align: top;\n",
       "    }\n",
       "</style>\n",
       "<table border=\"1\" class=\"dataframe\">\n",
       "  <thead>\n",
       "    <tr style=\"text-align: right;\">\n",
       "      <th></th>\n",
       "      <th>pscene_id</th>\n",
       "      <th>play_id</th>\n",
       "      <th>production_id</th>\n",
       "      <th>performance_id</th>\n",
       "      <th>scene_id</th>\n",
       "      <th>label_eng</th>\n",
       "      <th>label_ja</th>\n",
       "      <th>label_ka</th>\n",
       "      <th>scene_order</th>\n",
       "      <th>spuck_id</th>\n",
       "      <th>narrator_id</th>\n",
       "      <th>musician_id</th>\n",
       "      <th>shamisen_id</th>\n",
       "      <th>image_id</th>\n",
       "    </tr>\n",
       "  </thead>\n",
       "  <tbody>\n",
       "    <tr>\n",
       "      <th>0</th>\n",
       "      <td>1</td>\n",
       "      <td>86</td>\n",
       "      <td>1</td>\n",
       "      <td>2</td>\n",
       "      <td>313</td>\n",
       "      <td>The Tea Stall at Torii Pass</td>\n",
       "      <td>Torii tōge chamise</td>\n",
       "      <td>鳥居峠茶店</td>\n",
       "      <td>408</td>\n",
       "      <td>NaN</td>\n",
       "      <td>NaN</td>\n",
       "      <td>NaN</td>\n",
       "      <td>NaN</td>\n",
       "      <td>NaN</td>\n",
       "    </tr>\n",
       "    <tr>\n",
       "      <th>1</th>\n",
       "      <td>2</td>\n",
       "      <td>86</td>\n",
       "      <td>1</td>\n",
       "      <td>2</td>\n",
       "      <td>612</td>\n",
       "      <td>Ao no Dōmon (Blue Tunnel)</td>\n",
       "      <td>Ao no Dōmon</td>\n",
       "      <td>青の洞門</td>\n",
       "      <td>409</td>\n",
       "      <td>NaN</td>\n",
       "      <td>NaN</td>\n",
       "      <td>NaN</td>\n",
       "      <td>NaN</td>\n",
       "      <td>NaN</td>\n",
       "    </tr>\n",
       "    <tr>\n",
       "      <th>2</th>\n",
       "      <td>3</td>\n",
       "      <td>29</td>\n",
       "      <td>1</td>\n",
       "      <td>3</td>\n",
       "      <td>163</td>\n",
       "      <td>The Town of Numazu</td>\n",
       "      <td>Numazu</td>\n",
       "      <td>沼津</td>\n",
       "      <td>189</td>\n",
       "      <td>NaN</td>\n",
       "      <td>NaN</td>\n",
       "      <td>NaN</td>\n",
       "      <td>NaN</td>\n",
       "      <td>NaN</td>\n",
       "    </tr>\n",
       "    <tr>\n",
       "      <th>3</th>\n",
       "      <td>4</td>\n",
       "      <td>29</td>\n",
       "      <td>1</td>\n",
       "      <td>3</td>\n",
       "      <td>641</td>\n",
       "      <td>House of Heisaku and One Thousand Pine Trees a...</td>\n",
       "      <td>Heisaku uchi yori senbon matsubara</td>\n",
       "      <td>平作内より千本松原</td>\n",
       "      <td>196</td>\n",
       "      <td>NaN</td>\n",
       "      <td>NaN</td>\n",
       "      <td>NaN</td>\n",
       "      <td>NaN</td>\n",
       "      <td>NaN</td>\n",
       "    </tr>\n",
       "    <tr>\n",
       "      <th>4</th>\n",
       "      <td>5</td>\n",
       "      <td>47</td>\n",
       "      <td>1</td>\n",
       "      <td>4</td>\n",
       "      <td>287</td>\n",
       "      <td>The Maple Viewing Party</td>\n",
       "      <td>Momijigari</td>\n",
       "      <td>紅葉狩</td>\n",
       "      <td>360</td>\n",
       "      <td>NaN</td>\n",
       "      <td>NaN</td>\n",
       "      <td>NaN</td>\n",
       "      <td>NaN</td>\n",
       "      <td>NaN</td>\n",
       "    </tr>\n",
       "  </tbody>\n",
       "</table>\n",
       "</div>"
      ],
      "text/plain": [
       "  pscene_id play_id production_id performance_id scene_id  \\\n",
       "0         1      86             1              2      313   \n",
       "1         2      86             1              2      612   \n",
       "2         3      29             1              3      163   \n",
       "3         4      29             1              3      641   \n",
       "4         5      47             1              4      287   \n",
       "\n",
       "                                           label_eng  \\\n",
       "0                        The Tea Stall at Torii Pass   \n",
       "1                          Ao no Dōmon (Blue Tunnel)   \n",
       "2                                 The Town of Numazu   \n",
       "3  House of Heisaku and One Thousand Pine Trees a...   \n",
       "4                            The Maple Viewing Party   \n",
       "\n",
       "                             label_ja   label_ka scene_order spuck_id  \\\n",
       "0                  Torii tōge chamise      鳥居峠茶店         408      NaN   \n",
       "1                         Ao no Dōmon       青の洞門         409      NaN   \n",
       "2                              Numazu         沼津         189      NaN   \n",
       "3  Heisaku uchi yori senbon matsubara  平作内より千本松原         196      NaN   \n",
       "4                          Momijigari        紅葉狩         360      NaN   \n",
       "\n",
       "  narrator_id musician_id shamisen_id image_id  \n",
       "0         NaN         NaN         NaN      NaN  \n",
       "1         NaN         NaN         NaN      NaN  \n",
       "2         NaN         NaN         NaN      NaN  \n",
       "3         NaN         NaN         NaN      NaN  \n",
       "4         NaN         NaN         NaN      NaN  "
      ]
     },
     "execution_count": 20,
     "metadata": {},
     "output_type": "execute_result"
    }
   ],
   "source": [
    "# add spuck_id\n",
    "pscenes = pscenes.merge(spucks.groupby('pscene_id')['spuck_id'].apply(list).reset_index(), how='left')\n",
    "# drop narrator with id 0 (no such performer exists)\n",
    "narrators = narrators[narrators['narrator_id'] != '0']\n",
    "# add narrator_ids\n",
    "pscenes = pscenes.merge(narrators.groupby('pscene_id')['narrator_id'].apply(list).reset_index(), how='left')\n",
    "# add musician_ids\n",
    "pscenes = pscenes.merge(musicians.groupby('pscene_id')['musician_id'].apply(list).reset_index(), how='left')\n",
    "# add shamisen_ids\n",
    "pscenes = pscenes.merge(shamisenplayers.groupby('pscene_id')['shamisen_id'].apply(list).reset_index(), how='left')\n",
    "# add image_ids\n",
    "pscenes = pscenes.merge(scenes_images.groupby('pscene_id')['image_id'].apply(list).reset_index(), how='left')\n",
    "\n",
    "pscenes.head()"
   ]
  },
  {
   "cell_type": "code",
   "execution_count": 21,
   "metadata": {},
   "outputs": [
    {
     "name": "stdout",
     "output_type": "stream",
     "text": [
      "Final row count: 2609\n"
     ]
    }
   ],
   "source": [
    "print \"Final row count: \" + str(len(pscenes.index))"
   ]
  },
  {
   "cell_type": "markdown",
   "metadata": {},
   "source": [
    "# Performances:\n",
    "- Add arrays of image_ids, scene_ids, and character_ids for each performance.\n",
    "\n",
    "<hr/>"
   ]
  },
  {
   "cell_type": "code",
   "execution_count": 22,
   "metadata": {},
   "outputs": [
    {
     "name": "stdout",
     "output_type": "stream",
     "text": [
      "Starting row count: 931\n"
     ]
    }
   ],
   "source": [
    "print \"Starting row count: \" + str(len(performances.index))"
   ]
  },
  {
   "cell_type": "code",
   "execution_count": 23,
   "metadata": {
    "collapsed": true
   },
   "outputs": [],
   "source": [
    "performances =  performances.drop('data_id',1).drop('code',1)"
   ]
  },
  {
   "cell_type": "code",
   "execution_count": 24,
   "metadata": {},
   "outputs": [
    {
     "data": {
      "text/html": [
       "<div>\n",
       "<style>\n",
       "    .dataframe thead tr:only-child th {\n",
       "        text-align: right;\n",
       "    }\n",
       "\n",
       "    .dataframe thead th {\n",
       "        text-align: left;\n",
       "    }\n",
       "\n",
       "    .dataframe tbody tr th {\n",
       "        vertical-align: top;\n",
       "    }\n",
       "</style>\n",
       "<table border=\"1\" class=\"dataframe\">\n",
       "  <thead>\n",
       "    <tr style=\"text-align: right;\">\n",
       "      <th></th>\n",
       "      <th>performance_id</th>\n",
       "      <th>production_id</th>\n",
       "      <th>play_id</th>\n",
       "      <th>image_id</th>\n",
       "      <th>pscene_id</th>\n",
       "      <th>character_id</th>\n",
       "    </tr>\n",
       "  </thead>\n",
       "  <tbody>\n",
       "    <tr>\n",
       "      <th>0</th>\n",
       "      <td>1</td>\n",
       "      <td>142</td>\n",
       "      <td>63</td>\n",
       "      <td>NaN</td>\n",
       "      <td>[1438, 1439, 1440, 1441, 1442, 1443, 1444, 144...</td>\n",
       "      <td>[675, 676, 677, 678, 679, 680, 681, 682, 683, ...</td>\n",
       "    </tr>\n",
       "    <tr>\n",
       "      <th>1</th>\n",
       "      <td>2</td>\n",
       "      <td>1</td>\n",
       "      <td>86</td>\n",
       "      <td>NaN</td>\n",
       "      <td>[1, 2]</td>\n",
       "      <td>NaN</td>\n",
       "    </tr>\n",
       "    <tr>\n",
       "      <th>2</th>\n",
       "      <td>3</td>\n",
       "      <td>1</td>\n",
       "      <td>29</td>\n",
       "      <td>NaN</td>\n",
       "      <td>[3, 4]</td>\n",
       "      <td>[538, 539, 540, 541, 542, 543, 544, 545, 546, ...</td>\n",
       "    </tr>\n",
       "    <tr>\n",
       "      <th>3</th>\n",
       "      <td>4</td>\n",
       "      <td>1</td>\n",
       "      <td>47</td>\n",
       "      <td>NaN</td>\n",
       "      <td>[5]</td>\n",
       "      <td>[1011, 1012, 1013, 1014]</td>\n",
       "    </tr>\n",
       "    <tr>\n",
       "      <th>4</th>\n",
       "      <td>5</td>\n",
       "      <td>1</td>\n",
       "      <td>18</td>\n",
       "      <td>NaN</td>\n",
       "      <td>[6]</td>\n",
       "      <td>[175, 176, 177, 178, 179, 180, 181, 182, 183, ...</td>\n",
       "    </tr>\n",
       "  </tbody>\n",
       "</table>\n",
       "</div>"
      ],
      "text/plain": [
       "  performance_id production_id play_id image_id  \\\n",
       "0              1           142      63      NaN   \n",
       "1              2             1      86      NaN   \n",
       "2              3             1      29      NaN   \n",
       "3              4             1      47      NaN   \n",
       "4              5             1      18      NaN   \n",
       "\n",
       "                                           pscene_id  \\\n",
       "0  [1438, 1439, 1440, 1441, 1442, 1443, 1444, 144...   \n",
       "1                                             [1, 2]   \n",
       "2                                             [3, 4]   \n",
       "3                                                [5]   \n",
       "4                                                [6]   \n",
       "\n",
       "                                        character_id  \n",
       "0  [675, 676, 677, 678, 679, 680, 681, 682, 683, ...  \n",
       "1                                                NaN  \n",
       "2  [538, 539, 540, 541, 542, 543, 544, 545, 546, ...  \n",
       "3                           [1011, 1012, 1013, 1014]  \n",
       "4  [175, 176, 177, 178, 179, 180, 181, 182, 183, ...  "
      ]
     },
     "execution_count": 24,
     "metadata": {},
     "output_type": "execute_result"
    }
   ],
   "source": [
    "# add images\n",
    "performances = performances.merge(performances_images.groupby('performance_id')['image_id'].apply(list).reset_index(), how='left')\n",
    "# add pscenes\n",
    "performances = performances.merge(pscenes.groupby('performance_id')['pscene_id'].apply(list).reset_index(), how='left')\n",
    "# add characters from play_id\n",
    "performances = performances.merge(characters_plays.groupby('play_id')['character_id'].apply(list).reset_index(), how='left')\n",
    "\n",
    "performances.head()"
   ]
  },
  {
   "cell_type": "code",
   "execution_count": 25,
   "metadata": {},
   "outputs": [
    {
     "name": "stdout",
     "output_type": "stream",
     "text": [
      "Final row count: 931\n"
     ]
    }
   ],
   "source": [
    "print \"Final row count: \" + str(len(performances.index))"
   ]
  },
  {
   "cell_type": "markdown",
   "metadata": {},
   "source": [
    "# Plays:\n",
    "- Add arrays of authors_ids, characters_ids, image_ids, production_ids, and performance_ids for each play.\n",
    "\n",
    "<hr/>"
   ]
  },
  {
   "cell_type": "code",
   "execution_count": 26,
   "metadata": {},
   "outputs": [
    {
     "name": "stdout",
     "output_type": "stream",
     "text": [
      "Starting row count: 178\n"
     ]
    }
   ],
   "source": [
    "print \"Starting row count: \" + str(len(plays.index))"
   ]
  },
  {
   "cell_type": "code",
   "execution_count": 27,
   "metadata": {},
   "outputs": [
    {
     "data": {
      "text/html": [
       "<div>\n",
       "<style>\n",
       "    .dataframe thead tr:only-child th {\n",
       "        text-align: right;\n",
       "    }\n",
       "\n",
       "    .dataframe thead th {\n",
       "        text-align: left;\n",
       "    }\n",
       "\n",
       "    .dataframe tbody tr th {\n",
       "        vertical-align: top;\n",
       "    }\n",
       "</style>\n",
       "<table border=\"1\" class=\"dataframe\">\n",
       "  <thead>\n",
       "    <tr style=\"text-align: right;\">\n",
       "      <th></th>\n",
       "      <th>play_id</th>\n",
       "      <th>label_ja</th>\n",
       "      <th>label_ja_sort</th>\n",
       "      <th>label_ka</th>\n",
       "      <th>sort_ja</th>\n",
       "      <th>label_eng</th>\n",
       "      <th>label_eng_sort</th>\n",
       "      <th>first_staged</th>\n",
       "      <th>reference</th>\n",
       "      <th>author_id</th>\n",
       "      <th>character_id</th>\n",
       "      <th>image_id</th>\n",
       "      <th>production_id</th>\n",
       "      <th>performance_id</th>\n",
       "    </tr>\n",
       "  </thead>\n",
       "  <tbody>\n",
       "    <tr>\n",
       "      <th>0</th>\n",
       "      <td>1</td>\n",
       "      <td>Onnakoroshi abura no jigoku</td>\n",
       "      <td>Onnakoroshi abura no jigoku</td>\n",
       "      <td>女殺油地獄</td>\n",
       "      <td>おんなころしあぶらのじごく</td>\n",
       "      <td>The Woman-Killer and the Hell of Oil</td>\n",
       "      <td>Woman-Killer and the Hell of Oil, The</td>\n",
       "      <td>1721</td>\n",
       "      <td>Major Plays of Chikamatsu, translated by Donal...</td>\n",
       "      <td>[6]</td>\n",
       "      <td>[1112, 1113, 1114, 1115, 1116, 1117, 1118, 111...</td>\n",
       "      <td>[10777, 10778, 10779, 10780, 10781, 10782, 107...</td>\n",
       "      <td>[38, 54, 81, 113, 131, 163, 187, 234, 266, 286]</td>\n",
       "      <td>[99, 194, 287, 414, 556, 576, 651, 778, 881, 976]</td>\n",
       "    </tr>\n",
       "    <tr>\n",
       "      <th>1</th>\n",
       "      <td>2</td>\n",
       "      <td>Shinjū ten no Amijima</td>\n",
       "      <td>Shinju ten no Amijima</td>\n",
       "      <td>心中天網島</td>\n",
       "      <td>しんじゅうてんのあみじま</td>\n",
       "      <td>The Love Suicides at Amijima</td>\n",
       "      <td>Love Suicides at Amijima, The</td>\n",
       "      <td>1720</td>\n",
       "      <td>Major Plays of Chikamatsu, translated by Donal...</td>\n",
       "      <td>[6]</td>\n",
       "      <td>[1271, 1272, 1273, 1274, 1275, 1276, 1277, 127...</td>\n",
       "      <td>[10649, 10650, 10651, 10652, 10653, 10654, 106...</td>\n",
       "      <td>[31, 73, 87, 105, 127, 131, 160, 162, 237, 239...</td>\n",
       "      <td>[110, 262, 315, 383, 457, 554, 558, 573, 780, ...</td>\n",
       "    </tr>\n",
       "    <tr>\n",
       "      <th>2</th>\n",
       "      <td>3</td>\n",
       "      <td>Sonezaki shinjū</td>\n",
       "      <td>Sonezaki shinju</td>\n",
       "      <td>曽根崎心中</td>\n",
       "      <td>そねざきしんじゅう</td>\n",
       "      <td>The Love Suicides at Sonezaki</td>\n",
       "      <td>Love Suicides at Sonezaki, The</td>\n",
       "      <td>1703</td>\n",
       "      <td>Major Plays of Chikamatsu, translated by Donal...</td>\n",
       "      <td>[6]</td>\n",
       "      <td>[1344, 1481, 1482, 1483, 1484, 1485, 1486, 148...</td>\n",
       "      <td>[10557, 10558, 10559, 10560, 10561, 10562, 105...</td>\n",
       "      <td>[10, 46, 58, 81, 11, 105, 112, 114, 135, 131, ...</td>\n",
       "      <td>[29, 164, 213, 291, 293, 382, 412, 420, 468, 5...</td>\n",
       "    </tr>\n",
       "    <tr>\n",
       "      <th>3</th>\n",
       "      <td>4</td>\n",
       "      <td>Shinjū Yoigōshin</td>\n",
       "      <td>Shinju Yoigoshin</td>\n",
       "      <td>心中宵庚申</td>\n",
       "      <td>しんじゅうよいごうしん</td>\n",
       "      <td>The Love Suicide of Hambei and Ochiyo</td>\n",
       "      <td>Love Suicide of Hambei and Ochiyo, The</td>\n",
       "      <td>1722</td>\n",
       "      <td>Hironaga, Shūzaburō, The Bunraku Handbook (Tok...</td>\n",
       "      <td>[6]</td>\n",
       "      <td>[1285, 1286, 1287, 1288, 1289, 1290, 1291, 129...</td>\n",
       "      <td>[8821, 8822, 8823, 8824, 8825, 8826, 8827, 882...</td>\n",
       "      <td>[63, 88, 110, 113, 143, 169, 211, 242, 248]</td>\n",
       "      <td>[232, 321, 406, 416, 492, 595, 712, 797, 819]</td>\n",
       "    </tr>\n",
       "    <tr>\n",
       "      <th>4</th>\n",
       "      <td>5</td>\n",
       "      <td>Somemoyō imose no kadomatsu</td>\n",
       "      <td>Somemoyo imose no kadomatsu</td>\n",
       "      <td>染模様妹背門松</td>\n",
       "      <td>そめもよういもせのかげまつ</td>\n",
       "      <td>The Love of Osome and Hisamatsu</td>\n",
       "      <td>Love of Osome and Hisamatsu, The</td>\n",
       "      <td>1767</td>\n",
       "      <td>Hironaga, Shūzaburō, The Bunraku Handbook (Tok...</td>\n",
       "      <td>[34]</td>\n",
       "      <td>[1343, 1467, 1468, 1469, 1470, 1471, 1472, 147...</td>\n",
       "      <td>[10454, 10455, 10456, 10457, 10458, 10459, 104...</td>\n",
       "      <td>[2, 20, 199, 65, 101, 139, 196, 211, 271]</td>\n",
       "      <td>[13, 54, 219, 236, 367, 482, 678, 711, 891]</td>\n",
       "    </tr>\n",
       "  </tbody>\n",
       "</table>\n",
       "</div>"
      ],
      "text/plain": [
       "  play_id                     label_ja                label_ja_sort label_ka  \\\n",
       "0       1  Onnakoroshi abura no jigoku  Onnakoroshi abura no jigoku    女殺油地獄   \n",
       "1       2       Shinjū ten no Amijima        Shinju ten no Amijima    心中天網島   \n",
       "2       3              Sonezaki shinjū              Sonezaki shinju    曽根崎心中   \n",
       "3       4             Shinjū Yoigōshin             Shinju Yoigoshin    心中宵庚申   \n",
       "4       5  Somemoyō imose no kadomatsu  Somemoyo imose no kadomatsu  染模様妹背門松   \n",
       "\n",
       "         sort_ja                              label_eng  \\\n",
       "0  おんなころしあぶらのじごく   The Woman-Killer and the Hell of Oil   \n",
       "1   しんじゅうてんのあみじま           The Love Suicides at Amijima   \n",
       "2      そねざきしんじゅう          The Love Suicides at Sonezaki   \n",
       "3    しんじゅうよいごうしん  The Love Suicide of Hambei and Ochiyo   \n",
       "4  そめもよういもせのかげまつ        The Love of Osome and Hisamatsu   \n",
       "\n",
       "                           label_eng_sort first_staged  \\\n",
       "0   Woman-Killer and the Hell of Oil, The         1721   \n",
       "1           Love Suicides at Amijima, The         1720   \n",
       "2          Love Suicides at Sonezaki, The         1703   \n",
       "3  Love Suicide of Hambei and Ochiyo, The         1722   \n",
       "4        Love of Osome and Hisamatsu, The         1767   \n",
       "\n",
       "                                           reference author_id  \\\n",
       "0  Major Plays of Chikamatsu, translated by Donal...       [6]   \n",
       "1  Major Plays of Chikamatsu, translated by Donal...       [6]   \n",
       "2  Major Plays of Chikamatsu, translated by Donal...       [6]   \n",
       "3  Hironaga, Shūzaburō, The Bunraku Handbook (Tok...       [6]   \n",
       "4  Hironaga, Shūzaburō, The Bunraku Handbook (Tok...      [34]   \n",
       "\n",
       "                                        character_id  \\\n",
       "0  [1112, 1113, 1114, 1115, 1116, 1117, 1118, 111...   \n",
       "1  [1271, 1272, 1273, 1274, 1275, 1276, 1277, 127...   \n",
       "2  [1344, 1481, 1482, 1483, 1484, 1485, 1486, 148...   \n",
       "3  [1285, 1286, 1287, 1288, 1289, 1290, 1291, 129...   \n",
       "4  [1343, 1467, 1468, 1469, 1470, 1471, 1472, 147...   \n",
       "\n",
       "                                            image_id  \\\n",
       "0  [10777, 10778, 10779, 10780, 10781, 10782, 107...   \n",
       "1  [10649, 10650, 10651, 10652, 10653, 10654, 106...   \n",
       "2  [10557, 10558, 10559, 10560, 10561, 10562, 105...   \n",
       "3  [8821, 8822, 8823, 8824, 8825, 8826, 8827, 882...   \n",
       "4  [10454, 10455, 10456, 10457, 10458, 10459, 104...   \n",
       "\n",
       "                                       production_id  \\\n",
       "0    [38, 54, 81, 113, 131, 163, 187, 234, 266, 286]   \n",
       "1  [31, 73, 87, 105, 127, 131, 160, 162, 237, 239...   \n",
       "2  [10, 46, 58, 81, 11, 105, 112, 114, 135, 131, ...   \n",
       "3        [63, 88, 110, 113, 143, 169, 211, 242, 248]   \n",
       "4          [2, 20, 199, 65, 101, 139, 196, 211, 271]   \n",
       "\n",
       "                                      performance_id  \n",
       "0  [99, 194, 287, 414, 556, 576, 651, 778, 881, 976]  \n",
       "1  [110, 262, 315, 383, 457, 554, 558, 573, 780, ...  \n",
       "2  [29, 164, 213, 291, 293, 382, 412, 420, 468, 5...  \n",
       "3      [232, 321, 406, 416, 492, 595, 712, 797, 819]  \n",
       "4        [13, 54, 219, 236, 367, 482, 678, 711, 891]  "
      ]
     },
     "execution_count": 27,
     "metadata": {},
     "output_type": "execute_result"
    }
   ],
   "source": [
    "# authors\n",
    "plays = plays.merge(authors_plays.groupby('play_id')['author_id'].apply(list).reset_index(), how='left')\n",
    "# characters\n",
    "plays = plays.merge(characters_plays.groupby('play_id')['character_id'].apply(list).reset_index(), how='left')\n",
    "# images\n",
    "plays = plays.merge(plays_images.groupby('play_id')['image_id'].apply(list).reset_index(), how='left')\n",
    "# productions\n",
    "plays = plays.merge(performances.groupby('play_id')['production_id'].apply(list).reset_index(), how='left')\n",
    "# performances\n",
    "plays = plays.merge(performances.groupby('play_id')['performance_id'].apply(list).reset_index(), how='left')\n",
    "\n",
    "plays.head()"
   ]
  },
  {
   "cell_type": "code",
   "execution_count": 28,
   "metadata": {},
   "outputs": [
    {
     "name": "stdout",
     "output_type": "stream",
     "text": [
      "Final row count: 178\n"
     ]
    }
   ],
   "source": [
    "print \"Final row count: \" + str(len(plays.index))"
   ]
  },
  {
   "cell_type": "markdown",
   "metadata": {},
   "source": [
    "# Productions:\n",
    "- Add arrays of image_ids, performane_ids, and play_ids for each production.\n",
    "\n",
    "<hr/>"
   ]
  },
  {
   "cell_type": "code",
   "execution_count": 29,
   "metadata": {},
   "outputs": [
    {
     "name": "stdout",
     "output_type": "stream",
     "text": [
      "Starting row count: 293\n"
     ]
    }
   ],
   "source": [
    "print \"Starting row count: \" + str(len(productions.index))"
   ]
  },
  {
   "cell_type": "code",
   "execution_count": 30,
   "metadata": {
    "collapsed": true
   },
   "outputs": [],
   "source": [
    "productions = productions.drop('performance_num',1)"
   ]
  },
  {
   "cell_type": "code",
   "execution_count": 31,
   "metadata": {
    "collapsed": true
   },
   "outputs": [],
   "source": [
    "# images\n",
    "productions = productions.merge(productions_images.groupby('production_id')['image_id'].apply(list).reset_index(), how='left')\n",
    "# performances\n",
    "productions = productions.merge(performances.groupby('production_id')['performance_id'].apply(list).reset_index(), how='left')\n",
    "# plays\n",
    "productions = productions.merge(performances.groupby('production_id')['play_id'].apply(list).reset_index(), how='left')"
   ]
  },
  {
   "cell_type": "code",
   "execution_count": 32,
   "metadata": {},
   "outputs": [
    {
     "data": {
      "text/html": [
       "<div>\n",
       "<style>\n",
       "    .dataframe thead tr:only-child th {\n",
       "        text-align: right;\n",
       "    }\n",
       "\n",
       "    .dataframe thead th {\n",
       "        text-align: left;\n",
       "    }\n",
       "\n",
       "    .dataframe tbody tr th {\n",
       "        vertical-align: top;\n",
       "    }\n",
       "</style>\n",
       "<table border=\"1\" class=\"dataframe\">\n",
       "  <thead>\n",
       "    <tr style=\"text-align: right;\">\n",
       "      <th></th>\n",
       "      <th>production_id</th>\n",
       "      <th>dates</th>\n",
       "      <th>place</th>\n",
       "      <th>label_eng</th>\n",
       "      <th>image_id</th>\n",
       "      <th>performance_id</th>\n",
       "      <th>play_id</th>\n",
       "    </tr>\n",
       "  </thead>\n",
       "  <tbody>\n",
       "    <tr>\n",
       "      <th>0</th>\n",
       "      <td>1</td>\n",
       "      <td>1964/11/n.d.-1964/11/n.d.</td>\n",
       "      <td>not recorded</td>\n",
       "      <td>November 1964</td>\n",
       "      <td>NaN</td>\n",
       "      <td>[2, 3, 4, 5, 6, 7, 8]</td>\n",
       "      <td>[86, 29, 47, 18, 7, 72, 87]</td>\n",
       "    </tr>\n",
       "    <tr>\n",
       "      <th>1</th>\n",
       "      <td>2</td>\n",
       "      <td>1968/02/25-1968/03/10</td>\n",
       "      <td>National Theatre of Japan</td>\n",
       "      <td>February 1968</td>\n",
       "      <td>NaN</td>\n",
       "      <td>[12, 13, 14, 15, 16, 17]</td>\n",
       "      <td>[83, 5, 88, 89, 6, 70]</td>\n",
       "    </tr>\n",
       "    <tr>\n",
       "      <th>2</th>\n",
       "      <td>3</td>\n",
       "      <td>1968/10/27-1968/11/10</td>\n",
       "      <td>National Theatre of Japan</td>\n",
       "      <td>October 1968</td>\n",
       "      <td>NaN</td>\n",
       "      <td>[9, 10, 11]</td>\n",
       "      <td>[30, 66, 32]</td>\n",
       "    </tr>\n",
       "    <tr>\n",
       "      <th>3</th>\n",
       "      <td>4</td>\n",
       "      <td>1969/05/11-1969/05/25</td>\n",
       "      <td>National Theatre of Japan</td>\n",
       "      <td>May 1969</td>\n",
       "      <td>NaN</td>\n",
       "      <td>[18, 19, 20]</td>\n",
       "      <td>[72, 68, 33]</td>\n",
       "    </tr>\n",
       "    <tr>\n",
       "      <th>4</th>\n",
       "      <td>5</td>\n",
       "      <td>1969/09/14-1969/09/21</td>\n",
       "      <td>National Theatre of Japan</td>\n",
       "      <td>September 1969</td>\n",
       "      <td>NaN</td>\n",
       "      <td>[21, 22, 23]</td>\n",
       "      <td>[90, 91, 35]</td>\n",
       "    </tr>\n",
       "  </tbody>\n",
       "</table>\n",
       "</div>"
      ],
      "text/plain": [
       "  production_id                      dates                      place  \\\n",
       "0             1  1964/11/n.d.-1964/11/n.d.               not recorded   \n",
       "1             2      1968/02/25-1968/03/10  National Theatre of Japan   \n",
       "2             3      1968/10/27-1968/11/10  National Theatre of Japan   \n",
       "3             4      1969/05/11-1969/05/25  National Theatre of Japan   \n",
       "4             5      1969/09/14-1969/09/21  National Theatre of Japan   \n",
       "\n",
       "        label_eng image_id            performance_id  \\\n",
       "0   November 1964      NaN     [2, 3, 4, 5, 6, 7, 8]   \n",
       "1   February 1968      NaN  [12, 13, 14, 15, 16, 17]   \n",
       "2    October 1968      NaN               [9, 10, 11]   \n",
       "3        May 1969      NaN              [18, 19, 20]   \n",
       "4  September 1969      NaN              [21, 22, 23]   \n",
       "\n",
       "                       play_id  \n",
       "0  [86, 29, 47, 18, 7, 72, 87]  \n",
       "1       [83, 5, 88, 89, 6, 70]  \n",
       "2                 [30, 66, 32]  \n",
       "3                 [72, 68, 33]  \n",
       "4                 [90, 91, 35]  "
      ]
     },
     "execution_count": 32,
     "metadata": {},
     "output_type": "execute_result"
    }
   ],
   "source": [
    "productions = productions[['production_id','dates','place','label_eng','image_id','performance_id','play_id']]\n",
    "productions.sort_index(axis=0)\n",
    "\n",
    "productions.head()"
   ]
  },
  {
   "cell_type": "code",
   "execution_count": 33,
   "metadata": {},
   "outputs": [
    {
     "name": "stdout",
     "output_type": "stream",
     "text": [
      "Final row count: 293\n"
     ]
    }
   ],
   "source": [
    "print \"Final row count: \" + str(len(productions.index))"
   ]
  },
  {
   "cell_type": "markdown",
   "metadata": {},
   "source": [
    "# Tags:\n",
    "- Add arrays of image_ids for each tag.\n",
    "\n",
    "<hr/>"
   ]
  },
  {
   "cell_type": "code",
   "execution_count": 34,
   "metadata": {},
   "outputs": [
    {
     "name": "stdout",
     "output_type": "stream",
     "text": [
      "Starting row count: 76\n"
     ]
    }
   ],
   "source": [
    "print \"Starting row count: \" + str(len(tags.index))"
   ]
  },
  {
   "cell_type": "code",
   "execution_count": 35,
   "metadata": {
    "collapsed": true
   },
   "outputs": [],
   "source": [
    "tags['notes'] = tags['notes'].replace({r'\\n': ''}, regex=True)"
   ]
  },
  {
   "cell_type": "code",
   "execution_count": 36,
   "metadata": {
    "scrolled": true
   },
   "outputs": [
    {
     "data": {
      "text/html": [
       "<div>\n",
       "<style>\n",
       "    .dataframe thead tr:only-child th {\n",
       "        text-align: right;\n",
       "    }\n",
       "\n",
       "    .dataframe thead th {\n",
       "        text-align: left;\n",
       "    }\n",
       "\n",
       "    .dataframe tbody tr th {\n",
       "        vertical-align: top;\n",
       "    }\n",
       "</style>\n",
       "<table border=\"1\" class=\"dataframe\">\n",
       "  <thead>\n",
       "    <tr style=\"text-align: right;\">\n",
       "      <th></th>\n",
       "      <th>tag_id</th>\n",
       "      <th>label_eng</th>\n",
       "      <th>label_ka</th>\n",
       "      <th>description</th>\n",
       "      <th>notes</th>\n",
       "      <th>sort_ja</th>\n",
       "      <th>image_id</th>\n",
       "    </tr>\n",
       "  </thead>\n",
       "  <tbody>\n",
       "    <tr>\n",
       "      <th>0</th>\n",
       "      <td>1</td>\n",
       "      <td>Asahi Theater</td>\n",
       "      <td>朝日座</td>\n",
       "      <td>NaN</td>\n",
       "      <td></td>\n",
       "      <td>あさひざ</td>\n",
       "      <td>[44990, 45057, 45216, 46025, 56319, 56320, 563...</td>\n",
       "    </tr>\n",
       "    <tr>\n",
       "      <th>1</th>\n",
       "      <td>2</td>\n",
       "      <td>Butai geta [high wooden clogs]</td>\n",
       "      <td>舞台下駄</td>\n",
       "      <td>High wooden clogs worn on stage by head puppet...</td>\n",
       "      <td></td>\n",
       "      <td>ぶたいげた</td>\n",
       "      <td>[44981, 44986, 45010, 45017, 45024, 45050, 450...</td>\n",
       "    </tr>\n",
       "    <tr>\n",
       "      <th>2</th>\n",
       "      <td>3</td>\n",
       "      <td>Dō [body]</td>\n",
       "      <td>胴</td>\n",
       "      <td>Body, torso, or framework of puppets.</td>\n",
       "      <td></td>\n",
       "      <td>どう</td>\n",
       "      <td>[44978, 45071, 45235, 45244, 45246, 46033, 461...</td>\n",
       "    </tr>\n",
       "    <tr>\n",
       "      <th>3</th>\n",
       "      <td>4</td>\n",
       "      <td>Dressing room</td>\n",
       "      <td>楽屋</td>\n",
       "      <td>NaN</td>\n",
       "      <td></td>\n",
       "      <td>がくや</td>\n",
       "      <td>[44990, 44992, 44993, 44997, 44998, 45000, 450...</td>\n",
       "    </tr>\n",
       "    <tr>\n",
       "      <th>4</th>\n",
       "      <td>5</td>\n",
       "      <td>Geza [room for offstage musicians]</td>\n",
       "      <td>下座あるいは囃子部屋</td>\n",
       "      <td>Small room over stage-right entrance occupied ...</td>\n",
       "      <td></td>\n",
       "      <td>げざ</td>\n",
       "      <td>[11630, 11633, 44982, 44997, 45004, 45005, 452...</td>\n",
       "    </tr>\n",
       "  </tbody>\n",
       "</table>\n",
       "</div>"
      ],
      "text/plain": [
       "  tag_id                           label_eng    label_ka  \\\n",
       "0      1                       Asahi Theater         朝日座   \n",
       "1      2      Butai geta [high wooden clogs]        舞台下駄   \n",
       "2      3                           Dō [body]           胴   \n",
       "3      4                       Dressing room          楽屋   \n",
       "4      5  Geza [room for offstage musicians]  下座あるいは囃子部屋   \n",
       "\n",
       "                                         description notes sort_ja  \\\n",
       "0                                                NaN          あさひざ   \n",
       "1  High wooden clogs worn on stage by head puppet...         ぶたいげた   \n",
       "2              Body, torso, or framework of puppets.            どう   \n",
       "3                                                NaN           がくや   \n",
       "4  Small room over stage-right entrance occupied ...            げざ   \n",
       "\n",
       "                                            image_id  \n",
       "0  [44990, 45057, 45216, 46025, 56319, 56320, 563...  \n",
       "1  [44981, 44986, 45010, 45017, 45024, 45050, 450...  \n",
       "2  [44978, 45071, 45235, 45244, 45246, 46033, 461...  \n",
       "3  [44990, 44992, 44993, 44997, 44998, 45000, 450...  \n",
       "4  [11630, 11633, 44982, 44997, 45004, 45005, 452...  "
      ]
     },
     "execution_count": 36,
     "metadata": {},
     "output_type": "execute_result"
    }
   ],
   "source": [
    "tags = tags.merge(tags_images.groupby('tag_id')['image_id'].apply(list).reset_index(), how='left')\n",
    "\n",
    "tags.head()"
   ]
  },
  {
   "cell_type": "code",
   "execution_count": 37,
   "metadata": {},
   "outputs": [
    {
     "name": "stdout",
     "output_type": "stream",
     "text": [
      "Final row count: 76\n"
     ]
    }
   ],
   "source": [
    "print \"Final row count: \" + str(len(tags.index))"
   ]
  },
  {
   "cell_type": "markdown",
   "metadata": {
    "collapsed": true
   },
   "source": [
    "# Performers:\n",
    "- Add arrays of image_ids, musician_perf_ids, narrator_perf_ids, shamisen_perf_ids, and puppeteer_perf_ids for each performer.\n",
    "\n",
    "<hr/>"
   ]
  },
  {
   "cell_type": "code",
   "execution_count": 38,
   "metadata": {},
   "outputs": [
    {
     "name": "stdout",
     "output_type": "stream",
     "text": [
      "Starting row count: 184\n"
     ]
    }
   ],
   "source": [
    "print \"Starting row count: \" + str(len(performers.index))"
   ]
  },
  {
   "cell_type": "code",
   "execution_count": 39,
   "metadata": {
    "collapsed": true
   },
   "outputs": [],
   "source": [
    "performers = performers[['performer_id','name_proper','alt_name','name_ka','alt_name_ka','specialty','dates','notes']]"
   ]
  },
  {
   "cell_type": "code",
   "execution_count": 40,
   "metadata": {
    "collapsed": true
   },
   "outputs": [],
   "source": [
    "# add images\n",
    "performers = performers.merge(performers_images.groupby('performer_id')['image_id'].apply(list).reset_index(), how='left')"
   ]
  },
  {
   "cell_type": "code",
   "execution_count": 41,
   "metadata": {
    "collapsed": true
   },
   "outputs": [],
   "source": [
    "# add performances as musician \n",
    "\n",
    "### make a join table from pscenes\n",
    "performer_as_musician = pscenes[['musician_id','performance_id']].dropna(how='any').rename(columns={'musician_id':'performer_id','performance_id':'musician_perf_id'})\n",
    "performer_as_musician = performer_as_musician.groupby('musician_perf_id').performer_id.apply(lambda x: pd.DataFrame(x.values[0])).reset_index().drop('level_1', axis = 1)\n",
    "performer_as_musician.columns = ['musician_perf_id','performer_id']\n",
    "performer_as_musician.drop_duplicates(inplace=True)\n",
    "### add performances\n",
    "performers = performers.merge(performer_as_musician.groupby('performer_id')['musician_perf_id'].apply(list).reset_index(), how='left')\n"
   ]
  },
  {
   "cell_type": "code",
   "execution_count": 42,
   "metadata": {
    "collapsed": true
   },
   "outputs": [],
   "source": [
    "# add performances as narrator\n",
    "\n",
    "### make a join table from pscenes\n",
    "performer_as_narrator = pscenes[['narrator_id','performance_id']].dropna(how='any').rename(columns={'narrator_id':'performer_id','performance_id':'narrator_perf_id'})\n",
    "performer_as_narrator = performer_as_narrator.groupby('narrator_perf_id').performer_id.apply(lambda x: pd.DataFrame(x.values[0])).reset_index().drop('level_1', axis = 1)\n",
    "performer_as_narrator.columns = ['narrator_perf_id','performer_id']\n",
    "performer_as_narrator.drop_duplicates(inplace=True)\n",
    "### add performances\n",
    "performers = performers.merge(performer_as_narrator.groupby('performer_id')['narrator_perf_id'].apply(list).reset_index(), how='left')"
   ]
  },
  {
   "cell_type": "code",
   "execution_count": 43,
   "metadata": {
    "collapsed": true
   },
   "outputs": [],
   "source": [
    "# add performances as shamisen player\n",
    "\n",
    "### make a join table from pscenes\n",
    "performer_as_shamisen = pscenes[['shamisen_id','performance_id']].dropna(how='any').rename(columns={'shamisen_id':'performer_id','performance_id':'shamisen_perf_id'})\n",
    "performer_as_shamisen = performer_as_shamisen.groupby('shamisen_perf_id').performer_id.apply(lambda x: pd.DataFrame(x.values[0])).reset_index().drop('level_1', axis = 1)\n",
    "performer_as_shamisen.columns = ['shamisen_perf_id','performer_id']\n",
    "performer_as_shamisen.drop_duplicates(inplace=True)\n",
    "### add performances\n",
    "performers = performers.merge(performer_as_shamisen.groupby('performer_id')['shamisen_perf_id'].apply(list).reset_index(), how='left')"
   ]
  },
  {
   "cell_type": "code",
   "execution_count": 44,
   "metadata": {},
   "outputs": [
    {
     "data": {
      "text/html": [
       "<div>\n",
       "<style>\n",
       "    .dataframe thead tr:only-child th {\n",
       "        text-align: right;\n",
       "    }\n",
       "\n",
       "    .dataframe thead th {\n",
       "        text-align: left;\n",
       "    }\n",
       "\n",
       "    .dataframe tbody tr th {\n",
       "        vertical-align: top;\n",
       "    }\n",
       "</style>\n",
       "<table border=\"1\" class=\"dataframe\">\n",
       "  <thead>\n",
       "    <tr style=\"text-align: right;\">\n",
       "      <th></th>\n",
       "      <th>performer_id</th>\n",
       "      <th>name_proper</th>\n",
       "      <th>alt_name</th>\n",
       "      <th>name_ka</th>\n",
       "      <th>alt_name_ka</th>\n",
       "      <th>specialty</th>\n",
       "      <th>dates</th>\n",
       "      <th>notes</th>\n",
       "      <th>image_id</th>\n",
       "      <th>musician_perf_id</th>\n",
       "      <th>narrator_perf_id</th>\n",
       "      <th>shamisen_perf_id</th>\n",
       "      <th>puppeteer_perf_id</th>\n",
       "      <th>kashira_id</th>\n",
       "    </tr>\n",
       "  </thead>\n",
       "  <tbody>\n",
       "    <tr>\n",
       "      <th>0</th>\n",
       "      <td>1</td>\n",
       "      <td>Takemoto Datejidayū (see also Takemoto Datetay...</td>\n",
       "      <td>Takemoto Datetayū V</td>\n",
       "      <td>竹本伊達路大夫</td>\n",
       "      <td>竹本伊達大夫 (五)</td>\n",
       "      <td>Tayu</td>\n",
       "      <td>'1950-1988/04'</td>\n",
       "      <td>Bunraku meikan (1980, 1985, 1988, 1990, 1994)</td>\n",
       "      <td>[8469, 8470, 9055, 9056, 45321, 52421, 52552, ...</td>\n",
       "      <td>NaN</td>\n",
       "      <td>[10, 102, 112, 115, 118, 133, 142, 144, 147, 1...</td>\n",
       "      <td>NaN</td>\n",
       "      <td>NaN</td>\n",
       "      <td>NaN</td>\n",
       "    </tr>\n",
       "    <tr>\n",
       "      <th>1</th>\n",
       "      <td>2</td>\n",
       "      <td>Takemoto Tsudayū IV</td>\n",
       "      <td>NaN</td>\n",
       "      <td>竹本津大夫 (四)</td>\n",
       "      <td>NaN</td>\n",
       "      <td>Tayu</td>\n",
       "      <td>'1950-'</td>\n",
       "      <td>[Living National Treasure]; Bunraku meikan (19...</td>\n",
       "      <td>[8588, 9054, 9055, 9056, 9616, 9617, 9618, 961...</td>\n",
       "      <td>NaN</td>\n",
       "      <td>[10, 103, 143, 150, 185, 220, 258, 279, 288, 3...</td>\n",
       "      <td>NaN</td>\n",
       "      <td>NaN</td>\n",
       "      <td>NaN</td>\n",
       "    </tr>\n",
       "    <tr>\n",
       "      <th>2</th>\n",
       "      <td>3</td>\n",
       "      <td>Tsuruzawa Kanotarō</td>\n",
       "      <td>NaN</td>\n",
       "      <td>鶴澤叶太郎</td>\n",
       "      <td>NaN</td>\n",
       "      <td>Shamisen</td>\n",
       "      <td>'1913-'</td>\n",
       "      <td>Bunraku meikan (1980, 1985, 1988, 1990, 1994)</td>\n",
       "      <td>[45321, 45449, 52634, 52751, 52755, 52819, 528...</td>\n",
       "      <td>NaN</td>\n",
       "      <td>NaN</td>\n",
       "      <td>[101, 11, 112, 114, 116, 134, 14, 152, 156, 17...</td>\n",
       "      <td>NaN</td>\n",
       "      <td>NaN</td>\n",
       "    </tr>\n",
       "    <tr>\n",
       "      <th>3</th>\n",
       "      <td>4</td>\n",
       "      <td>Takezawa Danshichi (see also Takezawa Danjirō IV)</td>\n",
       "      <td>Takezawa Danjirō IV</td>\n",
       "      <td>竹澤団七</td>\n",
       "      <td>竹澤団二郎 (四)</td>\n",
       "      <td>Shamisen</td>\n",
       "      <td>'1981/04-'</td>\n",
       "      <td>Bunraku meikan (1980, 1985, 1988, 1990, 1994)</td>\n",
       "      <td>[12477, 12478, 12489]</td>\n",
       "      <td>NaN</td>\n",
       "      <td>NaN</td>\n",
       "      <td>[385, 399, 403, 429, 439, 467, 485, 490, 496, ...</td>\n",
       "      <td>NaN</td>\n",
       "      <td>NaN</td>\n",
       "    </tr>\n",
       "    <tr>\n",
       "      <th>4</th>\n",
       "      <td>5</td>\n",
       "      <td>Toyotake Matsukadayū</td>\n",
       "      <td>NaN</td>\n",
       "      <td>豊竹松香大夫</td>\n",
       "      <td>NaN</td>\n",
       "      <td>Tayu</td>\n",
       "      <td>'1959-'</td>\n",
       "      <td>Bunraku meikan (1980, 1985, 1988, 1990, 1994)</td>\n",
       "      <td>[8337, 9715, 11874, 11875, 45449, 45681, 45691...</td>\n",
       "      <td>NaN</td>\n",
       "      <td>[106, 109, 11, 119, 12, 122, 131, 136, 14, 149...</td>\n",
       "      <td>[270]</td>\n",
       "      <td>NaN</td>\n",
       "      <td>NaN</td>\n",
       "    </tr>\n",
       "  </tbody>\n",
       "</table>\n",
       "</div>"
      ],
      "text/plain": [
       "  performer_id                                        name_proper  \\\n",
       "0            1  Takemoto Datejidayū (see also Takemoto Datetay...   \n",
       "1            2                                Takemoto Tsudayū IV   \n",
       "2            3                                 Tsuruzawa Kanotarō   \n",
       "3            4  Takezawa Danshichi (see also Takezawa Danjirō IV)   \n",
       "4            5                               Toyotake Matsukadayū   \n",
       "\n",
       "              alt_name    name_ka alt_name_ka specialty           dates  \\\n",
       "0  Takemoto Datetayū V    竹本伊達路大夫  竹本伊達大夫 (五)      Tayu  '1950-1988/04'   \n",
       "1                  NaN  竹本津大夫 (四)         NaN      Tayu         '1950-'   \n",
       "2                  NaN      鶴澤叶太郎         NaN  Shamisen         '1913-'   \n",
       "3  Takezawa Danjirō IV       竹澤団七   竹澤団二郎 (四)  Shamisen      '1981/04-'   \n",
       "4                  NaN     豊竹松香大夫         NaN      Tayu         '1959-'   \n",
       "\n",
       "                                               notes  \\\n",
       "0      Bunraku meikan (1980, 1985, 1988, 1990, 1994)   \n",
       "1  [Living National Treasure]; Bunraku meikan (19...   \n",
       "2      Bunraku meikan (1980, 1985, 1988, 1990, 1994)   \n",
       "3      Bunraku meikan (1980, 1985, 1988, 1990, 1994)   \n",
       "4      Bunraku meikan (1980, 1985, 1988, 1990, 1994)   \n",
       "\n",
       "                                            image_id musician_perf_id  \\\n",
       "0  [8469, 8470, 9055, 9056, 45321, 52421, 52552, ...              NaN   \n",
       "1  [8588, 9054, 9055, 9056, 9616, 9617, 9618, 961...              NaN   \n",
       "2  [45321, 45449, 52634, 52751, 52755, 52819, 528...              NaN   \n",
       "3                              [12477, 12478, 12489]              NaN   \n",
       "4  [8337, 9715, 11874, 11875, 45449, 45681, 45691...              NaN   \n",
       "\n",
       "                                    narrator_perf_id  \\\n",
       "0  [10, 102, 112, 115, 118, 133, 142, 144, 147, 1...   \n",
       "1  [10, 103, 143, 150, 185, 220, 258, 279, 288, 3...   \n",
       "2                                                NaN   \n",
       "3                                                NaN   \n",
       "4  [106, 109, 11, 119, 12, 122, 131, 136, 14, 149...   \n",
       "\n",
       "                                    shamisen_perf_id puppeteer_perf_id  \\\n",
       "0                                                NaN               NaN   \n",
       "1                                                NaN               NaN   \n",
       "2  [101, 11, 112, 114, 116, 134, 14, 152, 156, 17...               NaN   \n",
       "3  [385, 399, 403, 429, 439, 467, 485, 490, 496, ...               NaN   \n",
       "4                                              [270]               NaN   \n",
       "\n",
       "  kashira_id  \n",
       "0        NaN  \n",
       "1        NaN  \n",
       "2        NaN  \n",
       "3        NaN  \n",
       "4        NaN  "
      ]
     },
     "execution_count": 44,
     "metadata": {},
     "output_type": "execute_result"
    }
   ],
   "source": [
    "# add performances as puppeteer and kashira used\n",
    "\n",
    "### make a join table from pscenes\n",
    "spucks_performances = pscenes[['spuck_id','performance_id']].dropna(how='any').rename(columns={'performance_id':'puppeteer_perf_id'})\n",
    "spucks_performances = spucks_performances.groupby('puppeteer_perf_id').spuck_id.apply(lambda x: pd.DataFrame(x.values[0])).reset_index().drop('level_1', axis = 1)\n",
    "spucks_performances.columns = ['puppeteer_perf_id','spuck_id']\n",
    "spucks_performances.drop_duplicates(inplace=True)\n",
    "### make join table with performer_id, kashira_id, and puppeteer_perf_id\n",
    "xtra_spucks = spucks[['spuck_id','pscene_id','puppeteer_id','kashira_id']].rename(columns={'puppeteer_id':'performer_id'})\n",
    "xtra_spucks = xtra_spucks.merge(spucks_performances, on='spuck_id', how='left').drop('spuck_id',1).drop('pscene_id',1)\n",
    "### add performances\n",
    "performer_as_puppeteer = xtra_spucks[['performer_id','puppeteer_perf_id']].dropna(how='any').drop_duplicates()\n",
    "performers = performers.merge(performer_as_puppeteer.groupby('performer_id')['puppeteer_perf_id'].apply(list).reset_index(), how='left')\n",
    "### add kashira\n",
    "performer_puppets = xtra_spucks[['performer_id','kashira_id']].dropna(how='any').drop_duplicates()\n",
    "performers = performers.merge(performer_puppets.groupby('performer_id')['kashira_id'].apply(list).reset_index(), how='left')\n",
    "\n",
    "performers.head()\n"
   ]
  },
  {
   "cell_type": "code",
   "execution_count": 45,
   "metadata": {},
   "outputs": [
    {
     "name": "stdout",
     "output_type": "stream",
     "text": [
      "Final row count: 184\n"
     ]
    }
   ],
   "source": [
    "print \"Final row count: \" + str(len(performers.index))"
   ]
  },
  {
   "cell_type": "markdown",
   "metadata": {},
   "source": [
    "# Clean-up IDs and export to CSV and JSON\n",
    "\n",
    "<hr/>"
   ]
  },
  {
   "cell_type": "code",
   "execution_count": 46,
   "metadata": {
    "collapsed": true
   },
   "outputs": [],
   "source": [
    "# replace descriptive id (used for joins) with generic id\n",
    "authors.rename(columns={'author_id':'id'}, inplace=True)\n",
    "characters.rename(columns={'character_id':'id'}, inplace=True)\n",
    "creators.rename(columns={'creator_id':'id'}, inplace=True)\n",
    "images.rename(columns={'image_id':'id'}, inplace=True)\n",
    "kashira.rename(columns={'kashira_id':'id'}, inplace=True)\n",
    "performances.rename(columns={'performance_id':'id'}, inplace=True)\n",
    "performers.rename(columns={'performer_id':'id'}, inplace=True)\n",
    "plays.rename(columns={'play_id':'id'}, inplace=True)\n",
    "productions.rename(columns={'production_id':'id'}, inplace=True)\n",
    "pscenes.rename(columns={'pscene_id':'id'}, inplace=True)\n",
    "spucks.rename(columns={'spuck_id':'id'}, inplace=True)\n",
    "tags.rename(columns={'tag_id':'id'}, inplace=True)"
   ]
  },
  {
   "cell_type": "code",
   "execution_count": 47,
   "metadata": {
    "collapsed": true
   },
   "outputs": [],
   "source": [
    "# export online data as CSV\n",
    "authors.to_csv('authors.csv', encoding='utf8', index=False)\n",
    "characters.to_csv('characters.csv', encoding='utf8', index=False)\n",
    "creators.to_csv('creators.csv', encoding='utf8', index=False)\n",
    "images.to_csv('images.csv', encoding='utf8', index=False)\n",
    "kashira.to_csv('kashira.csv', encoding='utf8', index=False)\n",
    "performances.to_csv('performances.csv', encoding='utf8', index=False)\n",
    "performers.to_csv('performers.csv', encoding='utf8', index=False)\n",
    "plays.to_csv('plays.csv', encoding='utf8', index=False)\n",
    "productions.to_csv('productions.csv', encoding='utf8', index=False)\n",
    "pscenes.to_csv('pscenes.csv', encoding='utf8', index=False)\n",
    "spucks.to_csv('spucks.csv', encoding='utf8', index=False)\n",
    "tags.to_csv('tags.csv', encoding='utf8', index=False)"
   ]
  },
  {
   "cell_type": "code",
   "execution_count": 48,
   "metadata": {
    "collapsed": true
   },
   "outputs": [],
   "source": [
    "# export online data as JSON\n",
    "authors.to_json('authors.json', orient=\"records\", force_ascii=False)\n",
    "characters.to_json('characters.json', orient=\"records\", force_ascii=False)\n",
    "creators.to_json('creators.json', orient=\"records\", force_ascii=False)\n",
    "images.to_json('images.json', orient=\"records\", force_ascii=False)\n",
    "kashira.to_json('kashira.json', orient=\"records\", force_ascii=False)\n",
    "performances.to_json('performances.json', orient=\"records\", force_ascii=False)\n",
    "performers.to_json('performers.json', orient=\"records\", force_ascii=False)\n",
    "plays.to_json('plays.json', orient=\"records\", force_ascii=False)\n",
    "productions.to_json('productions.json', orient=\"records\", force_ascii=False)\n",
    "pscenes.to_json('pscenes.json', orient=\"records\", force_ascii=False)\n",
    "spucks.to_json('spucks.json', orient=\"records\", force_ascii=False)\n",
    "tags.to_json('tags.json', orient=\"records\", force_ascii=False)"
   ]
  },
  {
   "cell_type": "code",
   "execution_count": null,
   "metadata": {
    "collapsed": true
   },
   "outputs": [],
   "source": []
  }
 ],
 "metadata": {
  "kernelspec": {
   "display_name": "Python 2",
   "language": "python",
   "name": "python2"
  },
  "language_info": {
   "codemirror_mode": {
    "name": "ipython",
    "version": 2
   },
   "file_extension": ".py",
   "mimetype": "text/x-python",
   "name": "python",
   "nbconvert_exporter": "python",
   "pygments_lexer": "ipython2",
   "version": "2.7.13"
  }
 },
 "nbformat": 4,
 "nbformat_minor": 2
}
