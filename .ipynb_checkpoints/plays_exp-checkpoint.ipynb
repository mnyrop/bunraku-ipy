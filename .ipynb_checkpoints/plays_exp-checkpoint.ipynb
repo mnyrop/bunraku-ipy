{
 "cells": [
  {
   "cell_type": "markdown",
   "metadata": {},
   "source": [
    "# Task: Output Bunraku plays to json list with arrays of author_ids, performance_ids, character_ids, and image_ids."
   ]
  },
  {
   "cell_type": "code",
   "execution_count": 1,
   "metadata": {
    "collapsed": true
   },
   "outputs": [],
   "source": [
    "import pandas as pd\n",
    "import math"
   ]
  },
  {
   "cell_type": "code",
   "execution_count": 28,
   "metadata": {
    "collapsed": true
   },
   "outputs": [],
   "source": [
    "pd.set_option('max_colwidth',10000)\n",
    "pd.set_option('max_seq_items','none')\n",
    "# read csvs as data frames\n",
    "plays_df = pd.read_csv('plays.csv')\n",
    "play_auth_df = pd.read_csv('authors_plays.csv') # done\n",
    "play_char_df = pd.read_csv('characters_plays.csv') # done\n",
    "play_img_df = pd.read_csv('plays_images.csv') # done\n",
    "play_perf_df = pd.read_csv('performances.csv') # done\n",
    "\n",
    "# play_perf_df = play_perf_df.drop('data_id',1)"
   ]
  },
  {
   "cell_type": "code",
   "execution_count": 29,
   "metadata": {},
   "outputs": [
    {
     "data": {
      "text/html": [
       "<div>\n",
       "<style>\n",
       "    .dataframe thead tr:only-child th {\n",
       "        text-align: right;\n",
       "    }\n",
       "\n",
       "    .dataframe thead th {\n",
       "        text-align: left;\n",
       "    }\n",
       "\n",
       "    .dataframe tbody tr th {\n",
       "        vertical-align: top;\n",
       "    }\n",
       "</style>\n",
       "<table border=\"1\" class=\"dataframe\">\n",
       "  <thead>\n",
       "    <tr style=\"text-align: right;\">\n",
       "      <th></th>\n",
       "      <th>play_id</th>\n",
       "      <th>label_ja</th>\n",
       "      <th>label_ja_sort</th>\n",
       "      <th>label_ka</th>\n",
       "      <th>sort_ja</th>\n",
       "      <th>label_eng</th>\n",
       "      <th>label_eng_sort</th>\n",
       "      <th>first_staged</th>\n",
       "      <th>reference</th>\n",
       "    </tr>\n",
       "  </thead>\n",
       "  <tbody>\n",
       "    <tr>\n",
       "      <th>37</th>\n",
       "      <td>39</td>\n",
       "      <td>Kokaji</td>\n",
       "      <td>Kokaji</td>\n",
       "      <td>小鍛冶</td>\n",
       "      <td>こかじ</td>\n",
       "      <td>Kokaji the Swordsmith</td>\n",
       "      <td>Kokaji the Swordsmith</td>\n",
       "      <td>1939 or 1941</td>\n",
       "      <td>Keene, Donald, Bunraku: The Art of the Japanese Puppet Theatre (Tokyo: Kodansha International, 1973); Hironaga, Shūzaburō, The Bunraku Handbook (Tokyo: Maison des Arts, 1976); Bunraku February 1977, July 1988 Performance Programs</td>\n",
       "    </tr>\n",
       "  </tbody>\n",
       "</table>\n",
       "</div>"
      ],
      "text/plain": [
       "    play_id label_ja label_ja_sort label_ka sort_ja              label_eng  \\\n",
       "37       39   Kokaji        Kokaji      小鍛冶     こかじ  Kokaji the Swordsmith   \n",
       "\n",
       "           label_eng_sort  first_staged  \\\n",
       "37  Kokaji the Swordsmith  1939 or 1941   \n",
       "\n",
       "                                                                                                                                                                                                                                reference  \n",
       "37  Keene, Donald, Bunraku: The Art of the Japanese Puppet Theatre (Tokyo: Kodansha International, 1973); Hironaga, Shūzaburō, The Bunraku Handbook (Tokyo: Maison des Arts, 1976); Bunraku February 1977, July 1988 Performance Programs  "
      ]
     },
     "execution_count": 29,
     "metadata": {},
     "output_type": "execute_result"
    }
   ],
   "source": [
    "plays_df.loc[plays_df['play_id'] == 39]"
   ]
  },
  {
   "cell_type": "code",
   "execution_count": 30,
   "metadata": {
    "scrolled": true
   },
   "outputs": [
    {
     "data": {
      "text/html": [
       "<div>\n",
       "<style>\n",
       "    .dataframe thead tr:only-child th {\n",
       "        text-align: right;\n",
       "    }\n",
       "\n",
       "    .dataframe thead th {\n",
       "        text-align: left;\n",
       "    }\n",
       "\n",
       "    .dataframe tbody tr th {\n",
       "        vertical-align: top;\n",
       "    }\n",
       "</style>\n",
       "<table border=\"1\" class=\"dataframe\">\n",
       "  <thead>\n",
       "    <tr style=\"text-align: right;\">\n",
       "      <th></th>\n",
       "      <th>play_id</th>\n",
       "      <th>label_ja</th>\n",
       "      <th>label_ja_sort</th>\n",
       "      <th>label_ka</th>\n",
       "      <th>sort_ja</th>\n",
       "      <th>label_eng</th>\n",
       "      <th>label_eng_sort</th>\n",
       "      <th>first_staged</th>\n",
       "      <th>reference</th>\n",
       "      <th>author_id</th>\n",
       "    </tr>\n",
       "  </thead>\n",
       "  <tbody>\n",
       "    <tr>\n",
       "      <th>80</th>\n",
       "      <td>39</td>\n",
       "      <td>Kokaji</td>\n",
       "      <td>Kokaji</td>\n",
       "      <td>小鍛冶</td>\n",
       "      <td>こかじ</td>\n",
       "      <td>Kokaji the Swordsmith</td>\n",
       "      <td>Kokaji the Swordsmith</td>\n",
       "      <td>1939 or 1941</td>\n",
       "      <td>Keene, Donald, Bunraku: The Art of the Japanese Puppet Theatre (Tokyo: Kodansha International, 1973); Hironaga, Shūzaburō, The Bunraku Handbook (Tokyo: Maison des Arts, 1976); Bunraku February 1977, July 1988 Performance Programs</td>\n",
       "      <td>87.0</td>\n",
       "    </tr>\n",
       "  </tbody>\n",
       "</table>\n",
       "</div>"
      ],
      "text/plain": [
       "    play_id label_ja label_ja_sort label_ka sort_ja              label_eng  \\\n",
       "80       39   Kokaji        Kokaji      小鍛冶     こかじ  Kokaji the Swordsmith   \n",
       "\n",
       "           label_eng_sort  first_staged  \\\n",
       "80  Kokaji the Swordsmith  1939 or 1941   \n",
       "\n",
       "                                                                                                                                                                                                                                reference  \\\n",
       "80  Keene, Donald, Bunraku: The Art of the Japanese Puppet Theatre (Tokyo: Kodansha International, 1973); Hironaga, Shūzaburō, The Bunraku Handbook (Tokyo: Maison des Arts, 1976); Bunraku February 1977, July 1988 Performance Programs   \n",
       "\n",
       "    author_id  \n",
       "80       87.0  "
      ]
     },
     "execution_count": 30,
     "metadata": {},
     "output_type": "execute_result"
    }
   ],
   "source": [
    "plays_a = pd.merge(plays_df, play_auth_df, on='play_id', how='outer')\n",
    "plays_a.loc[plays_a['play_id'] == 39]"
   ]
  },
  {
   "cell_type": "code",
   "execution_count": 31,
   "metadata": {
    "collapsed": true
   },
   "outputs": [],
   "source": [
    "play_id_list = list(plays_a.play_id.unique())"
   ]
  },
  {
   "cell_type": "code",
   "execution_count": 32,
   "metadata": {
    "collapsed": true
   },
   "outputs": [],
   "source": [
    "cols =  plays_a.columns"
   ]
  },
  {
   "cell_type": "code",
   "execution_count": 33,
   "metadata": {
    "collapsed": true
   },
   "outputs": [],
   "source": [
    "plays_temp_df = pd.DataFrame({})"
   ]
  },
  {
   "cell_type": "code",
   "execution_count": 34,
   "metadata": {
    "collapsed": true
   },
   "outputs": [],
   "source": [
    "for id_num in play_id_list:\n",
    "    temp_play = plays_a.loc[plays_a['play_id'] == id_num]\n",
    "    \n",
    "    vals = []\n",
    "    for col in cols:\n",
    "        vals.append(temp_play[:1][col].values[0])\n",
    "    \n",
    "    temp_dict = dict(zip(cols, vals))\n",
    "        \n",
    "    temp_play_auths = list(temp_play['author_id'])\n",
    "    \n",
    "    temp_dict['author_id'] = temp_play_auths\n",
    "    \n",
    "    plays_temp_df = plays_temp_df.append(temp_dict, ignore_index=True)"
   ]
  },
  {
   "cell_type": "code",
   "execution_count": 35,
   "metadata": {
    "collapsed": true
   },
   "outputs": [],
   "source": [
    "plays_a = plays_temp_df"
   ]
  },
  {
   "cell_type": "code",
   "execution_count": 36,
   "metadata": {
    "collapsed": true
   },
   "outputs": [],
   "source": [
    "plays_ac = pd.merge(plays_a, play_char_df, on='play_id', how='outer')"
   ]
  },
  {
   "cell_type": "code",
   "execution_count": 37,
   "metadata": {
    "collapsed": true
   },
   "outputs": [],
   "source": [
    "cols =  plays_ac.columns\n",
    "plays_temp_df = pd.DataFrame({})"
   ]
  },
  {
   "cell_type": "code",
   "execution_count": 38,
   "metadata": {
    "collapsed": true
   },
   "outputs": [],
   "source": [
    "for id_num in play_id_list:\n",
    "    temp_play = plays_ac.loc[plays_ac['play_id'] == id_num ]\n",
    "    vals = []\n",
    "    for col in cols:\n",
    "        vals.append(temp_play[:1][col].values[0])\n",
    "\n",
    "    temp_dict = dict(zip(cols, vals))\n",
    "    temp_play_chars = list(temp_play['character_id'])\n",
    "    \n",
    "    temp_dict['character_id'] = temp_play_chars\n",
    "    \n",
    "    plays_temp_df = plays_temp_df.append(temp_dict, ignore_index=True)"
   ]
  },
  {
   "cell_type": "code",
   "execution_count": 39,
   "metadata": {
    "collapsed": true
   },
   "outputs": [],
   "source": [
    "plays_ac = plays_temp_df"
   ]
  },
  {
   "cell_type": "code",
   "execution_count": 40,
   "metadata": {
    "collapsed": true
   },
   "outputs": [],
   "source": [
    "plays_aci = pd.merge(plays_ac, play_img_df, on='play_id', how='outer')"
   ]
  },
  {
   "cell_type": "code",
   "execution_count": 41,
   "metadata": {
    "collapsed": true
   },
   "outputs": [],
   "source": [
    "cols =  plays_aci.columns\n",
    "plays_temp_df = pd.DataFrame({})"
   ]
  },
  {
   "cell_type": "code",
   "execution_count": 42,
   "metadata": {
    "collapsed": true
   },
   "outputs": [],
   "source": [
    "for id_num in play_id_list:\n",
    "    temp_play = plays_aci.loc[plays_aci['play_id'] == id_num ]\n",
    "    vals = []\n",
    "    for col in cols:\n",
    "        vals.append(temp_play[:1][col].values[0])\n",
    "\n",
    "    temp_dict = dict(zip(cols, vals))\n",
    "    temp_play_imgs = list(temp_play['image_id'])\n",
    "    \n",
    "    temp_dict['image_id'] = temp_play_imgs\n",
    "    \n",
    "    plays_temp_df = plays_temp_df.append(temp_dict, ignore_index=True)"
   ]
  },
  {
   "cell_type": "code",
   "execution_count": 43,
   "metadata": {
    "collapsed": true
   },
   "outputs": [],
   "source": [
    "plays_aci = plays_temp_df"
   ]
  },
  {
   "cell_type": "code",
   "execution_count": 44,
   "metadata": {
    "collapsed": true
   },
   "outputs": [],
   "source": [
    "play_perf_df = play_perf_df.drop('data_id', 1).drop('code', 1).drop('production_id',1)"
   ]
  },
  {
   "cell_type": "code",
   "execution_count": 45,
   "metadata": {
    "collapsed": true
   },
   "outputs": [],
   "source": [
    "plays_acip = pd.merge(plays_aci, play_perf_df, on='play_id', how='outer')"
   ]
  },
  {
   "cell_type": "code",
   "execution_count": 46,
   "metadata": {
    "collapsed": true
   },
   "outputs": [],
   "source": [
    "cols =  plays_acip.columns\n",
    "plays_temp_df = pd.DataFrame({})"
   ]
  },
  {
   "cell_type": "code",
   "execution_count": 47,
   "metadata": {
    "collapsed": true
   },
   "outputs": [],
   "source": [
    "for id_num in play_id_list:\n",
    "    temp_play = plays_acip.loc[plays_acip['play_id'] == id_num ]\n",
    "    vals = []\n",
    "    for col in cols:\n",
    "        vals.append(temp_play[:1][col].values[0])\n",
    "\n",
    "    temp_dict = dict(zip(cols, vals))\n",
    "    temp_play_perfs = list(temp_play['performance_id'])\n",
    "    \n",
    "    temp_dict['performance_id'] = temp_play_perfs\n",
    "    \n",
    "    plays_temp_df = plays_temp_df.append(temp_dict, ignore_index=True)"
   ]
  },
  {
   "cell_type": "code",
   "execution_count": 48,
   "metadata": {
    "collapsed": true
   },
   "outputs": [],
   "source": [
    "plays_fin = plays_temp_df\n",
    "plays_fin['play_id'] = plays_fin['play_id'].astype(int).astype(str)\n",
    "\n",
    "plays_fin['character_id'] = plays_fin['character_id'].dropna()\n",
    "plays_fin['performance_id'] = plays_fin['performance_id'].dropna()\n",
    "plays_fin['first_staged'] = plays_fin['first_staged'].dropna()"
   ]
  },
  {
   "cell_type": "code",
   "execution_count": 49,
   "metadata": {
    "collapsed": true
   },
   "outputs": [],
   "source": [
    "# def inty(col):\n",
    "#     count = 0\n",
    "#     for i in plays_fin[col]:\n",
    "#         ints = []\n",
    "#         for j in i:\n",
    "#             if not math.isnan(j):\n",
    "#                 ints.append(int(j))\n",
    "#         plays_fin[col][count] = ints"
   ]
  },
  {
   "cell_type": "code",
   "execution_count": 50,
   "metadata": {
    "collapsed": true
   },
   "outputs": [],
   "source": [
    "# inty('character_id')"
   ]
  },
  {
   "cell_type": "code",
   "execution_count": 51,
   "metadata": {},
   "outputs": [],
   "source": [
    "# filename = 'plays_float.csv'\n",
    "# plays_fin.to_csv(filename, encoding='utf8')"
   ]
  },
  {
   "cell_type": "code",
   "execution_count": 56,
   "metadata": {},
   "outputs": [],
   "source": [
    "final_plays = pd.read_csv('plays_exp.csv')\n",
    "final_plays = final_plays.drop('Column',1)"
   ]
  },
  {
   "cell_type": "code",
   "execution_count": 58,
   "metadata": {},
   "outputs": [],
   "source": [
    "# filename = 'plays_exp.json'\n",
    "# final_plays.to_json(filename, orient='records', force_ascii=False)"
   ]
  },
  {
   "cell_type": "code",
   "execution_count": null,
   "metadata": {
    "collapsed": true
   },
   "outputs": [],
   "source": []
  }
 ],
 "metadata": {
  "kernelspec": {
   "display_name": "Python 2",
   "language": "python",
   "name": "python2"
  },
  "language_info": {
   "codemirror_mode": {
    "name": "ipython",
    "version": 2
   },
   "file_extension": ".py",
   "mimetype": "text/x-python",
   "name": "python",
   "nbconvert_exporter": "python",
   "pygments_lexer": "ipython2",
   "version": "2.7.13"
  }
 },
 "nbformat": 4,
 "nbformat_minor": 2
}
