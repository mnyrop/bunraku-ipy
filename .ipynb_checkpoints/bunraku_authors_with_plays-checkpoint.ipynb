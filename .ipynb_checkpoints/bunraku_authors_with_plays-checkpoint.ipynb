{
 "cells": [
  {
   "cell_type": "markdown",
   "metadata": {},
   "source": [
    "# Task: Output Bunraku authors to json list using authors_plays join table to grab an array of play_ids for each author.\n",
    "\n",
    "_________________\n",
    "\n"
   ]
  },
  {
   "cell_type": "code",
   "execution_count": 1,
   "metadata": {
    "collapsed": true
   },
   "outputs": [],
   "source": [
    "import pandas as pd"
   ]
  },
  {
   "cell_type": "code",
   "execution_count": 2,
   "metadata": {
    "collapsed": true
   },
   "outputs": [],
   "source": [
    "# read csvs as data frames\n",
    "authors_df = pd.read_csv('authors.csv')\n",
    "play_auth_df = pd.read_csv('authors_plays.csv')"
   ]
  },
  {
   "cell_type": "markdown",
   "metadata": {},
   "source": [
    "## Starting authors table:\n",
    "_____________"
   ]
  },
  {
   "cell_type": "code",
   "execution_count": 3,
   "metadata": {
    "scrolled": true
   },
   "outputs": [
    {
     "data": {
      "text/html": [
       "<div>\n",
       "<style>\n",
       "    .dataframe thead tr:only-child th {\n",
       "        text-align: right;\n",
       "    }\n",
       "\n",
       "    .dataframe thead th {\n",
       "        text-align: left;\n",
       "    }\n",
       "\n",
       "    .dataframe tbody tr th {\n",
       "        vertical-align: top;\n",
       "    }\n",
       "</style>\n",
       "<table border=\"1\" class=\"dataframe\">\n",
       "  <thead>\n",
       "    <tr style=\"text-align: right;\">\n",
       "      <th></th>\n",
       "      <th>author_id</th>\n",
       "      <th>label</th>\n",
       "      <th>label_ka</th>\n",
       "      <th>dates</th>\n",
       "      <th>reference</th>\n",
       "      <th>sort_ja</th>\n",
       "    </tr>\n",
       "  </thead>\n",
       "  <tbody>\n",
       "    <tr>\n",
       "      <th>0</th>\n",
       "      <td>1</td>\n",
       "      <td>Asada Icchō</td>\n",
       "      <td>浅田一鳥</td>\n",
       "      <td>fl. 1741-1767</td>\n",
       "      <td>LC Authorities</td>\n",
       "      <td>あさだいっちょう</td>\n",
       "    </tr>\n",
       "    <tr>\n",
       "      <th>1</th>\n",
       "      <td>2</td>\n",
       "      <td>Ashikawa Teruha</td>\n",
       "      <td>芦川照葉</td>\n",
       "      <td>NaN</td>\n",
       "      <td>LC Authorities</td>\n",
       "      <td>あしかわてるは</td>\n",
       "    </tr>\n",
       "    <tr>\n",
       "      <th>2</th>\n",
       "      <td>4</td>\n",
       "      <td>Chikamatsu Hanji</td>\n",
       "      <td>近松半二</td>\n",
       "      <td>d. 1786 or 7</td>\n",
       "      <td>LC Authorities</td>\n",
       "      <td>ちかまつはんじ</td>\n",
       "    </tr>\n",
       "    <tr>\n",
       "      <th>3</th>\n",
       "      <td>5</td>\n",
       "      <td>Chikamatsu Kosuiken</td>\n",
       "      <td>近松湖水軒</td>\n",
       "      <td>NaN</td>\n",
       "      <td>繪本太功記 / 近松やなぎ, 近松湖水軒, 千葉軒合作, 東京 : 金櫻堂, 1890.12...</td>\n",
       "      <td>ちかまつこすいけん</td>\n",
       "    </tr>\n",
       "    <tr>\n",
       "      <th>4</th>\n",
       "      <td>6</td>\n",
       "      <td>Chikamatsu Monzaemon</td>\n",
       "      <td>近松門左衛門</td>\n",
       "      <td>NaN</td>\n",
       "      <td>LC Authorities</td>\n",
       "      <td>ちかまつもんざえもん</td>\n",
       "    </tr>\n",
       "  </tbody>\n",
       "</table>\n",
       "</div>"
      ],
      "text/plain": [
       "   author_id                 label label_ka          dates  \\\n",
       "0          1           Asada Icchō     浅田一鳥  fl. 1741-1767   \n",
       "1          2       Ashikawa Teruha     芦川照葉            NaN   \n",
       "2          4      Chikamatsu Hanji     近松半二   d. 1786 or 7   \n",
       "3          5   Chikamatsu Kosuiken    近松湖水軒            NaN   \n",
       "4          6  Chikamatsu Monzaemon   近松門左衛門            NaN   \n",
       "\n",
       "                                           reference     sort_ja  \n",
       "0                                     LC Authorities    あさだいっちょう  \n",
       "1                                     LC Authorities     あしかわてるは  \n",
       "2                                     LC Authorities     ちかまつはんじ  \n",
       "3  繪本太功記 / 近松やなぎ, 近松湖水軒, 千葉軒合作, 東京 : 金櫻堂, 1890.12...   ちかまつこすいけん  \n",
       "4                                     LC Authorities  ちかまつもんざえもん  "
      ]
     },
     "execution_count": 3,
     "metadata": {},
     "output_type": "execute_result"
    }
   ],
   "source": [
    "authors_df.head()"
   ]
  },
  {
   "cell_type": "markdown",
   "metadata": {},
   "source": [
    "## Join table for authors and plays:"
   ]
  },
  {
   "cell_type": "code",
   "execution_count": 4,
   "metadata": {},
   "outputs": [
    {
     "data": {
      "text/html": [
       "<div>\n",
       "<style>\n",
       "    .dataframe thead tr:only-child th {\n",
       "        text-align: right;\n",
       "    }\n",
       "\n",
       "    .dataframe thead th {\n",
       "        text-align: left;\n",
       "    }\n",
       "\n",
       "    .dataframe tbody tr th {\n",
       "        vertical-align: top;\n",
       "    }\n",
       "</style>\n",
       "<table border=\"1\" class=\"dataframe\">\n",
       "  <thead>\n",
       "    <tr style=\"text-align: right;\">\n",
       "      <th></th>\n",
       "      <th>play_id</th>\n",
       "      <th>author_id</th>\n",
       "    </tr>\n",
       "  </thead>\n",
       "  <tbody>\n",
       "    <tr>\n",
       "      <th>0</th>\n",
       "      <td>1</td>\n",
       "      <td>6</td>\n",
       "    </tr>\n",
       "    <tr>\n",
       "      <th>1</th>\n",
       "      <td>2</td>\n",
       "      <td>6</td>\n",
       "    </tr>\n",
       "    <tr>\n",
       "      <th>2</th>\n",
       "      <td>3</td>\n",
       "      <td>6</td>\n",
       "    </tr>\n",
       "    <tr>\n",
       "      <th>3</th>\n",
       "      <td>4</td>\n",
       "      <td>6</td>\n",
       "    </tr>\n",
       "    <tr>\n",
       "      <th>4</th>\n",
       "      <td>5</td>\n",
       "      <td>34</td>\n",
       "    </tr>\n",
       "  </tbody>\n",
       "</table>\n",
       "</div>"
      ],
      "text/plain": [
       "   play_id  author_id\n",
       "0        1          6\n",
       "1        2          6\n",
       "2        3          6\n",
       "3        4          6\n",
       "4        5         34"
      ]
     },
     "execution_count": 4,
     "metadata": {},
     "output_type": "execute_result"
    }
   ],
   "source": [
    "play_auth_df.head()"
   ]
  },
  {
   "cell_type": "code",
   "execution_count": 5,
   "metadata": {
    "collapsed": true
   },
   "outputs": [],
   "source": [
    "# make a new author dataframe with inner join of play_ids.¶\n",
    "# note: this drops authors who have no plays assigned to them.\n",
    "authors_w_play_id = pd.merge(authors_df, play_auth_df, on='author_id', how='inner')"
   ]
  },
  {
   "cell_type": "markdown",
   "metadata": {},
   "source": [
    "## New authors table, with a full record per play:\n",
    "______________"
   ]
  },
  {
   "cell_type": "code",
   "execution_count": 6,
   "metadata": {},
   "outputs": [
    {
     "data": {
      "text/html": [
       "<div>\n",
       "<style>\n",
       "    .dataframe thead tr:only-child th {\n",
       "        text-align: right;\n",
       "    }\n",
       "\n",
       "    .dataframe thead th {\n",
       "        text-align: left;\n",
       "    }\n",
       "\n",
       "    .dataframe tbody tr th {\n",
       "        vertical-align: top;\n",
       "    }\n",
       "</style>\n",
       "<table border=\"1\" class=\"dataframe\">\n",
       "  <thead>\n",
       "    <tr style=\"text-align: right;\">\n",
       "      <th></th>\n",
       "      <th>author_id</th>\n",
       "      <th>label</th>\n",
       "      <th>label_ka</th>\n",
       "      <th>dates</th>\n",
       "      <th>reference</th>\n",
       "      <th>sort_ja</th>\n",
       "      <th>play_id</th>\n",
       "    </tr>\n",
       "  </thead>\n",
       "  <tbody>\n",
       "    <tr>\n",
       "      <th>0</th>\n",
       "      <td>1</td>\n",
       "      <td>Asada Icchō</td>\n",
       "      <td>浅田一鳥</td>\n",
       "      <td>fl. 1741-1767</td>\n",
       "      <td>LC Authorities</td>\n",
       "      <td>あさだいっちょう</td>\n",
       "      <td>19</td>\n",
       "    </tr>\n",
       "    <tr>\n",
       "      <th>1</th>\n",
       "      <td>1</td>\n",
       "      <td>Asada Icchō</td>\n",
       "      <td>浅田一鳥</td>\n",
       "      <td>fl. 1741-1767</td>\n",
       "      <td>LC Authorities</td>\n",
       "      <td>あさだいっちょう</td>\n",
       "      <td>72</td>\n",
       "    </tr>\n",
       "    <tr>\n",
       "      <th>2</th>\n",
       "      <td>1</td>\n",
       "      <td>Asada Icchō</td>\n",
       "      <td>浅田一鳥</td>\n",
       "      <td>fl. 1741-1767</td>\n",
       "      <td>LC Authorities</td>\n",
       "      <td>あさだいっちょう</td>\n",
       "      <td>105</td>\n",
       "    </tr>\n",
       "    <tr>\n",
       "      <th>3</th>\n",
       "      <td>1</td>\n",
       "      <td>Asada Icchō</td>\n",
       "      <td>浅田一鳥</td>\n",
       "      <td>fl. 1741-1767</td>\n",
       "      <td>LC Authorities</td>\n",
       "      <td>あさだいっちょう</td>\n",
       "      <td>122</td>\n",
       "    </tr>\n",
       "    <tr>\n",
       "      <th>4</th>\n",
       "      <td>2</td>\n",
       "      <td>Ashikawa Teruha</td>\n",
       "      <td>芦川照葉</td>\n",
       "      <td>NaN</td>\n",
       "      <td>LC Authorities</td>\n",
       "      <td>あしかわてるは</td>\n",
       "      <td>173</td>\n",
       "    </tr>\n",
       "  </tbody>\n",
       "</table>\n",
       "</div>"
      ],
      "text/plain": [
       "   author_id            label label_ka          dates       reference  \\\n",
       "0          1      Asada Icchō     浅田一鳥  fl. 1741-1767  LC Authorities   \n",
       "1          1      Asada Icchō     浅田一鳥  fl. 1741-1767  LC Authorities   \n",
       "2          1      Asada Icchō     浅田一鳥  fl. 1741-1767  LC Authorities   \n",
       "3          1      Asada Icchō     浅田一鳥  fl. 1741-1767  LC Authorities   \n",
       "4          2  Ashikawa Teruha     芦川照葉            NaN  LC Authorities   \n",
       "\n",
       "    sort_ja  play_id  \n",
       "0  あさだいっちょう       19  \n",
       "1  あさだいっちょう       72  \n",
       "2  あさだいっちょう      105  \n",
       "3  あさだいっちょう      122  \n",
       "4   あしかわてるは      173  "
      ]
     },
     "execution_count": 6,
     "metadata": {},
     "output_type": "execute_result"
    }
   ],
   "source": [
    "authors_w_play_id.head()"
   ]
  },
  {
   "cell_type": "code",
   "execution_count": 7,
   "metadata": {
    "collapsed": true
   },
   "outputs": [],
   "source": [
    "# since author_id is not a consistent iterator, get list of total author_ids\n",
    "auth_id_list = list(authors_w_play_id.author_id.unique())"
   ]
  },
  {
   "cell_type": "code",
   "execution_count": 8,
   "metadata": {
    "collapsed": true
   },
   "outputs": [],
   "source": [
    "# get column list to use in making author dictionaries\n",
    "cols =  authors_w_play_id.columns"
   ]
  },
  {
   "cell_type": "code",
   "execution_count": 9,
   "metadata": {
    "collapsed": true
   },
   "outputs": [],
   "source": [
    "# make empty data frame to fill during for loop\n",
    "final_auth_df = pd.DataFrame({})"
   ]
  },
  {
   "cell_type": "code",
   "execution_count": 10,
   "metadata": {
    "collapsed": true
   },
   "outputs": [],
   "source": [
    "# for each author :\n",
    "for id_num in auth_id_list:\n",
    "    # make a temporary slice of all records of the author\n",
    "    temp_auth = authors_w_play_id.loc[authors_w_play_id['author_id'] == id_num]\n",
    "    \n",
    "    # make a dictionary of the first record of the author\n",
    "    vals = []\n",
    "    for col in cols:\n",
    "        vals.append(temp_auth[:1][col].values[0])\n",
    "    \n",
    "    temp_dict = dict(zip(cols, vals))\n",
    "        \n",
    "    # make a temporary array of all the plays associated with the author\n",
    "    temp_auth_plays = list(temp_auth['play_id'])\n",
    "    \n",
    "    # replace the author's single play id with the array of plays\n",
    "    temp_dict['play_id'] = temp_auth_plays\n",
    "    \n",
    "    # append updated author dictionary to dataframe\n",
    "    final_auth_df = final_auth_df.append(temp_dict, ignore_index=True)"
   ]
  },
  {
   "cell_type": "code",
   "execution_count": 11,
   "metadata": {
    "collapsed": true
   },
   "outputs": [],
   "source": [
    "# troublshoot author_id being recast as float\n",
    "final_auth_df['author_id'] = final_auth_df['author_id'].astype(int).astype('str')"
   ]
  },
  {
   "cell_type": "markdown",
   "metadata": {},
   "source": [
    "## Final author table, with array of plays per author record:\n",
    "___________"
   ]
  },
  {
   "cell_type": "code",
   "execution_count": 12,
   "metadata": {},
   "outputs": [
    {
     "data": {
      "text/html": [
       "<div>\n",
       "<style>\n",
       "    .dataframe thead tr:only-child th {\n",
       "        text-align: right;\n",
       "    }\n",
       "\n",
       "    .dataframe thead th {\n",
       "        text-align: left;\n",
       "    }\n",
       "\n",
       "    .dataframe tbody tr th {\n",
       "        vertical-align: top;\n",
       "    }\n",
       "</style>\n",
       "<table border=\"1\" class=\"dataframe\">\n",
       "  <thead>\n",
       "    <tr style=\"text-align: right;\">\n",
       "      <th></th>\n",
       "      <th>author_id</th>\n",
       "      <th>dates</th>\n",
       "      <th>label</th>\n",
       "      <th>label_ka</th>\n",
       "      <th>play_id</th>\n",
       "      <th>reference</th>\n",
       "      <th>sort_ja</th>\n",
       "    </tr>\n",
       "  </thead>\n",
       "  <tbody>\n",
       "    <tr>\n",
       "      <th>0</th>\n",
       "      <td>1</td>\n",
       "      <td>fl. 1741-1767</td>\n",
       "      <td>Asada Icchō</td>\n",
       "      <td>浅田一鳥</td>\n",
       "      <td>[19, 72, 105, 122]</td>\n",
       "      <td>LC Authorities</td>\n",
       "      <td>あさだいっちょう</td>\n",
       "    </tr>\n",
       "    <tr>\n",
       "      <th>1</th>\n",
       "      <td>2</td>\n",
       "      <td>NaN</td>\n",
       "      <td>Ashikawa Teruha</td>\n",
       "      <td>芦川照葉</td>\n",
       "      <td>[173]</td>\n",
       "      <td>LC Authorities</td>\n",
       "      <td>あしかわてるは</td>\n",
       "    </tr>\n",
       "    <tr>\n",
       "      <th>2</th>\n",
       "      <td>4</td>\n",
       "      <td>d. 1786 or 7</td>\n",
       "      <td>Chikamatsu Hanji</td>\n",
       "      <td>近松半二</td>\n",
       "      <td>[11, 21, 25, 27, 29, 33, 52, 79, 80, 90, 101, ...</td>\n",
       "      <td>LC Authorities</td>\n",
       "      <td>ちかまつはんじ</td>\n",
       "    </tr>\n",
       "    <tr>\n",
       "      <th>3</th>\n",
       "      <td>5</td>\n",
       "      <td>NaN</td>\n",
       "      <td>Chikamatsu Kosuiken</td>\n",
       "      <td>近松湖水軒</td>\n",
       "      <td>[16]</td>\n",
       "      <td>繪本太功記 / 近松やなぎ, 近松湖水軒, 千葉軒合作, 東京 : 金櫻堂, 1890.12...</td>\n",
       "      <td>ちかまつこすいけん</td>\n",
       "    </tr>\n",
       "    <tr>\n",
       "      <th>4</th>\n",
       "      <td>6</td>\n",
       "      <td>NaN</td>\n",
       "      <td>Chikamatsu Monzaemon</td>\n",
       "      <td>近松門左衛門</td>\n",
       "      <td>[1, 2, 3, 4, 7, 8, 17, 24, 28, 34, 40, 41, 54,...</td>\n",
       "      <td>LC Authorities</td>\n",
       "      <td>ちかまつもんざえもん</td>\n",
       "    </tr>\n",
       "  </tbody>\n",
       "</table>\n",
       "</div>"
      ],
      "text/plain": [
       "  author_id          dates                 label label_ka  \\\n",
       "0         1  fl. 1741-1767           Asada Icchō     浅田一鳥   \n",
       "1         2            NaN       Ashikawa Teruha     芦川照葉   \n",
       "2         4   d. 1786 or 7      Chikamatsu Hanji     近松半二   \n",
       "3         5            NaN   Chikamatsu Kosuiken    近松湖水軒   \n",
       "4         6            NaN  Chikamatsu Monzaemon   近松門左衛門   \n",
       "\n",
       "                                             play_id  \\\n",
       "0                                 [19, 72, 105, 122]   \n",
       "1                                              [173]   \n",
       "2  [11, 21, 25, 27, 29, 33, 52, 79, 80, 90, 101, ...   \n",
       "3                                               [16]   \n",
       "4  [1, 2, 3, 4, 7, 8, 17, 24, 28, 34, 40, 41, 54,...   \n",
       "\n",
       "                                           reference     sort_ja  \n",
       "0                                     LC Authorities    あさだいっちょう  \n",
       "1                                     LC Authorities     あしかわてるは  \n",
       "2                                     LC Authorities     ちかまつはんじ  \n",
       "3  繪本太功記 / 近松やなぎ, 近松湖水軒, 千葉軒合作, 東京 : 金櫻堂, 1890.12...   ちかまつこすいけん  \n",
       "4                                     LC Authorities  ちかまつもんざえもん  "
      ]
     },
     "execution_count": 12,
     "metadata": {},
     "output_type": "execute_result"
    }
   ],
   "source": [
    "final_auth_df.head()"
   ]
  },
  {
   "cell_type": "markdown",
   "metadata": {},
   "source": [
    "## Final author table as json records:\n",
    "____________"
   ]
  },
  {
   "cell_type": "code",
   "execution_count": 13,
   "metadata": {},
   "outputs": [
    {
     "data": {
      "text/plain": [
       "'[{\"author_id\":\"1\",\"dates\":\"fl. 1741-1767\",\"label\":\"Asada Icch\\xc5\\x8d\",\"label_ka\":\"\\xe6\\xb5\\x85\\xe7\\x94\\xb0\\xe4\\xb8\\x80\\xe9\\xb3\\xa5\",\"play_id\":[19,72,105,122],\"reference\":\"LC Authorities\",\"sort_ja\":\"\\xe3\\x81\\x82\\xe3\\x81\\x95\\xe3\\x81\\xa0\\xe3\\x81\\x84\\xe3\\x81\\xa3\\xe3\\x81\\xa1\\xe3\\x82\\x87\\xe3\\x81\\x86\"},{\"author_id\":\"2\",\"dates\":null,\"label\":\"Ashikawa Teruha\",\"label_ka\":\"\\xe8\\x8a\\xa6\\xe5\\xb7\\x9d\\xe7\\x85\\xa7\\xe8\\x91\\x89\",\"play_id\":[173],\"reference\":\"LC Authorities\",\"sort_ja\":\"\\xe3\\x81\\x82\\xe3\\x81\\x97\\xe3\\x81\\x8b\\xe3\\x82\\x8f\\xe3\\x81\\xa6\\xe3\\x82\\x8b\\xe3\\x81\\xaf\"},{\"author_id\":\"4\",\"dates\":\"d. 1786 or 7\",\"label\":\"Chikamatsu Hanji\",\"label_ka\":\"\\xe8\\xbf\\x91\\xe6\\x9d\\xbe\\xe5\\x8d\\x8a\\xe4\\xba\\x8c\",\"play_id\":[11,21,25,27,29,33,52,79,80,90,101,110,141,147],\"reference\":\"LC Authorities\",\"sort_ja\":\"\\xe3\\x81\\xa1\\xe3\\x81\\x8b\\xe3\\x81\\xbe\\xe3\\x81\\xa4\\xe3\\x81\\xaf\\xe3\\x82\\x93\\xe3\\x81\\x98\"},{\"author_id\":\"5\",\"dates\":null,\"label\":\"Chikamatsu Kosuiken\",\"label_ka\":\"\\xe8\\xbf\\x91\\xe6\\x9d\\xbe\\xe6\\xb9\\x96\\xe6\\xb0\\xb4\\xe8\\xbb\\x92\",\"play_id\":[16],\"reference\":\"\\xe7\\xb9\\xaa\\xe6\\x9c\\xac\\xe5\\xa4\\xaa\\xe5\\x8a\\x9f\\xe8\\xa8\\x98 \\\\/ \\xe8\\xbf\\x91\\xe6\\x9d\\xbe\\xe3\\x82\\x84\\xe3\\x81\\xaa\\xe3\\x81\\x8e, \\xe8\\xbf\\x91\\xe6\\x9d\\xbe\\xe6\\xb9\\x96\\xe6\\xb0\\xb4\\xe8\\xbb\\x92, \\xe5\\x8d\\x83\\xe8\\x91\\x89\\xe8\\xbb\\x92\\xe5\\x90\\x88\\xe4\\xbd\\x9c, \\xe6\\x9d\\xb1\\xe4\\xba\\xac : \\xe9\\x87\\x91\\xe6\\xab\\xbb\\xe5\\xa0\\x82, 1890.12, from NACSIS record\",\"sort_ja\":\"\\xe3\\x81\\xa1\\xe3\\x81\\x8b\\xe3\\x81\\xbe\\xe3\\x81\\xa4\\xe3\\x81\\x93\\xe3\\x81\\x99\\xe3\\x81\\x84\\xe3\\x81\\x91\\xe3\\x82\\x93\"},{\"author_id\":\"6\",\"dates\":null,\"label\":\"Chikamatsu Monzaemon\",\"label_ka\":\"\\xe8\\xbf\\x91\\xe6\\x9d\\xbe\\xe9\\x96\\x80\\xe5\\xb7\\xa6\\xe8\\xa1\\x9b\\xe9\\x96\\x80\",\"play_id\":[1,2,3,4,7,8,17,24,28,34,40,41,54,61,76,85,87,106,107,113,136,144,148,161,174,176],\"reference\":\"LC Authorities\",\"sort_ja\":\"\\xe3\\x81\\xa1\\xe3\\x81\\x8b\\xe3\\x81\\xbe\\xe3\\x81\\xa4\\xe3\\x82\\x82\\xe3\\x82\\x93\\xe3\\x81\\x96\\xe3\\x81\\x88\\xe3\\x82\\x82\\xe3\\x82\\x93\"},{\"author_id\":\"7\",\"dates\":null,\"label\":\"Chikamatsu Sen\\'y\\xc5\\x8dken\",\"label_ka\":\"\\xe8\\xbf\\x91\\xe6\\x9d\\xbe\\xe5\\x8d\\x83\\xe8\\x91\\x89\\xe8\\xbb\\x92\",\"play_id\":[16],\"reference\":\"\\xe7\\xb9\\xaa\\xe6\\x9c\\xac\\xe5\\xa4\\xaa\\xe5\\x8a\\x9f\\xe8\\xa8\\x98 \\\\/ \\xe8\\xbf\\x91\\xe6\\x9d\\xbe\\xe3\\x82\\x84\\xe3\\x81\\xaa\\xe3\\x81\\x8e, \\xe8\\xbf\\x91\\xe6\\x9d\\xbe\\xe6\\xb9\\x96\\xe6\\xb0\\xb4\\xe8\\xbb\\x92, \\xe5\\x8d\\x83\\xe8\\x91\\x89\\xe8\\xbb\\x92\\xe5\\x90\\x88\\xe4\\xbd\\x9c, \\xe6\\x9d\\xb1\\xe4\\xba\\xac : \\xe9\\x87\\x91\\xe6\\xab\\xbb\\xe5\\xa0\\x82, 1890.12, from NACSIS record\",\"sort_ja\":\"\\xe3\\x81\\xa1\\xe3\\x81\\x8b\\xe3\\x81\\xbe\\xe3\\x81\\xa4\\xe3\\x81\\x9b\\xe3\\x82\\x93\\xe3\\x82\\x88\\xe3\\x81\\x86\\xe3\\x81\\x91\\xe3\\x82\\x93\"},{\"author_id\":\"8\",\"dates\":null,\"label\":\"Chikamatsu Yasuz\\xc5\\x8d\",\"label_ka\":\"\\xe8\\xbf\\x91\\xe6\\x9d\\xbe\\xe4\\xbf\\x9d\\xe8\\x94\\xb5\",\"play_id\":[78],\"reference\":null,\"sort_ja\":\"\\xe3\\x81\\xa1\\xe3\\x81\\x8b\\xe3\\x81\\xbe\\xe3\\x81\\xa4\\xe3\\x82\\x84\\xe3\\x81\\x99\\xe3\\x81\\x9e\\xe3\\x81\\x86\"},{\"author_id\":\"10\",\"dates\":\"1689-1733\",\"label\":\"Hasegawa Senshi\",\"label_ka\":\"\\xe9\\x95\\xb7\\xe8\\xb0\\xb7\\xe5\\xb7\\x9d\\xe5\\x8d\\x83\\xe5\\x9b\\x9b\",\"play_id\":[36,81,83,149],\"reference\":\"LC Authorities; \\xe5\\xa3\\x87\\xe6\\xb5\\xa6\\xe5\\x85\\x9c\\xe8\\xbb\\x8d\\xe8\\xa8\\x98 \\\\/ \\xe6\\x96\\x87\\xe8\\x80\\x95\\xe5\\xa0\\x82, \\xe9\\x95\\xb7\\xe8\\xb0\\xb7\\xe5\\xb7\\x9d\\xe5\\x8d\\x83\\xe5\\x9b\\x9b\\xe8\\x91\\x97; [\\xe5\\x87\\xba\\xe7\\x89\\x88\\xe5\\x9c\\xb0\\xe4\\xb8\\x8d\\xe6\\x98\\x8e] : [\\xe5\\x87\\xba\\xe7\\x89\\x88\\xe8\\x80\\x85\\xe4\\xb8\\x8d\\xe6\\x98\\x8e], [\\xe5\\x87\\xba\\xe7\\x89\\x88\\xe5\\xb9\\xb4\\xe4\\xb8\\x8d\\xe6\\x98\\x8e] from NACSIS record\",\"sort_ja\":\"\\xe3\\x81\\xaf\\xe3\\x81\\x9b\\xe3\\x81\\x8c\\xe3\\x82\\x8f\\xe3\\x81\\x9b\\xe3\\x82\\x93\\xe3\\x81\\x97\"},{\"author_id\":\"11\",\"dates\":null,\"label\":\"H\\xc5\\x8dj\\xc5\\x8d Hideji\",\"label_ka\":null,\"play_id\":[160],\"reference\":null,\"sort_ja\":\"\\xe3\\x81\\xbb\\xe3\\x81\\x86\\xe3\\x81\\x98\\xe3\\x82\\x87\\xe3\\x81\\x86\\xe3\\x81\\xb2\\xe3\\x81\\xa7\\xe3\\x81\\x98\"},{\"author_id\":\"12\",\"dates\":\"1663-1742\",\"label\":\"Ki Kaion\",\"label_ka\":\"\\xe7\\xb4\\x80\\xe6\\xb5\\xb7\\xe9\\x9f\\xb3\",\"play_id\":[82],\"reference\":\"LC Authorities\",\"sort_ja\":\"\\xe3\\x81\\x8d\\xe3\\x81\\x8b\\xe3\\x81\\x84\\xe3\\x81\\x8a\\xe3\\x82\\x93\"},{\"author_id\":\"13\",\"dates\":null,\"label\":\"Kino J\\xc5\\x8dtar\\xc5\\x8d\",\"label_ka\":\"\\xe7\\xb4\\x80\\xe4\\xb8\\x8a\\xe5\\xa4\\xaa\\xe9\\x83\\x8e\",\"play_id\":[22],\"reference\":\"\\xe7\\xa2\\x81\\xe5\\xa4\\xaa\\xe5\\xb9\\xb3\\xe8\\xa8\\x98\\xe7\\x99\\xbd\\xe7\\x9f\\xb3\\xe5\\x99\\xba : \\xe4\\xb8\\x80\\xe5\\xb9\\x95 \\\\/ \\xe7\\xb4\\x80\\xe4\\xb8\\x8a\\xe5\\xa4\\xaa\\xe9\\x83\\x8e, \\xe7\\x83\\x8f\\xe4\\xba\\xad\\xe7\\x84\\x89\\xe9\\xa6\\xac, \\xe5\\xae\\xb9\\xe6\\xa5\\x8a\\xe9\\xbb\\x9b\\xe4\\xbd\\x9c, [\\xe6\\x9d\\xb1\\xe4\\xba\\xac] : \\xe5\\x9b\\xbd\\xe7\\xab\\x8b\\xe5\\x8a\\x87\\xe5\\xa0\\xb4, 1995.3 from a NACSIS record\",\"sort_ja\":\"\\xe3\\x81\\x8d\\xe3\\x81\\xae\\xe3\\x81\\x98\\xe3\\x82\\x87\\xe3\\x81\\x86\\xe3\\x81\\x9f\\xe3\\x82\\x8d\\xe3\\x81\\x86\"},{\"author_id\":\"14\",\"dates\":null,\"label\":\"Kinoshita Junji\",\"label_ka\":\"\\xe6\\x9c\\xa8\\xe4\\xb8\\x8b\\xe9\\xa0\\x86\\xe4\\xba\\x8c\",\"play_id\":[9,134,162],\"reference\":null,\"sort_ja\":\"\\xe3\\x81\\x8d\\xe3\\x81\\xae\\xe3\\x81\\x97\\xe3\\x81\\x9f\\xe3\\x81\\x98\\xe3\\x82\\x85\\xe3\\x82\\x93\\xe3\\x81\\x98\"},{\"author_id\":\"16\",\"dates\":null,\"label\":\"Matsuda Baku\",\"label_ka\":\"\\xe6\\x9d\\xbe\\xe7\\x94\\xb0\\xe3\\x81\\xb0\\xe3\\x81\\x8f\",\"play_id\":[79],\"reference\":\"\\xe5\\xa6\\xb9\\xe8\\x84\\x8a\\xe5\\xb1\\xb1\\xe5\\xa9\\xa6\\xe5\\xa5\\xb3\\xe5\\xba\\xad\\xe8\\xa8\\x93 : \\xe5\\x8d\\x81\\xe4\\xb8\\x89\\xe9\\x90\\x98\\xe7\\xb5\\xb9\\xe6\\x87\\xb8\\xe6\\x9f\\xb3 \\\\/ \\xe8\\xbf\\x91\\xe6\\x9d\\xbe\\xe5\\x8d\\x8a\\xe4\\xba\\x8c [\\xe3\\x81\\xbb\\xe3\\x81\\x8b] \\xe4\\xbd\\x9c ; \\xe4\\xb8\\x89\\xe5\\xa5\\xbd\\xe6\\x9d\\xbe\\xe6\\xb4\\x9b\\xe5\\xbe\\x8c\\xe8\\xa6\\x8b, \\xe6\\x9d\\xb1\\xe4\\xba\\xac : \\xe9\\x87\\x91\\xe6\\xab\\xbb\\xe5\\xa0\\x82, 1891.5 from NACSIS record\",\"sort_ja\":\"\\xe3\\x81\\xbe\\xe3\\x81\\xa4\\xe3\\x81\\xa0\\xe3\\x81\\xb0\\xe3\\x81\\x8f\"},{\"author_id\":\"17\",\"dates\":\"fl. 1713-1741\",\"label\":\"Matsuda Bunk\\xc5\\x8dd\\xc5\\x8d\",\"label_ka\":\"\\xe6\\x96\\x87\\xe8\\x80\\x95\\xe5\\xa0\\x82\",\"play_id\":[26,36,56,66,81,83,94,149],\"reference\":\"LC Authorities; \\xe5\\xa3\\x87\\xe6\\xb5\\xa6\\xe5\\x85\\x9c\\xe8\\xbb\\x8d\\xe8\\xa8\\x98 \\\\/ \\xe6\\x96\\x87\\xe8\\x80\\x95\\xe5\\xa0\\x82, \\xe9\\x95\\xb7\\xe8\\xb0\\xb7\\xe5\\xb7\\x9d\\xe5\\x8d\\x83\\xe5\\x9b\\x9b\\xe8\\x91\\x97; [\\xe5\\x87\\xba\\xe7\\x89\\x88\\xe5\\x9c\\xb0\\xe4\\xb8\\x8d\\xe6\\x98\\x8e] : [\\xe5\\x87\\xba\\xe7\\x89\\x88\\xe8\\x80\\x85\\xe4\\xb8\\x8d\\xe6\\x98\\x8e], [\\xe5\\x87\\xba\\xe7\\x89\\x88\\xe5\\xb9\\xb4\\xe4\\xb8\\x8d\\xe6\\x98\\x8e] from NACSIS record\",\"sort_ja\":\"\\xe3\\x81\\xbe\\xe3\\x81\\xa4\\xe3\\x81\\xa0\\xe3\\x81\\xb6\\xe3\\x82\\x93\\xe3\\x81\\x93\\xe3\\x81\\x86\\xe3\\x81\\xa9\\xe3\\x81\\x86\"},{\"author_id\":\"18\",\"dates\":\"1925-1970\",\"label\":\"Mishima Yukio\",\"label_ka\":\"\\xe4\\xb8\\x89\\xe5\\xb3\\xb6\\xe7\\x94\\xb1\\xe7\\xb4\\x80\\xe5\\xa4\\xab\",\"play_id\":[99],\"reference\":\"LC Authorities\",\"sort_ja\":\"\\xe3\\x81\\xbf\\xe3\\x81\\x97\\xe3\\x81\\xbe\\xe3\\x82\\x86\\xe3\\x81\\x8d\\xe3\\x81\\x8a\"},{\"author_id\":\"19\",\"dates\":\"1696?-1772?\",\"label\":\"Miyoshi Sh\\xc5\\x8draku\",\"label_ka\":\"\\xe4\\xb8\\x89\\xe5\\xa5\\xbd\\xe6\\x9d\\xbe\\xe6\\xb4\\x9b\",\"play_id\":[18,21,26,27,38,52,56,62,63,66,71,73,79,90,91,93,94,95,101,141,143],\"reference\":\"\\xe5\\xa4\\x8f\\xe7\\xa5\\xad\\xe6\\xb5\\xaa\\xe8\\x8a\\xb1\\xe9\\x91\\x91 \\\\/ \\xe4\\xb8\\xa6\\xe6\\x9c\\xa8\\xe5\\x8d\\x83\\xe6\\x9f\\xb3, \\xe4\\xb8\\x89\\xe5\\xa5\\xbd\\xe6\\x9d\\xbe\\xe6\\xb4\\x9b, \\xe7\\xab\\xb9\\xe7\\x94\\xb0\\xe5\\xb0\\x8f\\xe5\\x87\\xba\\xe9\\x9b\\xb2\\xe4\\xbd\\x9c, \\xe6\\xb5\\xaa\\xe8\\x8f\\xaf : \\xe5\\xb1\\xb1\\xe6\\x9c\\xac\\xe4\\xb9\\x9d\\xe8\\x8f\\x93\\xe4\\xba\\xad, [\\xe6\\xb1\\x9f\\xe6\\x88\\xb8\\xe4\\xb8\\xad\\xe6\\x9c\\x9f] [\\xe5\\x88\\x8a] from NACSIS record; LC Authorities\",\"sort_ja\":\"\\xe3\\x81\\xbf\\xe3\\x82\\x88\\xe3\\x81\\x97\\xe3\\x81\\x97\\xe3\\x82\\x87\\xe3\\x81\\x86\\xe3\\x82\\x89\\xe3\\x81\\x8f\"},{\"author_id\":\"20\",\"dates\":\"fl. 1747-1781\",\"label\":\"Nakamura Akei\",\"label_ka\":\"\\xe4\\xb8\\xad\\xe9\\x82\\x91\\xe9\\x98\\xbf\\xe5\\xa5\\x91\",\"play_id\":[19,48,77],\"reference\":\"LC Authorities\",\"sort_ja\":\"\\xe3\\x81\\xaa\\xe3\\x81\\x8b\\xe3\\x82\\x80\\xe3\\x82\\x89\\xe3\\x81\\x82\\xe3\\x81\\x91\\xe3\\x81\\x84\"},{\"author_id\":\"21\",\"dates\":null,\"label\":\"Nakawa Kamesuke\",\"label_ka\":null,\"play_id\":[114],\"reference\":null,\"sort_ja\":\"\\xe3\\x81\\xaa\\xe3\\x81\\x8b\\xe3\\x82\\x8f\\xe3\\x81\\x8b\\xe3\\x82\\x81\\xe3\\x81\\x99\\xe3\\x81\\x91\"},{\"author_id\":\"22\",\"dates\":null,\"label\":\"Nakawa Shimesuke\",\"label_ka\":\"\\xe5\\xa5\\x88\\xe6\\xb2\\xb3\\xe4\\xb8\\x83\\xe4\\xba\\x94\\xe4\\xb8\\x89\\xe5\\x8a\\xa9\",\"play_id\":[6,20],\"reference\":\"\\xe8\\xbf\\x91\\xe9\\xa0\\x83\\xe6\\xb2\\xb3\\xe5\\x8e\\x9f\\xe9\\x81\\x94\\xe5\\xbc\\x95. \\xe5\\xa0\\x80\\xe5\\xb7\\x9d\\xe7\\x8c\\xbf\\xe5\\xbb\\xbb\\xe3\\x81\\x97\\xe3\\x81\\xae\\xe6\\xae\\xb5 \\\\/ [\\xe7\\x82\\xba\\xe5\\xb7\\x9d\\xe5\\xae\\x97\\xe8\\xbc\\x94, \\xe7\\xad\\x92\\xe4\\xba\\x95\\xe5\\x8d\\x8a\\xe4\\xba\\x8c, \\xe5\\xa5\\x88\\xe6\\xb2\\xb3\\xe4\\xb8\\x83\\xe4\\xba\\x94\\xe4\\xb8\\x89\\xe5\\x8a\\xa9, \\xe4\\xbd\\x9c] (Tokyo : Victor, p2002) from NACSIS record\",\"sort_ja\":\"\\xe3\\x81\\xaa\\xe3\\x81\\x8b\\xe3\\x82\\x8f\\xe3\\x81\\x97\\xe3\\x82\\x81\\xe3\\x81\\x99\\xe3\\x81\\x91\"},{\"author_id\":\"24\",\"dates\":null,\"label\":\"Namiki Geiji\",\"label_ka\":\"\\xe4\\xb8\\xa6\\xe6\\x9c\\xa8\\xe9\\xaf\\xa8\\xe5\\x85\\x90\",\"play_id\":[177],\"reference\":null,\"sort_ja\":\"\\xe3\\x81\\xaa\\xe3\\x81\\xbf\\xe3\\x81\\x8d\\xe3\\x81\\x92\\xe3\\x81\\x84\\xe3\\x81\\x98\"},{\"author_id\":\"25\",\"dates\":\"1695-1751\",\"label\":\"Namiki Senry\\xc5\\xab (See also Namiki Namiki S\\xc5\\x8dsuke)\",\"label_ka\":\"\\xe4\\xb8\\xa6\\xe6\\x9c\\xa8\\xe5\\x8d\\x83\\xe6\\x9f\\xb3\",\"play_id\":[18,62,63,71,73,91,93,95,143],\"reference\":\"\\xe5\\xa4\\x8f\\xe7\\xa5\\xad\\xe6\\xb5\\xaa\\xe8\\x8a\\xb1\\xe9\\x91\\x91 \\\\/ \\xe4\\xb8\\xa6\\xe6\\x9c\\xa8\\xe5\\x8d\\x83\\xe6\\x9f\\xb3, \\xe4\\xb8\\x89\\xe5\\xa5\\xbd\\xe6\\x9d\\xbe\\xe6\\xb4\\x9b, \\xe7\\xab\\xb9\\xe7\\x94\\xb0\\xe5\\xb0\\x8f\\xe5\\x87\\xba\\xe9\\x9b\\xb2\\xe4\\xbd\\x9c, \\xe6\\xb5\\xaa\\xe8\\x8f\\xaf : \\xe5\\xb1\\xb1\\xe6\\x9c\\xac\\xe4\\xb9\\x9d\\xe8\\x8f\\x93\\xe4\\xba\\xad, [\\xe6\\xb1\\x9f\\xe6\\x88\\xb8\\xe4\\xb8\\xad\\xe6\\x9c\\x9f] [\\xe5\\x88\\x8a] from NACSIS record; LC Authorities; \\xe8\\x8f\\x85\\xe5\\x8e\\x9f\\xe5\\x82\\xb3\\xe6\\x8e\\x88 \\\\/ \\xe7\\xab\\xb9\\xe7\\x94\\xb0\\xe5\\x87\\xba\\xe9\\x9b\\xb2, \\xe4\\xb8\\xa6\\xe6\\x9c\\xa8\\xe5\\x8d\\x83\\xe6\\x9f\\xb3, \\xe4\\xb8\\x89\\xe5\\xa5\\xbd\\xe6\\x9d\\xbe\\xe6\\xb4\\x9b, \\xe7\\xab\\xb9\\xe7\\x94\\xb0\\xe5\\xb0\\x8f\\xe5\\x87\\xba\\xe9\\x9b\\xb2 [\\xe8\\x91\\x97], \\xe5\\xaf\\xba\\xe7\\x94\\xba(\\xe4\\xba\\xac\\xe9\\x83\\xbd) : \\xe8\\x8f\\x8a\\xe5\\xb1\\x8b\\xe4\\xb8\\x83\\xe8\\x89\\xaf\\xe5\\x85\\xb5\\xe8\\xa1\\x9b, [1---] from a NACSIS record\",\"sort_ja\":\"\\xe3\\x81\\xaa\\xe3\\x81\\xbf\\xe3\\x81\\x8d\\xe3\\x81\\x9b\\xe3\\x82\\x93\\xe3\\x82\\x8a\\xe3\\x82\\x85\\xe3\\x81\\x86\"},{\"author_id\":\"26\",\"dates\":\"1730-1773\",\"label\":\"Namiki Sh\\xc5\\x8dz\\xc5\\x8d\",\"label_ka\":\"\\xe4\\xb8\\xa6\\xe6\\x9c\\xa8\\xe6\\xad\\xa3\\xe4\\xb8\\x89\",\"play_id\":[72,151,177],\"reference\":\"LC\",\"sort_ja\":\"\\xe3\\x81\\xaa\\xe3\\x81\\xbf\\xe3\\x81\\x8d\\xe3\\x81\\x97\\xe3\\x82\\x87\\xe3\\x81\\x86\\xe3\\x81\\x9e\\xe3\\x81\\x86\"},{\"author_id\":\"27\",\"dates\":\"1695-1751\",\"label\":\"Namiki S\\xc5\\x8dsuke (See also Namiki Senry\\xc5\\xab)\",\"label_ka\":\"\\xe4\\xb8\\xa6\\xe6\\x9c\\xa8\\xe5\\xae\\x97\\xe8\\xbc\\x94\",\"play_id\":[18,65,72,142,164],\"reference\":\"\\xe8\\x8b\\x85\\xe8\\x90\\xb1\\xe6\\xa1\\x91\\xe9\\x96\\x80\\xe7\\xad\\x91\\xe7\\xb4\\xab \\\\/ \\xe4\\xb8\\xa6\\xe6\\x9c\\xa8\\xe5\\xae\\x97\\xe8\\xbc\\x94\\xe4\\xbd\\x9c, \\xe6\\xb5\\xaa\\xe8\\x8f\\xaf : \\xe7\\xb4\\x99\\xe5\\xb1\\x8b\\xe8\\x88\\x87\\xe5\\x8f\\xb3\\xe8\\xa1\\x9b\\xe9\\x96\\x80[\\xe3\\x81\\xbb\\xe3\\x81\\x8b], \\xe4\\xba\\xab\\xe4\\xbf\\x9d20[1735]\\xe5\\x88\\x8a from NACSIS record\",\"sort_ja\":\"\\xe3\\x81\\xaa\\xe3\\x81\\xbf\\xe3\\x81\\x8d\\xe3\\x81\\x9d\\xe3\\x81\\x86\\xe3\\x81\\x99\\xe3\\x81\\x91\"},{\"author_id\":\"28\",\"dates\":null,\"label\":\"Namiki J\\xc5\\x8dsuke\",\"label_ka\":\"\\xe4\\xb8\\xa6\\xe6\\x9c\\xa8\\xe4\\xb8\\x88\\xe8\\xbc\\x94\",\"play_id\":[142],\"reference\":\"Hironaga, Sh\\xc5\\xabzabu\\xc5\\x8d, The Bunraku Handbook (Tokyo: Maison des Arts, 1976);  Kokuritsu Gekij\\xc5\\x8d j\\xc5\\x8den shiry\\xc5\\x8dsh\\xc5\\xab, edited by Kokuritsu Gekijo\\xcc\\x84 Geino\\xcc\\x84 Cho\\xcc\\x84sashitsu, vol. 218, September 1983 under Karukaya Doshin\",\"sort_ja\":\"\\xe3\\x81\\xaa\\xe3\\x81\\xbf\\xe3\\x81\\x8d\\xe3\\x81\\x98\\xe3\\x82\\x87\\xe3\\x81\\x86\\xe3\\x81\\x99\\xe3\\x81\\x91\"},{\"author_id\":\"29\",\"dates\":null,\"label\":\"Namioka Geiji\",\"label_ka\":\"\\xe6\\xb5\\xaa\\xe5\\xb2\\xa1\\xe9\\xaf\\xa8\\xe5\\x85\\x90\",\"play_id\":[72],\"reference\":null,\"sort_ja\":\"\\xe3\\x81\\xaa\\xe3\\x81\\xbf\\xe3\\x81\\x8d\\xe3\\x81\\x92\\xe3\\x81\\x84\\xe3\\x81\\x98\"},{\"author_id\":\"30\",\"dates\":null,\"label\":\"Nozawa Katsuhei\",\"label_ka\":\"\\xe9\\x87\\x8e\\xe6\\xbe\\xa4\\xe5\\x8b\\x9d\\xe5\\xb9\\xb3\",\"play_id\":[131],\"reference\":null,\"sort_ja\":\"\\xe3\\x81\\xae\\xe3\\x81\\x96\\xe3\\x82\\x8f\\xe3\\x81\\x8b\\xe3\\x81\\xa4\\xe3\\x81\\xb8\\xe3\\x81\\x84\"},{\"author_id\":\"31\",\"dates\":null,\"label\":\"Nozawa Matsunosuke\",\"label_ka\":\"\\xe9\\x87\\x8e\\xe6\\xbe\\xa4\\xe6\\x9d\\xbe\\xe4\\xb9\\x8b\\xe8\\xbc\\x94\",\"play_id\":[12,46,119],\"reference\":\"December 1993 Men Uri\",\"sort_ja\":\"\\xe3\\x81\\xae\\xe3\\x81\\x96\\xe3\\x82\\x8f\\xe3\\x81\\xbe\\xe3\\x81\\xa4\\xe3\\x81\\xae\\xe3\\x81\\x99\\xe3\\x81\\x91\"},{\"author_id\":\"33\",\"dates\":\"b. 1760?\",\"label\":\"Shiba Shis\\xc5\\x8d\",\"label_ka\":\"\\xe5\\x8f\\xb8\\xe9\\xa6\\xac\\xe8\\x8a\\x9d\\xe5\\x8f\\x9f\",\"play_id\":[23],\"reference\":null,\"sort_ja\":\"\\xe3\\x81\\x97\\xe3\\x81\\xb0\\xe3\\x81\\x97\\xe3\\x81\\x9d\\xe3\\x81\\x86\"},{\"author_id\":\"34\",\"dates\":\"1728-1779\",\"label\":\"Suga Sensuke\",\"label_ka\":\"\\xe8\\x8f\\x85\\xe5\\xb0\\x82\\xe5\\x8a\\xa9\",\"play_id\":[5,13,32,35,75,97,108,109,116],\"reference\":\"LC Authorities\",\"sort_ja\":\"\\xe3\\x81\\x99\\xe3\\x81\\x8c\\xe3\\x81\\x9b\\xe3\\x82\\x93\\xe3\\x81\\x99\\xe3\\x81\\x91\"},{\"author_id\":\"36\",\"dates\":\"d. 1747\",\"label\":\"Takeda Izumo, I\",\"label_ka\":\"\\xe7\\xab\\xb9\\xe7\\x94\\xb0\\xe5\\x87\\xba\\xe9\\x9b\\xb2\",\"play_id\":[15,26,73],\"reference\":\"LC Authorities\",\"sort_ja\":\"\\xe3\\x81\\x9f\\xe3\\x81\\x91\\xe3\\x81\\xa0\\xe3\\x81\\x84\\xe3\\x81\\x9a\\xe3\\x82\\x82\"},{\"author_id\":\"38\",\"dates\":null,\"label\":\"Takeda Inaba\",\"label_ka\":\"\\xe7\\xab\\xb9\\xe7\\x94\\xb0\\xe5\\x9b\\xa0\\xe5\\xb9\\xa1\",\"play_id\":[27],\"reference\":null,\"sort_ja\":\"\\xe3\\x81\\x9f\\xe3\\x81\\x91\\xe3\\x81\\xa0\\xe3\\x81\\x84\\xe3\\x81\\xaa\\xe3\\x81\\xb0\"},{\"author_id\":\"39\",\"dates\":null,\"label\":\"Takeda Koide\",\"label_ka\":\"\\xe7\\xab\\xb9\\xe7\\x94\\xb0\\xe5\\xb0\\x8f\\xe5\\x87\\xba\",\"play_id\":[27,101],\"reference\":null,\"sort_ja\":\"\\xe3\\x81\\x9f\\xe3\\x81\\x91\\xe3\\x81\\xa0\\xe3\\x81\\x93\\xe3\\x81\\x84\\xe3\\x81\\xa7\"},{\"author_id\":\"40\",\"dates\":null,\"label\":\"Takeda Koizumo\",\"label_ka\":\"\\xe7\\xab\\xb9\\xe7\\x94\\xb0\\xe5\\xb0\\x8f\\xe5\\x87\\xba\\xe9\\x9b\\xb2\",\"play_id\":[25,26,52,56,71,73,95,141,147],\"reference\":\"\\xe6\\x97\\xa5\\xe9\\xab\\x98\\xe5\\xb7\\x9d\\xe5\\x85\\xa5\\xe7\\x9b\\xb8\\xe8\\x8a\\xb1\\xe7\\x8e\\x8b \\\\/ \\xe7\\xab\\xb9\\xe7\\x94\\xb0\\xe5\\xb0\\x8f\\xe5\\x87\\xba\\xe9\\x9b\\xb2 [\\xe3\\x81\\xbb\\xe3\\x81\\x8b] \\xe4\\xbd\\x9c; \\xe5\\xa4\\xa7\\xe5\\x9d\\x82 : \\xe7\\xb4\\x99\\xe5\\xb1\\x8b\\xe8\\x88\\x87\\xe5\\x8f\\xb3\\xe8\\xa1\\x9b\\xe9\\x96\\x80 from NACSIS record\",\"sort_ja\":\"\\xe3\\x81\\x9f\\xe3\\x81\\x91\\xe3\\x81\\xa0\\xe3\\x81\\x93\\xe3\\x81\\x84\\xe3\\x81\\x9a\\xe3\\x82\\x82\"},{\"author_id\":\"41\",\"dates\":null,\"label\":\"Takemoto Saburobei\",\"label_ka\":\"\\xe7\\xab\\xb9\\xe6\\x9c\\xac\\xe4\\xb8\\x89\\xe9\\x83\\x8e\\xe5\\x85\\xb5\\xe8\\xa1\\x9b\",\"play_id\":[21,25,27,33,52,82,90,101,110,141,147],\"reference\":null,\"sort_ja\":\"\\xe3\\x81\\x9f\\xe3\\x82\\x81\\xe3\\x82\\x82\\xe3\\x81\\xa8\\xe3\\x81\\x95\\xe3\\x81\\xb6\\xe3\\x82\\x8d\\xe3\\x81\\xb9\\xe3\\x81\\x84\"},{\"author_id\":\"42\",\"dates\":\"1905-\",\"label\":\"Tanaka Chikao\",\"label_ka\":\"\\xe7\\x94\\xb0\\xe4\\xb8\\xad\\xe5\\x8d\\x83\\xe7\\xa6\\xbe\\xe5\\xa4\\xab\",\"play_id\":[158,175],\"reference\":\"LC\",\"sort_ja\":\"\\xe3\\x81\\x9f\\xe3\\x81\\xaa\\xe3\\x81\\x8b\\xe3\\x81\\xa1\\xe3\\x81\\x8b\\xe3\\x81\\x8a\"},{\"author_id\":\"43\",\"dates\":null,\"label\":\"Toyotake Jinroku\",\"label_ka\":\"\\xe8\\xb1\\x8a\\xe7\\xab\\xb9\\xe7\\x94\\x9a\\xe5\\x85\\xad\",\"play_id\":[72],\"reference\":null,\"sort_ja\":\"\\xe3\\x81\\xa8\\xe3\\x82\\x88\\xe3\\x81\\x9f\\xe3\\x81\\x91\\xe3\\x81\\x98\\xe3\\x82\\x93\\xe3\\x82\\x8d\\xe3\\x81\\x8f\"},{\"author_id\":\"44\",\"dates\":null,\"label\":\"Toyotake \\xc5\\x8critsu\",\"label_ka\":\"\\xe8\\xb1\\x8a\\xe7\\xab\\xb9\\xe5\\xbf\\x9c\\xe5\\xbe\\x8b\",\"play_id\":[19,82,105],\"reference\":null,\"sort_ja\":\"\\xe3\\x81\\xa8\\xe3\\x82\\x88\\xe3\\x81\\x9f\\xe3\\x81\\x91\\xe3\\x81\\x8a\\xe3\\x81\\x86\\xe3\\x82\\x8a\\xe3\\x81\\xa4\"},{\"author_id\":\"46\",\"dates\":null,\"label\":\"Uchimura Naoya\",\"label_ka\":\"\\xe5\\x86\\x85\\xe6\\x9d\\x91\\xe7\\x9b\\xb4\\xe4\\xb9\\x9f\",\"play_id\":[186],\"reference\":\"\\xe5\\xa5\\xb3\\xe3\\x81\\xae\\xe5\\xb9\\xb3\\xe5\\x92\\x8c\",\"sort_ja\":\"\\xe3\\x81\\x86\\xe3\\x81\\xa1\\xe3\\x82\\x80\\xe3\\x82\\x89\\xe3\\x81\\xaa\\xe3\\x81\\x8a\\xe3\\x82\\x84\"},{\"author_id\":\"47\",\"dates\":\"18th cent\",\"label\":\"Umeno Shitakaze\",\"label_ka\":\"\\xe6\\xa2\\x85\\xe9\\x87\\x8e\\xe4\\xb8\\x8b\\xe9\\xa2\\xa8\",\"play_id\":[78],\"reference\":\"LC Authorities\",\"sort_ja\":\"\\xe3\\x81\\x86\\xe3\\x82\\x81\\xe3\\x81\\xae\\xe3\\x81\\x97\\xe3\\x81\\x9f\\xe3\\x81\\x8b\\xe3\\x81\\x9c\"},{\"author_id\":\"48\",\"dates\":\"1743-1822\",\"label\":\"Utei Enba\",\"label_ka\":\"\\xe7\\x83\\x8f\\xe4\\xba\\xad\\xe7\\x84\\x89\\xe9\\xa6\\xac\",\"play_id\":[22],\"reference\":\"\\xe7\\xa2\\x81\\xe5\\xa4\\xaa\\xe5\\xb9\\xb3\\xe8\\xa8\\x98\\xe7\\x99\\xbd\\xe7\\x9f\\xb3\\xe5\\x99\\xba : \\xe4\\xb8\\x80\\xe5\\xb9\\x95 \\\\/ \\xe7\\xb4\\x80\\xe4\\xb8\\x8a\\xe5\\xa4\\xaa\\xe9\\x83\\x8e, \\xe7\\x83\\x8f\\xe4\\xba\\xad\\xe7\\x84\\x89\\xe9\\xa6\\xac, \\xe5\\xae\\xb9\\xe6\\xa5\\x8a\\xe9\\xbb\\x9b\\xe4\\xbd\\x9c, [\\xe6\\x9d\\xb1\\xe4\\xba\\xac] : \\xe5\\x9b\\xbd\\xe7\\xab\\x8b\\xe5\\x8a\\x87\\xe5\\xa0\\xb4, 1995.3 from a NACSIS record\",\"sort_ja\":\"\\xe3\\x81\\x86\\xe3\\x81\\xa6\\xe3\\x81\\x84\\xe3\\x81\\x88\\xe3\\x82\\x93\\xe3\\x81\\xb0\"},{\"author_id\":\"49\",\"dates\":\"1752-1810\",\"label\":\"Yamada Kakashi\",\"label_ka\":\"\\xe5\\xb1\\xb1\\xe7\\x94\\xb0\\xe6\\xa1\\x88\\xe5\\xb1\\xb1\\xe5\\xad\\x90\",\"play_id\":[57],\"reference\":\"Keene, Donald, Bunraku: The Art of the Japanese Puppet Theatre (Tokyo: Kodansha International, 1973);  Kokuritsu Gekij\\xc5\\x8d j\\xc5\\x8den shiry\\xc5\\x8dsh\\xc5\\xab, edited by Kokuritsu Gekijo\\xcc\\x84 Geino\\xcc\\x84 Cho\\xcc\\x84sashitsu, vol. 218, September 1983, p. 67.\",\"sort_ja\":\"\\xe3\\x82\\x84\\xe3\\x81\\xbe\\xe3\\x81\\xa0\\xe3\\x81\\x8b\\xe3\\x81\\x8b\\xe3\\x81\\x97\"},{\"author_id\":\"50\",\"dates\":\"18th cent.\",\"label\":\"Y\\xc5\\x8d Y\\xc5\\x8dtai\",\"label_ka\":\"\\xe5\\xae\\xb9\\xe6\\xa5\\x8a\\xe9\\xbb\\x9b\",\"play_id\":[22,30],\"reference\":\"LC Authorties\",\"sort_ja\":\"\\xe3\\x82\\x88\\xe3\\x81\\x86\\xe3\\x82\\x88\\xe3\\x81\\x86\\xe3\\x81\\x9f\\xe3\\x81\\x84\"},{\"author_id\":\"52\",\"dates\":\"1691-1756\",\"label\":\"Takeda Izumo, II\",\"label_ka\":\"\\xe7\\xab\\xb9\\xe7\\x94\\xb0\\xe5\\x87\\xba\\xe9\\x9b\\xb2\",\"play_id\":[18,62,63,91,143],\"reference\":\"LC Authorities\",\"sort_ja\":\"\\xe3\\x81\\x9f\\xe3\\x81\\x91\\xe3\\x81\\xa0\\xe3\\x81\\x84\\xe3\\x81\\x9a\\xe3\\x82\\x82\"},{\"author_id\":\"53\",\"dates\":\"1767-1848\",\"label\":\"Takizawa Bakin\",\"label_ka\":\"\\xe6\\xbb\\x9d\\xe6\\xb2\\xa2\\xe9\\xa6\\xac\\xe7\\x90\\xb4\",\"play_id\":[126],\"reference\":\"LC Authorities\",\"sort_ja\":\"\\xe3\\x81\\x9f\\xe3\\x81\\x8d\\xe3\\x81\\x96\\xe3\\x82\\x8f\\xe3\\x81\\xb0\\xe3\\x81\\x8d\\xe3\\x82\\x93\"},{\"author_id\":\"54\",\"dates\":null,\"label\":\"Sat\\xc5\\x8d Aiko\",\"label_ka\":\"\\xe4\\xbd\\x90\\xe8\\x97\\xa4\\xe9\\x9d\\x84\\xe5\\xad\\x90\",\"play_id\":[112,133],\"reference\":\"NACSIS\",\"sort_ja\":\"\\xe3\\x81\\x95\\xe3\\x81\\xa8\\xe3\\x81\\x86\\xe3\\x81\\x82\\xe3\\x81\\x84\\xe3\\x81\\x93\"},{\"author_id\":\"55\",\"dates\":\"1909-\",\"label\":\"Sumi Fusako\",\"label_ka\":\"\\xe9\\xb7\\xb2\\xe8\\xa6\\x8b\\xe6\\x88\\xbf\\xe5\\xad\\x90\",\"play_id\":[111],\"reference\":\"NACSIS; (LC)\",\"sort_ja\":\"\\xe3\\x81\\x99\\xe3\\x81\\xbf\\xe3\\x81\\xb5\\xe3\\x81\\x95\\xe3\\x81\\x93\"},{\"author_id\":\"56\",\"dates\":\"1747-1808\",\"label\":\"Namiki Gohei\",\"label_ka\":\"\\xe4\\xb8\\xa6\\xe6\\x9c\\xa8\\xe4\\xba\\x94\\xe7\\x93\\xb6\",\"play_id\":[31,49,115,146],\"reference\":\"LC Authorities\",\"sort_ja\":\"\\xe3\\x81\\xaa\\xe3\\x81\\xbf\\xe3\\x81\\x8d\\xe3\\x81\\x94\\xe3\\x81\\xb8\\xe3\\x81\\x84\"},{\"author_id\":\"57\",\"dates\":\"fl. 1773\",\"label\":\"Matsuda Wakichi\",\"label_ka\":\"\\xe6\\x9d\\xbe\\xe7\\x94\\xb0\\xe5\\x92\\x8c\\xe5\\x90\\x89\",\"play_id\":[109],\"reference\":\"LC Authorities\",\"sort_ja\":\"\\xe3\\x81\\xbe\\xe3\\x81\\xa4\\xe3\\x81\\xa0\\xe3\\x82\\x8f\\xe3\\x81\\x8d\\xe3\\x81\\xa1\"},{\"author_id\":\"58\",\"dates\":\"fl. 1736-1772\",\"label\":\"Wakatake Fuemi\",\"label_ka\":\"\\xe8\\x8b\\xa5\\xe7\\xab\\xb9\\xe7\\xac\\x9b\\xe8\\xba\\xac\",\"play_id\":[13,35,48,75,77,97,105,109,116],\"reference\":\"LC Authorities\",\"sort_ja\":\"\\xe3\\x82\\x8f\\xe3\\x81\\x8b\\xe3\\x81\\x9f\\xe3\\x81\\x91\\xe3\\x81\\xb5\\xe3\\x81\\x88\\xe3\\x81\\xbf\"},{\"author_id\":\"59\",\"dates\":null,\"label\":\"Kitamado Goichi\",\"label_ka\":\"\\xe5\\x8c\\x97\\xe7\\xaa\\x93\\xe5\\xbe\\x8c\\xe4\\xb8\\x80\",\"play_id\":[21,25,110,141,147],\"reference\":null,\"sort_ja\":\"\\xe3\\x81\\x8d\\xe3\\x81\\x9f\\xe3\\x81\\xbe\\xe3\\x81\\xa9\\xe3\\x81\\x94\\xe3\\x81\\x84\\xe3\\x81\\xa1\"},{\"author_id\":\"60\",\"dates\":null,\"label\":\"Nihod\\xc5\\x8d\",\"label_ka\":\"\\xe4\\xba\\x8c\\xe6\\xad\\xa9\\xe5\\xa0\\x82\",\"play_id\":[25,147],\"reference\":null,\"sort_ja\":\"\\xe3\\x81\\xab\\xe3\\x81\\xbb\\xe3\\x81\\xa9\\xe3\\x81\\x86\"},{\"author_id\":\"61\",\"dates\":null,\"label\":\"Chikamatsu Yanagi\",\"label_ka\":\"\\xe8\\xbf\\x91\\xe6\\x9d\\xbe\\xe6\\x9f\\xb3\",\"play_id\":[16,120],\"reference\":\"\\xe7\\xb9\\xaa\\xe6\\x9c\\xac\\xe5\\xa4\\xaa\\xe5\\x8a\\x9f\\xe8\\xa8\\x98 \\\\/ \\xe8\\xbf\\x91\\xe6\\x9d\\xbe\\xe3\\x82\\x84\\xe3\\x81\\xaa\\xe3\\x81\\x8e, \\xe8\\xbf\\x91\\xe6\\x9d\\xbe\\xe6\\xb9\\x96\\xe6\\xb0\\xb4\\xe8\\xbb\\x92, \\xe5\\x8d\\x83\\xe8\\x91\\x89\\xe8\\xbb\\x92\\xe5\\x90\\x88\\xe4\\xbd\\x9c, \\xe6\\x9d\\xb1\\xe4\\xba\\xac : \\xe9\\x87\\x91\\xe6\\xab\\xbb\\xe5\\xa0\\x82, 1890.12, from NACSIS record\",\"sort_ja\":\"\\xe3\\x81\\xa1\\xe3\\x81\\x8b\\xe3\\x81\\xbe\\xe3\\x81\\xa4\\xe3\\x82\\x84\\xe3\\x81\\xaa\\xe3\\x81\\x8e\"},{\"author_id\":\"62\",\"dates\":null,\"label\":\"Koku Z\\xc5\\x8dsu\",\"label_ka\":\"\\xe9\\xbb\\x92\\xe8\\x94\\xb5\\xe4\\xb8\\xbb\",\"play_id\":[19,48,105],\"reference\":\"Keene, Donald, Bunraku: The Art of the Japanese Puppet Theatre (Tokyo: Kodansha International, 1973), under Musume Kagekiyo Yashima Nikki\",\"sort_ja\":\"\\xe3\\x81\\x93\\xe3\\x81\\x8f\\xe3\\x81\\x9e\\xe3\\x81\\x86\\xe3\\x81\\x99\"},{\"author_id\":\"63\",\"dates\":null,\"label\":\"Mitsu\",\"label_ka\":null,\"play_id\":[19],\"reference\":null,\"sort_ja\":\"\\xe3\\x81\\xbf\\xe3\\x81\\xa4\"},{\"author_id\":\"64\",\"dates\":null,\"label\":\"Sagawa T\\xc5\\x8dta\",\"label_ka\":\"\\xe4\\xbd\\x90\\xe5\\xb7\\x9d\\xe8\\x97\\xa4\\xe5\\xa4\\xaa\",\"play_id\":[51,58,135,139],\"reference\":\"\\xe5\\x85\\xab\\xe9\\x99\\xb3\\xe5\\xae\\x88\\xe8\\xad\\xb7\\xe5\\x9f\\x8e \\\\/ \\xe4\\xb8\\xad\\xe6\\x9d\\x91\\xe6\\xbc\\x81\\xe5\\xb2\\xb8, \\xe4\\xbd\\x90\\xe5\\xb7\\x9d\\xe8\\x97\\xa4\\xe5\\xa4\\xaa\\xe4\\xbd\\x9c, \\xe5\\xa4\\xa7\\xe5\\x9d\\x82 : \\xe7\\x8e\\x89\\xe7\\xbd\\xae\\xe6\\xb8\\x85\\xe4\\xb8\\x83, \\xe6\\x96\\x87\\xe5\\x8c\\x964[1807]\\xe5\\x88\\x8a from NACSIS record\",\"sort_ja\":\"\\xe3\\x81\\x95\\xe3\\x81\\x8c\\xe3\\x82\\x8f\\xe3\\x81\\xa8\\xe3\\x81\\x86\\xe3\\x81\\x9f\"},{\"author_id\":\"65\",\"dates\":null,\"label\":\"Chikamatsu Baishiken\",\"label_ka\":\"\\xe8\\xbf\\x91\\xe6\\x9d\\xbe\\xe6\\xa2\\x85\\xe6\\x9e\\x9d\\xe8\\xbb\\x92\",\"play_id\":[51,58,120,139],\"reference\":null,\"sort_ja\":\"\\xe3\\x81\\xa1\\xe3\\x81\\x8b\\xe3\\x81\\xbe\\xe3\\x81\\xa4\\xe3\\x81\\xb0\\xe3\\x81\\x84\\xe3\\x81\\x97\\xe3\\x81\\x91\\xe3\\x82\\x93\"},{\"author_id\":\"66\",\"dates\":null,\"label\":\"Yoshida Shingo\",\"label_ka\":\"\\xe5\\x90\\x89\\xe7\\x94\\xb0\\xe6\\x96\\xb0\\xe5\\x90\\xbe\",\"play_id\":[51,139],\"reference\":null,\"sort_ja\":\"\\xe3\\x82\\x88\\xe3\\x81\\x97\\xe3\\x81\\xa0\\xe3\\x81\\x97\\xe3\\x82\\x93\\xe3\\x81\\x94\"},{\"author_id\":\"67\",\"dates\":null,\"label\":\"Nakamura Gyogan\",\"label_ka\":\"\\xe4\\xb8\\xad\\xe6\\x9d\\x91\\xe6\\xbc\\x81\\xe5\\xb2\\xb8\",\"play_id\":[135],\"reference\":\"\\xe5\\x85\\xab\\xe9\\x99\\xb3\\xe5\\xae\\x88\\xe8\\xad\\xb7\\xe5\\x9f\\x8e \\\\/ \\xe4\\xb8\\xad\\xe6\\x9d\\x91\\xe6\\xbc\\x81\\xe5\\xb2\\xb8, \\xe4\\xbd\\x90\\xe5\\xb7\\x9d\\xe8\\x97\\xa4\\xe5\\xa4\\xaa\\xe4\\xbd\\x9c, \\xe5\\xa4\\xa7\\xe5\\x9d\\x82 : \\xe7\\x8e\\x89\\xe7\\xbd\\xae\\xe6\\xb8\\x85\\xe4\\xb8\\x83, \\xe6\\x96\\x87\\xe5\\x8c\\x964[1807]\\xe5\\x88\\x8a from NACSIS record\",\"sort_ja\":\"\\xe3\\x81\\xaa\\xe3\\x81\\x8b\\xe3\\x82\\x80\\xe3\\x82\\x89\\xe3\\x81\\x8e\\xe3\\x82\\x87\\xe3\\x81\\x8c\\xe3\\x82\\x93\"},{\"author_id\":\"68\",\"dates\":null,\"label\":\"Yatami Heishichi\",\"label_ka\":\"\\xe5\\x85\\xab\\xe6\\xb0\\x91\\xe5\\xb9\\xb3\\xe4\\xb8\\x83\",\"play_id\":[33,52,82,90],\"reference\":null,\"sort_ja\":\"\\xe3\\x82\\x84\\xe3\\x81\\x9f\\xe3\\x81\\xbf\\xe3\\x81\\xb8\\xe3\\x81\\x84\\xe3\\x81\\x97\\xe3\\x81\\xa1\"},{\"author_id\":\"69\",\"dates\":null,\"label\":\"Tamaki [Fudeji?]\",\"label_ka\":\"\\xe7\\x8e\\x89\\xe6\\x9c\\xa8\\xe7\\xad\\x86\\xe4\\xba\\x8c\",\"play_id\":[23],\"reference\":null,\"sort_ja\":\"\\xe3\\x81\\x9f\\xe3\\x81\\xbe\\xe3\\x81\\x8d\\xe3\\x81\\xb5\\xe3\\x81\\xa7\\xe3\\x81\\x98\"},{\"author_id\":\"71\",\"dates\":null,\"label\":\"Tank\\xc5\\x8d Taz\\xc5\\x8d\",\"label_ka\":\"\\xe4\\xba\\xb6\\xe4\\xbe\\xaf\\xe5\\xa4\\x9a\\xe8\\x94\\xb5\",\"play_id\":[23],\"reference\":\"Union Catalogue of Early Japanese Books\",\"sort_ja\":\"\\xe3\\x81\\x9f\\xe3\\x82\\x93\\xe3\\x81\\x93\\xe3\\x81\\x86\\xe3\\x81\\x9f\\xe3\\x81\\x9e\\xe3\\x81\\x86\"},{\"author_id\":\"72\",\"dates\":null,\"label\":\"Tsutsui Hanbei\",\"label_ka\":\"\\xe7\\xad\\x92\\xe4\\xba\\x95\\xe5\\x8d\\x8a\\xe5\\xb9\\xb3\",\"play_id\":[23],\"reference\":null,\"sort_ja\":\"\\xe3\\x81\\xa4\\xe3\\x81\\xa4\\xe3\\x81\\x84\\xe3\\x81\\xaf\\xe3\\x82\\x93\\xe3\\x81\\xb9\\xe3\\x81\\x84\"},{\"author_id\":\"73\",\"dates\":null,\"label\":\"Asada Kakei\",\"label_ka\":\"\\xe6\\xb5\\x85\\xe7\\x94\\xb0\\xe5\\x8f\\xaf\\xe5\\x95\\x93\",\"play_id\":[26],\"reference\":null,\"sort_ja\":\"\\xe3\\x81\\x82\\xe3\\x81\\x95\\xe3\\x81\\xa0\\xe3\\x81\\x8b\\xe3\\x81\\x91\\xe3\\x81\\x84\"},{\"author_id\":\"74\",\"dates\":null,\"label\":\"Chikamatsu Kaz\\xc5\\x8d\",\"label_ka\":\"\\xe8\\xbf\\x91\\xe6\\x9d\\xbe\\xe5\\x8a\\xa0\\xe9\\x80\\xa0\",\"play_id\":[120],\"reference\":\"NACSIS\",\"sort_ja\":\"\\xe3\\x81\\xa1\\xe3\\x81\\x8b\\xe3\\x81\\xbe\\xe3\\x81\\xa4\\xe3\\x81\\x8b\\xe3\\x81\\x9e\\xe3\\x81\\x86\"},{\"author_id\":\"75\",\"dates\":null,\"label\":\"Chikamatsu Manju\",\"label_ka\":\"\\xe8\\xbf\\x91\\xe6\\x9d\\xbe\\xe4\\xb8\\x87\\xe5\\xaf\\xbf\",\"play_id\":[120],\"reference\":\"January 1989 Program (Hiyoshimaru)\",\"sort_ja\":\"\\xe3\\x81\\xa1\\xe3\\x81\\x8b\\xe3\\x81\\xbe\\xe3\\x81\\xa4\\xe3\\x81\\xbe\\xe3\\x82\\x93\\xe3\\x81\\x98\\xe3\\x82\\x85\"},{\"author_id\":\"76\",\"dates\":null,\"label\":\"Takeda Heishichi\",\"label_ka\":\"\\xe7\\xab\\xb9\\xe7\\x94\\xb0\\xe5\\xb9\\xb3\\xe4\\xb8\\x83\",\"play_id\":[27],\"reference\":null,\"sort_ja\":\"\\xe3\\x81\\x9f\\xe3\\x81\\x91\\xe3\\x81\\xa0\\xe3\\x81\\xb8\\xe3\\x81\\x84\\xe3\\x81\\x97\\xe3\\x81\\xa1\"},{\"author_id\":\"77\",\"dates\":null,\"label\":\"Naniwa Sanz\\xc5\\x8d\",\"label_ka\":\"\\xe9\\x9b\\xa3\\xe6\\xb3\\xa2\\xe4\\xb8\\x89\\xe8\\x94\\xb5\",\"play_id\":[72],\"reference\":null,\"sort_ja\":\"\\xe3\\x81\\xaa\\xe3\\x81\\xab\\xe3\\x82\\x8f\\xe3\\x81\\x95\\xe3\\x82\\x93\\xe3\\x81\\x9e\\xe3\\x81\\x86\"},{\"author_id\":\"78\",\"dates\":\"1751 or 2-1810\",\"label\":\"Chikamatsu Tokuz\\xc5\\x8d\",\"label_ka\":\"\\xe8\\xbf\\x91\\xe6\\x9d\\xbe\\xe5\\xbe\\xb3\\xe4\\xb8\\x89\",\"play_id\":[104],\"reference\":\"LC Authorities; \\xe4\\xbc\\x8a\\xe5\\x8b\\xa2\\xe9\\x9f\\xb3\\xe9\\xa0\\xad\\xe6\\x88\\x80\\xe5\\xaf\\x90\\xe5\\x8a\\x94, [\\xe8\\xbf\\x91\\xe6\\x9d\\xbe\\xe5\\xbe\\xb3\\xe4\\xb8\\x89\\xe4\\xbd\\x9c], ([\\xe5\\xa4\\xa7\\xe5\\x9d\\x82] : [\\xe8\\x97\\xa4\\xe5\\xb7\\x9d\\xe5\\x85\\xab\\xe8\\x94\\xb5], [179-]) from NACSIS record\",\"sort_ja\":\"\\xe3\\x81\\xa1\\xe3\\x81\\x8b\\xe3\\x81\\xbe\\xe3\\x81\\xa4\\xe3\\x81\\xa8\\xe3\\x81\\x8f\\xe3\\x81\\x9e\\xe3\\x81\\x86\"},{\"author_id\":\"79\",\"dates\":null,\"label\":\"Terada Heiz\\xc5\\x8d\",\"label_ka\":\"\\xe5\\xaf\\xba\\xe7\\x94\\xb0\\xe5\\x85\\xb5\\xe8\\x94\\xb5\",\"play_id\":[33],\"reference\":\"NACSIS\",\"sort_ja\":\"\\xe3\\x81\\xa6\\xe3\\x82\\x89\\xe3\\x81\\xa0\\xe3\\x81\\xb8\\xe3\\x81\\x84\\xe3\\x81\\x9e\\xe3\\x81\\x86\"},{\"author_id\":\"80\",\"dates\":null,\"label\":\"Takeda Bunkichi\",\"label_ka\":\"\\xe7\\xab\\xb9\\xe7\\x94\\xb0\\xe6\\x96\\x87\\xe5\\x90\\x89\",\"play_id\":[33,52,101],\"reference\":null,\"sort_ja\":\"\\xe3\\x81\\x9f\\xe3\\x81\\x91\\xe3\\x81\\xa0\\xe3\\x81\\xb6\\xe3\\x82\\x93\\xe3\\x81\\x8d\\xe3\\x81\\xa1\"},{\"author_id\":\"81\",\"dates\":\"d. 1798\",\"label\":\"Matsu Kanshi\",\"label_ka\":\"\\xe6\\x9d\\xbe\\xe8\\xb2\\xab\\xe5\\x9b\\x9b\",\"play_id\":[37,45,125],\"reference\":\"LC Authorities; \\xe4\\xbc\\xbd\\xe7\\xbe\\x85\\xe5\\x85\\x88\\xe4\\xbb\\xa3\\xe8\\x90\\xa9 \\\\/ \\xe6\\x9d\\xbe\\xe8\\xb2\\xab\\xe5\\x9b\\x9b, \\xe9\\xab\\x98\\xe6\\xa9\\x8b\\xe6\\xad\\xa6\\xe5\\x85\\xb5\\xe8\\xa1\\x9b, \\xe5\\x90\\x89\\xe7\\x94\\xb0\\xe8\\xa7\\x92\\xe4\\xb8\\xb8\\xe8\\x91\\x97, \\xe6\\x9d\\xb1\\xe4\\xba\\xac : \\xe9\\x87\\x91\\xe6\\xab\\xbb\\xe5\\xa0\\x82, 1891.1 from NACSIS record\",\"sort_ja\":\"\\xe3\\x81\\xbe\\xe3\\x81\\xa4\\xe3\\x81\\x8b\\xe3\\x82\\x93\\xe3\\x81\\x97\"},{\"author_id\":\"82\",\"dates\":null,\"label\":\"Yoshida Kakumaru\",\"label_ka\":\"\\xe5\\x90\\x89\\xe7\\x94\\xb0\\xe8\\xa7\\x92\\xe4\\xb8\\xb8\",\"play_id\":[37,45,125],\"reference\":\"\\xe4\\xbc\\xbd\\xe7\\xbe\\x85\\xe5\\x85\\x88\\xe4\\xbb\\xa3\\xe8\\x90\\xa9 \\\\/ \\xe6\\x9d\\xbe\\xe8\\xb2\\xab\\xe5\\x9b\\x9b, \\xe9\\xab\\x98\\xe6\\xa9\\x8b\\xe6\\xad\\xa6\\xe5\\x85\\xb5\\xe8\\xa1\\x9b, \\xe5\\x90\\x89\\xe7\\x94\\xb0\\xe8\\xa7\\x92\\xe4\\xb8\\xb8\\xe8\\x91\\x97, \\xe6\\x9d\\xb1\\xe4\\xba\\xac : \\xe9\\x87\\x91\\xe6\\xab\\xbb\\xe5\\xa0\\x82, 1891.1 from NACSIS record\",\"sort_ja\":\"\\xe3\\x82\\x88\\xe3\\x81\\x97\\xe3\\x81\\xa0\\xe3\\x81\\x8b\\xe3\\x81\\x8f\\xe3\\x81\\xbe\\xe3\\x82\\x8b\"},{\"author_id\":\"83\",\"dates\":\"1887-1928\",\"label\":\"Kuj\\xc5\\x8d Takeko\",\"label_ka\":\"\\xe4\\xb9\\x9d\\xe6\\xa2\\x9d\\xe6\\xad\\xa6\\xe5\\xad\\x90\",\"play_id\":[12],\"reference\":\"NACSIS; LC\",\"sort_ja\":\"\\xe3\\x81\\x8f\\xe3\\x81\\x98\\xe3\\x82\\x87\\xe3\\x81\\x86\\xe3\\x81\\x9f\\xe3\\x81\\x91\\xe3\\x81\\x93\"},{\"author_id\":\"84\",\"dates\":null,\"label\":\"Fukumatsu T\\xc5\\x8dsuke\",\"label_ka\":\"\\xe7\\xa6\\x8f\\xe6\\x9d\\xbe\\xe8\\x97\\xa4\\xe5\\x8a\\xa9\",\"play_id\":[105],\"reference\":null,\"sort_ja\":\"\\xe3\\x81\\xb5\\xe3\\x81\\x8f\\xe3\\x81\\xbe\\xe3\\x81\\xa4\\xe3\\x81\\xa8\\xe3\\x81\\x86\\xe3\\x81\\x99\\xe3\\x81\\x91\"},{\"author_id\":\"85\",\"dates\":null,\"label\":\"Namiki Eisuke\",\"label_ka\":\"\\xe4\\xb8\\xa6\\xe6\\x9c\\xa8\\xe6\\xb0\\xb8\\xe8\\xbc\\x94\",\"play_id\":[105],\"reference\":null,\"sort_ja\":\"\\xe3\\x81\\xaa\\xe3\\x81\\xbf\\xe3\\x81\\x8d\\xe3\\x81\\x88\\xe3\\x81\\x84\\xe3\\x81\\x99\\xe3\\x81\\x91\"},{\"author_id\":\"86\",\"dates\":\"d. 1760\",\"label\":\"Yoshida Kanshi\",\"label_ka\":\"\\xe5\\x90\\x89\\xe7\\x94\\xb0\\xe5\\x86\\xa0\\xe5\\xad\\x90\",\"play_id\":[38],\"reference\":\"LC Authorities\",\"sort_ja\":\"\\xe3\\x82\\x88\\xe3\\x81\\x97\\xe3\\x81\\xa0\\xe3\\x81\\x8b\\xe3\\x82\\x93\\xe3\\x81\\x97\\xe3\\x81\\xa1\"},{\"author_id\":\"87\",\"dates\":null,\"label\":\"Kimura Tomiko\",\"label_ka\":\"\\xe6\\x9c\\xa8\\xe6\\x9d\\x91\\xe5\\xaf\\x8c\\xe5\\xad\\x90\",\"play_id\":[39],\"reference\":null,\"sort_ja\":\"\\xe3\\x81\\x8d\\xe3\\x82\\x80\\xe3\\x82\\x89\\xe3\\x81\\xa8\\xe3\\x81\\xbf\\xe3\\x81\\x93\"},{\"author_id\":\"88\",\"dates\":null,\"label\":\"Sakurada Jisuke, III\",\"label_ka\":\"\\xe6\\xab\\xbb\\xe7\\x94\\xb0\\xe6\\xb2\\xbb\\xe5\\x8a\\xa9\",\"play_id\":[100,129,157],\"reference\":\"NACSIS\",\"sort_ja\":\"\\xe3\\x81\\x95\\xe3\\x81\\x8f\\xe3\\x82\\x89\\xe3\\x81\\xa0\\xe3\\x81\\x98\\xe3\\x81\\x84\\xe3\\x81\\x99\\xe3\\x81\\x91\"},{\"author_id\":\"89\",\"dates\":null,\"label\":\"Tamenaga Tarobei\",\"label_ka\":\"\\xe7\\x82\\xba\\xe6\\xb0\\xb8\\xe5\\xa4\\xaa\\xe9\\x83\\x8e\\xe5\\x85\\xb5\\xe8\\xa1\\x9b\",\"play_id\":[121],\"reference\":\"\\xe4\\xb9\\x85\\xe7\\xb1\\xb3\\xe4\\xbb\\x99\\xe4\\xba\\xba\\xe5\\x90\\x89\\xe9\\x87\\x8e\\xe6\\xab\\xbb \\\\/ \\xe7\\x82\\xba\\xe6\\xb0\\xb8\\xe5\\xa4\\xaa\\xe9\\x83\\x8e\\xe5\\x85\\xb5\\xe8\\xa1\\x9b\\xe4\\xbd\\x9c, [\\xe5\\x87\\xba\\xe7\\x89\\x88\\xe5\\x9c\\xb0\\xe4\\xb8\\x8d\\xe6\\x98\\x8e] : [\\xe5\\x87\\xba\\xe7\\x89\\x88\\xe8\\x80\\x85\\xe4\\xb8\\x8d\\xe6\\x98\\x8e], 1743.8 from NACSIS record\",\"sort_ja\":\"\\xe3\\x81\\x9f\\xe3\\x82\\x81\\xe3\\x81\\xaa\\xe3\\x81\\x8c\\xe3\\x81\\x9f\\xe3\\x82\\x8d\\xe3\\x81\\xb9\\xe3\\x81\\x84\"},{\"author_id\":\"90\",\"dates\":null,\"label\":\"Amano Shir\\xc5\\x8d\",\"label_ka\":\"\\xe9\\x9b\\xa8\\xe9\\x87\\x8e\\xe5\\xa3\\xab\\xe9\\x83\\x8e\",\"play_id\":[44],\"reference\":null,\"sort_ja\":\"\\xe3\\x81\\x82\\xe3\\x81\\xbe\\xe3\\x81\\xae\\xe3\\x81\\x97\\xe3\\x82\\x8d\\xe3\\x81\\x86\"},{\"author_id\":\"91\",\"dates\":null,\"label\":\"Takahashi Buhei\",\"label_ka\":\"\\xe9\\xab\\x98\\xe6\\xa9\\x8b\\xe6\\xad\\xa6\\xe5\\x85\\xb5\\xe8\\xa1\\x9b\",\"play_id\":[45,125],\"reference\":\"\\xe4\\xbc\\xbd\\xe7\\xbe\\x85\\xe5\\x85\\x88\\xe4\\xbb\\xa3\\xe8\\x90\\xa9 \\\\/ \\xe6\\x9d\\xbe\\xe8\\xb2\\xab\\xe5\\x9b\\x9b, \\xe9\\xab\\x98\\xe6\\xa9\\x8b\\xe6\\xad\\xa6\\xe5\\x85\\xb5\\xe8\\xa1\\x9b, \\xe5\\x90\\x89\\xe7\\x94\\xb0\\xe8\\xa7\\x92\\xe4\\xb8\\xb8\\xe8\\x91\\x97, \\xe6\\x9d\\xb1\\xe4\\xba\\xac : \\xe9\\x87\\x91\\xe6\\xab\\xbb\\xe5\\xa0\\x82, 1891.1 from NACSIS record\",\"sort_ja\":\"\\xe3\\x81\\x9f\\xe3\\x81\\x8b\\xe3\\x81\\xaf\\xe3\\x81\\x97\\xe3\\x81\\xb6\\xe3\\x81\\xb8\\xe3\\x81\\x84\"},{\"author_id\":\"92\",\"dates\":\"1913-1947\",\"label\":\"Oda Sakunosuke\",\"label_ka\":\"\\xe7\\xb9\\x94\\xe7\\x94\\xb0\\xe4\\xbd\\x9c\\xe4\\xb9\\x8b\\xe5\\x8a\\xa9\",\"play_id\":[156],\"reference\":\"LC Authorities\",\"sort_ja\":\"\\xe3\\x81\\x8a\\xe3\\x81\\xa0\\xe3\\x81\\x95\\xe3\\x81\\x8f\\xe3\\x81\\xae\\xe3\\x81\\x99\\xe3\\x81\\x91\"},{\"author_id\":\"93\",\"dates\":null,\"label\":\"Yamaguchi K\\xc5\\x8dichi\",\"label_ka\":\"\\xe5\\xb1\\xb1\\xe5\\x8f\\xa3\\xe5\\xbb\\xa3\\xe4\\xb8\\x80\",\"play_id\":[103],\"reference\":null,\"sort_ja\":\"\\xe3\\x81\\x9f\\xe3\\x81\\xbe\\xe3\\x81\\x90\\xe3\\x81\\xa1\\xe3\\x81\\x93\\xe3\\x81\\x86\\xe3\\x81\\x84\\xe3\\x81\\xa1\"},{\"author_id\":\"94\",\"dates\":null,\"label\":\"Yamada Sh\\xc5\\x8dichi\",\"label_ka\":\"\\xe5\\xb1\\xb1\\xe7\\x94\\xb0\\xe5\\xba\\x84\\xe4\\xb8\\x80\",\"play_id\":[51,161],\"reference\":null,\"sort_ja\":\"\\xe3\\x82\\x84\\xe3\\x81\\xbe\\xe3\\x81\\xa0\\xe3\\x81\\x97\\xe3\\x82\\x87\\xe3\\x81\\x86\\xe3\\x81\\x84\\xe3\\x81\\xa1\"},{\"author_id\":\"95\",\"dates\":null,\"label\":\"Uno Chiyo\",\"label_ka\":\"\\xe5\\xae\\x87\\xe9\\x87\\x8e\\xe5\\x8d\\x83\\xe4\\xbb\\xa3\",\"play_id\":[159],\"reference\":null,\"sort_ja\":\"\\xe3\\x81\\x86\\xe3\\x81\\xae\\xe3\\x81\\xa1\\xe3\\x82\\x88\"},{\"author_id\":\"96\",\"dates\":null,\"label\":\"Matsuda Saiji\",\"label_ka\":\"\\xe6\\x9d\\xbe\\xe7\\x94\\xb0\\xe6\\x89\\x8d\\xe4\\xba\\x8c\",\"play_id\":[90],\"reference\":\"\\xe8\\xaa\\x95\\xe7\\x94\\x9f\\xe6\\xa2\\x85\\xe8\\x98\\x87\\xe7\\x94\\x9f\\xe6\\x9d\\xbe\\xe6\\x8c\\xaf\\xe8\\xa2\\x96\\xe5\\xa4\\xa9\\xe7\\xa5\\x9e\\xe8\\xa8\\x98 \\\\/ \\xe8\\xbf\\x91\\xe6\\x9d\\xbe\\xe5\\x8d\\x8a\\xe4\\xba\\x8c[\\xe3\\x81\\xbb\\xe3\\x81\\x8b]\\xe8\\x91\\x97 from NACSIS record\",\"sort_ja\":\"\\xe3\\x81\\xbe\\xe3\\x81\\xa4\\xe3\\x81\\xa0\\xe3\\x81\\x95\\xe3\\x81\\x84\\xe3\\x81\\x98\"},{\"author_id\":\"97\",\"dates\":null,\"label\":\"Takeda [Shinmatsu?]\",\"label_ka\":\"\\xe7\\xab\\xb9\\xe7\\x94\\xb0\\xe6\\x96\\xb0\\xe6\\x9d\\xbe\",\"play_id\":[90],\"reference\":null,\"sort_ja\":\"\\xe3\\x81\\x9f\\xe3\\x81\\x91\\xe3\\x81\\xa0\\xe3\\x81\\x97\\xe3\\x82\\x93\\xe3\\x81\\xbe\\xe3\\x81\\xa4\"},{\"author_id\":\"98\",\"dates\":null,\"label\":\"Chikamatsu T\\xc5\\x8dnan\",\"label_ka\":\"\\xe8\\xbf\\x91\\xe6\\x9d\\xbe\\xe6\\x9d\\xb1\\xe5\\x8d\\x97\",\"play_id\":[79,90],\"reference\":\"\\xe5\\xa6\\xb9\\xe8\\x84\\x8a\\xe5\\xb1\\xb1\\xe5\\xa9\\xa6\\xe5\\xa5\\xb3\\xe5\\xba\\xad\\xe8\\xa8\\x93 : \\xe5\\x8d\\x81\\xe4\\xb8\\x89\\xe9\\x90\\x98\\xe7\\xb5\\xb9\\xe6\\x87\\xb8\\xe6\\x9f\\xb3 \\\\/ \\xe8\\xbf\\x91\\xe6\\x9d\\xbe\\xe5\\x8d\\x8a\\xe4\\xba\\x8c [\\xe3\\x81\\xbb\\xe3\\x81\\x8b] \\xe4\\xbd\\x9c ; \\xe4\\xb8\\x89\\xe5\\xa5\\xbd\\xe6\\x9d\\xbe\\xe6\\xb4\\x9b\\xe5\\xbe\\x8c\\xe8\\xa6\\x8b, \\xe6\\x9d\\xb1\\xe4\\xba\\xac : \\xe9\\x87\\x91\\xe6\\xab\\xbb\\xe5\\xa0\\x82, 1891.5 from NACSIS record; LC Authorities\",\"sort_ja\":\"\\xe3\\x81\\xa1\\xe3\\x81\\x8b\\xe3\\x81\\xbe\\xe3\\x81\\xa4\\xe3\\x81\\xa8\\xe3\\x81\\x86\\xe3\\x81\\xaa\\xe3\\x82\\x93\"},{\"author_id\":\"99\",\"dates\":\"1888-1948\",\"label\":\"Kikuchi Hiroshi\",\"label_ka\":\"\\xe8\\x8f\\x8a\\xe6\\xb1\\xa0\\xe5\\xaf\\x9b\",\"play_id\":[86],\"reference\":\"LC Authorities\",\"sort_ja\":\"\\xe3\\x81\\x8d\\xe3\\x81\\x8f\\xe3\\x81\\xa1\\xe3\\x81\\xb2\\xe3\\x82\\x8d\\xe3\\x81\\x97\"},{\"author_id\":\"100\",\"dates\":null,\"label\":\"Takeda Izumi\",\"label_ka\":\"\\xe7\\xab\\xb9\\xe7\\x94\\xb0\\xe5\\x92\\x8c\\xe6\\xb3\\x89\",\"play_id\":[110],\"reference\":\"NACSIS \\xe5\\xa5\\xa5\\xe5\\xb7\\x9e\\xe5\\xae\\x89\\xe9\\x81\\x94\\xe5\\x8e\\x9f \\\\/ \\xe7\\xab\\xb9\\xe7\\x94\\xb0\\xe5\\x92\\x8c\\xe6\\xb3\\x89 [\\xe3\\x81\\xbb\\xe3\\x81\\x8b] \\xe4\\xbd\\x9c\",\"sort_ja\":\"\\xe3\\x81\\x9f\\xe3\\x81\\x91\\xe3\\x81\\xa0\\xe3\\x81\\x84\\xe3\\x81\\x9a\\xe3\\x81\\xbf\"},{\"author_id\":\"101\",\"dates\":null,\"label\":\"Kako Chika\",\"label_ka\":\"\\xe5\\x8a\\xa0\\xe5\\x8f\\xa4\\xe5\\x8d\\x83\\xe8\\xb3\\x80\",\"play_id\":[60,68],\"reference\":\"\\xe5\\xa3\\xba\\xe9\\x98\\xaa\\xe9\\x9c\\x8a\\xe9\\xa8\\x93\\xe8\\xa8\\x98 \\\\/ \\xe5\\x8a\\xa0\\xe5\\x8f\\xa4\\xe5\\x8d\\x83\\xe8\\xb3\\x80\\xe8\\x91\\x97, \\xe5\\xa4\\xa7\\xe5\\x9d\\x82 : \\xe7\\xab\\xb9\\xe4\\xb8\\xad\\xe6\\xb8\\x85\\xe5\\x8a\\xa9, [1891], from NACSIS record; Tsubosaka Kannon Reigenki, Kokuritsu Gekij\\xc5\\x8d j\\xc5\\x8den shiry\\xc5\\x8dsh\\xc5\\xab, edited by Kokuritsu Gekijo\\xcc\\x84 Geino\\xcc\\x84 Cho\\xcc\\x84sashitsu, vol. 246, December 1985; Traditional Japanese Theater: An Anthology of Plays, edited by Karen\",\"sort_ja\":\"\\xe3\\x81\\x8b\\xe3\\x81\\x93\\xe3\\x81\\xa1\\xe3\\x81\\x8b\"},{\"author_id\":\"102\",\"dates\":null,\"label\":\"\\xc5\\x8cno Keiz\\xc5\\x8d\",\"label_ka\":\"\\xe5\\xa4\\xa7\\xe9\\x87\\x8e\\xe6\\x83\\xa0\\xe9\\x80\\xa0\",\"play_id\":[118],\"reference\":\"NACSIS \\xe9\\xbe\\x8d\\xe8\\x99\\x8e : \\xe5\\x8a\\x87\\xe8\\xa9\\xa9\\xe9\\x9b\\x86 \\\\/ \\xe5\\xa4\\xa7\\xe9\\x87\\x8e\\xe6\\x83\\xa0\\xe9\\x80\\xa0 [\\xe8\\x91\\x97]\",\"sort_ja\":\"\\xe3\\x81\\x8a\\xe3\\x81\\x8a\\xe3\\x81\\xae\\xe3\\x81\\x91\\xe3\\x81\\x84\\xe3\\x81\\x9e\\xe3\\x81\\x86\"},{\"author_id\":\"104\",\"dates\":null,\"label\":\"Toyota Sh\\xc5\\x8dz\\xc5\\x8d\",\"label_ka\":\"\\xe8\\xb1\\x8a\\xe7\\x94\\xb0\\xe6\\xad\\xa3\\xe8\\x94\\xb5\",\"play_id\":[122],\"reference\":\"August 1984 Seishu Akogigaura\",\"sort_ja\":\"\\xe3\\x81\\xa8\\xe3\\x82\\x88\\xe3\\x81\\x9f\\xe3\\x81\\x97\\xe3\\x82\\x87\\xe3\\x81\\x86\\xe3\\x81\\x9e\\xe3\\x81\\x86\"},{\"author_id\":\"105\",\"dates\":null,\"label\":\"Ogawa Hanbei\",\"label_ka\":\"\\xe5\\xb0\\x8f\\xe5\\xb7\\x9d\\xe5\\x8d\\x8a\\xe5\\xb9\\xb3\",\"play_id\":[56],\"reference\":\"\\xe7\\xab\\xb9\\xe6\\x9c\\xac\\xe5\\xba\\xa7\\xe6\\xb5\\x84\\xe7\\x91\\xa0\\xe7\\x92\\x83\\xe9\\x9b\\x86 \\\\/ \\xe5\\xb9\\xb3\\xe7\\x94\\xb0\\xe6\\xbe\\x84\\xe5\\xad\\x90, \\xe6\\x9d\\xb1\\xe4\\xba\\xac : \\xe5\\x9b\\xbd\\xe6\\x9b\\xb8\\xe5\\x88\\x8a\\xe8\\xa1\\x8c\\xe4\\xbc\\x9a, 1988-1996, from NACSIS record\",\"sort_ja\":\"\\xe3\\x81\\x8a\\xe3\\x81\\x8c\\xe3\\x82\\x8f\\xe3\\x81\\xaf\\xe3\\x82\\x93\\xe3\\x81\\xb9\\xe3\\x81\\x84\"},{\"author_id\":\"106\",\"dates\":null,\"label\":\"Fukuuchi Kigai\",\"label_ka\":\"\\xe7\\xa6\\x8f\\xe5\\x86\\x85\\xe9\\xac\\xbc\\xe5\\xa4\\x96\",\"play_id\":[55],\"reference\":\"Shinrei Yaguchi no Watashi\",\"sort_ja\":\"\\xe3\\x81\\xb5\\xe3\\x81\\x8f\\xe3\\x81\\x86\\xe3\\x81\\xa1\\xe3\\x81\\x8d\\xe3\\x81\\x8c\\xe3\\x81\\x84\"},{\"author_id\":\"107\",\"dates\":null,\"label\":\"Takemoto Nishikiday\\xc5\\xab\",\"label_ka\":\"\\xe7\\xab\\xb9\\xe6\\x9c\\xac\\xe9\\x8c\\xa6\\xe5\\xa4\\xaa\\xe5\\xa4\\xab\",\"play_id\":[184],\"reference\":\"Shitakiri Suzume\",\"sort_ja\":\"\\xe3\\x81\\x9f\\xe3\\x81\\x91\\xe3\\x82\\x82\\xe3\\x81\\xa8\\xe3\\x81\\xab\\xe3\\x81\\x97\\xe3\\x81\\x8d\\xe3\\x81\\xa0\\xe3\\x82\\x86\\xe3\\x81\\x86\"},{\"author_id\":\"108\",\"dates\":\"1886-1965\",\"label\":\"Tanizaki Junichir\\xc5\\x8d\",\"label_ka\":\"\\xe8\\xb0\\xb7\\xe5\\xb4\\x8e\\xe6\\xbd\\xa4\\xe4\\xb8\\x80\\xe9\\x83\\x8e\",\"play_id\":[152],\"reference\":\"LC\",\"sort_ja\":\"\\xe3\\x81\\x9f\\xe3\\x81\\xab\\xe3\\x81\\x96\\xe3\\x81\\x8d\\xe3\\x81\\x98\\xe3\\x82\\x85\\xe3\\x82\\x93\\xe3\\x81\\x84\\xe3\\x81\\xa1\\xe3\\x82\\x8d\\xe3\\x81\\x86\"},{\"author_id\":\"109\",\"dates\":null,\"label\":\"Tsukuda Heishichi\",\"label_ka\":\"\\xe7\\xad\\x91\\xe7\\x94\\xb0\\xe5\\xb9\\xb3\\xe4\\xb8\\x83\",\"play_id\":[101],\"reference\":\"Taiheiki Ch\\xc5\\xabshin K\\xc5\\x8dshaku November 1993 Program\",\"sort_ja\":\"\\xe3\\x81\\xa4\\xe3\\x81\\x8f\\xe3\\x81\\xa0\\xe3\\x81\\xb8\\xe3\\x81\\x84\\xe3\\x81\\x97\\xe3\\x81\\xa1\"},{\"author_id\":\"110\",\"dates\":null,\"label\":\"Takami Jun\",\"label_ka\":\"\\xe9\\xab\\x98\\xe8\\xa6\\x8b\\xe9\\xa0\\x86\",\"play_id\":[127],\"reference\":null,\"sort_ja\":\"\\xe3\\x81\\x9f\\xe3\\x81\\x8b\\xe3\\x81\\xbf\\xe3\\x81\\x98\\xe3\\x82\\x85\\xe3\\x82\\x93\"},{\"author_id\":\"111\",\"dates\":null,\"label\":\"Ariyoshi Sawako\",\"label_ka\":\"\\xe6\\x9c\\x89\\xe5\\x90\\x89\\xe4\\xbd\\x90\\xe5\\x92\\x8c\\xe5\\xad\\x90\",\"play_id\":[127],\"reference\":null,\"sort_ja\":\"\\xe3\\x81\\x82\\xe3\\x82\\x8a\\xe3\\x82\\x88\\xe3\\x81\\x97\\xe3\\x81\\x95\\xe3\\x82\\x8f\\xe3\\x81\\x93\"},{\"author_id\":\"112\",\"dates\":null,\"label\":\"Takeshiba Genz\\xc5\\x8d\",\"label_ka\":\"\\xe7\\xab\\xb9\\xe6\\x9f\\xb4\\xe8\\xab\\xba\\xe8\\x94\\xb5\",\"play_id\":[98],\"reference\":\"September 1977 Z\\xc5\\x8dh\\xc5\\x8d Ch\\xc5\\xabshingura Program. LC Authorities: ?Katsu, Genzo, 1844-1902\",\"sort_ja\":\"\\xe3\\x81\\x9f\\xe3\\x81\\x91\\xe3\\x81\\x97\\xe3\\x81\\xb0\\xe3\\x81\\x92\\xe3\\x82\\x93\\xe3\\x81\\x9e\\xe3\\x81\\x86\"},{\"author_id\":\"113\",\"dates\":null,\"label\":\"Tamekawa S\\xc5\\x8dsuke\",\"label_ka\":\"\\xe7\\x82\\xba\\xe5\\xb7\\x9d\\xe5\\xae\\x97\\xe8\\xbc\\x94\",\"play_id\":[6],\"reference\":\"Kokuritsu Gekij\\xc5\\x8d j\\xc5\\x8den shiry\\xc5\\x8dsh\\xc5\\xab, edited by Kokuritsu Gekijo\\xcc\\x84 Geino\\xcc\\x84 Cho\\xcc\\x84sashitsu, vol. 206, September 1982; July 1989 Program\",\"sort_ja\":\"\\xe3\\x81\\x9f\\xe3\\x82\\x81\\xe3\\x81\\x8b\\xe3\\x82\\x8f\\xe3\\x81\\x9d\\xe3\\x81\\x86\\xe3\\x81\\x99\\xe3\\x81\\x91\"},{\"author_id\":\"114\",\"dates\":null,\"label\":\"Tsutsukawa Hanji\",\"label_ka\":\"\\xe7\\xad\\x92\\xe5\\xb7\\x9d\\xe5\\x8d\\x8a\\xe4\\xba\\x8c\",\"play_id\":[6],\"reference\":\"Kokuritsu Gekij\\xc5\\x8d j\\xc5\\x8den shiry\\xc5\\x8dsh\\xc5\\xab, edited by Kokuritsu Gekijo\\xcc\\x84 Geino\\xcc\\x84 Cho\\xcc\\x84sashitsu, vol. 206, September 1982; NACSIS for furigana\",\"sort_ja\":\"\\xe3\\x81\\xa4\\xe3\\x81\\xa4\\xe3\\x81\\x8b\\xe3\\x82\\x8f\\xe3\\x81\\xaf\\xe3\\x82\\x93\\xe3\\x81\\x98\"},{\"author_id\":\"115\",\"dates\":null,\"label\":\"Toyozawa Danpei, II\",\"label_ka\":\"\\xe8\\xb1\\x8a\\xe6\\xb2\\xa2\\xe5\\x9b\\xa3\\xe5\\xb9\\xb3\",\"play_id\":[60],\"reference\":\"Kokuritsu Gekij\\xc5\\x8d j\\xc5\\x8den shiry\\xc5\\x8dsh\\xc5\\xab, edited by Kokuritsu Gekijo\\xcc\\x84 Geino\\xcc\\x84 Cho\\xcc\\x84sashitsu, vol. 246, December 1985\",\"sort_ja\":\"\\xe3\\x81\\xa8\\xe3\\x82\\x88\\xe3\\x81\\x96\\xe3\\x82\\x8f\\xe3\\x81\\xa0\\xe3\\x82\\x93\\xe3\\x81\\xba\\xe3\\x81\\x84\"},{\"author_id\":\"116\",\"dates\":null,\"label\":\"Nozawa Kichibei, III\",\"label_ka\":\"\\xe9\\x87\\x8e\\xe6\\xb2\\xa2\\xe5\\x90\\x89\\xe5\\x85\\xb5\\xe8\\xa1\\x9b\",\"play_id\":[64,165],\"reference\":\"Hanakurabe Shiki no Kotobuki\",\"sort_ja\":\"\\xe3\\x81\\xae\\xe3\\x81\\x96\\xe3\\x82\\x8f\\xe3\\x81\\x8d\\xe3\\x81\\xa1\\xe3\\x81\\xb9\\xe3\\x81\\x84\"},{\"author_id\":\"117\",\"dates\":null,\"label\":\"Tsuruzawa J\\xc5\\xabz\\xc5\\x8d, IV\",\"label_ka\":\"\\xe9\\xb6\\xb4\\xe6\\xbe\\xa4\\xe9\\x87\\x8d\\xe9\\x80\\xa0\",\"play_id\":[47],\"reference\":\"Kokuritsu Gekij\\xc5\\x8d j\\xc5\\x8den shiry\\xc5\\x8dsh\\xc5\\xab, edited by Kokuritsu Gekijo\\xcc\\x84 Geino\\xcc\\x84 Cho\\xcc\\x84sashitsu, vol. 194, September 1981\",\"sort_ja\":\"\\xe3\\x81\\xa4\\xe3\\x82\\x8b\\xe3\\x81\\x96\\xe3\\x82\\x8f\\xe3\\x81\\x98\\xe3\\x82\\x85\\xe3\\x81\\x86\\xe3\\x81\\x9e\\xe3\\x81\\x86\"},{\"author_id\":\"118\",\"dates\":null,\"label\":\"Chikamatsu Kasaku\",\"label_ka\":\"\\xe8\\xbf\\x91\\xe6\\x9d\\xbe\\xe5\\x8a\\xa0\\xe4\\xbd\\x9c\",\"play_id\":[29],\"reference\":\"\\xe4\\xbc\\x8a\\xe8\\xb3\\x80\\xe8\\xb6\\x8a\\xe9\\x81\\x93\\xe4\\xb8\\xad\\xe9\\x9b\\x99\\xe5\\x85\\xad \\\\/ \\xe8\\xbf\\x91\\xe6\\x9d\\xbe\\xe5\\x8d\\x8a\\xe4\\xba\\x8c, \\xe8\\xbf\\x91\\xe6\\x9d\\xbe\\xe5\\x8a\\xa0\\xe4\\xbd\\x9c\\xe4\\xbd\\x9c, \\xe5\\xa4\\xa7\\xe9\\x98\\xaa : \\xe5\\x8a\\xa0\\xe5\\xb6\\x8b\\xe6\\xb8\\x85\\xe5\\x8a\\xa9, [\\xe5\\x87\\xba\\xe7\\x89\\x88\\xe5\\xb9\\xb4\\xe4\\xb8\\x8d\\xe6\\x98\\x8e] from NACSIS record\",\"sort_ja\":\"\\xe3\\x81\\xa1\\xe3\\x81\\x8b\\xe3\\x81\\xbe\\xe3\\x81\\xa4\\xe3\\x81\\x8b\\xe3\\x81\\x95\\xe3\\x81\\x8f\"},{\"author_id\":\"119\",\"dates\":null,\"label\":\"Sakae Zenpei\",\"label_ka\":\"\\xe6\\xa0\\x84\\xe5\\x96\\x84\\xe5\\xb9\\xb3\",\"play_id\":[79],\"reference\":\"\\xe5\\xa6\\xb9\\xe8\\x84\\x8a\\xe5\\xb1\\xb1\\xe5\\xa9\\xa6\\xe5\\xa5\\xb3\\xe5\\xba\\xad\\xe8\\xa8\\x93 : \\xe5\\x8d\\x81\\xe4\\xb8\\x89\\xe9\\x90\\x98\\xe7\\xb5\\xb9\\xe6\\x87\\xb8\\xe6\\x9f\\xb3 \\\\/ \\xe8\\xbf\\x91\\xe6\\x9d\\xbe\\xe5\\x8d\\x8a\\xe4\\xba\\x8c [\\xe3\\x81\\xbb\\xe3\\x81\\x8b] \\xe4\\xbd\\x9c ; \\xe4\\xb8\\x89\\xe5\\xa5\\xbd\\xe6\\x9d\\xbe\\xe6\\xb4\\x9b\\xe5\\xbe\\x8c\\xe8\\xa6\\x8b, \\xe6\\x9d\\xb1\\xe4\\xba\\xac : \\xe9\\x87\\x91\\xe6\\xab\\xbb\\xe5\\xa0\\x82, 1891.5 from NACSIS record\",\"sort_ja\":\"\\xe3\\x81\\x95\\xe3\\x81\\x8b\\xe3\\x81\\x88\\xe3\\x81\\x9c\\xe3\\x82\\x93\\xe3\\x81\\xba\\xe3\\x81\\x84\"},{\"author_id\":\"121\",\"dates\":null,\"label\":\"Takeshiba Kamesuke\",\"label_ka\":null,\"play_id\":[92],\"reference\":\"Sakuratsuba Urami no Samezaya\",\"sort_ja\":\"\\xe3\\x81\\x9f\\xe3\\x81\\x91\\xe3\\x81\\x97\\xe3\\x81\\xb0\\xe3\\x81\\x8b\\xe3\\x82\\x81\\xe3\\x81\\x99\\xe3\\x81\\x91\"},{\"author_id\":\"122\",\"dates\":null,\"label\":\"Tsuruzawa D\\xc5\\x8dhachi, I\",\"label_ka\":\"\\xe9\\xb6\\xb4\\xe6\\xbe\\xa4 \\xe9\\x81\\x93\\xe5\\x85\\xab\",\"play_id\":[70,96],\"reference\":\"Sannin Katawa September 1972 Program\",\"sort_ja\":\"\\xe3\\x81\\xa4\\xe3\\x82\\x8b\\xe3\\x81\\x96\\xe3\\x82\\x8f\\xe3\\x81\\xa9\\xe3\\x81\\x86\\xe3\\x81\\xaf\\xe3\\x81\\xa1\"}]'"
      ]
     },
     "execution_count": 13,
     "metadata": {},
     "output_type": "execute_result"
    }
   ],
   "source": [
    "final_auth_df.to_json( orient=\"records\", force_ascii=False)\n",
    "# save final dataframe to json file\n",
    "# json_name = 'authors_with_play_id_array.json'\n",
    "# final_auth_df.to_json(json_name, orient=\"records\", force_ascii=False)"
   ]
  },
  {
   "cell_type": "code",
   "execution_count": null,
   "metadata": {
    "collapsed": true
   },
   "outputs": [],
   "source": []
  }
 ],
 "metadata": {
  "kernelspec": {
   "display_name": "Python 2",
   "language": "python",
   "name": "python2"
  },
  "language_info": {
   "codemirror_mode": {
    "name": "ipython",
    "version": 2
   },
   "file_extension": ".py",
   "mimetype": "text/x-python",
   "name": "python",
   "nbconvert_exporter": "python",
   "pygments_lexer": "ipython2",
   "version": "2.7.13"
  }
 },
 "nbformat": 4,
 "nbformat_minor": 2
}
