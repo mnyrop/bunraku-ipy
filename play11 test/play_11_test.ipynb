{
 "cells": [
  {
   "cell_type": "code",
   "execution_count": 1,
   "metadata": {
    "collapsed": true
   },
   "outputs": [],
   "source": [
    "import pandas as pd"
   ]
  },
  {
   "cell_type": "code",
   "execution_count": 2,
   "metadata": {},
   "outputs": [],
   "source": [
    "play_11 = pd.read_json('json/play_11_test.json')"
   ]
  },
  {
   "cell_type": "code",
   "execution_count": 3,
   "metadata": {},
   "outputs": [],
   "source": [
    "author_table = pd.read_csv('original_csvs/authors_exp.csv').astype(str)\n",
    "character_table = pd.read_csv('original_csvs/characters.csv').astype(str)\n",
    "image_table = pd.read_csv('original_csvs/imagesonline.csv').astype(str)\n",
    "performance_table = pd.read_csv('original_csvs/performances.csv').drop('data_id',1).astype(str)"
   ]
  },
  {
   "cell_type": "code",
   "execution_count": 4,
   "metadata": {
    "scrolled": true
   },
   "outputs": [
    {
     "name": "stdout",
     "output_type": "stream",
     "text": [
      "1,19,2,6\n"
     ]
    }
   ],
   "source": [
    "author_list = play_11['author_id'].values[0]\n",
    "character_list = play_11['character_id'].values[0]\n",
    "image_list = play_11['image_id'].values[0]\n",
    "performance_list = play_11['performance_id'].values[0]\n",
    "print str(len(author_list)) + \",\" + str(len(character_list)) + \",\" + str(len(image_list)) + \",\" + str(len(performance_list))"
   ]
  },
  {
   "cell_type": "code",
   "execution_count": 5,
   "metadata": {
    "collapsed": true
   },
   "outputs": [],
   "source": [
    "play_11_authors = pd.DataFrame({})\n",
    "play_11_characters = pd.DataFrame({})\n",
    "play_11_images = pd.DataFrame({})\n",
    "play_11_performances = pd.DataFrame({})"
   ]
  },
  {
   "cell_type": "code",
   "execution_count": 6,
   "metadata": {
    "collapsed": true
   },
   "outputs": [],
   "source": [
    "def linkedDataFrame(starting_frame, id_name, id_num_list, new_frame):\n",
    "    cols =  starting_frame.columns\n",
    "    for i in id_num_list:\n",
    "        vals = []\n",
    "        temp_row = starting_frame.loc[starting_frame[id_name] == str(i) ]\n",
    "        for col in cols:\n",
    "            vals.append(temp_row[:1][col].values[0])\n",
    "        temp_dict = dict(zip(cols, vals))\n",
    "        new_frame = new_frame.append(temp_dict, ignore_index=True)\n",
    "    return new_frame"
   ]
  },
  {
   "cell_type": "code",
   "execution_count": 7,
   "metadata": {},
   "outputs": [
    {
     "data": {
      "text/html": [
       "<div>\n",
       "<style>\n",
       "    .dataframe thead tr:only-child th {\n",
       "        text-align: right;\n",
       "    }\n",
       "\n",
       "    .dataframe thead th {\n",
       "        text-align: left;\n",
       "    }\n",
       "\n",
       "    .dataframe tbody tr th {\n",
       "        vertical-align: top;\n",
       "    }\n",
       "</style>\n",
       "<table border=\"1\" class=\"dataframe\">\n",
       "  <thead>\n",
       "    <tr style=\"text-align: right;\">\n",
       "      <th></th>\n",
       "      <th>author_id</th>\n",
       "      <th>dates</th>\n",
       "      <th>label</th>\n",
       "      <th>label_ka</th>\n",
       "      <th>play_id</th>\n",
       "      <th>reference</th>\n",
       "      <th>sort_ja</th>\n",
       "    </tr>\n",
       "  </thead>\n",
       "  <tbody>\n",
       "    <tr>\n",
       "      <th>0</th>\n",
       "      <td>4</td>\n",
       "      <td>d. 1786 or 7</td>\n",
       "      <td>Chikamatsu Hanji</td>\n",
       "      <td>近松半二</td>\n",
       "      <td>[11, 21, 25, 27, 29, 33, 52, 79, 80, 90, 101, ...</td>\n",
       "      <td>LC Authorities</td>\n",
       "      <td>ちかまつはんじ</td>\n",
       "    </tr>\n",
       "  </tbody>\n",
       "</table>\n",
       "</div>"
      ],
      "text/plain": [
       "  author_id         dates             label label_ka  \\\n",
       "0         4  d. 1786 or 7  Chikamatsu Hanji     近松半二   \n",
       "\n",
       "                                             play_id       reference  sort_ja  \n",
       "0  [11, 21, 25, 27, 29, 33, 52, 79, 80, 90, 101, ...  LC Authorities  ちかまつはんじ  "
      ]
     },
     "execution_count": 7,
     "metadata": {},
     "output_type": "execute_result"
    }
   ],
   "source": [
    "play_11_authors = linkedDataFrame(author_table, 'author_id', author_list, play_11_authors)\n",
    "play_11_authors.head()\n",
    "# play_11_authors.to_json('play_11_authors.json',orient='records', force_ascii=False)"
   ]
  },
  {
   "cell_type": "code",
   "execution_count": 8,
   "metadata": {
    "collapsed": true
   },
   "outputs": [],
   "source": [
    "play_11_characters = linkedDataFrame(character_table, 'character_id', character_list, play_11_characters)\n",
    "# play_11_characters.to_json('play_11_characters.json',orient='records', force_ascii=False)"
   ]
  },
  {
   "cell_type": "code",
   "execution_count": 9,
   "metadata": {
    "collapsed": true
   },
   "outputs": [],
   "source": [
    "play_11_images = linkedDataFrame(image_table, 'image_id', image_list, play_11_images)\n",
    "# play_11_images.to_json('play_11_images.json', orient='records', force_ascii=False)"
   ]
  },
  {
   "cell_type": "code",
   "execution_count": 10,
   "metadata": {
    "collapsed": true
   },
   "outputs": [],
   "source": [
    "play_11_performances = linkedDataFrame(performance_table, 'performance_id', performance_list, play_11_performances)\n",
    "# play_11_performances.to_json('play_11_performances.json', orient='records', force_ascii=False)"
   ]
  },
  {
   "cell_type": "code",
   "execution_count": null,
   "metadata": {
    "collapsed": true
   },
   "outputs": [],
   "source": []
  }
 ],
 "metadata": {
  "kernelspec": {
   "display_name": "Python 2",
   "language": "python",
   "name": "python2"
  },
  "language_info": {
   "codemirror_mode": {
    "name": "ipython",
    "version": 2
   },
   "file_extension": ".py",
   "mimetype": "text/x-python",
   "name": "python",
   "nbconvert_exporter": "python",
   "pygments_lexer": "ipython2",
   "version": "2.7.13"
  }
 },
 "nbformat": 4,
 "nbformat_minor": 2
}
