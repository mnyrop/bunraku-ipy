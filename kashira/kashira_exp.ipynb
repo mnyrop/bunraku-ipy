{
 "cells": [
  {
   "cell_type": "code",
   "execution_count": 1,
   "metadata": {
    "collapsed": true
   },
   "outputs": [],
   "source": [
    "import pandas as pd"
   ]
  },
  {
   "cell_type": "code",
   "execution_count": 3,
   "metadata": {},
   "outputs": [],
   "source": [
    "# read csvs as data frames\n",
    "# cast as string to avoid float/NaN errors\n",
    "\n",
    "kashira = pd.read_csv('in/kashira.csv').astype(str)\n",
    "kashira_images = pd.read_csv('in/kashira_images.csv').astype(str)"
   ]
  },
  {
   "cell_type": "code",
   "execution_count": 4,
   "metadata": {
    "collapsed": true
   },
   "outputs": [],
   "source": [
    "# mild cleaning/renaming\n",
    "kashira = kashira.rename(columns = {'id':'kashira_id','name':'label','name_kanji':'label_ka','sortable_field_japanese':'sort_ja'})\n",
    "kashira_images = kashira_images.rename(columns = {'visual_id':'image_id'})"
   ]
  },
  {
   "cell_type": "code",
   "execution_count": 5,
   "metadata": {},
   "outputs": [
    {
     "data": {
      "text/html": [
       "<div>\n",
       "<style>\n",
       "    .dataframe thead tr:only-child th {\n",
       "        text-align: right;\n",
       "    }\n",
       "\n",
       "    .dataframe thead th {\n",
       "        text-align: left;\n",
       "    }\n",
       "\n",
       "    .dataframe tbody tr th {\n",
       "        vertical-align: top;\n",
       "    }\n",
       "</style>\n",
       "<table border=\"1\" class=\"dataframe\">\n",
       "  <thead>\n",
       "    <tr style=\"text-align: right;\">\n",
       "      <th></th>\n",
       "      <th>kashira_id</th>\n",
       "      <th>label</th>\n",
       "      <th>label_ka</th>\n",
       "      <th>category</th>\n",
       "      <th>sort_ja</th>\n",
       "    </tr>\n",
       "  </thead>\n",
       "  <tbody>\n",
       "    <tr>\n",
       "      <th>0</th>\n",
       "      <td>1</td>\n",
       "      <td>Amanjaku</td>\n",
       "      <td>あまんじゃく</td>\n",
       "      <td>Special</td>\n",
       "      <td>あまんじゃく</td>\n",
       "    </tr>\n",
       "    <tr>\n",
       "      <th>1</th>\n",
       "      <td>2</td>\n",
       "      <td>Ebisu</td>\n",
       "      <td>恵比須</td>\n",
       "      <td>Special</td>\n",
       "      <td>えびす</td>\n",
       "    </tr>\n",
       "    <tr>\n",
       "      <th>2</th>\n",
       "      <td>3</td>\n",
       "      <td>Ōshūto</td>\n",
       "      <td>大舅</td>\n",
       "      <td>Male</td>\n",
       "      <td>おおしゅうと</td>\n",
       "    </tr>\n",
       "    <tr>\n",
       "      <th>3</th>\n",
       "      <td>4</td>\n",
       "      <td>Ōdanshichi</td>\n",
       "      <td>大団七</td>\n",
       "      <td>Male</td>\n",
       "      <td>おおだんしち</td>\n",
       "    </tr>\n",
       "    <tr>\n",
       "      <th>4</th>\n",
       "      <td>5</td>\n",
       "      <td>Ochō no kodomo</td>\n",
       "      <td>お蝶の子供</td>\n",
       "      <td>Children</td>\n",
       "      <td>おちょうのこども</td>\n",
       "    </tr>\n",
       "  </tbody>\n",
       "</table>\n",
       "</div>"
      ],
      "text/plain": [
       "  kashira_id           label label_ka  category   sort_ja\n",
       "0          1        Amanjaku   あまんじゃく   Special    あまんじゃく\n",
       "1          2           Ebisu      恵比須   Special       えびす\n",
       "2          3          Ōshūto       大舅      Male    おおしゅうと\n",
       "3          4      Ōdanshichi      大団七      Male    おおだんしち\n",
       "4          5  Ochō no kodomo    お蝶の子供  Children  おちょうのこども"
      ]
     },
     "execution_count": 5,
     "metadata": {},
     "output_type": "execute_result"
    }
   ],
   "source": [
    "kashira.head()"
   ]
  },
  {
   "cell_type": "code",
   "execution_count": 6,
   "metadata": {
    "collapsed": true
   },
   "outputs": [],
   "source": [
    "# multiValDataFrame takes a dataframe df, column name df_index and column name multival_key\n",
    "# it merges records with the same df_index and updates multival_index to an array of all the multival_index values.\n",
    "# E.g for a data frame plays with multiple character_id values per play_id, returns a data frame with one record \n",
    "# per play_id, and one array of character_ids per play.\n",
    "\n",
    "def multiValDataFrame(df, df_index, multival_key):\n",
    "    new_df = pd.DataFrame({})\n",
    "    cols = df.columns\n",
    "    id_list = df[df_index].unique()\n",
    "    for i in id_list:\n",
    "        temp_row = df.loc[df[df_index] == i ]\n",
    "        vals = []\n",
    "        for col in cols:\n",
    "            vals.append(temp_row[:1][col].values[0])\n",
    "\n",
    "        temp_dict = dict(zip(cols, vals))\n",
    "        multi_id_list = list(temp_row[multival_key])\n",
    "    \n",
    "        temp_dict[multival_key] = multi_id_list\n",
    "    \n",
    "        new_df = new_df.append(temp_dict, ignore_index=True)\n",
    "    return new_df"
   ]
  },
  {
   "cell_type": "code",
   "execution_count": 7,
   "metadata": {
    "collapsed": true
   },
   "outputs": [],
   "source": [
    "# update kashira dataframe with left join of image_ids.\n",
    "kashira = pd.merge(kashira, kashira_images, on='kashira_id', how='outer')\n",
    "\n",
    "# combine combine multiple images per kashira into one row per kashira\n",
    "kashira = multiValDataFrame(kashira, 'kashira_id', 'image_id')"
   ]
  },
  {
   "cell_type": "code",
   "execution_count": 8,
   "metadata": {},
   "outputs": [
    {
     "data": {
      "text/html": [
       "<div>\n",
       "<style>\n",
       "    .dataframe thead tr:only-child th {\n",
       "        text-align: right;\n",
       "    }\n",
       "\n",
       "    .dataframe thead th {\n",
       "        text-align: left;\n",
       "    }\n",
       "\n",
       "    .dataframe tbody tr th {\n",
       "        vertical-align: top;\n",
       "    }\n",
       "</style>\n",
       "<table border=\"1\" class=\"dataframe\">\n",
       "  <thead>\n",
       "    <tr style=\"text-align: right;\">\n",
       "      <th></th>\n",
       "      <th>category</th>\n",
       "      <th>image_id</th>\n",
       "      <th>kashira_id</th>\n",
       "      <th>label</th>\n",
       "      <th>label_ka</th>\n",
       "      <th>sort_ja</th>\n",
       "    </tr>\n",
       "  </thead>\n",
       "  <tbody>\n",
       "    <tr>\n",
       "      <th>0</th>\n",
       "      <td>Special</td>\n",
       "      <td>[nan]</td>\n",
       "      <td>1</td>\n",
       "      <td>Amanjaku</td>\n",
       "      <td>あまんじゃく</td>\n",
       "      <td>あまんじゃく</td>\n",
       "    </tr>\n",
       "    <tr>\n",
       "      <th>1</th>\n",
       "      <td>Special</td>\n",
       "      <td>[nan]</td>\n",
       "      <td>2</td>\n",
       "      <td>Ebisu</td>\n",
       "      <td>恵比須</td>\n",
       "      <td>えびす</td>\n",
       "    </tr>\n",
       "    <tr>\n",
       "      <th>2</th>\n",
       "      <td>Male</td>\n",
       "      <td>[8281, 8282, 8283, 8284, 8287, 8289, 8291, 829...</td>\n",
       "      <td>3</td>\n",
       "      <td>Ōshūto</td>\n",
       "      <td>大舅</td>\n",
       "      <td>おおしゅうと</td>\n",
       "    </tr>\n",
       "    <tr>\n",
       "      <th>3</th>\n",
       "      <td>Male</td>\n",
       "      <td>[8667, 8669, 8670, 8671, 8672, 8676, 8687, 868...</td>\n",
       "      <td>4</td>\n",
       "      <td>Ōdanshichi</td>\n",
       "      <td>大団七</td>\n",
       "      <td>おおだんしち</td>\n",
       "    </tr>\n",
       "    <tr>\n",
       "      <th>4</th>\n",
       "      <td>Children</td>\n",
       "      <td>[nan]</td>\n",
       "      <td>5</td>\n",
       "      <td>Ochō no kodomo</td>\n",
       "      <td>お蝶の子供</td>\n",
       "      <td>おちょうのこども</td>\n",
       "    </tr>\n",
       "  </tbody>\n",
       "</table>\n",
       "</div>"
      ],
      "text/plain": [
       "   category                                           image_id kashira_id  \\\n",
       "0   Special                                              [nan]          1   \n",
       "1   Special                                              [nan]          2   \n",
       "2      Male  [8281, 8282, 8283, 8284, 8287, 8289, 8291, 829...          3   \n",
       "3      Male  [8667, 8669, 8670, 8671, 8672, 8676, 8687, 868...          4   \n",
       "4  Children                                              [nan]          5   \n",
       "\n",
       "            label label_ka   sort_ja  \n",
       "0        Amanjaku   あまんじゃく    あまんじゃく  \n",
       "1           Ebisu      恵比須       えびす  \n",
       "2          Ōshūto       大舅    おおしゅうと  \n",
       "3      Ōdanshichi      大団七    おおだんしち  \n",
       "4  Ochō no kodomo    お蝶の子供  おちょうのこども  "
      ]
     },
     "execution_count": 8,
     "metadata": {},
     "output_type": "execute_result"
    }
   ],
   "source": [
    "kashira.head()"
   ]
  },
  {
   "cell_type": "code",
   "execution_count": 9,
   "metadata": {
    "collapsed": true
   },
   "outputs": [],
   "source": [
    "# mild cleaning/rearranging\n",
    "kashira = kashira[['kashira_id','label','label_ka','category','image_id','sort_ja']]"
   ]
  },
  {
   "cell_type": "code",
   "execution_count": 10,
   "metadata": {
    "collapsed": true
   },
   "outputs": [],
   "source": [
    "# export to csv\n",
    "kashira.to_csv('kashira_exp.csv', encoding='utf8', index=False)"
   ]
  },
  {
   "cell_type": "code",
   "execution_count": 11,
   "metadata": {
    "collapsed": true
   },
   "outputs": [],
   "source": [
    "# export to json\n",
    "kashira.to_json('kashira_exp.json', orient='records', force_ascii=False)"
   ]
  },
  {
   "cell_type": "code",
   "execution_count": null,
   "metadata": {
    "collapsed": true
   },
   "outputs": [],
   "source": []
  }
 ],
 "metadata": {
  "kernelspec": {
   "display_name": "Python 2",
   "language": "python",
   "name": "python2"
  },
  "language_info": {
   "codemirror_mode": {
    "name": "ipython",
    "version": 2
   },
   "file_extension": ".py",
   "mimetype": "text/x-python",
   "name": "python",
   "nbconvert_exporter": "python",
   "pygments_lexer": "ipython2",
   "version": "2.7.13"
  }
 },
 "nbformat": 4,
 "nbformat_minor": 2
}
