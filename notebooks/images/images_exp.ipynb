{
 "cells": [
  {
   "cell_type": "code",
   "execution_count": 1,
   "metadata": {
    "collapsed": true
   },
   "outputs": [],
   "source": [
    "import pandas as pd\n",
    "import numpy as np"
   ]
  },
  {
   "cell_type": "code",
   "execution_count": 2,
   "metadata": {
    "collapsed": true
   },
   "outputs": [],
   "source": [
    "# pd.set_option('max_colwidth',1000)\n",
    "# pd.set_option('max_seq_items','none')\n",
    "# read csvs as data frames\n",
    "images = pd.read_csv('imagesonline.csv').astype(str)\n",
    "characters_images = pd.read_csv('characters_images.csv').astype(str) \n",
    "kashira_images = pd.read_csv('kashira_images.csv').astype(str)\n",
    "performances_images = pd.read_csv('performances_images.csv').astype(str) \n",
    "performers_images = pd.read_csv('performers_images.csv').astype(str)\n",
    "plays_images = pd.read_csv('plays_images.csv').astype(str) \n",
    "productions_images = pd.read_csv('productions_images.csv').astype(str) \n",
    "scenes_images = pd.read_csv('scenes_images.csv').astype(str) \n",
    "tags_images = pd.read_csv('tags_images.csv').astype(str)"
   ]
  },
  {
   "cell_type": "code",
   "execution_count": 3,
   "metadata": {},
   "outputs": [
    {
     "data": {
      "text/plain": [
       "14636"
      ]
     },
     "execution_count": 3,
     "metadata": {},
     "output_type": "execute_result"
    }
   ],
   "source": [
    "images = images.drop('online', 1)\n",
    "len(images.index)"
   ]
  },
  {
   "cell_type": "code",
   "execution_count": 4,
   "metadata": {
    "collapsed": true
   },
   "outputs": [],
   "source": [
    "def log_progress(sequence, every=None, size=None, name='Items'):\n",
    "    from ipywidgets import IntProgress, HTML, VBox\n",
    "    from IPython.display import display\n",
    "\n",
    "    is_iterator = False\n",
    "    if size is None:\n",
    "        try:\n",
    "            size = len(sequence)\n",
    "        except TypeError:\n",
    "            is_iterator = True\n",
    "    if size is not None:\n",
    "        if every is None:\n",
    "            if size <= 200:\n",
    "                every = 1\n",
    "            else:\n",
    "                every = int(size / 200)     # every 0.5%\n",
    "    else:\n",
    "        assert every is not None, 'sequence is iterator, set every'\n",
    "\n",
    "    if is_iterator:\n",
    "        progress = IntProgress(min=0, max=1, value=1)\n",
    "        progress.bar_style = 'info'\n",
    "    else:\n",
    "        progress = IntProgress(min=0, max=size, value=0)\n",
    "    label = HTML()\n",
    "    box = VBox(children=[label, progress])\n",
    "    display(box)\n",
    "\n",
    "    index = 0\n",
    "    try:\n",
    "        for index, record in enumerate(sequence, 1):\n",
    "            if index == 1 or index % every == 0:\n",
    "                if is_iterator:\n",
    "                    label.value = '{name}: {index} / ?'.format(\n",
    "                        name=name,\n",
    "                        index=index\n",
    "                    )\n",
    "                else:\n",
    "                    progress.value = index\n",
    "                    label.value = u'{name}: {index} / {size}'.format(\n",
    "                        name=name,\n",
    "                        index=index,\n",
    "                        size=size\n",
    "                    )\n",
    "            yield record\n",
    "    except:\n",
    "        progress.bar_style = 'danger'\n",
    "        raise\n",
    "    else:\n",
    "        progress.bar_style = 'success'\n",
    "        progress.value = index\n",
    "        label.value = \"{name}: {index}\".format(\n",
    "            name=name,\n",
    "            index=str(index or '?')\n",
    "        )"
   ]
  },
  {
   "cell_type": "code",
   "execution_count": 5,
   "metadata": {
    "collapsed": true
   },
   "outputs": [],
   "source": [
    "def multiValDataFrame(df, table_id, multival_id):\n",
    "    new_df = pd.DataFrame({})\n",
    "    cols = df.columns\n",
    "    id_list = df[table_id].unique()\n",
    "\n",
    "    for i in log_progress(id_list):\n",
    "        temp_row = df.loc[df[table_id] == i ]\n",
    "        keys = []\n",
    "        vals = []\n",
    "        for col in cols:\n",
    "            if len(str(temp_row[:1][col].values[0])) > 0:\n",
    "                keys.append(col)\n",
    "                vals.append(temp_row[:1][col].values[0])\n",
    "        \n",
    "        if len(vals) <1:\n",
    "            vals =''\n",
    "        \n",
    "        temp_dict = dict(zip(keys, vals))\n",
    "        multi_id_list = list(temp_row[multival_id])\n",
    "    \n",
    "        temp_dict[multival_id] = multi_id_list\n",
    "        \n",
    "        new_df = new_df.append(temp_dict, ignore_index=True)\n",
    "    return new_df"
   ]
  },
  {
   "cell_type": "code",
   "execution_count": 6,
   "metadata": {
    "collapsed": true
   },
   "outputs": [],
   "source": [
    "# merge and multival characters\n",
    "images = pd.merge(images, characters_images, on='image_id', how='left')"
   ]
  },
  {
   "cell_type": "code",
   "execution_count": 7,
   "metadata": {},
   "outputs": [
    {
     "name": "stderr",
     "output_type": "stream",
     "text": [
      "Widget Javascript not detected.  It may not be installed or enabled properly.\n"
     ]
    },
    {
     "data": {
      "application/vnd.jupyter.widget-view+json": {
       "model_id": "c45aaf74f7cb4f3d8ad8e968201c3865"
      }
     },
     "metadata": {},
     "output_type": "display_data"
    }
   ],
   "source": [
    "images = multiValDataFrame(images, 'image_id', 'character_id')"
   ]
  },
  {
   "cell_type": "code",
   "execution_count": 8,
   "metadata": {},
   "outputs": [
    {
     "data": {
      "text/html": [
       "<div>\n",
       "<style>\n",
       "    .dataframe thead tr:only-child th {\n",
       "        text-align: right;\n",
       "    }\n",
       "\n",
       "    .dataframe thead th {\n",
       "        text-align: left;\n",
       "    }\n",
       "\n",
       "    .dataframe tbody tr th {\n",
       "        vertical-align: top;\n",
       "    }\n",
       "</style>\n",
       "<table border=\"1\" class=\"dataframe\">\n",
       "  <thead>\n",
       "    <tr style=\"text-align: right;\">\n",
       "      <th></th>\n",
       "      <th>character_id</th>\n",
       "      <th>colser_id</th>\n",
       "      <th>container_number</th>\n",
       "      <th>container_type</th>\n",
       "      <th>creator</th>\n",
       "      <th>image_id</th>\n",
       "      <th>item_id</th>\n",
       "      <th>media_type</th>\n",
       "      <th>notes_on_item</th>\n",
       "      <th>objid</th>\n",
       "      <th>sequence_number</th>\n",
       "      <th>series_number</th>\n",
       "      <th>slidepage_folder_no</th>\n",
       "    </tr>\n",
       "  </thead>\n",
       "  <tbody>\n",
       "    <tr>\n",
       "      <th>0</th>\n",
       "      <td>[452, 453, 454, 455, 456, 2312]</td>\n",
       "      <td>2</td>\n",
       "      <td>46.0</td>\n",
       "      <td>Slide Binder</td>\n",
       "      <td>Barbara C. Adachi</td>\n",
       "      <td>8281</td>\n",
       "      <td>0001</td>\n",
       "      <td>slide</td>\n",
       "      <td>2</td>\n",
       "      <td>ldpd_bun_slide_452_2_0001_0001</td>\n",
       "      <td>0001</td>\n",
       "      <td>2.0</td>\n",
       "      <td>452.0</td>\n",
       "    </tr>\n",
       "    <tr>\n",
       "      <th>1</th>\n",
       "      <td>[452, 453, 454, 455, 456, 2312]</td>\n",
       "      <td>2</td>\n",
       "      <td>46.0</td>\n",
       "      <td>Slide Binder</td>\n",
       "      <td>Barbara C. Adachi</td>\n",
       "      <td>8282</td>\n",
       "      <td>0002</td>\n",
       "      <td>slide</td>\n",
       "      <td>6</td>\n",
       "      <td>ldpd_bun_slide_452_2_0002_0002</td>\n",
       "      <td>0002</td>\n",
       "      <td>2.0</td>\n",
       "      <td>452.0</td>\n",
       "    </tr>\n",
       "    <tr>\n",
       "      <th>2</th>\n",
       "      <td>[452, 453, 454, 455, 456, 2312]</td>\n",
       "      <td>2</td>\n",
       "      <td>46.0</td>\n",
       "      <td>Slide Binder</td>\n",
       "      <td>Barbara C. Adachi</td>\n",
       "      <td>8283</td>\n",
       "      <td>0003</td>\n",
       "      <td>slide</td>\n",
       "      <td>7</td>\n",
       "      <td>ldpd_bun_slide_452_2_0003_0003</td>\n",
       "      <td>0003</td>\n",
       "      <td>2.0</td>\n",
       "      <td>452.0</td>\n",
       "    </tr>\n",
       "    <tr>\n",
       "      <th>3</th>\n",
       "      <td>[453, 454, 455, 452, 2312]</td>\n",
       "      <td>2</td>\n",
       "      <td>46.0</td>\n",
       "      <td>Slide Binder</td>\n",
       "      <td>Barbara C. Adachi</td>\n",
       "      <td>8284</td>\n",
       "      <td>0004</td>\n",
       "      <td>slide</td>\n",
       "      <td>0</td>\n",
       "      <td>ldpd_bun_slide_452_2_0004_0004</td>\n",
       "      <td>0004</td>\n",
       "      <td>2.0</td>\n",
       "      <td>452.0</td>\n",
       "    </tr>\n",
       "    <tr>\n",
       "      <th>4</th>\n",
       "      <td>[452, 454, 2312]</td>\n",
       "      <td>2</td>\n",
       "      <td>46.0</td>\n",
       "      <td>Slide Binder</td>\n",
       "      <td>Barbara C. Adachi</td>\n",
       "      <td>8285</td>\n",
       "      <td>0005</td>\n",
       "      <td>slide</td>\n",
       "      <td>4</td>\n",
       "      <td>ldpd_bun_slide_452_2_0005_0005</td>\n",
       "      <td>0005</td>\n",
       "      <td>2.0</td>\n",
       "      <td>452.0</td>\n",
       "    </tr>\n",
       "    <tr>\n",
       "      <th>5</th>\n",
       "      <td>[456]</td>\n",
       "      <td>2</td>\n",
       "      <td>46.0</td>\n",
       "      <td>Slide Binder</td>\n",
       "      <td>Barbara C. Adachi</td>\n",
       "      <td>8286</td>\n",
       "      <td>0006</td>\n",
       "      <td>slide</td>\n",
       "      <td>1</td>\n",
       "      <td>ldpd_bun_slide_452_2_0006_0006</td>\n",
       "      <td>0006</td>\n",
       "      <td>2.0</td>\n",
       "      <td>452.0</td>\n",
       "    </tr>\n",
       "    <tr>\n",
       "      <th>6</th>\n",
       "      <td>[453, 454, 455, 452, 2312]</td>\n",
       "      <td>2</td>\n",
       "      <td>46.0</td>\n",
       "      <td>Slide Binder</td>\n",
       "      <td>Barbara C. Adachi</td>\n",
       "      <td>8287</td>\n",
       "      <td>0007</td>\n",
       "      <td>slide</td>\n",
       "      <td>1</td>\n",
       "      <td>ldpd_bun_slide_452_2_0007_0007</td>\n",
       "      <td>0007</td>\n",
       "      <td>2.0</td>\n",
       "      <td>452.0</td>\n",
       "    </tr>\n",
       "    <tr>\n",
       "      <th>7</th>\n",
       "      <td>[452]</td>\n",
       "      <td>2</td>\n",
       "      <td>46.0</td>\n",
       "      <td>Slide Binder</td>\n",
       "      <td>Barbara C. Adachi</td>\n",
       "      <td>8288</td>\n",
       "      <td>0008</td>\n",
       "      <td>slide</td>\n",
       "      <td>2</td>\n",
       "      <td>ldpd_bun_slide_452_2_0008_0008</td>\n",
       "      <td>0008</td>\n",
       "      <td>2.0</td>\n",
       "      <td>452.0</td>\n",
       "    </tr>\n",
       "    <tr>\n",
       "      <th>8</th>\n",
       "      <td>[452, 453, 454, 455, 456, 2312]</td>\n",
       "      <td>2</td>\n",
       "      <td>46.0</td>\n",
       "      <td>Slide Binder</td>\n",
       "      <td>Barbara C. Adachi</td>\n",
       "      <td>8289</td>\n",
       "      <td>0009</td>\n",
       "      <td>slide</td>\n",
       "      <td>5</td>\n",
       "      <td>ldpd_bun_slide_452_2_0009_0009</td>\n",
       "      <td>0009</td>\n",
       "      <td>2.0</td>\n",
       "      <td>452.0</td>\n",
       "    </tr>\n",
       "    <tr>\n",
       "      <th>9</th>\n",
       "      <td>[452]</td>\n",
       "      <td>2</td>\n",
       "      <td>46.0</td>\n",
       "      <td>Slide Binder</td>\n",
       "      <td>Barbara C. Adachi</td>\n",
       "      <td>8290</td>\n",
       "      <td>0010</td>\n",
       "      <td>slide</td>\n",
       "      <td>3</td>\n",
       "      <td>ldpd_bun_slide_452_2_0010_0010</td>\n",
       "      <td>0010</td>\n",
       "      <td>2.0</td>\n",
       "      <td>452.0</td>\n",
       "    </tr>\n",
       "  </tbody>\n",
       "</table>\n",
       "</div>"
      ],
      "text/plain": [
       "                      character_id colser_id container_number container_type  \\\n",
       "0  [452, 453, 454, 455, 456, 2312]         2             46.0   Slide Binder   \n",
       "1  [452, 453, 454, 455, 456, 2312]         2             46.0   Slide Binder   \n",
       "2  [452, 453, 454, 455, 456, 2312]         2             46.0   Slide Binder   \n",
       "3       [453, 454, 455, 452, 2312]         2             46.0   Slide Binder   \n",
       "4                 [452, 454, 2312]         2             46.0   Slide Binder   \n",
       "5                            [456]         2             46.0   Slide Binder   \n",
       "6       [453, 454, 455, 452, 2312]         2             46.0   Slide Binder   \n",
       "7                            [452]         2             46.0   Slide Binder   \n",
       "8  [452, 453, 454, 455, 456, 2312]         2             46.0   Slide Binder   \n",
       "9                            [452]         2             46.0   Slide Binder   \n",
       "\n",
       "             creator image_id item_id media_type notes_on_item  \\\n",
       "0  Barbara C. Adachi     8281    0001      slide             2   \n",
       "1  Barbara C. Adachi     8282    0002      slide             6   \n",
       "2  Barbara C. Adachi     8283    0003      slide             7   \n",
       "3  Barbara C. Adachi     8284    0004      slide             0   \n",
       "4  Barbara C. Adachi     8285    0005      slide             4   \n",
       "5  Barbara C. Adachi     8286    0006      slide             1   \n",
       "6  Barbara C. Adachi     8287    0007      slide             1   \n",
       "7  Barbara C. Adachi     8288    0008      slide             2   \n",
       "8  Barbara C. Adachi     8289    0009      slide             5   \n",
       "9  Barbara C. Adachi     8290    0010      slide             3   \n",
       "\n",
       "                            objid sequence_number series_number  \\\n",
       "0  ldpd_bun_slide_452_2_0001_0001            0001           2.0   \n",
       "1  ldpd_bun_slide_452_2_0002_0002            0002           2.0   \n",
       "2  ldpd_bun_slide_452_2_0003_0003            0003           2.0   \n",
       "3  ldpd_bun_slide_452_2_0004_0004            0004           2.0   \n",
       "4  ldpd_bun_slide_452_2_0005_0005            0005           2.0   \n",
       "5  ldpd_bun_slide_452_2_0006_0006            0006           2.0   \n",
       "6  ldpd_bun_slide_452_2_0007_0007            0007           2.0   \n",
       "7  ldpd_bun_slide_452_2_0008_0008            0008           2.0   \n",
       "8  ldpd_bun_slide_452_2_0009_0009            0009           2.0   \n",
       "9  ldpd_bun_slide_452_2_0010_0010            0010           2.0   \n",
       "\n",
       "  slidepage_folder_no  \n",
       "0               452.0  \n",
       "1               452.0  \n",
       "2               452.0  \n",
       "3               452.0  \n",
       "4               452.0  \n",
       "5               452.0  \n",
       "6               452.0  \n",
       "7               452.0  \n",
       "8               452.0  \n",
       "9               452.0  "
      ]
     },
     "execution_count": 8,
     "metadata": {},
     "output_type": "execute_result"
    }
   ],
   "source": [
    "# len(images.index)\n",
    "images[:10]"
   ]
  },
  {
   "cell_type": "code",
   "execution_count": 9,
   "metadata": {},
   "outputs": [
    {
     "data": {
      "text/plain": [
       "23539"
      ]
     },
     "execution_count": 9,
     "metadata": {},
     "output_type": "execute_result"
    }
   ],
   "source": [
    "# merge and multival kashira\n",
    "images = pd.merge(images, kashira_images, on='image_id', how='left')\n",
    "len(images.index)"
   ]
  },
  {
   "cell_type": "code",
   "execution_count": 10,
   "metadata": {},
   "outputs": [
    {
     "name": "stderr",
     "output_type": "stream",
     "text": [
      "Widget Javascript not detected.  It may not be installed or enabled properly.\n"
     ]
    },
    {
     "data": {
      "application/vnd.jupyter.widget-view+json": {
       "model_id": "7b4b5020ecde4dc3bcb4fe6fc25a5156"
      }
     },
     "metadata": {},
     "output_type": "display_data"
    },
    {
     "data": {
      "text/plain": [
       "14636"
      ]
     },
     "execution_count": 10,
     "metadata": {},
     "output_type": "execute_result"
    }
   ],
   "source": [
    "images = multiValDataFrame(images, 'image_id', 'kashira_id')\n",
    "len(images.index)"
   ]
  },
  {
   "cell_type": "code",
   "execution_count": 11,
   "metadata": {},
   "outputs": [
    {
     "data": {
      "text/plain": [
       "14749"
      ]
     },
     "execution_count": 11,
     "metadata": {},
     "output_type": "execute_result"
    }
   ],
   "source": [
    "# merge and multival performances\n",
    "images = pd.merge(images, performances_images, on='image_id', how='left')\n",
    "len(images.index)"
   ]
  },
  {
   "cell_type": "code",
   "execution_count": 12,
   "metadata": {},
   "outputs": [
    {
     "name": "stderr",
     "output_type": "stream",
     "text": [
      "Widget Javascript not detected.  It may not be installed or enabled properly.\n"
     ]
    },
    {
     "data": {
      "application/vnd.jupyter.widget-view+json": {
       "model_id": "570dde7d7cf34a7a87c2a87d6feb5286"
      }
     },
     "metadata": {},
     "output_type": "display_data"
    },
    {
     "data": {
      "text/plain": [
       "14636"
      ]
     },
     "execution_count": 12,
     "metadata": {},
     "output_type": "execute_result"
    }
   ],
   "source": [
    "images = multiValDataFrame(images, 'image_id', 'performance_id')\n",
    "len(images.index)"
   ]
  },
  {
   "cell_type": "code",
   "execution_count": 13,
   "metadata": {},
   "outputs": [
    {
     "data": {
      "text/plain": [
       "23678"
      ]
     },
     "execution_count": 13,
     "metadata": {},
     "output_type": "execute_result"
    }
   ],
   "source": [
    "# merge and multival performers\n",
    "images = pd.merge(images, performers_images, on='image_id', how='left')\n",
    "len(images.index)"
   ]
  },
  {
   "cell_type": "code",
   "execution_count": 14,
   "metadata": {},
   "outputs": [
    {
     "name": "stderr",
     "output_type": "stream",
     "text": [
      "Widget Javascript not detected.  It may not be installed or enabled properly.\n"
     ]
    },
    {
     "data": {
      "application/vnd.jupyter.widget-view+json": {
       "model_id": "3f90994a4f2c4dd9b56a28d36f785f0d"
      }
     },
     "metadata": {},
     "output_type": "display_data"
    },
    {
     "data": {
      "text/plain": [
       "14636"
      ]
     },
     "execution_count": 14,
     "metadata": {},
     "output_type": "execute_result"
    }
   ],
   "source": [
    "images = multiValDataFrame(images, 'image_id', 'performer_id')\n",
    "len(images.index)"
   ]
  },
  {
   "cell_type": "code",
   "execution_count": 15,
   "metadata": {},
   "outputs": [
    {
     "data": {
      "text/plain": [
       "14749"
      ]
     },
     "execution_count": 15,
     "metadata": {},
     "output_type": "execute_result"
    }
   ],
   "source": [
    "# merge and multival plays\n",
    "images = pd.merge(images, plays_images, on='image_id', how='left')\n",
    "len(images.index)"
   ]
  },
  {
   "cell_type": "code",
   "execution_count": 16,
   "metadata": {},
   "outputs": [
    {
     "name": "stderr",
     "output_type": "stream",
     "text": [
      "Widget Javascript not detected.  It may not be installed or enabled properly.\n"
     ]
    },
    {
     "data": {
      "application/vnd.jupyter.widget-view+json": {
       "model_id": "8c931d45ed014a8eb90c9a777cddcf3a"
      }
     },
     "metadata": {},
     "output_type": "display_data"
    },
    {
     "data": {
      "text/plain": [
       "14636"
      ]
     },
     "execution_count": 16,
     "metadata": {},
     "output_type": "execute_result"
    }
   ],
   "source": [
    "images = multiValDataFrame(images, 'image_id', 'play_id')\n",
    "len(images.index)"
   ]
  },
  {
   "cell_type": "code",
   "execution_count": 17,
   "metadata": {},
   "outputs": [
    {
     "data": {
      "text/plain": [
       "14653"
      ]
     },
     "execution_count": 17,
     "metadata": {},
     "output_type": "execute_result"
    }
   ],
   "source": [
    "# merge and multival productions\n",
    "images = pd.merge(images, productions_images, on='image_id', how='left')\n",
    "len(images.index)"
   ]
  },
  {
   "cell_type": "code",
   "execution_count": 18,
   "metadata": {},
   "outputs": [
    {
     "name": "stderr",
     "output_type": "stream",
     "text": [
      "Widget Javascript not detected.  It may not be installed or enabled properly.\n"
     ]
    },
    {
     "data": {
      "application/vnd.jupyter.widget-view+json": {
       "model_id": "0da8329c03904543b2875f2990eeb012"
      }
     },
     "metadata": {},
     "output_type": "display_data"
    },
    {
     "data": {
      "text/plain": [
       "14636"
      ]
     },
     "execution_count": 18,
     "metadata": {},
     "output_type": "execute_result"
    }
   ],
   "source": [
    "images = multiValDataFrame(images, 'image_id', 'production_id')\n",
    "len(images.index)"
   ]
  },
  {
   "cell_type": "code",
   "execution_count": 19,
   "metadata": {},
   "outputs": [
    {
     "data": {
      "text/plain": [
       "15043"
      ]
     },
     "execution_count": 19,
     "metadata": {},
     "output_type": "execute_result"
    }
   ],
   "source": [
    "# merge and multival scenes\n",
    "images = pd.merge(images, scenes_images, on='image_id', how='left')\n",
    "len(images.index)"
   ]
  },
  {
   "cell_type": "code",
   "execution_count": 20,
   "metadata": {},
   "outputs": [
    {
     "name": "stderr",
     "output_type": "stream",
     "text": [
      "Widget Javascript not detected.  It may not be installed or enabled properly.\n"
     ]
    },
    {
     "data": {
      "application/vnd.jupyter.widget-view+json": {
       "model_id": "c17a8647d8884634a094b9aae3df91f0"
      }
     },
     "metadata": {},
     "output_type": "display_data"
    },
    {
     "data": {
      "text/plain": [
       "14636"
      ]
     },
     "execution_count": 20,
     "metadata": {},
     "output_type": "execute_result"
    }
   ],
   "source": [
    "images = multiValDataFrame(images, 'image_id', 'scene_id')\n",
    "len(images.index)"
   ]
  },
  {
   "cell_type": "code",
   "execution_count": null,
   "metadata": {},
   "outputs": [
    {
     "data": {
      "text/plain": [
       "17927"
      ]
     },
     "execution_count": 21,
     "metadata": {},
     "output_type": "execute_result"
    }
   ],
   "source": [
    "# merge and multival tags\n",
    "images = pd.merge(images, tags_images, on='image_id', how='left')\n",
    "len(images.index)"
   ]
  },
  {
   "cell_type": "code",
   "execution_count": null,
   "metadata": {},
   "outputs": [
    {
     "name": "stderr",
     "output_type": "stream",
     "text": [
      "Widget Javascript not detected.  It may not be installed or enabled properly.\n"
     ]
    },
    {
     "data": {
      "application/vnd.jupyter.widget-view+json": {
       "model_id": "462e42202fe14fafbcd573b1282a9f78"
      }
     },
     "metadata": {},
     "output_type": "display_data"
    }
   ],
   "source": [
    "images = multiValDataFrame(images, 'image_id', 'subject_id')\n",
    "len(images.index)"
   ]
  },
  {
   "cell_type": "code",
   "execution_count": null,
   "metadata": {
    "collapsed": true
   },
   "outputs": [],
   "source": [
    "images.rename(columns = {'subject_id':'tag_id'}, inplace = True)"
   ]
  },
  {
   "cell_type": "code",
   "execution_count": null,
   "metadata": {
    "collapsed": true
   },
   "outputs": [],
   "source": [
    "images = images[['image_id','media_type','character_id','tag_id','kashira_id','performance_id','performer_id','play_id','production_id','scene_id','container_number','container_type','creator','item_id','colser_id','notes_on_item','objid','sequence_number','series_number','slidepage_folder_no']]"
   ]
  },
  {
   "cell_type": "code",
   "execution_count": null,
   "metadata": {},
   "outputs": [],
   "source": [
    "images[:10]"
   ]
  },
  {
   "cell_type": "code",
   "execution_count": null,
   "metadata": {},
   "outputs": [],
   "source": [
    "images = images.fillna('')\n",
    "images"
   ]
  },
  {
   "cell_type": "code",
   "execution_count": null,
   "metadata": {},
   "outputs": [],
   "source": [
    "len(images['image_id'].unique())"
   ]
  },
  {
   "cell_type": "code",
   "execution_count": null,
   "metadata": {
    "collapsed": true
   },
   "outputs": [],
   "source": [
    "csvname = 'images_exp.csv'\n",
    "images.fillna('').to_csv(csvname, encoding='utf8', index=False)"
   ]
  },
  {
   "cell_type": "code",
   "execution_count": null,
   "metadata": {
    "collapsed": true
   },
   "outputs": [],
   "source": [
    "jsonname = 'images_exp.json'\n",
    "images.to_json(jsonname, orient='records', force_ascii=False)"
   ]
  },
  {
   "cell_type": "code",
   "execution_count": null,
   "metadata": {},
   "outputs": [],
   "source": [
    "len(images.index)"
   ]
  },
  {
   "cell_type": "code",
   "execution_count": null,
   "metadata": {
    "collapsed": true
   },
   "outputs": [],
   "source": []
  }
 ],
 "metadata": {
  "kernelspec": {
   "display_name": "Python 2",
   "language": "python",
   "name": "python2"
  },
  "language_info": {
   "codemirror_mode": {
    "name": "ipython",
    "version": 2
   },
   "file_extension": ".py",
   "mimetype": "text/x-python",
   "name": "python",
   "nbconvert_exporter": "python",
   "pygments_lexer": "ipython2",
   "version": "2.7.13"
  },
  "widgets": {
   "application/vnd.jupyter.widget-state+json": {
    "state": {
     "24f0c4b326ff495597661be103b0bd09": {
      "model_module": "jupyter-js-widgets",
      "model_module_version": "~2.1.4",
      "model_name": "LayoutModel",
      "state": {
       "_model_module_version": "~2.1.4",
       "_view_module_version": "~2.1.4"
      }
     },
     "2cf3e08656ce41afbbce1a0e6568b172": {
      "model_module": "jupyter-js-widgets",
      "model_module_version": "~2.1.4",
      "model_name": "ProgressModel",
      "state": {
       "_model_module_version": "~2.1.4",
       "_view_module_version": "~2.1.4",
       "layout": "IPY_MODEL_91a95c323d0243ae9f8fb9fd193114d9",
       "step": 0.1
      }
     },
     "2e282448c4d941148428643b2f5c3092": {
      "model_module": "jupyter-js-widgets",
      "model_module_version": "~2.1.4",
      "model_name": "LayoutModel",
      "state": {
       "_model_module_version": "~2.1.4",
       "_view_module_version": "~2.1.4"
      }
     },
     "5b53436ee4c54e59b282b7a7d32334a3": {
      "model_module": "jupyter-js-widgets",
      "model_module_version": "~2.1.4",
      "model_name": "ProgressModel",
      "state": {
       "_model_module_version": "~2.1.4",
       "_view_module_version": "~2.1.4",
       "layout": "IPY_MODEL_610ff8ce5ac2484fbe0ab4787ec670dc",
       "step": 0.1
      }
     },
     "610ff8ce5ac2484fbe0ab4787ec670dc": {
      "model_module": "jupyter-js-widgets",
      "model_module_version": "~2.1.4",
      "model_name": "LayoutModel",
      "state": {
       "_model_module_version": "~2.1.4",
       "_view_module_version": "~2.1.4"
      }
     },
     "6b0add77c40843f48fb733e040f8d9ad": {
      "model_module": "jupyter-js-widgets",
      "model_module_version": "~2.1.4",
      "model_name": "ProgressModel",
      "state": {
       "_model_module_version": "~2.1.4",
       "_view_module_version": "~2.1.4",
       "layout": "IPY_MODEL_2e282448c4d941148428643b2f5c3092",
       "step": 0.1
      }
     },
     "86553963c013439ba432c67647efdda5": {
      "model_module": "jupyter-js-widgets",
      "model_module_version": "~2.1.4",
      "model_name": "LayoutModel",
      "state": {
       "_model_module_version": "~2.1.4",
       "_view_module_version": "~2.1.4"
      }
     },
     "91a95c323d0243ae9f8fb9fd193114d9": {
      "model_module": "jupyter-js-widgets",
      "model_module_version": "~2.1.4",
      "model_name": "LayoutModel",
      "state": {
       "_model_module_version": "~2.1.4",
       "_view_module_version": "~2.1.4"
      }
     },
     "99e71582922c43ce8d5fb0fe5fd9e76d": {
      "model_module": "jupyter-js-widgets",
      "model_module_version": "~2.1.4",
      "model_name": "ProgressModel",
      "state": {
       "_model_module_version": "~2.1.4",
       "_view_module_version": "~2.1.4",
       "layout": "IPY_MODEL_24f0c4b326ff495597661be103b0bd09",
       "step": 0.1
      }
     },
     "b9ccdbc7843b47e7a3f3cc8cbf0a8e92": {
      "model_module": "jupyter-js-widgets",
      "model_module_version": "~2.1.4",
      "model_name": "ProgressStyleModel",
      "state": {
       "_model_module_version": "~2.1.4",
       "_view_module_version": "~2.1.4"
      }
     },
     "dd6fcfc83c2941479a55b317aa396d0d": {
      "model_module": "jupyter-js-widgets",
      "model_module_version": "~2.1.4",
      "model_name": "ProgressModel",
      "state": {
       "_model_module_version": "~2.1.4",
       "_view_module_version": "~2.1.4",
       "layout": "IPY_MODEL_86553963c013439ba432c67647efdda5",
       "step": 0.1
      }
     },
     "ecf7914cd5ac42f69208a93d63eb9907": {
      "model_module": "jupyter-js-widgets",
      "model_module_version": "~2.1.4",
      "model_name": "ProgressModel",
      "state": {
       "_model_module_version": "~2.1.4",
       "_view_module_version": "~2.1.4",
       "description": "Loading:",
       "layout": "IPY_MODEL_fdd5c4dc5b3c43bd8de74381c0a5f7fc",
       "max": 10,
       "style": "IPY_MODEL_b9ccdbc7843b47e7a3f3cc8cbf0a8e92",
       "value": 7
      }
     },
     "fdd5c4dc5b3c43bd8de74381c0a5f7fc": {
      "model_module": "jupyter-js-widgets",
      "model_module_version": "~2.1.4",
      "model_name": "LayoutModel",
      "state": {
       "_model_module_version": "~2.1.4",
       "_view_module_version": "~2.1.4"
      }
     }
    },
    "version_major": 1,
    "version_minor": 0
   }
  }
 },
 "nbformat": 4,
 "nbformat_minor": 2
}
