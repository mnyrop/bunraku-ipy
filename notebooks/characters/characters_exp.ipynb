{
 "cells": [
  {
   "cell_type": "code",
   "execution_count": null,
   "metadata": {
    "collapsed": true
   },
   "outputs": [],
   "source": [
    "import pandas as pd"
   ]
  },
  {
   "cell_type": "code",
   "execution_count": null,
   "metadata": {},
   "outputs": [],
   "source": [
    "# read csvs as data frames\n",
    "characters = pd.read_csv('files/characters.csv').astype(str)\n",
    "char_plays = pd.read_csv('files/characters_plays.csv').astype(str)\n",
    "char_imgs = pd.read_csv('files/characters_images.csv').astype(str)"
   ]
  },
  {
   "cell_type": "code",
   "execution_count": null,
   "metadata": {},
   "outputs": [],
   "source": [
    "characters.head()"
   ]
  },
  {
   "cell_type": "code",
   "execution_count": null,
   "metadata": {
    "collapsed": true
   },
   "outputs": [],
   "source": [
    "characters = pd.merge(characters, char_plays, on='character_id', how='outer')"
   ]
  },
  {
   "cell_type": "code",
   "execution_count": null,
   "metadata": {},
   "outputs": [],
   "source": [
    "characters.head()"
   ]
  },
  {
   "cell_type": "code",
   "execution_count": null,
   "metadata": {
    "collapsed": true
   },
   "outputs": [],
   "source": [
    "char_id_list = list(characters.character_id.unique())\n",
    "cols =  characters.columns\n",
    "final_character_df = pd.DataFrame({})"
   ]
  },
  {
   "cell_type": "code",
   "execution_count": null,
   "metadata": {
    "collapsed": true
   },
   "outputs": [],
   "source": [
    "for id_num in char_id_list:\n",
    "\n",
    "    temp_char = characters.loc[characters['character_id'] == id_num]\n",
    "    \n",
    "    vals = []\n",
    "    for col in cols:\n",
    "        vals.append(temp_char[:1][col].values[0])\n",
    "    \n",
    "    temp_dict = dict(zip(cols, vals))\n",
    "        \n",
    "    temp_char_plays = list(temp_char['play_id'])\n",
    "    \n",
    "    temp_dict['play_id'] = temp_char_plays\n",
    "    \n",
    "    final_character_df = final_character_df.append(temp_dict, ignore_index=True)"
   ]
  },
  {
   "cell_type": "code",
   "execution_count": null,
   "metadata": {
    "collapsed": true
   },
   "outputs": [],
   "source": [
    "characters = pd.merge(final_character_df, char_imgs, on='character_id', how='outer')"
   ]
  },
  {
   "cell_type": "code",
   "execution_count": null,
   "metadata": {},
   "outputs": [],
   "source": [
    "characters.head()"
   ]
  },
  {
   "cell_type": "code",
   "execution_count": null,
   "metadata": {
    "collapsed": true
   },
   "outputs": [],
   "source": [
    "cols =  characters.columns\n",
    "final_character_df = pd.DataFrame({})"
   ]
  },
  {
   "cell_type": "code",
   "execution_count": null,
   "metadata": {
    "collapsed": true
   },
   "outputs": [],
   "source": [
    "for id_num in char_id_list:\n",
    "\n",
    "    temp_char = characters.loc[characters['character_id'] == id_num]\n",
    "    \n",
    "    vals = []\n",
    "    for col in cols:\n",
    "        vals.append(temp_char[:1][col].values[0])\n",
    "    \n",
    "    temp_dict = dict(zip(cols, vals))\n",
    "        \n",
    "    temp_char_plays = list(temp_char['image_id'])\n",
    "    \n",
    "    temp_dict['image_id'] = temp_char_plays\n",
    "    \n",
    "    final_character_df = final_character_df.append(temp_dict, ignore_index=True)"
   ]
  },
  {
   "cell_type": "code",
   "execution_count": null,
   "metadata": {},
   "outputs": [],
   "source": [
    "characters = final_character_df\n",
    "characters.head()"
   ]
  },
  {
   "cell_type": "code",
   "execution_count": null,
   "metadata": {
    "collapsed": true
   },
   "outputs": [],
   "source": [
    "filename = 'characters_exp.json'\n",
    "characters.to_json(filename, orient='records', force_ascii=False)"
   ]
  },
  {
   "cell_type": "code",
   "execution_count": null,
   "metadata": {
    "collapsed": true
   },
   "outputs": [],
   "source": []
  }
 ],
 "metadata": {
  "kernelspec": {
   "display_name": "Python 2",
   "language": "python",
   "name": "python2"
  },
  "language_info": {
   "codemirror_mode": {
    "name": "ipython",
    "version": 2
   },
   "file_extension": ".py",
   "mimetype": "text/x-python",
   "name": "python",
   "nbconvert_exporter": "python",
   "pygments_lexer": "ipython2",
   "version": "2.7.13"
  }
 },
 "nbformat": 4,
 "nbformat_minor": 2
}
