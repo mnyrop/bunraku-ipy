{
 "cells": [
  {
   "cell_type": "markdown",
   "metadata": {},
   "source": [
    "# Task: Output Bunraku plays to json list with arrays of author_ids, performance_ids, character_ids, and image_ids."
   ]
  },
  {
   "cell_type": "code",
   "execution_count": 1,
   "metadata": {
    "collapsed": true
   },
   "outputs": [],
   "source": [
    "import pandas as pd"
   ]
  },
  {
   "cell_type": "code",
   "execution_count": 2,
   "metadata": {
    "collapsed": true
   },
   "outputs": [],
   "source": [
    "pd.set_option('max_colwidth',1000)\n",
    "pd.set_option('max_seq_items','none')\n",
    "# read csvs as data frames\n",
    "plays = pd.read_csv('plays.csv').astype(str)\n",
    "play_auth = pd.read_csv('authors_plays.csv').astype(str) \n",
    "play_char = pd.read_csv('characters_plays.csv').astype(str) \n",
    "play_img = pd.read_csv('plays_images.csv').astype(str) \n",
    "play_perf = pd.read_csv('performances.csv').astype(str)\n",
    "# clean up\n",
    "play_perf = play_perf.drop('data_id', 1).drop('code', 1).drop('production_id',1)"
   ]
  },
  {
   "cell_type": "code",
   "execution_count": 3,
   "metadata": {},
   "outputs": [
    {
     "data": {
      "text/html": [
       "<div>\n",
       "<style>\n",
       "    .dataframe thead tr:only-child th {\n",
       "        text-align: right;\n",
       "    }\n",
       "\n",
       "    .dataframe thead th {\n",
       "        text-align: left;\n",
       "    }\n",
       "\n",
       "    .dataframe tbody tr th {\n",
       "        vertical-align: top;\n",
       "    }\n",
       "</style>\n",
       "<table border=\"1\" class=\"dataframe\">\n",
       "  <thead>\n",
       "    <tr style=\"text-align: right;\">\n",
       "      <th></th>\n",
       "      <th>play_id</th>\n",
       "      <th>label_ja</th>\n",
       "      <th>label_ja_sort</th>\n",
       "      <th>label_ka</th>\n",
       "      <th>sort_ja</th>\n",
       "      <th>label_eng</th>\n",
       "      <th>label_eng_sort</th>\n",
       "      <th>first_staged</th>\n",
       "      <th>reference</th>\n",
       "    </tr>\n",
       "  </thead>\n",
       "  <tbody>\n",
       "    <tr>\n",
       "      <th>0</th>\n",
       "      <td>1</td>\n",
       "      <td>Onnakoroshi abura no jigoku</td>\n",
       "      <td>Onnakoroshi abura no jigoku</td>\n",
       "      <td>女殺油地獄</td>\n",
       "      <td>おんなころしあぶらのじごく</td>\n",
       "      <td>The Woman-Killer and the Hell of Oil</td>\n",
       "      <td>Woman-Killer and the Hell of Oil, The</td>\n",
       "      <td>1721</td>\n",
       "      <td>Major Plays of Chikamatsu, translated by Donald Keene, (New York: Columbia University Press, 1961); Hironaga, Shūzaburō, The Bunraku Handbook (Tokyo: Maison des Arts, 1976); Kokuritsu Gekijō jōen shiryōshū, edited by Kokuritsu Gekijō Geinō Chōsashitsu, vol. 224, February 1984; Bunraku February 1982 Performance Program</td>\n",
       "    </tr>\n",
       "    <tr>\n",
       "      <th>1</th>\n",
       "      <td>2</td>\n",
       "      <td>Shinjū ten no Amijima</td>\n",
       "      <td>Shinju ten no Amijima</td>\n",
       "      <td>心中天網島</td>\n",
       "      <td>しんじゅうてんのあみじま</td>\n",
       "      <td>The Love Suicides at Amijima</td>\n",
       "      <td>Love Suicides at Amijima, The</td>\n",
       "      <td>1720</td>\n",
       "      <td>Major Plays of Chikamatsu, translated by Donald Keene, (New York: Columbia University Press, 1961); Hironaga, Shūzaburō, The Bunraku Handbook (Tokyo: Maison des Arts, 1976); Kokuritsu Gekijō jōen shiryōshū, edited by Kokuritsu Gekijō Geinō Chōsashitsu, vol. 224, February 1984; Bunraku October 1986 Performance Program</td>\n",
       "    </tr>\n",
       "    <tr>\n",
       "      <th>2</th>\n",
       "      <td>3</td>\n",
       "      <td>Sonezaki shinjū</td>\n",
       "      <td>Sonezaki shinju</td>\n",
       "      <td>曽根崎心中</td>\n",
       "      <td>そねざきしんじゅう</td>\n",
       "      <td>The Love Suicides at Sonezaki</td>\n",
       "      <td>Love Suicides at Sonezaki, The</td>\n",
       "      <td>1703</td>\n",
       "      <td>Major Plays of Chikamatsu, translated by Donald Keene, (New York: Columbia University Press, 1961); Keene, Donald, Bunraku: The Art of the Japanese Puppet Theatre (Tokyo: Kodansha International, 1973); Hironaga, Shūzaburō, The Bunraku Handbook (Tokyo: Maison des Arts, 1976); Bunraku February 1984, February 1981 Performance Programs</td>\n",
       "    </tr>\n",
       "    <tr>\n",
       "      <th>3</th>\n",
       "      <td>4</td>\n",
       "      <td>Shinjū Yoigōshin</td>\n",
       "      <td>Shinju Yoigoshin</td>\n",
       "      <td>心中宵庚申</td>\n",
       "      <td>しんじゅうよいごうしん</td>\n",
       "      <td>The Love Suicide of Hambei and Ochiyo</td>\n",
       "      <td>Love Suicide of Hambei and Ochiyo, The</td>\n",
       "      <td>1722</td>\n",
       "      <td>Hironaga, Shūzaburō, The Bunraku Handbook (Tokyo: Maison des Arts, 1976); Bunraku May 1975, February 1982 Performance Program; Chikamatsu: 5 Late Plays, translated and annotated by C. Andrew Gerstle (New York: Columbia University Press, c2001)</td>\n",
       "    </tr>\n",
       "    <tr>\n",
       "      <th>4</th>\n",
       "      <td>5</td>\n",
       "      <td>Somemoyō imose no kadomatsu</td>\n",
       "      <td>Somemoyo imose no kadomatsu</td>\n",
       "      <td>染模様妹背門松</td>\n",
       "      <td>そめもよういもせのかげまつ</td>\n",
       "      <td>The Love of Osome and Hisamatsu</td>\n",
       "      <td>Love of Osome and Hisamatsu, The</td>\n",
       "      <td>1767</td>\n",
       "      <td>Hironaga, Shūzaburō, The Bunraku Handbook (Tokyo: Maison des Arts, 1976); Bunraku May 1976, November 1984 Performance Programs</td>\n",
       "    </tr>\n",
       "  </tbody>\n",
       "</table>\n",
       "</div>"
      ],
      "text/plain": [
       "  play_id                     label_ja                label_ja_sort label_ka  \\\n",
       "0       1  Onnakoroshi abura no jigoku  Onnakoroshi abura no jigoku    女殺油地獄   \n",
       "1       2       Shinjū ten no Amijima        Shinju ten no Amijima    心中天網島   \n",
       "2       3              Sonezaki shinjū              Sonezaki shinju    曽根崎心中   \n",
       "3       4             Shinjū Yoigōshin             Shinju Yoigoshin    心中宵庚申   \n",
       "4       5  Somemoyō imose no kadomatsu  Somemoyo imose no kadomatsu  染模様妹背門松   \n",
       "\n",
       "         sort_ja                              label_eng  \\\n",
       "0  おんなころしあぶらのじごく   The Woman-Killer and the Hell of Oil   \n",
       "1   しんじゅうてんのあみじま           The Love Suicides at Amijima   \n",
       "2      そねざきしんじゅう          The Love Suicides at Sonezaki   \n",
       "3    しんじゅうよいごうしん  The Love Suicide of Hambei and Ochiyo   \n",
       "4  そめもよういもせのかげまつ        The Love of Osome and Hisamatsu   \n",
       "\n",
       "                           label_eng_sort first_staged  \\\n",
       "0   Woman-Killer and the Hell of Oil, The         1721   \n",
       "1           Love Suicides at Amijima, The         1720   \n",
       "2          Love Suicides at Sonezaki, The         1703   \n",
       "3  Love Suicide of Hambei and Ochiyo, The         1722   \n",
       "4        Love of Osome and Hisamatsu, The         1767   \n",
       "\n",
       "                                                                                                                                                                                                                                                                                                                                       reference  \n",
       "0             Major Plays of Chikamatsu, translated by Donald Keene, (New York: Columbia University Press, 1961); Hironaga, Shūzaburō, The Bunraku Handbook (Tokyo: Maison des Arts, 1976); Kokuritsu Gekijō jōen shiryōshū, edited by Kokuritsu Gekijō Geinō Chōsashitsu, vol. 224, February 1984; Bunraku February 1982 Performance Program  \n",
       "1              Major Plays of Chikamatsu, translated by Donald Keene, (New York: Columbia University Press, 1961); Hironaga, Shūzaburō, The Bunraku Handbook (Tokyo: Maison des Arts, 1976); Kokuritsu Gekijō jōen shiryōshū, edited by Kokuritsu Gekijō Geinō Chōsashitsu, vol. 224, February 1984; Bunraku October 1986 Performance Program  \n",
       "2  Major Plays of Chikamatsu, translated by Donald Keene, (New York: Columbia University Press, 1961); Keene, Donald, Bunraku: The Art of the Japanese Puppet Theatre (Tokyo: Kodansha International, 1973); Hironaga, Shūzaburō, The Bunraku Handbook (Tokyo: Maison des Arts, 1976); Bunraku February 1984, February 1981 Performance Programs  \n",
       "3                                                                                            Hironaga, Shūzaburō, The Bunraku Handbook (Tokyo: Maison des Arts, 1976); Bunraku May 1975, February 1982 Performance Program; Chikamatsu: 5 Late Plays, translated and annotated by C. Andrew Gerstle (New York: Columbia University Press, c2001)  \n",
       "4                                                                                                                                                                                                                 Hironaga, Shūzaburō, The Bunraku Handbook (Tokyo: Maison des Arts, 1976); Bunraku May 1976, November 1984 Performance Programs  "
      ]
     },
     "execution_count": 3,
     "metadata": {},
     "output_type": "execute_result"
    }
   ],
   "source": [
    "plays.head()"
   ]
  },
  {
   "cell_type": "code",
   "execution_count": 4,
   "metadata": {
    "collapsed": true
   },
   "outputs": [],
   "source": [
    "def multiValDataFrame(df, table_id, multival_id):\n",
    "    new_df = pd.DataFrame({})\n",
    "    cols = df.columns\n",
    "    id_list = df[table_id].unique()\n",
    "    for i in id_list:\n",
    "        temp_row = df.loc[df[table_id] == i ]\n",
    "        vals = []\n",
    "        for col in cols:\n",
    "            vals.append(temp_row[:1][col].values[0])\n",
    "\n",
    "        temp_dict = dict(zip(cols, vals))\n",
    "        multi_id_list = list(temp_row[multival_id])\n",
    "    \n",
    "        temp_dict[multival_id] = multi_id_list\n",
    "    \n",
    "        new_df = new_df.append(temp_dict, ignore_index=True)\n",
    "    return new_df"
   ]
  },
  {
   "cell_type": "code",
   "execution_count": null,
   "metadata": {
    "collapsed": true
   },
   "outputs": [],
   "source": [
    "# merge and multival authors\n",
    "plays = pd.merge(plays, play_auth, on='play_id', how='outer')\n",
    "plays = multiValDataFrame(plays, 'play_id', 'author_id')"
   ]
  },
  {
   "cell_type": "code",
   "execution_count": null,
   "metadata": {
    "collapsed": true
   },
   "outputs": [],
   "source": [
    "# merge and multival characters\n",
    "plays = pd.merge(plays, play_char, on='play_id', how='outer')\n",
    "plays = multiValDataFrame(plays, 'play_id', 'character_id')"
   ]
  },
  {
   "cell_type": "code",
   "execution_count": null,
   "metadata": {
    "collapsed": true
   },
   "outputs": [],
   "source": [
    "# merge and multival images\n",
    "plays = pd.merge(plays, play_img, on='play_id', how='outer')\n",
    "plays = multiValDataFrame(plays, 'play_id', 'image_id')"
   ]
  },
  {
   "cell_type": "code",
   "execution_count": null,
   "metadata": {
    "collapsed": true
   },
   "outputs": [],
   "source": [
    "# merge and multival performances\n",
    "plays = pd.merge(plays, play_perf, on='play_id', how='outer')\n",
    "plays = multiValDataFrame(plays, 'play_id', 'performance_id')"
   ]
  },
  {
   "cell_type": "code",
   "execution_count": null,
   "metadata": {},
   "outputs": [],
   "source": [
    "plays.to_json(orient='records', force_ascii=False)"
   ]
  },
  {
   "cell_type": "code",
   "execution_count": null,
   "metadata": {
    "collapsed": true
   },
   "outputs": [],
   "source": []
  }
 ],
 "metadata": {
  "kernelspec": {
   "display_name": "Python 2",
   "language": "python",
   "name": "python2"
  },
  "language_info": {
   "codemirror_mode": {
    "name": "ipython",
    "version": 2
   },
   "file_extension": ".py",
   "mimetype": "text/x-python",
   "name": "python",
   "nbconvert_exporter": "python",
   "pygments_lexer": "ipython2",
   "version": "2.7.13"
  }
 },
 "nbformat": 4,
 "nbformat_minor": 2
}
