{
 "cells": [
  {
   "cell_type": "markdown",
   "metadata": {},
   "source": [
    "# Task: Output Bunraku authors to json list using authors_plays join table to grab an array of play_ids for each author.\n",
    "\n",
    "_________________\n",
    "\n"
   ]
  },
  {
   "cell_type": "code",
   "execution_count": 1,
   "metadata": {
    "collapsed": true
   },
   "outputs": [],
   "source": [
    "import pandas as pd"
   ]
  },
  {
   "cell_type": "code",
   "execution_count": 9,
   "metadata": {},
   "outputs": [],
   "source": [
    "# read csvs as data frames\n",
    "authors = pd.read_csv('authors.csv').astype(str)\n",
    "play_auth = pd.read_csv('authors_plays.csv').astype(str)\n",
    "authors = authors.fillna('')"
   ]
  },
  {
   "cell_type": "code",
   "execution_count": 3,
   "metadata": {
    "scrolled": true
   },
   "outputs": [
    {
     "data": {
      "text/html": [
       "<div>\n",
       "<style>\n",
       "    .dataframe thead tr:only-child th {\n",
       "        text-align: right;\n",
       "    }\n",
       "\n",
       "    .dataframe thead th {\n",
       "        text-align: left;\n",
       "    }\n",
       "\n",
       "    .dataframe tbody tr th {\n",
       "        vertical-align: top;\n",
       "    }\n",
       "</style>\n",
       "<table border=\"1\" class=\"dataframe\">\n",
       "  <thead>\n",
       "    <tr style=\"text-align: right;\">\n",
       "      <th></th>\n",
       "      <th>author_id</th>\n",
       "      <th>label</th>\n",
       "      <th>label_ka</th>\n",
       "      <th>dates</th>\n",
       "      <th>reference</th>\n",
       "      <th>sort_ja</th>\n",
       "    </tr>\n",
       "  </thead>\n",
       "  <tbody>\n",
       "    <tr>\n",
       "      <th>0</th>\n",
       "      <td>1</td>\n",
       "      <td>Asada Icchō</td>\n",
       "      <td>浅田一鳥</td>\n",
       "      <td>fl. 1741-1767</td>\n",
       "      <td>LC Authorities</td>\n",
       "      <td>あさだいっちょう</td>\n",
       "    </tr>\n",
       "    <tr>\n",
       "      <th>1</th>\n",
       "      <td>2</td>\n",
       "      <td>Ashikawa Teruha</td>\n",
       "      <td>芦川照葉</td>\n",
       "      <td>nan</td>\n",
       "      <td>LC Authorities</td>\n",
       "      <td>あしかわてるは</td>\n",
       "    </tr>\n",
       "    <tr>\n",
       "      <th>2</th>\n",
       "      <td>4</td>\n",
       "      <td>Chikamatsu Hanji</td>\n",
       "      <td>近松半二</td>\n",
       "      <td>d. 1786 or 7</td>\n",
       "      <td>LC Authorities</td>\n",
       "      <td>ちかまつはんじ</td>\n",
       "    </tr>\n",
       "    <tr>\n",
       "      <th>3</th>\n",
       "      <td>5</td>\n",
       "      <td>Chikamatsu Kosuiken</td>\n",
       "      <td>近松湖水軒</td>\n",
       "      <td>nan</td>\n",
       "      <td>繪本太功記 / 近松やなぎ, 近松湖水軒, 千葉軒合作, 東京 : 金櫻堂, 1890.12...</td>\n",
       "      <td>ちかまつこすいけん</td>\n",
       "    </tr>\n",
       "    <tr>\n",
       "      <th>4</th>\n",
       "      <td>6</td>\n",
       "      <td>Chikamatsu Monzaemon</td>\n",
       "      <td>近松門左衛門</td>\n",
       "      <td>nan</td>\n",
       "      <td>LC Authorities</td>\n",
       "      <td>ちかまつもんざえもん</td>\n",
       "    </tr>\n",
       "  </tbody>\n",
       "</table>\n",
       "</div>"
      ],
      "text/plain": [
       "  author_id                 label label_ka          dates  \\\n",
       "0         1           Asada Icchō     浅田一鳥  fl. 1741-1767   \n",
       "1         2       Ashikawa Teruha     芦川照葉            nan   \n",
       "2         4      Chikamatsu Hanji     近松半二   d. 1786 or 7   \n",
       "3         5   Chikamatsu Kosuiken    近松湖水軒            nan   \n",
       "4         6  Chikamatsu Monzaemon   近松門左衛門            nan   \n",
       "\n",
       "                                           reference     sort_ja  \n",
       "0                                     LC Authorities    あさだいっちょう  \n",
       "1                                     LC Authorities     あしかわてるは  \n",
       "2                                     LC Authorities     ちかまつはんじ  \n",
       "3  繪本太功記 / 近松やなぎ, 近松湖水軒, 千葉軒合作, 東京 : 金櫻堂, 1890.12...   ちかまつこすいけん  \n",
       "4                                     LC Authorities  ちかまつもんざえもん  "
      ]
     },
     "execution_count": 3,
     "metadata": {},
     "output_type": "execute_result"
    }
   ],
   "source": [
    "authors.head()"
   ]
  },
  {
   "cell_type": "code",
   "execution_count": 4,
   "metadata": {
    "collapsed": true
   },
   "outputs": [],
   "source": [
    "def multiValDataFrame(df, table_id, multival_id):\n",
    "    new_df = pd.DataFrame({})\n",
    "    cols = df.columns\n",
    "    id_list = df[table_id].unique()\n",
    "    for i in id_list:\n",
    "        temp_row = df.loc[df[table_id] == i ]\n",
    "        vals = []\n",
    "        for col in cols:\n",
    "            vals.append(temp_row[:1][col].values[0])\n",
    "\n",
    "        temp_dict = dict(zip(cols, vals))\n",
    "        multi_id_list = list(temp_row[multival_id])\n",
    "    \n",
    "        temp_dict[multival_id] = multi_id_list\n",
    "    \n",
    "        new_df = new_df.append(temp_dict, ignore_index=True)\n",
    "    return new_df"
   ]
  },
  {
   "cell_type": "code",
   "execution_count": 5,
   "metadata": {},
   "outputs": [],
   "source": [
    "# update author dataframe with inner join of play_ids.\n",
    "authors = pd.merge(authors, play_auth, on='author_id', how='outer')\n",
    "# combine combine multiple plays per author into one row per author\n",
    "authors = multiValDataFrame(authors, 'author_id', 'play_id')\n",
    "# drop na for ''"
   ]
  },
  {
   "cell_type": "code",
   "execution_count": 6,
   "metadata": {},
   "outputs": [
    {
     "data": {
      "text/html": [
       "<div>\n",
       "<style>\n",
       "    .dataframe thead tr:only-child th {\n",
       "        text-align: right;\n",
       "    }\n",
       "\n",
       "    .dataframe thead th {\n",
       "        text-align: left;\n",
       "    }\n",
       "\n",
       "    .dataframe tbody tr th {\n",
       "        vertical-align: top;\n",
       "    }\n",
       "</style>\n",
       "<table border=\"1\" class=\"dataframe\">\n",
       "  <thead>\n",
       "    <tr style=\"text-align: right;\">\n",
       "      <th></th>\n",
       "      <th>author_id</th>\n",
       "      <th>dates</th>\n",
       "      <th>label</th>\n",
       "      <th>label_ka</th>\n",
       "      <th>play_id</th>\n",
       "      <th>reference</th>\n",
       "      <th>sort_ja</th>\n",
       "    </tr>\n",
       "  </thead>\n",
       "  <tbody>\n",
       "    <tr>\n",
       "      <th>0</th>\n",
       "      <td>1</td>\n",
       "      <td>fl. 1741-1767</td>\n",
       "      <td>Asada Icchō</td>\n",
       "      <td>浅田一鳥</td>\n",
       "      <td>[19, 72, 105, 122]</td>\n",
       "      <td>LC Authorities</td>\n",
       "      <td>あさだいっちょう</td>\n",
       "    </tr>\n",
       "    <tr>\n",
       "      <th>1</th>\n",
       "      <td>2</td>\n",
       "      <td>nan</td>\n",
       "      <td>Ashikawa Teruha</td>\n",
       "      <td>芦川照葉</td>\n",
       "      <td>[173]</td>\n",
       "      <td>LC Authorities</td>\n",
       "      <td>あしかわてるは</td>\n",
       "    </tr>\n",
       "    <tr>\n",
       "      <th>2</th>\n",
       "      <td>4</td>\n",
       "      <td>d. 1786 or 7</td>\n",
       "      <td>Chikamatsu Hanji</td>\n",
       "      <td>近松半二</td>\n",
       "      <td>[11, 21, 25, 27, 29, 33, 52, 79, 80, 90, 101, ...</td>\n",
       "      <td>LC Authorities</td>\n",
       "      <td>ちかまつはんじ</td>\n",
       "    </tr>\n",
       "    <tr>\n",
       "      <th>3</th>\n",
       "      <td>5</td>\n",
       "      <td>nan</td>\n",
       "      <td>Chikamatsu Kosuiken</td>\n",
       "      <td>近松湖水軒</td>\n",
       "      <td>[16]</td>\n",
       "      <td>繪本太功記 / 近松やなぎ, 近松湖水軒, 千葉軒合作, 東京 : 金櫻堂, 1890.12...</td>\n",
       "      <td>ちかまつこすいけん</td>\n",
       "    </tr>\n",
       "    <tr>\n",
       "      <th>4</th>\n",
       "      <td>6</td>\n",
       "      <td>nan</td>\n",
       "      <td>Chikamatsu Monzaemon</td>\n",
       "      <td>近松門左衛門</td>\n",
       "      <td>[1, 2, 3, 4, 7, 8, 17, 24, 28, 34, 40, 41, 54,...</td>\n",
       "      <td>LC Authorities</td>\n",
       "      <td>ちかまつもんざえもん</td>\n",
       "    </tr>\n",
       "  </tbody>\n",
       "</table>\n",
       "</div>"
      ],
      "text/plain": [
       "  author_id          dates                 label label_ka  \\\n",
       "0         1  fl. 1741-1767           Asada Icchō     浅田一鳥   \n",
       "1         2            nan       Ashikawa Teruha     芦川照葉   \n",
       "2         4   d. 1786 or 7      Chikamatsu Hanji     近松半二   \n",
       "3         5            nan   Chikamatsu Kosuiken    近松湖水軒   \n",
       "4         6            nan  Chikamatsu Monzaemon   近松門左衛門   \n",
       "\n",
       "                                             play_id  \\\n",
       "0                                 [19, 72, 105, 122]   \n",
       "1                                              [173]   \n",
       "2  [11, 21, 25, 27, 29, 33, 52, 79, 80, 90, 101, ...   \n",
       "3                                               [16]   \n",
       "4  [1, 2, 3, 4, 7, 8, 17, 24, 28, 34, 40, 41, 54,...   \n",
       "\n",
       "                                           reference     sort_ja  \n",
       "0                                     LC Authorities    あさだいっちょう  \n",
       "1                                     LC Authorities     あしかわてるは  \n",
       "2                                     LC Authorities     ちかまつはんじ  \n",
       "3  繪本太功記 / 近松やなぎ, 近松湖水軒, 千葉軒合作, 東京 : 金櫻堂, 1890.12...   ちかまつこすいけん  \n",
       "4                                     LC Authorities  ちかまつもんざえもん  "
      ]
     },
     "execution_count": 6,
     "metadata": {},
     "output_type": "execute_result"
    }
   ],
   "source": [
    "authors.head()"
   ]
  },
  {
   "cell_type": "code",
   "execution_count": 7,
   "metadata": {
    "collapsed": true
   },
   "outputs": [],
   "source": [
    "# csvname = 'authors_exp.csv'\n",
    "# authors.to_csv(filename, encoding='utf8')\n",
    "# save final dataframe to json file\n",
    "# jsonname = 'authors_exp.json'\n",
    "# authors.to_json(jsonname, orient=\"records\", force_ascii=False)"
   ]
  },
  {
   "cell_type": "code",
   "execution_count": null,
   "metadata": {
    "collapsed": true
   },
   "outputs": [],
   "source": []
  }
 ],
 "metadata": {
  "kernelspec": {
   "display_name": "Python 2",
   "language": "python",
   "name": "python2"
  },
  "language_info": {
   "codemirror_mode": {
    "name": "ipython",
    "version": 2
   },
   "file_extension": ".py",
   "mimetype": "text/x-python",
   "name": "python",
   "nbconvert_exporter": "python",
   "pygments_lexer": "ipython2",
   "version": "2.7.13"
  }
 },
 "nbformat": 4,
 "nbformat_minor": 2
}
