{
 "cells": [
  {
   "cell_type": "code",
   "execution_count": 1,
   "metadata": {
    "collapsed": true
   },
   "outputs": [],
   "source": [
    "import pandas as pd"
   ]
  },
  {
   "cell_type": "code",
   "execution_count": 2,
   "metadata": {
    "collapsed": true
   },
   "outputs": [],
   "source": [
    "# read csvs as data frames\n",
    "# cast as string to avoid float/NaN errors\n",
    "\n",
    "tags = pd.read_csv('files/tags.csv').astype(str)\n",
    "tags_imgs = pd.read_csv('files/tags_images.csv').astype(str)"
   ]
  },
  {
   "cell_type": "code",
   "execution_count": 3,
   "metadata": {
    "collapsed": true
   },
   "outputs": [],
   "source": [
    "# mild cleanup to remove newlines\n",
    "tags['notes'] = tags['notes'].replace({r'\\n': ''}, regex=True)"
   ]
  },
  {
   "cell_type": "code",
   "execution_count": 4,
   "metadata": {
    "collapsed": true
   },
   "outputs": [],
   "source": [
    "# multiValDataFrame takes a dataframe df, column name df_index and column name multival_key\n",
    "# it merges records with the same df_index and updates multival_index to an array of all the multival_index values.\n",
    "# E.g for a data frame plays with multiple character_id values per play_id, returns a data frame with one record \n",
    "# per play_id, and one array of character_ids per play.\n",
    "\n",
    "def multiValDataFrame(df, df_index, multival_key):\n",
    "    new_df = pd.DataFrame({})\n",
    "    cols = df.columns\n",
    "    id_list = df[df_index].unique()\n",
    "    for i in id_list:\n",
    "        temp_row = df.loc[df[df_index] == i ]\n",
    "        vals = []\n",
    "        for col in cols:\n",
    "            vals.append(temp_row[:1][col].values[0])\n",
    "\n",
    "        temp_dict = dict(zip(cols, vals))\n",
    "        multi_id_list = list(temp_row[multival_key])\n",
    "    \n",
    "        temp_dict[multival_key] = multi_id_list\n",
    "    \n",
    "        new_df = new_df.append(temp_dict, ignore_index=True)\n",
    "    return new_df"
   ]
  },
  {
   "cell_type": "code",
   "execution_count": 5,
   "metadata": {
    "collapsed": true
   },
   "outputs": [],
   "source": [
    "# left join to add image_ids to author dataframe\n",
    "tags = pd.merge(tags, tags_imgs, on='tag_id', how='left')\n",
    "\n",
    "# combine multiple images per tag into one record per tag\n",
    "tags = multiValDataFrame(tags, 'tag_id', 'image_id')"
   ]
  },
  {
   "cell_type": "code",
   "execution_count": 6,
   "metadata": {
    "collapsed": true
   },
   "outputs": [],
   "source": [
    "# export to csv\n",
    "tags.to_csv('tags_exp.csv', encoding='utf8', index=False)"
   ]
  },
  {
   "cell_type": "code",
   "execution_count": 7,
   "metadata": {
    "collapsed": true
   },
   "outputs": [],
   "source": [
    "# export to json\n",
    "tags.to_json('tags_exp.json', orient='records', force_ascii=False)"
   ]
  }
 ],
 "metadata": {
  "kernelspec": {
   "display_name": "Python 2",
   "language": "python",
   "name": "python2"
  },
  "language_info": {
   "codemirror_mode": {
    "name": "ipython",
    "version": 2
   },
   "file_extension": ".py",
   "mimetype": "text/x-python",
   "name": "python",
   "nbconvert_exporter": "python",
   "pygments_lexer": "ipython2",
   "version": "2.7.13"
  }
 },
 "nbformat": 4,
 "nbformat_minor": 2
}
