{
 "cells": [
  {
   "cell_type": "code",
   "execution_count": 1,
   "metadata": {
    "collapsed": true
   },
   "outputs": [],
   "source": [
    "import pandas as pd"
   ]
  },
  {
   "cell_type": "code",
   "execution_count": 2,
   "metadata": {
    "collapsed": true
   },
   "outputs": [],
   "source": [
    "# read csvs as data frames\n",
    "# cast as string to avoid float/NaN errors\n",
    "\n",
    "tags = pd.read_csv('in/tags.csv').astype(str)\n",
    "tags_imgs = pd.read_csv('in/tags_images.csv').astype(str)"
   ]
  },
  {
   "cell_type": "code",
   "execution_count": 3,
   "metadata": {
    "collapsed": true
   },
   "outputs": [],
   "source": [
    "# mild cleanup to remove newlines\n",
    "tags['notes'] = tags['notes'].replace({r'\\n': ''}, regex=True)"
   ]
  },
  {
   "cell_type": "code",
   "execution_count": 4,
   "metadata": {
    "collapsed": true
   },
   "outputs": [],
   "source": [
    "# multiValDataFrame takes a dataframe df, column name df_index and column name multival_key\n",
    "# it merges records with the same df_index and updates multival_index to an array of all the multival_index values.\n",
    "# E.g for a data frame plays with multiple character_id values per play_id, returns a data frame with one record \n",
    "# per play_id, and one array of character_ids per play.\n",
    "\n",
    "def multiValDataFrame(df, df_index, multival_key):\n",
    "    new_df = pd.DataFrame({})\n",
    "    cols = df.columns\n",
    "    id_list = df[df_index].unique()\n",
    "    for i in id_list:\n",
    "        temp_row = df.loc[df[df_index] == i ]\n",
    "        vals = []\n",
    "        for col in cols:\n",
    "            vals.append(temp_row[:1][col].values[0])\n",
    "\n",
    "        temp_dict = dict(zip(cols, vals))\n",
    "        multi_id_list = list(temp_row[multival_key])\n",
    "    \n",
    "        temp_dict[multival_key] = multi_id_list\n",
    "    \n",
    "        new_df = new_df.append(temp_dict, ignore_index=True)\n",
    "    return new_df"
   ]
  },
  {
   "cell_type": "code",
   "execution_count": 5,
   "metadata": {
    "collapsed": true
   },
   "outputs": [],
   "source": [
    "# left join to add image_ids to author dataframe\n",
    "tags = pd.merge(tags, tags_imgs, on='tag_id', how='left')\n",
    "\n",
    "# combine multiple images per tag into one record per tag\n",
    "tags = multiValDataFrame(tags, 'tag_id', 'image_id')"
   ]
  },
  {
   "cell_type": "code",
   "execution_count": 6,
   "metadata": {
    "collapsed": true
   },
   "outputs": [],
   "source": [
    "tags = tags.rename(columns = {'tag_id':'id','label':'label_eng'})"
   ]
  },
  {
   "cell_type": "code",
   "execution_count": 7,
   "metadata": {
    "collapsed": true
   },
   "outputs": [],
   "source": [
    "# export to csv\n",
    "tags.to_csv('tags_exp.csv', encoding='utf8', index=False)"
   ]
  },
  {
   "cell_type": "code",
   "execution_count": 8,
   "metadata": {
    "collapsed": true
   },
   "outputs": [],
   "source": [
    "# export to json\n",
    "tags.to_json('tags_exp.json', orient='records', force_ascii=False)"
   ]
  },
  {
   "cell_type": "code",
   "execution_count": 9,
   "metadata": {},
   "outputs": [
    {
     "data": {
      "text/html": [
       "<div>\n",
       "<style>\n",
       "    .dataframe thead tr:only-child th {\n",
       "        text-align: right;\n",
       "    }\n",
       "\n",
       "    .dataframe thead th {\n",
       "        text-align: left;\n",
       "    }\n",
       "\n",
       "    .dataframe tbody tr th {\n",
       "        vertical-align: top;\n",
       "    }\n",
       "</style>\n",
       "<table border=\"1\" class=\"dataframe\">\n",
       "  <thead>\n",
       "    <tr style=\"text-align: right;\">\n",
       "      <th></th>\n",
       "      <th>description</th>\n",
       "      <th>image_id</th>\n",
       "      <th>label_eng</th>\n",
       "      <th>label_ka</th>\n",
       "      <th>notes</th>\n",
       "      <th>sort_ja</th>\n",
       "      <th>id</th>\n",
       "    </tr>\n",
       "  </thead>\n",
       "  <tbody>\n",
       "    <tr>\n",
       "      <th>0</th>\n",
       "      <td>nan</td>\n",
       "      <td>[44990, 45057, 45216, 46025, 46834, 47367, 473...</td>\n",
       "      <td>Asahi Theater</td>\n",
       "      <td>朝日座</td>\n",
       "      <td></td>\n",
       "      <td>あさひざ</td>\n",
       "      <td>1</td>\n",
       "    </tr>\n",
       "    <tr>\n",
       "      <th>1</th>\n",
       "      <td>High wooden clogs worn on stage by head puppet...</td>\n",
       "      <td>[44981, 44986, 45010, 45017, 45024, 45050, 450...</td>\n",
       "      <td>Butai geta [high wooden clogs]</td>\n",
       "      <td>舞台下駄</td>\n",
       "      <td></td>\n",
       "      <td>ぶたいげた</td>\n",
       "      <td>2</td>\n",
       "    </tr>\n",
       "    <tr>\n",
       "      <th>2</th>\n",
       "      <td>Body, torso, or framework of puppets.</td>\n",
       "      <td>[44978, 45071, 45235, 45244, 45246, 46033, 461...</td>\n",
       "      <td>Dō [body]</td>\n",
       "      <td>胴</td>\n",
       "      <td></td>\n",
       "      <td>どう</td>\n",
       "      <td>3</td>\n",
       "    </tr>\n",
       "    <tr>\n",
       "      <th>3</th>\n",
       "      <td>nan</td>\n",
       "      <td>[44990, 44992, 44993, 44997, 44998, 45000, 450...</td>\n",
       "      <td>Dressing room</td>\n",
       "      <td>楽屋</td>\n",
       "      <td></td>\n",
       "      <td>がくや</td>\n",
       "      <td>4</td>\n",
       "    </tr>\n",
       "    <tr>\n",
       "      <th>4</th>\n",
       "      <td>Small room over stage-right entrance occupied ...</td>\n",
       "      <td>[11630, 11633, 44982, 44997, 45004, 45005, 452...</td>\n",
       "      <td>Geza [room for offstage musicians]</td>\n",
       "      <td>下座あるいは囃子部屋</td>\n",
       "      <td></td>\n",
       "      <td>げざ</td>\n",
       "      <td>5</td>\n",
       "    </tr>\n",
       "  </tbody>\n",
       "</table>\n",
       "</div>"
      ],
      "text/plain": [
       "                                         description  \\\n",
       "0                                                nan   \n",
       "1  High wooden clogs worn on stage by head puppet...   \n",
       "2              Body, torso, or framework of puppets.   \n",
       "3                                                nan   \n",
       "4  Small room over stage-right entrance occupied ...   \n",
       "\n",
       "                                            image_id  \\\n",
       "0  [44990, 45057, 45216, 46025, 46834, 47367, 473...   \n",
       "1  [44981, 44986, 45010, 45017, 45024, 45050, 450...   \n",
       "2  [44978, 45071, 45235, 45244, 45246, 46033, 461...   \n",
       "3  [44990, 44992, 44993, 44997, 44998, 45000, 450...   \n",
       "4  [11630, 11633, 44982, 44997, 45004, 45005, 452...   \n",
       "\n",
       "                            label_eng    label_ka notes sort_ja id  \n",
       "0                       Asahi Theater         朝日座          あさひざ  1  \n",
       "1      Butai geta [high wooden clogs]        舞台下駄         ぶたいげた  2  \n",
       "2                           Dō [body]           胴            どう  3  \n",
       "3                       Dressing room          楽屋           がくや  4  \n",
       "4  Geza [room for offstage musicians]  下座あるいは囃子部屋            げざ  5  "
      ]
     },
     "execution_count": 9,
     "metadata": {},
     "output_type": "execute_result"
    }
   ],
   "source": [
    "tags.head()"
   ]
  },
  {
   "cell_type": "code",
   "execution_count": null,
   "metadata": {
    "collapsed": true
   },
   "outputs": [],
   "source": []
  }
 ],
 "metadata": {
  "kernelspec": {
   "display_name": "Python 2",
   "language": "python",
   "name": "python2"
  },
  "language_info": {
   "codemirror_mode": {
    "name": "ipython",
    "version": 2
   },
   "file_extension": ".py",
   "mimetype": "text/x-python",
   "name": "python",
   "nbconvert_exporter": "python",
   "pygments_lexer": "ipython2",
   "version": "2.7.13"
  }
 },
 "nbformat": 4,
 "nbformat_minor": 2
}
