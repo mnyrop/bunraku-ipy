{
 "cells": [
  {
   "cell_type": "code",
   "execution_count": 1,
   "metadata": {
    "collapsed": true
   },
   "outputs": [],
   "source": [
    "import pandas as pd"
   ]
  },
  {
   "cell_type": "code",
   "execution_count": 2,
   "metadata": {},
   "outputs": [
    {
     "data": {
      "text/html": [
       "<div>\n",
       "<style>\n",
       "    .dataframe thead tr:only-child th {\n",
       "        text-align: right;\n",
       "    }\n",
       "\n",
       "    .dataframe thead th {\n",
       "        text-align: left;\n",
       "    }\n",
       "\n",
       "    .dataframe tbody tr th {\n",
       "        vertical-align: top;\n",
       "    }\n",
       "</style>\n",
       "<table border=\"1\" class=\"dataframe\">\n",
       "  <thead>\n",
       "    <tr style=\"text-align: right;\">\n",
       "      <th></th>\n",
       "      <th>author_id</th>\n",
       "      <th>character_id</th>\n",
       "      <th>first_staged</th>\n",
       "      <th>id</th>\n",
       "      <th>image_id</th>\n",
       "      <th>label_eng</th>\n",
       "      <th>label_eng_sort</th>\n",
       "      <th>label_ja</th>\n",
       "      <th>label_ja_sort</th>\n",
       "      <th>label_ka</th>\n",
       "      <th>performance_id</th>\n",
       "      <th>reference</th>\n",
       "      <th>sort_ja</th>\n",
       "    </tr>\n",
       "  </thead>\n",
       "  <tbody>\n",
       "    <tr>\n",
       "      <th>9</th>\n",
       "      <td>[4]</td>\n",
       "      <td>[647, 648, 649, 650, 651, 652, 653, 654, 655, ...</td>\n",
       "      <td>1770</td>\n",
       "      <td>11</td>\n",
       "      <td>[45803, 52683]</td>\n",
       "      <td>The Three Generations of Kamakura Shoguns</td>\n",
       "      <td>Three Generations of Kamakura Shoguns, The</td>\n",
       "      <td>Kamakura sandaiki</td>\n",
       "      <td>Kamakura sandaiki</td>\n",
       "      <td>鎌倉三代記</td>\n",
       "      <td>[163, 322, 442, 701, 749, 909]</td>\n",
       "      <td>Keene, Donald, Bunraku: The Art of the Japanes...</td>\n",
       "      <td>かまくらさんだいき</td>\n",
       "    </tr>\n",
       "  </tbody>\n",
       "</table>\n",
       "</div>"
      ],
      "text/plain": [
       "  author_id                                       character_id first_staged  \\\n",
       "9       [4]  [647, 648, 649, 650, 651, 652, 653, 654, 655, ...         1770   \n",
       "\n",
       "   id        image_id                                  label_eng  \\\n",
       "9  11  [45803, 52683]  The Three Generations of Kamakura Shoguns   \n",
       "\n",
       "                               label_eng_sort           label_ja  \\\n",
       "9  Three Generations of Kamakura Shoguns, The  Kamakura sandaiki   \n",
       "\n",
       "       label_ja_sort label_ka                  performance_id  \\\n",
       "9  Kamakura sandaiki    鎌倉三代記  [163, 322, 442, 701, 749, 909]   \n",
       "\n",
       "                                           reference    sort_ja  \n",
       "9  Keene, Donald, Bunraku: The Art of the Japanes...  かまくらさんだいき  "
      ]
     },
     "execution_count": 2,
     "metadata": {},
     "output_type": "execute_result"
    }
   ],
   "source": [
    "plays_in = pd.read_json('in/_plays.json')\n",
    "play_11 = plays_in.loc[plays_in['id'] == 11 ]\n",
    "\n",
    "play_11"
   ]
  },
  {
   "cell_type": "code",
   "execution_count": 3,
   "metadata": {
    "collapsed": true
   },
   "outputs": [],
   "source": [
    "authors_in = pd.read_json('in/_authors.json')\n",
    "characters_in = pd.read_json('in/_characters.json')\n",
    "images_in = pd.read_json('in/_images.json')\n",
    "kashira_in = pd.read_json('in/_kashira.json')\n",
    "performances_in = pd.read_json('in/_performances.json')\n",
    "productions_in = pd.read_json('in/_productions.json')\n",
    "tags_in = pd.read_json('in/_tags.json')"
   ]
  },
  {
   "cell_type": "code",
   "execution_count": 4,
   "metadata": {
    "collapsed": true
   },
   "outputs": [],
   "source": [
    "play_11 = play_11.rename(columns={'play_id':'id'})\n",
    "play_11 = play_11[['id','first_staged','label_eng','label_eng_sort','label_ja','label_ja_sort','label_ka','reference','sort_ja','author_id','character_id','performance_id','image_id']]"
   ]
  },
  {
   "cell_type": "code",
   "execution_count": 124,
   "metadata": {},
   "outputs": [
    {
     "data": {
      "text/html": [
       "<div>\n",
       "<style>\n",
       "    .dataframe thead tr:only-child th {\n",
       "        text-align: right;\n",
       "    }\n",
       "\n",
       "    .dataframe thead th {\n",
       "        text-align: left;\n",
       "    }\n",
       "\n",
       "    .dataframe tbody tr th {\n",
       "        vertical-align: top;\n",
       "    }\n",
       "</style>\n",
       "<table border=\"1\" class=\"dataframe\">\n",
       "  <thead>\n",
       "    <tr style=\"text-align: right;\">\n",
       "      <th></th>\n",
       "      <th>id</th>\n",
       "      <th>first_staged</th>\n",
       "      <th>label_eng</th>\n",
       "      <th>label_eng_sort</th>\n",
       "      <th>label_ja</th>\n",
       "      <th>label_ja_sort</th>\n",
       "      <th>label_ka</th>\n",
       "      <th>reference</th>\n",
       "      <th>sort_ja</th>\n",
       "      <th>author_id</th>\n",
       "      <th>character_id</th>\n",
       "      <th>performance_id</th>\n",
       "      <th>image_id</th>\n",
       "    </tr>\n",
       "  </thead>\n",
       "  <tbody>\n",
       "    <tr>\n",
       "      <th>9</th>\n",
       "      <td>11</td>\n",
       "      <td>1770</td>\n",
       "      <td>The Three Generations of Kamakura Shoguns</td>\n",
       "      <td>Three Generations of Kamakura Shoguns, The</td>\n",
       "      <td>Kamakura sandaiki</td>\n",
       "      <td>Kamakura sandaiki</td>\n",
       "      <td>鎌倉三代記</td>\n",
       "      <td>Keene, Donald, Bunraku: The Art of the Japanes...</td>\n",
       "      <td>かまくらさんだいき</td>\n",
       "      <td>[4]</td>\n",
       "      <td>[647, 648, 649, 650, 651, 652, 653, 654, 655, ...</td>\n",
       "      <td>[163, 322, 442, 701, 749, 909]</td>\n",
       "      <td>[45803, 52683]</td>\n",
       "    </tr>\n",
       "  </tbody>\n",
       "</table>\n",
       "</div>"
      ],
      "text/plain": [
       "   id first_staged                                  label_eng  \\\n",
       "9  11         1770  The Three Generations of Kamakura Shoguns   \n",
       "\n",
       "                               label_eng_sort           label_ja  \\\n",
       "9  Three Generations of Kamakura Shoguns, The  Kamakura sandaiki   \n",
       "\n",
       "       label_ja_sort label_ka  \\\n",
       "9  Kamakura sandaiki    鎌倉三代記   \n",
       "\n",
       "                                           reference    sort_ja author_id  \\\n",
       "9  Keene, Donald, Bunraku: The Art of the Japanes...  かまくらさんだいき       [4]   \n",
       "\n",
       "                                        character_id  \\\n",
       "9  [647, 648, 649, 650, 651, 652, 653, 654, 655, ...   \n",
       "\n",
       "                   performance_id        image_id  \n",
       "9  [163, 322, 442, 701, 749, 909]  [45803, 52683]  "
      ]
     },
     "execution_count": 124,
     "metadata": {},
     "output_type": "execute_result"
    }
   ],
   "source": [
    "play_11.head()"
   ]
  },
  {
   "cell_type": "code",
   "execution_count": 125,
   "metadata": {
    "collapsed": true
   },
   "outputs": [],
   "source": [
    "def linked_df(main_df, linked_df, identifier):\n",
    "    temp_df = pd.DataFrame({})\n",
    "    id_list_of_lists = main_df[identifier]\n",
    "    idl = []\n",
    "    for id_list in id_list_of_lists:\n",
    "        id_list = list(id_list)\n",
    "        idl=list(set(idl+id_list))\n",
    "    for i in idl:\n",
    "        temp_row = linked_df.loc[linked_df['id'] == int(i) ]\n",
    "        temp_df = temp_df.append(temp_row, ignore_index=True)\n",
    "    return temp_df"
   ]
  },
  {
   "cell_type": "code",
   "execution_count": 126,
   "metadata": {
    "collapsed": true
   },
   "outputs": [],
   "source": [
    "# round 1, from play 11\n",
    "authors_out = linked_df(play_11, authors_in, 'author_id')\n",
    "characters_out = linked_df(play_11, characters_in, 'character_id')\n",
    "images_out = linked_df(play_11, images_in, 'image_id')\n",
    "performances_out = linked_df(play_11, performances_in, 'performance_id')"
   ]
  },
  {
   "cell_type": "code",
   "execution_count": 127,
   "metadata": {
    "collapsed": true
   },
   "outputs": [],
   "source": [
    "# round 2, plays from author 4\n",
    "plays_out = linked_df(authors_out, plays_in, 'play_id')"
   ]
  },
  {
   "cell_type": "code",
   "execution_count": 128,
   "metadata": {
    "collapsed": true
   },
   "outputs": [],
   "source": [
    "authors_out = linked_df(plays_out, authors_in, 'author_id')"
   ]
  },
  {
   "cell_type": "code",
   "execution_count": 129,
   "metadata": {
    "collapsed": true
   },
   "outputs": [],
   "source": [
    "performances_out = linked_df(plays_out, performances_in, 'performance_id')"
   ]
  },
  {
   "cell_type": "code",
   "execution_count": 130,
   "metadata": {
    "collapsed": true
   },
   "outputs": [],
   "source": [
    "plays_temp = plays_out.dropna(subset = ['image_id'])\n",
    "images_out = linked_df(plays_temp, images_in, 'image_id')"
   ]
  },
  {
   "cell_type": "code",
   "execution_count": 131,
   "metadata": {
    "collapsed": true
   },
   "outputs": [],
   "source": [
    "images_temp = images_out.dropna(subset = ['tag_id'])\n",
    "tags_out = linked_df(images_temp, tags_in, 'tag_id')"
   ]
  },
  {
   "cell_type": "code",
   "execution_count": 132,
   "metadata": {
    "collapsed": true
   },
   "outputs": [],
   "source": [
    "# authors_out.to_json('authors_out.json', orient=\"records\", force_ascii=False)\n",
    "# characters_out.to_json('characters_out.json', orient=\"records\", force_ascii=False)\n",
    "# images_out.to_json('images_out.json', orient=\"records\", force_ascii=False)\n",
    "# performances_out.to_json('performances_out.json', orient=\"records\", force_ascii=False)\n",
    "# plays_out.to_json('plays_out.json', orient=\"records\", force_ascii=False)\n",
    "# tags_out.to_json('tags_out.json', orient=\"records\", force_ascii=False)"
   ]
  },
  {
   "cell_type": "code",
   "execution_count": null,
   "metadata": {
    "collapsed": true
   },
   "outputs": [],
   "source": []
  }
 ],
 "metadata": {
  "kernelspec": {
   "display_name": "Python 2",
   "language": "python",
   "name": "python2"
  },
  "language_info": {
   "codemirror_mode": {
    "name": "ipython",
    "version": 2
   },
   "file_extension": ".py",
   "mimetype": "text/x-python",
   "name": "python",
   "nbconvert_exporter": "python",
   "pygments_lexer": "ipython2",
   "version": "2.7.13"
  }
 },
 "nbformat": 4,
 "nbformat_minor": 2
}
