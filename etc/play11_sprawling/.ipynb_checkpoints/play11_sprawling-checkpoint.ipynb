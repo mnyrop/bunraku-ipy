{
 "cells": [
  {
   "cell_type": "code",
   "execution_count": 1,
   "metadata": {
    "collapsed": true
   },
   "outputs": [],
   "source": [
    "import pandas as pd"
   ]
  },
  {
   "cell_type": "code",
   "execution_count": 2,
   "metadata": {},
   "outputs": [
    {
     "data": {
      "text/html": [
       "<div>\n",
       "<style>\n",
       "    .dataframe thead tr:only-child th {\n",
       "        text-align: right;\n",
       "    }\n",
       "\n",
       "    .dataframe thead th {\n",
       "        text-align: left;\n",
       "    }\n",
       "\n",
       "    .dataframe tbody tr th {\n",
       "        vertical-align: top;\n",
       "    }\n",
       "</style>\n",
       "<table border=\"1\" class=\"dataframe\">\n",
       "  <thead>\n",
       "    <tr style=\"text-align: right;\">\n",
       "      <th></th>\n",
       "      <th>author_id</th>\n",
       "      <th>character_id</th>\n",
       "      <th>first_staged</th>\n",
       "      <th>id</th>\n",
       "      <th>image_id</th>\n",
       "      <th>label_eng</th>\n",
       "      <th>label_eng_sort</th>\n",
       "      <th>label_ja</th>\n",
       "      <th>label_ja_sort</th>\n",
       "      <th>label_ka</th>\n",
       "      <th>performance_id</th>\n",
       "      <th>reference</th>\n",
       "      <th>sort_ja</th>\n",
       "    </tr>\n",
       "  </thead>\n",
       "  <tbody>\n",
       "    <tr>\n",
       "      <th>9</th>\n",
       "      <td>[4]</td>\n",
       "      <td>[647, 648, 649, 650, 651, 652, 653, 654, 655, ...</td>\n",
       "      <td>1770</td>\n",
       "      <td>11</td>\n",
       "      <td>[45803, 52683]</td>\n",
       "      <td>The Three Generations of Kamakura Shoguns</td>\n",
       "      <td>Three Generations of Kamakura Shoguns, The</td>\n",
       "      <td>Kamakura sandaiki</td>\n",
       "      <td>Kamakura sandaiki</td>\n",
       "      <td>鎌倉三代記</td>\n",
       "      <td>[163, 322, 442, 701, 749, 909]</td>\n",
       "      <td>Keene, Donald, Bunraku: The Art of the Japanes...</td>\n",
       "      <td>かまくらさんだいき</td>\n",
       "    </tr>\n",
       "  </tbody>\n",
       "</table>\n",
       "</div>"
      ],
      "text/plain": [
       "  author_id                                       character_id first_staged  \\\n",
       "9       [4]  [647, 648, 649, 650, 651, 652, 653, 654, 655, ...         1770   \n",
       "\n",
       "   id        image_id                                  label_eng  \\\n",
       "9  11  [45803, 52683]  The Three Generations of Kamakura Shoguns   \n",
       "\n",
       "                               label_eng_sort           label_ja  \\\n",
       "9  Three Generations of Kamakura Shoguns, The  Kamakura sandaiki   \n",
       "\n",
       "       label_ja_sort label_ka                  performance_id  \\\n",
       "9  Kamakura sandaiki    鎌倉三代記  [163, 322, 442, 701, 749, 909]   \n",
       "\n",
       "                                           reference    sort_ja  \n",
       "9  Keene, Donald, Bunraku: The Art of the Japanes...  かまくらさんだいき  "
      ]
     },
     "execution_count": 2,
     "metadata": {},
     "output_type": "execute_result"
    }
   ],
   "source": [
    "plays_in = pd.read_json('in/_plays.json')\n",
    "play_11 = plays_in.loc[plays_in['id'] == 11 ]\n",
    "\n",
    "play_11"
   ]
  },
  {
   "cell_type": "code",
   "execution_count": 3,
   "metadata": {},
   "outputs": [],
   "source": [
    "authors_in = pd.read_json('in/_authors.json')\n",
    "characters_in = pd.read_json('in/_characters.json')\n",
    "images_in = pd.read_json('in/_images.json')\n",
    "kashira_in = pd.read_json('in/_kashira.json')\n",
    "performances_in = pd.read_json('in/_performances.json')\n",
    "productions_in = pd.read_json('in/_productions.json')\n",
    "tags_in = pd.read_json('in/_tags.json')"
   ]
  },
  {
   "cell_type": "code",
   "execution_count": 4,
   "metadata": {
    "collapsed": true
   },
   "outputs": [],
   "source": [
    "play_11 = play_11.rename(columns={'play_id':'id'})\n",
    "play_11 = play_11[['id','first_staged','label_eng','label_eng_sort','label_ja','label_ja_sort','label_ka','reference','sort_ja','author_id','character_id','performance_id','image_id']]"
   ]
  },
  {
   "cell_type": "code",
   "execution_count": 5,
   "metadata": {},
   "outputs": [
    {
     "data": {
      "text/html": [
       "<div>\n",
       "<style>\n",
       "    .dataframe thead tr:only-child th {\n",
       "        text-align: right;\n",
       "    }\n",
       "\n",
       "    .dataframe thead th {\n",
       "        text-align: left;\n",
       "    }\n",
       "\n",
       "    .dataframe tbody tr th {\n",
       "        vertical-align: top;\n",
       "    }\n",
       "</style>\n",
       "<table border=\"1\" class=\"dataframe\">\n",
       "  <thead>\n",
       "    <tr style=\"text-align: right;\">\n",
       "      <th></th>\n",
       "      <th>id</th>\n",
       "      <th>first_staged</th>\n",
       "      <th>label_eng</th>\n",
       "      <th>label_eng_sort</th>\n",
       "      <th>label_ja</th>\n",
       "      <th>label_ja_sort</th>\n",
       "      <th>label_ka</th>\n",
       "      <th>reference</th>\n",
       "      <th>sort_ja</th>\n",
       "      <th>author_id</th>\n",
       "      <th>character_id</th>\n",
       "      <th>performance_id</th>\n",
       "      <th>image_id</th>\n",
       "    </tr>\n",
       "  </thead>\n",
       "  <tbody>\n",
       "    <tr>\n",
       "      <th>9</th>\n",
       "      <td>11</td>\n",
       "      <td>1770</td>\n",
       "      <td>The Three Generations of Kamakura Shoguns</td>\n",
       "      <td>Three Generations of Kamakura Shoguns, The</td>\n",
       "      <td>Kamakura sandaiki</td>\n",
       "      <td>Kamakura sandaiki</td>\n",
       "      <td>鎌倉三代記</td>\n",
       "      <td>Keene, Donald, Bunraku: The Art of the Japanes...</td>\n",
       "      <td>かまくらさんだいき</td>\n",
       "      <td>[4]</td>\n",
       "      <td>[647, 648, 649, 650, 651, 652, 653, 654, 655, ...</td>\n",
       "      <td>[163, 322, 442, 701, 749, 909]</td>\n",
       "      <td>[45803, 52683]</td>\n",
       "    </tr>\n",
       "  </tbody>\n",
       "</table>\n",
       "</div>"
      ],
      "text/plain": [
       "   id first_staged                                  label_eng  \\\n",
       "9  11         1770  The Three Generations of Kamakura Shoguns   \n",
       "\n",
       "                               label_eng_sort           label_ja  \\\n",
       "9  Three Generations of Kamakura Shoguns, The  Kamakura sandaiki   \n",
       "\n",
       "       label_ja_sort label_ka  \\\n",
       "9  Kamakura sandaiki    鎌倉三代記   \n",
       "\n",
       "                                           reference    sort_ja author_id  \\\n",
       "9  Keene, Donald, Bunraku: The Art of the Japanes...  かまくらさんだいき       [4]   \n",
       "\n",
       "                                        character_id  \\\n",
       "9  [647, 648, 649, 650, 651, 652, 653, 654, 655, ...   \n",
       "\n",
       "                   performance_id        image_id  \n",
       "9  [163, 322, 442, 701, 749, 909]  [45803, 52683]  "
      ]
     },
     "execution_count": 5,
     "metadata": {},
     "output_type": "execute_result"
    }
   ],
   "source": [
    "play_11.head()"
   ]
  },
  {
   "cell_type": "code",
   "execution_count": 6,
   "metadata": {},
   "outputs": [],
   "source": [
    "author_list = play_11['author_id'].values[0]\n",
    "character_list = play_11['character_id'].values[0]\n",
    "images_list = play_11['image_id'].values[0]\n",
    "performances_list = play_11['performance_id'].values[0]"
   ]
  },
  {
   "cell_type": "code",
   "execution_count": 22,
   "metadata": {},
   "outputs": [],
   "source": [
    "def linked_df(main_df, linked_df, identifier):\n",
    "    id_list = main_df[identifier].values[0]\n",
    "    temp_df = pd.DataFrame({})\n",
    "    for i in id_list:\n",
    "        temp_row = linked_df.loc[linked_df['id'] == int(i) ]\n",
    "        temp_df = temp_df.append(temp_row, ignore_index=True)\n",
    "    return temp_df"
   ]
  },
  {
   "cell_type": "code",
   "execution_count": 23,
   "metadata": {},
   "outputs": [],
   "source": [
    "authors_out = linked_df(play_11, authors_in, 'author_id')"
   ]
  },
  {
   "cell_type": "code",
   "execution_count": 24,
   "metadata": {},
   "outputs": [
    {
     "data": {
      "text/html": [
       "<div>\n",
       "<style>\n",
       "    .dataframe thead tr:only-child th {\n",
       "        text-align: right;\n",
       "    }\n",
       "\n",
       "    .dataframe thead th {\n",
       "        text-align: left;\n",
       "    }\n",
       "\n",
       "    .dataframe tbody tr th {\n",
       "        vertical-align: top;\n",
       "    }\n",
       "</style>\n",
       "<table border=\"1\" class=\"dataframe\">\n",
       "  <thead>\n",
       "    <tr style=\"text-align: right;\">\n",
       "      <th></th>\n",
       "      <th>dates</th>\n",
       "      <th>id</th>\n",
       "      <th>label_eng</th>\n",
       "      <th>label_ka</th>\n",
       "      <th>play_id</th>\n",
       "      <th>reference</th>\n",
       "      <th>sort_ja</th>\n",
       "    </tr>\n",
       "  </thead>\n",
       "  <tbody>\n",
       "    <tr>\n",
       "      <th>0</th>\n",
       "      <td>d. 1786 or 7</td>\n",
       "      <td>4</td>\n",
       "      <td>Chikamatsu Hanji</td>\n",
       "      <td>近松半二</td>\n",
       "      <td>[11, 21, 25, 27, 29, 33, 52, 79, 80, 90, 101, ...</td>\n",
       "      <td>LC Authorities</td>\n",
       "      <td>ちかまつはんじ</td>\n",
       "    </tr>\n",
       "  </tbody>\n",
       "</table>\n",
       "</div>"
      ],
      "text/plain": [
       "          dates  id         label_eng label_ka  \\\n",
       "0  d. 1786 or 7   4  Chikamatsu Hanji     近松半二   \n",
       "\n",
       "                                             play_id       reference  sort_ja  \n",
       "0  [11, 21, 25, 27, 29, 33, 52, 79, 80, 90, 101, ...  LC Authorities  ちかまつはんじ  "
      ]
     },
     "execution_count": 24,
     "metadata": {},
     "output_type": "execute_result"
    }
   ],
   "source": [
    "authors_out"
   ]
  },
  {
   "cell_type": "code",
   "execution_count": null,
   "metadata": {
    "collapsed": true
   },
   "outputs": [],
   "source": []
  }
 ],
 "metadata": {
  "kernelspec": {
   "display_name": "Python 2",
   "language": "python",
   "name": "python2"
  },
  "language_info": {
   "codemirror_mode": {
    "name": "ipython",
    "version": 2
   },
   "file_extension": ".py",
   "mimetype": "text/x-python",
   "name": "python",
   "nbconvert_exporter": "python",
   "pygments_lexer": "ipython2",
   "version": "2.7.13"
  }
 },
 "nbformat": 4,
 "nbformat_minor": 2
}
