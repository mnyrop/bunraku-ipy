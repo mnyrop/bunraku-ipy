{
 "cells": [
  {
   "cell_type": "markdown",
   "metadata": {},
   "source": [
    "\n",
    "\n",
    "# Bunraku Full (On-/Off-line) Collection \n",
    "__Data Transformation SQL CSVs -> JSON__\n",
    "\n",
    "<hr/>\n",
    "\n",
    "### Data files to generate:\n",
    "\n",
    "- __authors: 123__\n",
    "- __characters: 2,107__ — 17,006 images\n",
    "- __images: 21268__\n",
    "- __kashira: 129__ — 17,019 images\n",
    "- __performances: 931__ — 18,533 images\n",
    "- __performers: 184__ — 14,893 images\n",
    "- __plays: 178__ — 18,791 images\n",
    "- __productions: 293__ — 18,750 images\n",
    "- __pscenes: 2,609__ — 18,000 images\n",
    "- __spucks: 16,625__\n",
    "- __tags: 76__ — 8,941 images\n",
    "\n",
    "\n",
    "\n",
    "# Setup\n",
    "<hr/>"
   ]
  },
  {
   "cell_type": "code",
   "execution_count": 1,
   "metadata": {
    "collapsed": true
   },
   "outputs": [],
   "source": [
    "import pandas as pd\n",
    "\n",
    "pd.set_option('max_colwidth',1000)\n",
    "pd.set_option('max_seq_items','none')\n",
    "pd.set_option('display.max_colwidth',50)\n",
    "\n",
    "path_to_csvs = \"in/\""
   ]
  },
  {
   "cell_type": "markdown",
   "metadata": {},
   "source": [
    "# Methods\n",
    "<hr/>"
   ]
  },
  {
   "cell_type": "code",
   "execution_count": 2,
   "metadata": {
    "collapsed": true
   },
   "outputs": [],
   "source": [
    "def df(csv_name): \n",
    "    return pd.read_csv(path_to_csvs + csv_name + '.csv', dtype=object).drop_duplicates()\n",
    "\n",
    "def remove_offline(df):\n",
    "    return pd.merge(df, imagesonline, on='image_id', how='inner')\n",
    "\n",
    "def merge_id_array(base_df, other_df, main_id, multi_id):\n",
    "    return base_df.merge(other_df.groupby(main_id)[multi_id].apply(list).reset_index(), how='left')\n",
    "\n",
    "def re_id(df,key):\n",
    "    df.rename(columns={key:'id'}, inplace=True)\n",
    "    \n",
    "def csv_out(df,filename):\n",
    "    df.to_csv(filename, encoding='utf8', index=False)\n",
    "    \n",
    "def json_out(df, filename):\n",
    "    df.to_json(filename, orient=\"records\", force_ascii=False)"
   ]
  },
  {
   "cell_type": "markdown",
   "metadata": {},
   "source": [
    "# Import\n",
    "<hr/>"
   ]
  },
  {
   "cell_type": "code",
   "execution_count": 3,
   "metadata": {
    "collapsed": true
   },
   "outputs": [],
   "source": [
    "authors = df('authors')\n",
    "characters = df('characters')\n",
    "creators = df('creators')\n",
    "images = df('imagesonline')\n",
    "kashira = df('kashira')\n",
    "performances = df('performances')\n",
    "performers = df('performers')\n",
    "plays = df('plays')\n",
    "productions = df('productions')\n",
    "pscenes = df('scenes_productions')\n",
    "scenes = df('scenes')\n",
    "shamisenplayers = df('sceneshamisens')\n",
    "musicians = df('scenekotokokyus')\n",
    "narrators = df('scenetayus')\n",
    "spucks = df('spucks')\n",
    "tags = df('tags')\n",
    "\n",
    "authors_plays = df('authors_plays')\n",
    "characters_images = df('characters_images')\n",
    "characters_plays = df('characters_plays')\n",
    "kashira_images = df('kashira_images')\n",
    "kashira_plays = df('kashira_plays')\n",
    "performances_images = df('performances_images')\n",
    "performers_images = df('performers_images')\n",
    "plays_images = df('plays_images')\n",
    "productions_images = df('productions_images')\n",
    "scenes_images = df('scenes_images')\n",
    "tags_images = df('tags_images')"
   ]
  },
  {
   "cell_type": "markdown",
   "metadata": {},
   "source": [
    "### Authors"
   ]
  },
  {
   "cell_type": "code",
   "execution_count": 4,
   "metadata": {
    "collapsed": true
   },
   "outputs": [],
   "source": [
    "authors = merge_id_array(authors, authors_plays, 'author_id', 'play_id')"
   ]
  },
  {
   "cell_type": "markdown",
   "metadata": {},
   "source": [
    "### Characters"
   ]
  },
  {
   "cell_type": "code",
   "execution_count": 5,
   "metadata": {
    "collapsed": true
   },
   "outputs": [],
   "source": [
    "characters = characters.drop('character_code',1)\n",
    "\n",
    "characters = merge_id_array(characters, characters_plays, 'character_id', 'play_id')\n",
    "characters = merge_id_array(characters, characters_images, 'character_id', 'image_id')"
   ]
  },
  {
   "cell_type": "markdown",
   "metadata": {},
   "source": [
    "### Images"
   ]
  },
  {
   "cell_type": "code",
   "execution_count": 6,
   "metadata": {
    "collapsed": true
   },
   "outputs": [],
   "source": [
    "images = merge_id_array(images, characters_images, 'image_id', 'character_id')\n",
    "images = merge_id_array(images, kashira_images, 'image_id', 'kashira_id')\n",
    "images = merge_id_array(images, performances_images, 'image_id', 'performance_id')\n",
    "images = merge_id_array(images, performers_images, 'image_id', 'performer_id')\n",
    "images = merge_id_array(images, plays_images, 'image_id', 'play_id')\n",
    "images = merge_id_array(images, productions_images, 'image_id', 'production_id')\n",
    "images = merge_id_array(images, scenes_images, 'image_id', 'pscene_id')\n",
    "images = merge_id_array(images, tags_images, 'image_id', 'tag_id')\n",
    "\n",
    "images = images[['image_id','media_type','character_id','tag_id','kashira_id','performance_id','performer_id','play_id','production_id','pscene_id','container','container_type','creator','item_id','colser_id','notes','objid','sequence','series','slidepage_folder']]\n"
   ]
  },
  {
   "cell_type": "markdown",
   "metadata": {},
   "source": [
    "### Kashira (puppets)"
   ]
  },
  {
   "cell_type": "code",
   "execution_count": 7,
   "metadata": {
    "collapsed": true
   },
   "outputs": [],
   "source": [
    "kashira = merge_id_array(kashira, kashira_images, 'kashira_id', 'image_id')\n",
    "kashira = merge_id_array(kashira, kashira_plays, 'kashira_id', 'play_id')\n",
    "\n",
    "kashira = kashira[['kashira_id','label_eng','label_ka','category','image_id','play_id','sort_ja']]\n"
   ]
  },
  {
   "cell_type": "markdown",
   "metadata": {},
   "source": [
    "### (P)Scenes (at performance level)"
   ]
  },
  {
   "cell_type": "code",
   "execution_count": 8,
   "metadata": {
    "collapsed": true
   },
   "outputs": [],
   "source": [
    "# add labels and scene_order\n",
    "scenes = scenes[['scene_id','label_eng','label_ja','label_ka','scene_order']]\n",
    "pscenes = pscenes.drop('spuck_note',1).drop('tayu_shamisen_note',1)\n",
    "pscenes = pscenes.merge(scenes, how='left')\n",
    "\n",
    "pscenes = merge_id_array(pscenes, spucks, 'pscene_id', 'spuck_id')\n",
    "pscenes = merge_id_array(pscenes, narrators, 'pscene_id', 'narrator_id')\n",
    "pscenes = merge_id_array(pscenes, musicians, 'pscene_id', 'musician_id')\n",
    "pscenes = merge_id_array(pscenes, shamisenplayers, 'pscene_id', 'shamisen_id')\n",
    "pscenes = merge_id_array(pscenes, scenes_images, 'pscene_id', 'image_id')"
   ]
  },
  {
   "cell_type": "markdown",
   "metadata": {},
   "source": [
    "### Performances"
   ]
  },
  {
   "cell_type": "code",
   "execution_count": 9,
   "metadata": {
    "collapsed": true
   },
   "outputs": [],
   "source": [
    "performances =  performances.drop('data_id',1).drop('code',1)\n",
    "\n",
    "performances = merge_id_array(performances, performances_images, 'performance_id', 'image_id')\n",
    "performances = merge_id_array(performances, pscenes, 'performance_id', 'pscene_id')\n",
    "performances = merge_id_array(performances,characters_plays,'play_id','character_id')"
   ]
  },
  {
   "cell_type": "markdown",
   "metadata": {},
   "source": [
    "### Plays"
   ]
  },
  {
   "cell_type": "code",
   "execution_count": 10,
   "metadata": {
    "collapsed": true
   },
   "outputs": [],
   "source": [
    "plays = merge_id_array(plays,authors_plays,'play_id','author_id')\n",
    "plays = merge_id_array(plays,characters_plays,'play_id','character_id')\n",
    "plays = merge_id_array(plays,plays_images,'play_id','image_id')\n",
    "plays = merge_id_array(plays,performances,'play_id','production_id')\n",
    "plays = merge_id_array(plays,performances,'play_id','performance_id')"
   ]
  },
  {
   "cell_type": "markdown",
   "metadata": {},
   "source": [
    "### Productions"
   ]
  },
  {
   "cell_type": "code",
   "execution_count": 11,
   "metadata": {
    "collapsed": true
   },
   "outputs": [],
   "source": [
    "productions = productions.drop('performance_num',1)\n",
    "\n",
    "productions = merge_id_array(productions,productions_images,'production_id','image_id')\n",
    "productions = merge_id_array(productions,performances,'production_id','performance_id')\n",
    "productions = merge_id_array(productions,performances,'production_id','play_id')\n",
    "\n",
    "productions = productions[['production_id','dates','place','label_eng','image_id','performance_id','play_id']]"
   ]
  },
  {
   "cell_type": "markdown",
   "metadata": {},
   "source": [
    "### Tags"
   ]
  },
  {
   "cell_type": "code",
   "execution_count": 12,
   "metadata": {
    "collapsed": true
   },
   "outputs": [],
   "source": [
    "tags['notes'] = tags['notes'].replace({r'\\n': ''}, regex=True)\n",
    "tags = merge_id_array(tags,tags_images,'tag_id','image_id')"
   ]
  },
  {
   "cell_type": "markdown",
   "metadata": {},
   "source": [
    "### Performers"
   ]
  },
  {
   "cell_type": "code",
   "execution_count": 13,
   "metadata": {},
   "outputs": [],
   "source": [
    "performers = performers[['performer_id','name_proper','alt_name','name_ka','alt_name_ka','specialty','dates','notes']]"
   ]
  },
  {
   "cell_type": "code",
   "execution_count": 14,
   "metadata": {
    "collapsed": true
   },
   "outputs": [],
   "source": [
    "performers = merge_id_array(performers,performers_images,'performer_id','image_id') \n",
    "\n",
    "performer_as_musician = pscenes[['musician_id','performance_id']].dropna(how='any').rename(columns={'musician_id':'performer_id','performance_id':'musician_perf_id'})\n",
    "performer_as_musician = performer_as_musician.groupby('musician_perf_id').performer_id.apply(lambda x: pd.DataFrame(x.values[0])).reset_index().drop('level_1', axis = 1)\n",
    "performer_as_musician.columns = ['musician_perf_id','performer_id']\n",
    "performer_as_musician.drop_duplicates(inplace=True)\n",
    "\n",
    "performers = merge_id_array(performers,performer_as_musician,'performer_id','musician_perf_id')\n",
    "\n",
    "performer_as_narrator = pscenes[['narrator_id','performance_id']].dropna(how='any').rename(columns={'narrator_id':'performer_id','performance_id':'narrator_perf_id'})\n",
    "performer_as_narrator = performer_as_narrator.groupby('narrator_perf_id').performer_id.apply(lambda x: pd.DataFrame(x.values[0])).reset_index().drop('level_1', axis = 1)\n",
    "performer_as_narrator.columns = ['narrator_perf_id','performer_id']\n",
    "performer_as_narrator.drop_duplicates(inplace=True)\n",
    "\n",
    "performers = merge_id_array(performers,performer_as_narrator,'performer_id','narrator_perf_id')\n",
    "\n",
    "performer_as_shamisen = pscenes[['shamisen_id','performance_id']].dropna(how='any').rename(columns={'shamisen_id':'performer_id','performance_id':'shamisen_perf_id'})\n",
    "performer_as_shamisen = performer_as_shamisen.groupby('shamisen_perf_id').performer_id.apply(lambda x: pd.DataFrame(x.values[0])).reset_index().drop('level_1', axis = 1)\n",
    "performer_as_shamisen.columns = ['shamisen_perf_id','performer_id']\n",
    "performer_as_shamisen.drop_duplicates(inplace=True)\n",
    "\n",
    "performers = merge_id_array(performers,performer_as_shamisen,'performer_id','shamisen_perf_id')\n",
    "\n",
    "spucks_performances = pscenes[['spuck_id','performance_id']].dropna(how='any').rename(columns={'performance_id':'puppeteer_perf_id'})\n",
    "spucks_performances = spucks_performances.groupby('puppeteer_perf_id').spuck_id.apply(lambda x: pd.DataFrame(x.values[0])).reset_index().drop('level_1', axis = 1)\n",
    "spucks_performances.columns = ['puppeteer_perf_id','spuck_id']\n",
    "spucks_performances.drop_duplicates(inplace=True)\n",
    "\n",
    "xtra_spucks = spucks[['spuck_id','pscene_id','puppeteer_id','kashira_id']].rename(columns={'puppeteer_id':'performer_id'})\n",
    "xtra_spucks = xtra_spucks.merge(spucks_performances, on='spuck_id', how='left').drop('spuck_id',1).drop('pscene_id',1)\n",
    "\n",
    "performer_as_puppeteer = xtra_spucks[['performer_id','puppeteer_perf_id']].dropna(how='any').drop_duplicates()\n",
    "performers = merge_id_array(performers,performer_as_puppeteer,'performer_id','puppeteer_perf_id')\n",
    "\n",
    "performer_puppets = xtra_spucks[['performer_id','kashira_id']].dropna(how='any').drop_duplicates()\n",
    "performers = merge_id_array(performers,performer_puppets,'performer_id','kashira_id')"
   ]
  },
  {
   "cell_type": "markdown",
   "metadata": {},
   "source": [
    "# Clean-up IDs and export to CSV and JSON\n",
    "\n",
    "<hr/>"
   ]
  },
  {
   "cell_type": "code",
   "execution_count": 15,
   "metadata": {
    "collapsed": true
   },
   "outputs": [],
   "source": [
    "dataframes = [\"authors\",\"characters\",\"creators\",\"images\",\"kashira\",\"performances\",\"performers\",\"plays\",\"productions\",\"pscenes\",\"spucks\",\"tags\"]\n",
    "\n",
    "for df in dataframes:\n",
    "    exec(\"re_id(\" + df + \",'\" + df +\"_id')\" ) # fix ids\n",
    "    exec(\"csv_out(\"+ df + \",'\" + df + \".csv')\") # output as csv files\n",
    "    exec(\"json_out(\"+ df + \",'\" + df + \".json')\") # output as json files"
   ]
  },
  {
   "cell_type": "code",
   "execution_count": null,
   "metadata": {
    "collapsed": true
   },
   "outputs": [],
   "source": []
  }
 ],
 "metadata": {
  "kernelspec": {
   "display_name": "Python 2",
   "language": "python",
   "name": "python2"
  },
  "language_info": {
   "codemirror_mode": {
    "name": "ipython",
    "version": 2
   },
   "file_extension": ".py",
   "mimetype": "text/x-python",
   "name": "python",
   "nbconvert_exporter": "python",
   "pygments_lexer": "ipython2",
   "version": "2.7.13"
  }
 },
 "nbformat": 4,
 "nbformat_minor": 2
}
