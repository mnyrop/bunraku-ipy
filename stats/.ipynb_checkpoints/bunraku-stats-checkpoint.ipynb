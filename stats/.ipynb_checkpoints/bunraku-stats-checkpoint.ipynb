{
 "cells": [
  {
   "cell_type": "code",
   "execution_count": 1,
   "metadata": {},
   "outputs": [
    {
     "name": "stdout",
     "output_type": "stream",
     "text": [
      "Populating the interactive namespace from numpy and matplotlib\n"
     ]
    }
   ],
   "source": [
    "import pandas as pd\n",
    "import numpy as np\n",
    "\n",
    "import matplotlib.pyplot as plt\n",
    "%pylab inline\n",
    "\n",
    "# pandas settings\n",
    "pd.set_option('max_colwidth',1000)\n",
    "pd.set_option('max_seq_items','none')\n",
    "pd.set_option('display.max_colwidth',50)\n"
   ]
  },
  {
   "cell_type": "code",
   "execution_count": 2,
   "metadata": {
    "collapsed": true
   },
   "outputs": [],
   "source": [
    "# import data as dtype=object to avoid NaN/Float conversion of IDs\n",
    "authors = pd.read_csv('out/csv/authors.csv', dtype=object)\n",
    "characters = pd.read_csv('out/csv/characters.csv', dtype=object)\n",
    "creators = pd.read_csv('out/csv/creators.csv', dtype=object)\n",
    "images = pd.read_csv('out/csv/images.csv', dtype=object)\n",
    "kashira = pd.read_csv('out/csv/kashira.csv', dtype=object)\n",
    "performances = pd.read_csv('out/csv/performances.csv', dtype=object)\n",
    "performers = pd.read_csv('out/csv/performers.csv', dtype=object)\n",
    "plays = pd.read_csv('out/csv/plays.csv', dtype=object)\n",
    "productions = pd.read_csv('out/csv/productions.csv', dtype=object)\n",
    "pscenes = pd.read_csv('out/csv/pscenes.csv', dtype=object)\n",
    "spucks = pd.read_csv('out/csv/spucks.csv', dtype=object)\n",
    "tags = pd.read_csv('out/csv/tags.csv', dtype=object)"
   ]
  },
  {
   "cell_type": "code",
   "execution_count": 3,
   "metadata": {
    "collapsed": true
   },
   "outputs": [],
   "source": [
    "online_vs_total = pd.read_csv('stats/online_vs_total.csv')"
   ]
  },
  {
   "cell_type": "code",
   "execution_count": 4,
   "metadata": {
    "collapsed": true
   },
   "outputs": [],
   "source": [
    "online_vs_total['online/total images'] = (online_vs_total['online images']/online_vs_total['total images'])"
   ]
  },
  {
   "cell_type": "code",
   "execution_count": 5,
   "metadata": {
    "collapsed": true
   },
   "outputs": [],
   "source": [
    "online_vs_total = online_vs_total.replace(np.nan, 0)"
   ]
  },
  {
   "cell_type": "code",
   "execution_count": 6,
   "metadata": {
    "collapsed": true
   },
   "outputs": [],
   "source": [
    "online_vs_total['online images'] = online_vs_total['online images'].astype(int)\n",
    "online_vs_total['total images'] = online_vs_total['total images'].astype(int)"
   ]
  },
  {
   "cell_type": "code",
   "execution_count": 7,
   "metadata": {
    "collapsed": true
   },
   "outputs": [],
   "source": [
    "item_total = sum(online_vs_total['items'])"
   ]
  },
  {
   "cell_type": "code",
   "execution_count": 8,
   "metadata": {
    "collapsed": true
   },
   "outputs": [],
   "source": [
    "online_vs_total['items/total'] = (online_vs_total['items']/item_total)"
   ]
  },
  {
   "cell_type": "code",
   "execution_count": 9,
   "metadata": {},
   "outputs": [
    {
     "data": {
      "text/html": [
       "<div>\n",
       "<style>\n",
       "    .dataframe thead tr:only-child th {\n",
       "        text-align: right;\n",
       "    }\n",
       "\n",
       "    .dataframe thead th {\n",
       "        text-align: left;\n",
       "    }\n",
       "\n",
       "    .dataframe tbody tr th {\n",
       "        vertical-align: top;\n",
       "    }\n",
       "</style>\n",
       "<table border=\"1\" class=\"dataframe\">\n",
       "  <thead>\n",
       "    <tr style=\"text-align: right;\">\n",
       "      <th></th>\n",
       "      <th>items</th>\n",
       "      <th>online images</th>\n",
       "      <th>total images</th>\n",
       "      <th>online/total images</th>\n",
       "      <th>items/total</th>\n",
       "    </tr>\n",
       "  </thead>\n",
       "  <tbody>\n",
       "    <tr>\n",
       "      <th>authors</th>\n",
       "      <td>123</td>\n",
       "      <td>0</td>\n",
       "      <td>0</td>\n",
       "      <td>0.000000</td>\n",
       "      <td>0.014900</td>\n",
       "    </tr>\n",
       "    <tr>\n",
       "      <th>spucks</th>\n",
       "      <td>1625</td>\n",
       "      <td>0</td>\n",
       "      <td>0</td>\n",
       "      <td>0.000000</td>\n",
       "      <td>0.196850</td>\n",
       "    </tr>\n",
       "    <tr>\n",
       "      <th>characters</th>\n",
       "      <td>2107</td>\n",
       "      <td>12460</td>\n",
       "      <td>17006</td>\n",
       "      <td>0.732683</td>\n",
       "      <td>0.255239</td>\n",
       "    </tr>\n",
       "    <tr>\n",
       "      <th>kashira</th>\n",
       "      <td>129</td>\n",
       "      <td>12364</td>\n",
       "      <td>17019</td>\n",
       "      <td>0.726482</td>\n",
       "      <td>0.015627</td>\n",
       "    </tr>\n",
       "    <tr>\n",
       "      <th>performances</th>\n",
       "      <td>931</td>\n",
       "      <td>18533</td>\n",
       "      <td>18533</td>\n",
       "      <td>1.000000</td>\n",
       "      <td>0.112780</td>\n",
       "    </tr>\n",
       "    <tr>\n",
       "      <th>performers</th>\n",
       "      <td>184</td>\n",
       "      <td>10442</td>\n",
       "      <td>14893</td>\n",
       "      <td>0.701135</td>\n",
       "      <td>0.022290</td>\n",
       "    </tr>\n",
       "    <tr>\n",
       "      <th>plays</th>\n",
       "      <td>178</td>\n",
       "      <td>13504</td>\n",
       "      <td>18791</td>\n",
       "      <td>0.718642</td>\n",
       "      <td>0.021563</td>\n",
       "    </tr>\n",
       "    <tr>\n",
       "      <th>productions</th>\n",
       "      <td>293</td>\n",
       "      <td>13477</td>\n",
       "      <td>18750</td>\n",
       "      <td>0.718773</td>\n",
       "      <td>0.035494</td>\n",
       "    </tr>\n",
       "    <tr>\n",
       "      <th>pscenes</th>\n",
       "      <td>2609</td>\n",
       "      <td>13010</td>\n",
       "      <td>18000</td>\n",
       "      <td>0.722778</td>\n",
       "      <td>0.316051</td>\n",
       "    </tr>\n",
       "    <tr>\n",
       "      <th>tags</th>\n",
       "      <td>76</td>\n",
       "      <td>5668</td>\n",
       "      <td>8941</td>\n",
       "      <td>0.633934</td>\n",
       "      <td>0.009207</td>\n",
       "    </tr>\n",
       "  </tbody>\n",
       "</table>\n",
       "</div>"
      ],
      "text/plain": [
       "              items  online images  total images  online/total images  \\\n",
       "authors         123              0             0             0.000000   \n",
       "spucks         1625              0             0             0.000000   \n",
       "characters     2107          12460         17006             0.732683   \n",
       "kashira         129          12364         17019             0.726482   \n",
       "performances    931          18533         18533             1.000000   \n",
       "performers      184          10442         14893             0.701135   \n",
       "plays           178          13504         18791             0.718642   \n",
       "productions     293          13477         18750             0.718773   \n",
       "pscenes        2609          13010         18000             0.722778   \n",
       "tags             76           5668          8941             0.633934   \n",
       "\n",
       "              items/total  \n",
       "authors          0.014900  \n",
       "spucks           0.196850  \n",
       "characters       0.255239  \n",
       "kashira          0.015627  \n",
       "performances     0.112780  \n",
       "performers       0.022290  \n",
       "plays            0.021563  \n",
       "productions      0.035494  \n",
       "pscenes          0.316051  \n",
       "tags             0.009207  "
      ]
     },
     "execution_count": 9,
     "metadata": {},
     "output_type": "execute_result"
    }
   ],
   "source": [
    "online_vs_total"
   ]
  },
  {
   "cell_type": "code",
   "execution_count": 10,
   "metadata": {},
   "outputs": [
    {
     "data": {
      "image/png": "[encoded data removed]",
      "text/plain": [
       "<matplotlib.figure.Figure at 0x10d7f90d0>"
      ]
     },
     "metadata": {},
     "output_type": "display_data"
    }
   ],
   "source": [
    "items_df = online_vs_total[['items']]\n",
    "\n",
    "pylab.rcParams['figure.figsize'] = (6, 6)\n",
    "items_pie = plt.pie(items_df, labels=items_df.index)"
   ]
  },
  {
   "cell_type": "code",
   "execution_count": 11,
   "metadata": {},
   "outputs": [
    {
     "data": {
      "image/png": "[encoded data removed]",
      "text/plain": [
       "<matplotlib.figure.Figure at 0x110e00f90>"
      ]
     },
     "metadata": {},
     "output_type": "display_data"
    }
   ],
   "source": [
    "online_images_df = online_vs_total[['online images']]\n",
    "online_images_df = online_images_df.loc[(online_images_df!=0).any(axis=1)]\n",
    "\n",
    "pylab.rcParams['figure.figsize'] = (6, 6)\n",
    "online_images_pie = plt.pie(online_images_df, labels=online_images_df.index)"
   ]
  },
  {
   "cell_type": "code",
   "execution_count": 12,
   "metadata": {},
   "outputs": [
    {
     "data": {
      "image/png": "[encoded data removed]",
      "text/plain": [
       "<matplotlib.figure.Figure at 0x110de9d10>"
      ]
     },
     "metadata": {},
     "output_type": "display_data"
    }
   ],
   "source": [
    "total_images_df = online_vs_total[['total images']]\n",
    "total_images_df = total_images_df.loc[(total_images_df!=0).any(axis=1)]\n",
    "\n",
    "pylab.rcParams['figure.figsize'] = (6, 6)\n",
    "total_images_pie = plt.pie(total_images_df, labels=online_images_df.index)"
   ]
  },
  {
   "cell_type": "code",
   "execution_count": 13,
   "metadata": {
    "collapsed": true
   },
   "outputs": [],
   "source": [
    "authors_playcount = authors.drop('dates',1).drop('reference',1).drop('sort_ja',1)\n",
    "authors_playcount['playcount'] = authors_playcount['play_id'].astype(str).apply(lambda x: len(x.replace('[','').replace(']','').split(\",\")))\n",
    "prolific_authors = authors_playcount.sort_values(by='playcount', ascending=False)[:20]"
   ]
  },
  {
   "cell_type": "code",
   "execution_count": 14,
   "metadata": {},
   "outputs": [
    {
     "data": {
      "text/html": [
       "<div>\n",
       "<style>\n",
       "    .dataframe thead tr:only-child th {\n",
       "        text-align: right;\n",
       "    }\n",
       "\n",
       "    .dataframe thead th {\n",
       "        text-align: left;\n",
       "    }\n",
       "\n",
       "    .dataframe tbody tr th {\n",
       "        vertical-align: top;\n",
       "    }\n",
       "</style>\n",
       "<table border=\"1\" class=\"dataframe\">\n",
       "  <thead>\n",
       "    <tr style=\"text-align: right;\">\n",
       "      <th></th>\n",
       "      <th>playcount</th>\n",
       "    </tr>\n",
       "    <tr>\n",
       "      <th>label_eng</th>\n",
       "      <th></th>\n",
       "    </tr>\n",
       "  </thead>\n",
       "  <tbody>\n",
       "    <tr>\n",
       "      <th>Chikamatsu Monzaemon</th>\n",
       "      <td>26</td>\n",
       "    </tr>\n",
       "    <tr>\n",
       "      <th>Miyoshi Shōraku</th>\n",
       "      <td>21</td>\n",
       "    </tr>\n",
       "    <tr>\n",
       "      <th>Chikamatsu Hanji</th>\n",
       "      <td>14</td>\n",
       "    </tr>\n",
       "    <tr>\n",
       "      <th>Takemoto Saburobei</th>\n",
       "      <td>11</td>\n",
       "    </tr>\n",
       "    <tr>\n",
       "      <th>Wakatake Fuemi</th>\n",
       "      <td>9</td>\n",
       "    </tr>\n",
       "  </tbody>\n",
       "</table>\n",
       "</div>"
      ],
      "text/plain": [
       "                      playcount\n",
       "label_eng                      \n",
       "Chikamatsu Monzaemon         26\n",
       "Miyoshi Shōraku              21\n",
       "Chikamatsu Hanji             14\n",
       "Takemoto Saburobei           11\n",
       "Wakatake Fuemi                9"
      ]
     },
     "execution_count": 14,
     "metadata": {},
     "output_type": "execute_result"
    }
   ],
   "source": [
    "prolific_authors = prolific_authors[['label_eng', 'playcount']]\n",
    "prolific_authors.set_index('label_eng', inplace=True)\n",
    "prolific_authors.head()"
   ]
  },
  {
   "cell_type": "code",
   "execution_count": 15,
   "metadata": {},
   "outputs": [
    {
     "data": {
      "image/png": "[encoded data removed]",
      "text/plain": [
       "<matplotlib.figure.Figure at 0x1111325d0>"
      ]
     },
     "metadata": {},
     "output_type": "display_data"
    }
   ],
   "source": [
    "pylab.rcParams['figure.figsize'] = (10, 6)\n",
    "prolific_authors_bar = prolific_authors.plot.bar().set_xlabel('Author')"
   ]
  },
  {
   "cell_type": "code",
   "execution_count": 16,
   "metadata": {},
   "outputs": [
    {
     "data": {
      "text/html": [
       "<div>\n",
       "<style>\n",
       "    .dataframe thead tr:only-child th {\n",
       "        text-align: right;\n",
       "    }\n",
       "\n",
       "    .dataframe thead th {\n",
       "        text-align: left;\n",
       "    }\n",
       "\n",
       "    .dataframe tbody tr th {\n",
       "        vertical-align: top;\n",
       "    }\n",
       "</style>\n",
       "<table border=\"1\" class=\"dataframe\">\n",
       "  <thead>\n",
       "    <tr style=\"text-align: right;\">\n",
       "      <th></th>\n",
       "      <th>id</th>\n",
       "      <th>label_eng</th>\n",
       "      <th>label_ja</th>\n",
       "      <th>label_ka</th>\n",
       "      <th>play_id</th>\n",
       "      <th>image_id</th>\n",
       "    </tr>\n",
       "  </thead>\n",
       "  <tbody>\n",
       "    <tr>\n",
       "      <th>0</th>\n",
       "      <td>1</td>\n",
       "      <td>Farmer</td>\n",
       "      <td>Oyaji</td>\n",
       "      <td>おやじ</td>\n",
       "      <td>[162]</td>\n",
       "      <td>[56170]</td>\n",
       "    </tr>\n",
       "    <tr>\n",
       "      <th>1</th>\n",
       "      <td>2</td>\n",
       "      <td>Farmer's wife</td>\n",
       "      <td>Nyōbō</td>\n",
       "      <td>女房</td>\n",
       "      <td>[162]</td>\n",
       "      <td>NaN</td>\n",
       "    </tr>\n",
       "    <tr>\n",
       "      <th>2</th>\n",
       "      <td>3</td>\n",
       "      <td>Magotaro, a horse</td>\n",
       "      <td>Magotarō, Uma</td>\n",
       "      <td>孫太郎（馬）</td>\n",
       "      <td>[162]</td>\n",
       "      <td>NaN</td>\n",
       "    </tr>\n",
       "    <tr>\n",
       "      <th>3</th>\n",
       "      <td>4</td>\n",
       "      <td>Local governor</td>\n",
       "      <td>Odaikan</td>\n",
       "      <td>お代官</td>\n",
       "      <td>[162]</td>\n",
       "      <td>NaN</td>\n",
       "    </tr>\n",
       "    <tr>\n",
       "      <th>4</th>\n",
       "      <td>5</td>\n",
       "      <td>Local governor's assistant</td>\n",
       "      <td>Odaikan no kobun</td>\n",
       "      <td>お代官のこぶん</td>\n",
       "      <td>[162]</td>\n",
       "      <td>NaN</td>\n",
       "    </tr>\n",
       "  </tbody>\n",
       "</table>\n",
       "</div>"
      ],
      "text/plain": [
       "  id                   label_eng          label_ja label_ka play_id image_id\n",
       "0  1                      Farmer             Oyaji      おやじ   [162]  [56170]\n",
       "1  2               Farmer's wife             Nyōbō       女房   [162]      NaN\n",
       "2  3           Magotaro, a horse     Magotarō, Uma   孫太郎（馬）   [162]      NaN\n",
       "3  4              Local governor           Odaikan      お代官   [162]      NaN\n",
       "4  5  Local governor's assistant  Odaikan no kobun  お代官のこぶん   [162]      NaN"
      ]
     },
     "execution_count": 16,
     "metadata": {},
     "output_type": "execute_result"
    }
   ],
   "source": [
    "characters_playcount = characters.drop('authority_control',1).drop('sort_ja',1)\n",
    "characters_playcount.head()"
   ]
  },
  {
   "cell_type": "code",
   "execution_count": 17,
   "metadata": {},
   "outputs": [
    {
     "data": {
      "text/html": [
       "<div>\n",
       "<style>\n",
       "    .dataframe thead tr:only-child th {\n",
       "        text-align: right;\n",
       "    }\n",
       "\n",
       "    .dataframe thead th {\n",
       "        text-align: left;\n",
       "    }\n",
       "\n",
       "    .dataframe tbody tr th {\n",
       "        vertical-align: top;\n",
       "    }\n",
       "</style>\n",
       "<table border=\"1\" class=\"dataframe\">\n",
       "  <thead>\n",
       "    <tr style=\"text-align: right;\">\n",
       "      <th></th>\n",
       "      <th>id</th>\n",
       "      <th>label_eng</th>\n",
       "      <th>label_ja</th>\n",
       "      <th>label_ka</th>\n",
       "      <th>play_id</th>\n",
       "      <th>image_id</th>\n",
       "      <th>playcount</th>\n",
       "    </tr>\n",
       "  </thead>\n",
       "  <tbody>\n",
       "    <tr>\n",
       "      <th>1953</th>\n",
       "      <td>2168</td>\n",
       "      <td>Chohakkai</td>\n",
       "      <td>Chohakkai</td>\n",
       "      <td>猪八戒</td>\n",
       "      <td>[139, 51]</td>\n",
       "      <td>[12261, 12262, 12263, 12264, 12268, 12271, 122...</td>\n",
       "      <td>2</td>\n",
       "    </tr>\n",
       "    <tr>\n",
       "      <th>1952</th>\n",
       "      <td>2167</td>\n",
       "      <td>Sanzohoshi</td>\n",
       "      <td>Sanzōhoshi</td>\n",
       "      <td>三蔵法師</td>\n",
       "      <td>[139, 51]</td>\n",
       "      <td>[12260, 12271, 12272, 12273, 12274, 12275, 122...</td>\n",
       "      <td>2</td>\n",
       "    </tr>\n",
       "    <tr>\n",
       "      <th>1950</th>\n",
       "      <td>2165</td>\n",
       "      <td>Inkaizan, in fact Chinkozui</td>\n",
       "      <td>Inkaizan jitsuwa Chinkōzui</td>\n",
       "      <td>殷開山 実は 陳光蕊</td>\n",
       "      <td>[139, 51]</td>\n",
       "      <td>[12236]</td>\n",
       "      <td>2</td>\n",
       "    </tr>\n",
       "    <tr>\n",
       "      <th>1949</th>\n",
       "      <td>2164</td>\n",
       "      <td>Flower peddler, in fact Hakuren</td>\n",
       "      <td>Hanauri onna jitsuwa Hakuren</td>\n",
       "      <td>花売女 実は 白蓮</td>\n",
       "      <td>[139, 51]</td>\n",
       "      <td>NaN</td>\n",
       "      <td>2</td>\n",
       "    </tr>\n",
       "    <tr>\n",
       "      <th>1948</th>\n",
       "      <td>2163</td>\n",
       "      <td>Nikuryokan, in fact Rihyo</td>\n",
       "      <td>Nikuryōkan jitsuwa Rihyō</td>\n",
       "      <td>肉良甘 実は 李彪</td>\n",
       "      <td>[139, 51]</td>\n",
       "      <td>NaN</td>\n",
       "      <td>2</td>\n",
       "    </tr>\n",
       "  </tbody>\n",
       "</table>\n",
       "</div>"
      ],
      "text/plain": [
       "        id                        label_eng                      label_ja  \\\n",
       "1953  2168                        Chohakkai                     Chohakkai   \n",
       "1952  2167                       Sanzohoshi                    Sanzōhoshi   \n",
       "1950  2165      Inkaizan, in fact Chinkozui    Inkaizan jitsuwa Chinkōzui   \n",
       "1949  2164  Flower peddler, in fact Hakuren  Hanauri onna jitsuwa Hakuren   \n",
       "1948  2163        Nikuryokan, in fact Rihyo      Nikuryōkan jitsuwa Rihyō   \n",
       "\n",
       "        label_ka    play_id  \\\n",
       "1953         猪八戒  [139, 51]   \n",
       "1952        三蔵法師  [139, 51]   \n",
       "1950  殷開山 実は 陳光蕊  [139, 51]   \n",
       "1949   花売女 実は 白蓮  [139, 51]   \n",
       "1948   肉良甘 実は 李彪  [139, 51]   \n",
       "\n",
       "                                               image_id  playcount  \n",
       "1953  [12261, 12262, 12263, 12264, 12268, 12271, 122...          2  \n",
       "1952  [12260, 12271, 12272, 12273, 12274, 12275, 122...          2  \n",
       "1950                                            [12236]          2  \n",
       "1949                                                NaN          2  \n",
       "1948                                                NaN          2  "
      ]
     },
     "execution_count": 17,
     "metadata": {},
     "output_type": "execute_result"
    }
   ],
   "source": [
    "characters_playcount['playcount'] = characters_playcount['play_id'].astype(str).apply(lambda x: len(x.replace('[','').replace(']','').split(\",\")))\n",
    "characters_playcount = characters_playcount.sort_values(by='playcount', ascending=False)\n",
    "\n",
    "multiplay_characters = characters_playcount.loc[characters_playcount['playcount'] == 2]\n",
    "multiplay_characters.head()"
   ]
  },
  {
   "cell_type": "code",
   "execution_count": 18,
   "metadata": {},
   "outputs": [],
   "source": [
    "p2_series =  multiplay_characters['play_id'].astype(str).apply(lambda x: x.replace('[','').replace(']','').split(\", \")[0])\n",
    "p1_series = multiplay_characters['play_id'].astype(str).apply(lambda x: x.replace('[','').replace(']','').split(\", \")[1])"
   ]
  },
  {
   "cell_type": "code",
   "execution_count": 19,
   "metadata": {},
   "outputs": [
    {
     "name": "stderr",
     "output_type": "stream",
     "text": [
      "/usr/local/lib/python2.7/site-packages/ipykernel_launcher.py:1: SettingWithCopyWarning: \n",
      "A value is trying to be set on a copy of a slice from a DataFrame.\n",
      "Try using .loc[row_indexer,col_indexer] = value instead\n",
      "\n",
      "See the caveats in the documentation: http://pandas.pydata.org/pandas-docs/stable/indexing.html#indexing-view-versus-copy\n",
      "  \"\"\"Entry point for launching an IPython kernel.\n",
      "/usr/local/lib/python2.7/site-packages/ipykernel_launcher.py:2: SettingWithCopyWarning: \n",
      "A value is trying to be set on a copy of a slice from a DataFrame.\n",
      "Try using .loc[row_indexer,col_indexer] = value instead\n",
      "\n",
      "See the caveats in the documentation: http://pandas.pydata.org/pandas-docs/stable/indexing.html#indexing-view-versus-copy\n",
      "  \n"
     ]
    },
    {
     "data": {
      "text/html": [
       "<div>\n",
       "<style>\n",
       "    .dataframe thead tr:only-child th {\n",
       "        text-align: right;\n",
       "    }\n",
       "\n",
       "    .dataframe thead th {\n",
       "        text-align: left;\n",
       "    }\n",
       "\n",
       "    .dataframe tbody tr th {\n",
       "        vertical-align: top;\n",
       "    }\n",
       "</style>\n",
       "<table border=\"1\" class=\"dataframe\">\n",
       "  <thead>\n",
       "    <tr style=\"text-align: right;\">\n",
       "      <th></th>\n",
       "      <th>id</th>\n",
       "      <th>label_eng</th>\n",
       "      <th>pid_1</th>\n",
       "      <th>pid_2</th>\n",
       "    </tr>\n",
       "  </thead>\n",
       "  <tbody>\n",
       "    <tr>\n",
       "      <th>1953</th>\n",
       "      <td>2168</td>\n",
       "      <td>Chohakkai</td>\n",
       "      <td>51</td>\n",
       "      <td>139</td>\n",
       "    </tr>\n",
       "    <tr>\n",
       "      <th>1952</th>\n",
       "      <td>2167</td>\n",
       "      <td>Sanzohoshi</td>\n",
       "      <td>51</td>\n",
       "      <td>139</td>\n",
       "    </tr>\n",
       "    <tr>\n",
       "      <th>1950</th>\n",
       "      <td>2165</td>\n",
       "      <td>Inkaizan, in fact Chinkozui</td>\n",
       "      <td>51</td>\n",
       "      <td>139</td>\n",
       "    </tr>\n",
       "    <tr>\n",
       "      <th>1949</th>\n",
       "      <td>2164</td>\n",
       "      <td>Flower peddler, in fact Hakuren</td>\n",
       "      <td>51</td>\n",
       "      <td>139</td>\n",
       "    </tr>\n",
       "    <tr>\n",
       "      <th>1948</th>\n",
       "      <td>2163</td>\n",
       "      <td>Nikuryokan, in fact Rihyo</td>\n",
       "      <td>51</td>\n",
       "      <td>139</td>\n",
       "    </tr>\n",
       "  </tbody>\n",
       "</table>\n",
       "</div>"
      ],
      "text/plain": [
       "        id                        label_eng pid_1 pid_2\n",
       "1953  2168                        Chohakkai    51   139\n",
       "1952  2167                       Sanzohoshi    51   139\n",
       "1950  2165      Inkaizan, in fact Chinkozui    51   139\n",
       "1949  2164  Flower peddler, in fact Hakuren    51   139\n",
       "1948  2163        Nikuryokan, in fact Rihyo    51   139"
      ]
     },
     "execution_count": 19,
     "metadata": {},
     "output_type": "execute_result"
    }
   ],
   "source": [
    "multiplay_characters['pid_1'] = p1_series\n",
    "multiplay_characters['pid_2'] = p2_series\n",
    "multiplay_characters = multiplay_characters[['id','label_eng','pid_1','pid_2']]\n",
    "multiplay_characters.head()"
   ]
  },
  {
   "cell_type": "code",
   "execution_count": 20,
   "metadata": {},
   "outputs": [
    {
     "data": {
      "text/html": [
       "<div>\n",
       "<style>\n",
       "    .dataframe thead tr:only-child th {\n",
       "        text-align: right;\n",
       "    }\n",
       "\n",
       "    .dataframe thead th {\n",
       "        text-align: left;\n",
       "    }\n",
       "\n",
       "    .dataframe tbody tr th {\n",
       "        vertical-align: top;\n",
       "    }\n",
       "</style>\n",
       "<table border=\"1\" class=\"dataframe\">\n",
       "  <thead>\n",
       "    <tr style=\"text-align: right;\">\n",
       "      <th></th>\n",
       "      <th>pid_1</th>\n",
       "      <th>pname_1</th>\n",
       "    </tr>\n",
       "  </thead>\n",
       "  <tbody>\n",
       "    <tr>\n",
       "      <th>0</th>\n",
       "      <td>1</td>\n",
       "      <td>The Woman-Killer and the Hell of Oil</td>\n",
       "    </tr>\n",
       "    <tr>\n",
       "      <th>1</th>\n",
       "      <td>2</td>\n",
       "      <td>The Love Suicides at Amijima</td>\n",
       "    </tr>\n",
       "    <tr>\n",
       "      <th>2</th>\n",
       "      <td>3</td>\n",
       "      <td>The Love Suicides at Sonezaki</td>\n",
       "    </tr>\n",
       "    <tr>\n",
       "      <th>3</th>\n",
       "      <td>4</td>\n",
       "      <td>The Love Suicide of Hambei and Ochiyo</td>\n",
       "    </tr>\n",
       "    <tr>\n",
       "      <th>4</th>\n",
       "      <td>5</td>\n",
       "      <td>The Love of Osome and Hisamatsu</td>\n",
       "    </tr>\n",
       "  </tbody>\n",
       "</table>\n",
       "</div>"
      ],
      "text/plain": [
       "  pid_1                                pname_1\n",
       "0     1   The Woman-Killer and the Hell of Oil\n",
       "1     2           The Love Suicides at Amijima\n",
       "2     3          The Love Suicides at Sonezaki\n",
       "3     4  The Love Suicide of Hambei and Ochiyo\n",
       "4     5        The Love of Osome and Hisamatsu"
      ]
     },
     "execution_count": 20,
     "metadata": {},
     "output_type": "execute_result"
    }
   ],
   "source": [
    "plays_names = plays[['id','label_eng']].rename(columns={'id':'pid_1','label_eng':'pname_1'})\n",
    "plays_names.head()"
   ]
  },
  {
   "cell_type": "code",
   "execution_count": 21,
   "metadata": {},
   "outputs": [
    {
     "data": {
      "text/html": [
       "<div>\n",
       "<style>\n",
       "    .dataframe thead tr:only-child th {\n",
       "        text-align: right;\n",
       "    }\n",
       "\n",
       "    .dataframe thead th {\n",
       "        text-align: left;\n",
       "    }\n",
       "\n",
       "    .dataframe tbody tr th {\n",
       "        vertical-align: top;\n",
       "    }\n",
       "</style>\n",
       "<table border=\"1\" class=\"dataframe\">\n",
       "  <thead>\n",
       "    <tr style=\"text-align: right;\">\n",
       "      <th></th>\n",
       "      <th>id</th>\n",
       "      <th>label_eng</th>\n",
       "      <th>pid_1</th>\n",
       "      <th>pid_2</th>\n",
       "      <th>pname_1</th>\n",
       "    </tr>\n",
       "  </thead>\n",
       "  <tbody>\n",
       "    <tr>\n",
       "      <th>0</th>\n",
       "      <td>2168</td>\n",
       "      <td>Chohakkai</td>\n",
       "      <td>51</td>\n",
       "      <td>139</td>\n",
       "      <td>Pilgrimage to the West</td>\n",
       "    </tr>\n",
       "    <tr>\n",
       "      <th>1</th>\n",
       "      <td>2167</td>\n",
       "      <td>Sanzohoshi</td>\n",
       "      <td>51</td>\n",
       "      <td>139</td>\n",
       "      <td>Pilgrimage to the West</td>\n",
       "    </tr>\n",
       "    <tr>\n",
       "      <th>2</th>\n",
       "      <td>2165</td>\n",
       "      <td>Inkaizan, in fact Chinkozui</td>\n",
       "      <td>51</td>\n",
       "      <td>139</td>\n",
       "      <td>Pilgrimage to the West</td>\n",
       "    </tr>\n",
       "    <tr>\n",
       "      <th>3</th>\n",
       "      <td>2164</td>\n",
       "      <td>Flower peddler, in fact Hakuren</td>\n",
       "      <td>51</td>\n",
       "      <td>139</td>\n",
       "      <td>Pilgrimage to the West</td>\n",
       "    </tr>\n",
       "    <tr>\n",
       "      <th>4</th>\n",
       "      <td>2163</td>\n",
       "      <td>Nikuryokan, in fact Rihyo</td>\n",
       "      <td>51</td>\n",
       "      <td>139</td>\n",
       "      <td>Pilgrimage to the West</td>\n",
       "    </tr>\n",
       "  </tbody>\n",
       "</table>\n",
       "</div>"
      ],
      "text/plain": [
       "     id                        label_eng pid_1 pid_2                 pname_1\n",
       "0  2168                        Chohakkai    51   139  Pilgrimage to the West\n",
       "1  2167                       Sanzohoshi    51   139  Pilgrimage to the West\n",
       "2  2165      Inkaizan, in fact Chinkozui    51   139  Pilgrimage to the West\n",
       "3  2164  Flower peddler, in fact Hakuren    51   139  Pilgrimage to the West\n",
       "4  2163        Nikuryokan, in fact Rihyo    51   139  Pilgrimage to the West"
      ]
     },
     "execution_count": 21,
     "metadata": {},
     "output_type": "execute_result"
    }
   ],
   "source": [
    "multiplay_characters = pd.merge(multiplay_characters, plays_names, on='pid_1', how='left')\n",
    "multiplay_characters.head()"
   ]
  },
  {
   "cell_type": "code",
   "execution_count": 22,
   "metadata": {},
   "outputs": [
    {
     "data": {
      "text/html": [
       "<div>\n",
       "<style>\n",
       "    .dataframe thead tr:only-child th {\n",
       "        text-align: right;\n",
       "    }\n",
       "\n",
       "    .dataframe thead th {\n",
       "        text-align: left;\n",
       "    }\n",
       "\n",
       "    .dataframe tbody tr th {\n",
       "        vertical-align: top;\n",
       "    }\n",
       "</style>\n",
       "<table border=\"1\" class=\"dataframe\">\n",
       "  <thead>\n",
       "    <tr style=\"text-align: right;\">\n",
       "      <th></th>\n",
       "      <th>pid_2</th>\n",
       "      <th>pname_2</th>\n",
       "    </tr>\n",
       "  </thead>\n",
       "  <tbody>\n",
       "    <tr>\n",
       "      <th>0</th>\n",
       "      <td>1</td>\n",
       "      <td>The Woman-Killer and the Hell of Oil</td>\n",
       "    </tr>\n",
       "    <tr>\n",
       "      <th>1</th>\n",
       "      <td>2</td>\n",
       "      <td>The Love Suicides at Amijima</td>\n",
       "    </tr>\n",
       "    <tr>\n",
       "      <th>2</th>\n",
       "      <td>3</td>\n",
       "      <td>The Love Suicides at Sonezaki</td>\n",
       "    </tr>\n",
       "    <tr>\n",
       "      <th>3</th>\n",
       "      <td>4</td>\n",
       "      <td>The Love Suicide of Hambei and Ochiyo</td>\n",
       "    </tr>\n",
       "    <tr>\n",
       "      <th>4</th>\n",
       "      <td>5</td>\n",
       "      <td>The Love of Osome and Hisamatsu</td>\n",
       "    </tr>\n",
       "  </tbody>\n",
       "</table>\n",
       "</div>"
      ],
      "text/plain": [
       "  pid_2                                pname_2\n",
       "0     1   The Woman-Killer and the Hell of Oil\n",
       "1     2           The Love Suicides at Amijima\n",
       "2     3          The Love Suicides at Sonezaki\n",
       "3     4  The Love Suicide of Hambei and Ochiyo\n",
       "4     5        The Love of Osome and Hisamatsu"
      ]
     },
     "execution_count": 22,
     "metadata": {},
     "output_type": "execute_result"
    }
   ],
   "source": [
    "plays_names = plays_names.rename(columns={'pid_1':'pid_2','pname_1':'pname_2'})\n",
    "plays_names.head()"
   ]
  },
  {
   "cell_type": "code",
   "execution_count": 23,
   "metadata": {},
   "outputs": [
    {
     "data": {
      "text/html": [
       "<div>\n",
       "<style>\n",
       "    .dataframe thead tr:only-child th {\n",
       "        text-align: right;\n",
       "    }\n",
       "\n",
       "    .dataframe thead th {\n",
       "        text-align: left;\n",
       "    }\n",
       "\n",
       "    .dataframe tbody tr th {\n",
       "        vertical-align: top;\n",
       "    }\n",
       "</style>\n",
       "<table border=\"1\" class=\"dataframe\">\n",
       "  <thead>\n",
       "    <tr style=\"text-align: right;\">\n",
       "      <th></th>\n",
       "      <th>id</th>\n",
       "      <th>label_eng</th>\n",
       "      <th>pid_1</th>\n",
       "      <th>pid_2</th>\n",
       "      <th>pname_1</th>\n",
       "      <th>pname_2</th>\n",
       "    </tr>\n",
       "  </thead>\n",
       "  <tbody>\n",
       "    <tr>\n",
       "      <th>0</th>\n",
       "      <td>2168</td>\n",
       "      <td>Chohakkai</td>\n",
       "      <td>51</td>\n",
       "      <td>139</td>\n",
       "      <td>Pilgrimage to the West</td>\n",
       "      <td>Monkey</td>\n",
       "    </tr>\n",
       "    <tr>\n",
       "      <th>1</th>\n",
       "      <td>2167</td>\n",
       "      <td>Sanzohoshi</td>\n",
       "      <td>51</td>\n",
       "      <td>139</td>\n",
       "      <td>Pilgrimage to the West</td>\n",
       "      <td>Monkey</td>\n",
       "    </tr>\n",
       "    <tr>\n",
       "      <th>2</th>\n",
       "      <td>2165</td>\n",
       "      <td>Inkaizan, in fact Chinkozui</td>\n",
       "      <td>51</td>\n",
       "      <td>139</td>\n",
       "      <td>Pilgrimage to the West</td>\n",
       "      <td>Monkey</td>\n",
       "    </tr>\n",
       "    <tr>\n",
       "      <th>3</th>\n",
       "      <td>2164</td>\n",
       "      <td>Flower peddler, in fact Hakuren</td>\n",
       "      <td>51</td>\n",
       "      <td>139</td>\n",
       "      <td>Pilgrimage to the West</td>\n",
       "      <td>Monkey</td>\n",
       "    </tr>\n",
       "    <tr>\n",
       "      <th>4</th>\n",
       "      <td>2163</td>\n",
       "      <td>Nikuryokan, in fact Rihyo</td>\n",
       "      <td>51</td>\n",
       "      <td>139</td>\n",
       "      <td>Pilgrimage to the West</td>\n",
       "      <td>Monkey</td>\n",
       "    </tr>\n",
       "  </tbody>\n",
       "</table>\n",
       "</div>"
      ],
      "text/plain": [
       "     id                        label_eng pid_1 pid_2                 pname_1  \\\n",
       "0  2168                        Chohakkai    51   139  Pilgrimage to the West   \n",
       "1  2167                       Sanzohoshi    51   139  Pilgrimage to the West   \n",
       "2  2165      Inkaizan, in fact Chinkozui    51   139  Pilgrimage to the West   \n",
       "3  2164  Flower peddler, in fact Hakuren    51   139  Pilgrimage to the West   \n",
       "4  2163        Nikuryokan, in fact Rihyo    51   139  Pilgrimage to the West   \n",
       "\n",
       "  pname_2  \n",
       "0  Monkey  \n",
       "1  Monkey  \n",
       "2  Monkey  \n",
       "3  Monkey  \n",
       "4  Monkey  "
      ]
     },
     "execution_count": 23,
     "metadata": {},
     "output_type": "execute_result"
    }
   ],
   "source": [
    "multiplay_characters = pd.merge(multiplay_characters, plays_names, on='pid_2', how='left')"
   ]
  },
  {
   "cell_type": "code",
   "execution_count": 26,
   "metadata": {},
   "outputs": [
    {
     "data": {
      "text/html": [
       "<div>\n",
       "<style>\n",
       "    .dataframe thead tr:only-child th {\n",
       "        text-align: right;\n",
       "    }\n",
       "\n",
       "    .dataframe thead th {\n",
       "        text-align: left;\n",
       "    }\n",
       "\n",
       "    .dataframe tbody tr th {\n",
       "        vertical-align: top;\n",
       "    }\n",
       "</style>\n",
       "<table border=\"1\" class=\"dataframe\">\n",
       "  <thead>\n",
       "    <tr style=\"text-align: right;\">\n",
       "      <th></th>\n",
       "      <th>c_id</th>\n",
       "      <th>cname</th>\n",
       "      <th>pid_1</th>\n",
       "      <th>pid_2</th>\n",
       "      <th>pname_1</th>\n",
       "      <th>pname_2</th>\n",
       "    </tr>\n",
       "  </thead>\n",
       "  <tbody>\n",
       "    <tr>\n",
       "      <th>0</th>\n",
       "      <td>2168</td>\n",
       "      <td>Chohakkai</td>\n",
       "      <td>51</td>\n",
       "      <td>139</td>\n",
       "      <td>Pilgrimage to the West</td>\n",
       "      <td>Monkey</td>\n",
       "    </tr>\n",
       "    <tr>\n",
       "      <th>1</th>\n",
       "      <td>2167</td>\n",
       "      <td>Sanzohoshi</td>\n",
       "      <td>51</td>\n",
       "      <td>139</td>\n",
       "      <td>Pilgrimage to the West</td>\n",
       "      <td>Monkey</td>\n",
       "    </tr>\n",
       "    <tr>\n",
       "      <th>2</th>\n",
       "      <td>2165</td>\n",
       "      <td>Inkaizan, in fact Chinkozui</td>\n",
       "      <td>51</td>\n",
       "      <td>139</td>\n",
       "      <td>Pilgrimage to the West</td>\n",
       "      <td>Monkey</td>\n",
       "    </tr>\n",
       "    <tr>\n",
       "      <th>3</th>\n",
       "      <td>2164</td>\n",
       "      <td>Flower peddler, in fact Hakuren</td>\n",
       "      <td>51</td>\n",
       "      <td>139</td>\n",
       "      <td>Pilgrimage to the West</td>\n",
       "      <td>Monkey</td>\n",
       "    </tr>\n",
       "    <tr>\n",
       "      <th>4</th>\n",
       "      <td>2163</td>\n",
       "      <td>Nikuryokan, in fact Rihyo</td>\n",
       "      <td>51</td>\n",
       "      <td>139</td>\n",
       "      <td>Pilgrimage to the West</td>\n",
       "      <td>Monkey</td>\n",
       "    </tr>\n",
       "  </tbody>\n",
       "</table>\n",
       "</div>"
      ],
      "text/plain": [
       "   c_id                            cname pid_1 pid_2                 pname_1  \\\n",
       "0  2168                        Chohakkai    51   139  Pilgrimage to the West   \n",
       "1  2167                       Sanzohoshi    51   139  Pilgrimage to the West   \n",
       "2  2165      Inkaizan, in fact Chinkozui    51   139  Pilgrimage to the West   \n",
       "3  2164  Flower peddler, in fact Hakuren    51   139  Pilgrimage to the West   \n",
       "4  2163        Nikuryokan, in fact Rihyo    51   139  Pilgrimage to the West   \n",
       "\n",
       "  pname_2  \n",
       "0  Monkey  \n",
       "1  Monkey  \n",
       "2  Monkey  \n",
       "3  Monkey  \n",
       "4  Monkey  "
      ]
     },
     "execution_count": 26,
     "metadata": {},
     "output_type": "execute_result"
    }
   ],
   "source": [
    "multiplay_characters = multiplay_characters.rename(columns={'id':'c_id','label_eng':'cname'})\n",
    "multiplay_characters.to_json('character_connections.json', orient=\"records\", force_ascii=False)\n",
    "multiplay_characters.head()"
   ]
  },
  {
   "cell_type": "code",
   "execution_count": null,
   "metadata": {
    "collapsed": true
   },
   "outputs": [],
   "source": []
  }
 ],
 "metadata": {
  "kernelspec": {
   "display_name": "Python 2",
   "language": "python",
   "name": "python2"
  },
  "language_info": {
   "codemirror_mode": {
    "name": "ipython",
    "version": 2
   },
   "file_extension": ".py",
   "mimetype": "text/x-python",
   "name": "python",
   "nbconvert_exporter": "python",
   "pygments_lexer": "ipython2",
   "version": "2.7.13"
  }
 },
 "nbformat": 4,
 "nbformat_minor": 2
}
